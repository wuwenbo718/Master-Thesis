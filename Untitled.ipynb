{
 "cells": [
  {
   "cell_type": "code",
   "execution_count": 1,
   "metadata": {},
   "outputs": [],
   "source": [
    "import numpy as np\n",
    "import pandas as pd\n",
    "from scipy import signal\n",
    "import seaborn as sns\n",
    "import matplotlib.pyplot as plt\n",
    "import os"
   ]
  },
  {
   "cell_type": "code",
   "execution_count": 2,
   "metadata": {},
   "outputs": [
    {
     "name": "stdout",
     "output_type": "stream",
     "text": [
      ".\\data\\P812_M050_2_B_FoG_trial1_annotation.csv\n",
      ".\\data\\P812_M050_2_B_FoG_trials.mat\n",
      ".\\data\\P812_M050_2_B_FoG_trial_1_emg.csv\n",
      ".\\data\\P812_M050_2_B_FoG_trial_1_out_left_foot.csv\n",
      ".\\data\\P812_M050_2_B_FoG_trial_1_out_lower_left_foot.csv\n",
      ".\\data\\P812_M050_2_B_FoG_trial_1_out_lower_right_foot.csv\n",
      ".\\data\\P812_M050_2_B_FoG_trial_1_out_right_foot.csv\n",
      ".\\data\\P812_M050_2_B_FoG_trial_2_emg.csv\n",
      ".\\data\\P812_M050_2_B_FoG_trial_2_out_left_foot.csv\n",
      ".\\data\\P812_M050_2_B_FoG_trial_2_out_lower_left_foot.csv\n",
      ".\\data\\P812_M050_2_B_FoG_trial_2_out_lower_right_foot.csv\n",
      ".\\data\\P812_M050_2_B_FoG_trial_2_out_right_foot.csv\n",
      ".\\data\\P812_M50_2_B_FoG_trial2_annotation.csv\n"
     ]
    }
   ],
   "source": [
    "for dirname, _, filenames in os.walk('.\\data'):\n",
    "    for filename in filenames:\n",
    "        print(os.path.join(dirname,filename))"
   ]
  },
  {
   "cell_type": "code",
   "execution_count": 3,
   "metadata": {},
   "outputs": [],
   "source": [
    "emg_data = pd.read_csv('.\\data\\P812_M050_2_B_FoG_trial_1_emg.csv')\n",
    "t1olf = pd.read_csv('.\\data\\P812_M050_2_B_FoG_trial_1_out_left_foot.csv')\n",
    "emg_data2 = pd.read_csv('.\\data\\P812_M050_2_B_FoG_trial_2_emg.csv')"
   ]
  },
  {
   "cell_type": "code",
   "execution_count": 5,
   "metadata": {},
   "outputs": [
    {
     "data": {
      "text/html": [
       "<div>\n",
       "<style scoped>\n",
       "    .dataframe tbody tr th:only-of-type {\n",
       "        vertical-align: middle;\n",
       "    }\n",
       "\n",
       "    .dataframe tbody tr th {\n",
       "        vertical-align: top;\n",
       "    }\n",
       "\n",
       "    .dataframe thead th {\n",
       "        text-align: right;\n",
       "    }\n",
       "</style>\n",
       "<table border=\"1\" class=\"dataframe\">\n",
       "  <thead>\n",
       "    <tr style=\"text-align: right;\">\n",
       "      <th></th>\n",
       "      <th>Time</th>\n",
       "      <th>Label1</th>\n",
       "      <th>Label2</th>\n",
       "      <th>LEFT_TA</th>\n",
       "      <th>LEFT_TS</th>\n",
       "      <th>LEFT_BF</th>\n",
       "      <th>LEFT_RF</th>\n",
       "      <th>RIGHT_TA</th>\n",
       "      <th>RIGHT_TS</th>\n",
       "      <th>RIGHT_BF</th>\n",
       "      <th>RIGHT_RF</th>\n",
       "    </tr>\n",
       "  </thead>\n",
       "  <tbody>\n",
       "    <tr>\n",
       "      <th>0</th>\n",
       "      <td>0.000</td>\n",
       "      <td>0</td>\n",
       "      <td>0</td>\n",
       "      <td>-3</td>\n",
       "      <td>2</td>\n",
       "      <td>-4.0</td>\n",
       "      <td>-1.0</td>\n",
       "      <td>0.0</td>\n",
       "      <td>2.0</td>\n",
       "      <td>1.0</td>\n",
       "      <td>-2.0</td>\n",
       "    </tr>\n",
       "    <tr>\n",
       "      <th>1</th>\n",
       "      <td>0.001</td>\n",
       "      <td>0</td>\n",
       "      <td>0</td>\n",
       "      <td>-5</td>\n",
       "      <td>10</td>\n",
       "      <td>0.0</td>\n",
       "      <td>-2.0</td>\n",
       "      <td>-4.0</td>\n",
       "      <td>0.0</td>\n",
       "      <td>-7.0</td>\n",
       "      <td>-2.0</td>\n",
       "    </tr>\n",
       "    <tr>\n",
       "      <th>2</th>\n",
       "      <td>0.002</td>\n",
       "      <td>0</td>\n",
       "      <td>0</td>\n",
       "      <td>-6</td>\n",
       "      <td>11</td>\n",
       "      <td>1.0</td>\n",
       "      <td>0.0</td>\n",
       "      <td>-4.0</td>\n",
       "      <td>-1.0</td>\n",
       "      <td>-2.0</td>\n",
       "      <td>-3.0</td>\n",
       "    </tr>\n",
       "    <tr>\n",
       "      <th>3</th>\n",
       "      <td>0.003</td>\n",
       "      <td>0</td>\n",
       "      <td>0</td>\n",
       "      <td>0</td>\n",
       "      <td>-2</td>\n",
       "      <td>0.0</td>\n",
       "      <td>-3.0</td>\n",
       "      <td>-6.0</td>\n",
       "      <td>-2.0</td>\n",
       "      <td>-5.0</td>\n",
       "      <td>-8.0</td>\n",
       "    </tr>\n",
       "    <tr>\n",
       "      <th>4</th>\n",
       "      <td>0.004</td>\n",
       "      <td>0</td>\n",
       "      <td>0</td>\n",
       "      <td>0</td>\n",
       "      <td>-8</td>\n",
       "      <td>-3.0</td>\n",
       "      <td>-3.0</td>\n",
       "      <td>-4.0</td>\n",
       "      <td>-3.0</td>\n",
       "      <td>0.0</td>\n",
       "      <td>2.0</td>\n",
       "    </tr>\n",
       "  </tbody>\n",
       "</table>\n",
       "</div>"
      ],
      "text/plain": [
       "    Time  Label1  Label2  LEFT_TA  LEFT_TS  LEFT_BF  LEFT_RF  RIGHT_TA  \\\n",
       "0  0.000       0       0       -3        2     -4.0     -1.0       0.0   \n",
       "1  0.001       0       0       -5       10      0.0     -2.0      -4.0   \n",
       "2  0.002       0       0       -6       11      1.0      0.0      -4.0   \n",
       "3  0.003       0       0        0       -2      0.0     -3.0      -6.0   \n",
       "4  0.004       0       0        0       -8     -3.0     -3.0      -4.0   \n",
       "\n",
       "   RIGHT_TS  RIGHT_BF  RIGHT_RF  \n",
       "0       2.0       1.0      -2.0  \n",
       "1       0.0      -7.0      -2.0  \n",
       "2      -1.0      -2.0      -3.0  \n",
       "3      -2.0      -5.0      -8.0  \n",
       "4      -3.0       0.0       2.0  "
      ]
     },
     "execution_count": 5,
     "metadata": {},
     "output_type": "execute_result"
    }
   ],
   "source": [
    "emg_data.head()"
   ]
  },
  {
   "cell_type": "code",
   "execution_count": 6,
   "metadata": {},
   "outputs": [
    {
     "data": {
      "text/html": [
       "<div>\n",
       "<style scoped>\n",
       "    .dataframe tbody tr th:only-of-type {\n",
       "        vertical-align: middle;\n",
       "    }\n",
       "\n",
       "    .dataframe tbody tr th {\n",
       "        vertical-align: top;\n",
       "    }\n",
       "\n",
       "    .dataframe thead th {\n",
       "        text-align: right;\n",
       "    }\n",
       "</style>\n",
       "<table border=\"1\" class=\"dataframe\">\n",
       "  <thead>\n",
       "    <tr style=\"text-align: right;\">\n",
       "      <th></th>\n",
       "      <th>Time</th>\n",
       "      <th>Label1</th>\n",
       "      <th>Label2</th>\n",
       "      <th>LEFT_TA</th>\n",
       "      <th>LEFT_TS</th>\n",
       "      <th>LEFT_BF</th>\n",
       "      <th>LEFT_RF</th>\n",
       "      <th>RIGHT_TA</th>\n",
       "      <th>RIGHT_TS</th>\n",
       "      <th>RIGHT_BF</th>\n",
       "      <th>RIGHT_RF</th>\n",
       "    </tr>\n",
       "  </thead>\n",
       "  <tbody>\n",
       "    <tr>\n",
       "      <th>0</th>\n",
       "      <td>0.000</td>\n",
       "      <td>0</td>\n",
       "      <td>0</td>\n",
       "      <td>-14</td>\n",
       "      <td>-4</td>\n",
       "      <td>-4</td>\n",
       "      <td>-1</td>\n",
       "      <td>-9</td>\n",
       "      <td>-2</td>\n",
       "      <td>1.0</td>\n",
       "      <td>-1.0</td>\n",
       "    </tr>\n",
       "    <tr>\n",
       "      <th>1</th>\n",
       "      <td>0.001</td>\n",
       "      <td>0</td>\n",
       "      <td>0</td>\n",
       "      <td>-5</td>\n",
       "      <td>-4</td>\n",
       "      <td>-4</td>\n",
       "      <td>-4</td>\n",
       "      <td>-6</td>\n",
       "      <td>-1</td>\n",
       "      <td>0.0</td>\n",
       "      <td>6.0</td>\n",
       "    </tr>\n",
       "    <tr>\n",
       "      <th>2</th>\n",
       "      <td>0.002</td>\n",
       "      <td>0</td>\n",
       "      <td>0</td>\n",
       "      <td>6</td>\n",
       "      <td>0</td>\n",
       "      <td>-9</td>\n",
       "      <td>4</td>\n",
       "      <td>-6</td>\n",
       "      <td>-6</td>\n",
       "      <td>0.0</td>\n",
       "      <td>-2.0</td>\n",
       "    </tr>\n",
       "    <tr>\n",
       "      <th>3</th>\n",
       "      <td>0.003</td>\n",
       "      <td>0</td>\n",
       "      <td>0</td>\n",
       "      <td>28</td>\n",
       "      <td>1</td>\n",
       "      <td>-1</td>\n",
       "      <td>-1</td>\n",
       "      <td>1</td>\n",
       "      <td>2</td>\n",
       "      <td>-5.0</td>\n",
       "      <td>2.0</td>\n",
       "    </tr>\n",
       "    <tr>\n",
       "      <th>4</th>\n",
       "      <td>0.004</td>\n",
       "      <td>0</td>\n",
       "      <td>0</td>\n",
       "      <td>43</td>\n",
       "      <td>3</td>\n",
       "      <td>-2</td>\n",
       "      <td>0</td>\n",
       "      <td>1</td>\n",
       "      <td>2</td>\n",
       "      <td>3.0</td>\n",
       "      <td>1.0</td>\n",
       "    </tr>\n",
       "  </tbody>\n",
       "</table>\n",
       "</div>"
      ],
      "text/plain": [
       "    Time  Label1  Label2  LEFT_TA  LEFT_TS  LEFT_BF  LEFT_RF  RIGHT_TA  \\\n",
       "0  0.000       0       0      -14       -4       -4       -1        -9   \n",
       "1  0.001       0       0       -5       -4       -4       -4        -6   \n",
       "2  0.002       0       0        6        0       -9        4        -6   \n",
       "3  0.003       0       0       28        1       -1       -1         1   \n",
       "4  0.004       0       0       43        3       -2        0         1   \n",
       "\n",
       "   RIGHT_TS  RIGHT_BF  RIGHT_RF  \n",
       "0        -2       1.0      -1.0  \n",
       "1        -1       0.0       6.0  \n",
       "2        -6       0.0      -2.0  \n",
       "3         2      -5.0       2.0  \n",
       "4         2       3.0       1.0  "
      ]
     },
     "execution_count": 6,
     "metadata": {},
     "output_type": "execute_result"
    }
   ],
   "source": [
    "emg_data2.head()"
   ]
  },
  {
   "cell_type": "code",
   "execution_count": 7,
   "metadata": {},
   "outputs": [
    {
     "data": {
      "text/plain": [
       "2    39366\n",
       "0    25373\n",
       "1     7808\n",
       "3     4922\n",
       "4     2362\n",
       "Name: Label2, dtype: int64"
      ]
     },
     "execution_count": 7,
     "metadata": {},
     "output_type": "execute_result"
    }
   ],
   "source": [
    "emg_data.Label2.value_counts()"
   ]
  },
  {
   "cell_type": "code",
   "execution_count": 11,
   "metadata": {},
   "outputs": [
    {
     "data": {
      "text/plain": [
       "0    30330\n",
       "2    28329\n",
       "1     9245\n",
       "3     5402\n",
       "Name: Label2, dtype: int64"
      ]
     },
     "execution_count": 11,
     "metadata": {},
     "output_type": "execute_result"
    }
   ],
   "source": [
    "emg_data2.Label2.value_counts()"
   ]
  },
  {
   "cell_type": "code",
   "execution_count": 12,
   "metadata": {},
   "outputs": [],
   "source": [
    "index = emg_data.Label1==0\n",
    "start = 0\n",
    "length = 1000\n",
    "end = start+length\n",
    "t = emg_data[index].Time[start:end]\n",
    "left_ta = emg_data[index].LEFT_TA[start:end]\n",
    "left_ts = emg_data[index].LEFT_TS[start:end]"
   ]
  },
  {
   "cell_type": "code",
   "execution_count": 22,
   "metadata": {},
   "outputs": [
    {
     "data": {
      "text/plain": [
       "<matplotlib.image.AxesImage at 0x1cefc2bf9e8>"
      ]
     },
     "execution_count": 22,
     "metadata": {},
     "output_type": "execute_result"
    },
    {
     "data": {
      "image/png": "[encoded data removed]",
      "text/plain": [
       "<Figure size 432x288 with 1 Axes>"
      ]
     },
     "metadata": {
      "needs_background": "light"
     },
     "output_type": "display_data"
    }
   ],
   "source": [
    "widths = np.arange(1,32)\n",
    "cwtmatr = signal.cwt(np.array(left_ta)[100:160],signal.ricker,widths)\n",
    "plt.imshow(cwtmatr, extent=[-1, 1, 1, 31], cmap='PRGn', aspect='auto',\n",
    "           vmax=abs(cwtmatr).max(), vmin=-abs(cwtmatr).max())"
   ]
  },
  {
   "cell_type": "code",
   "execution_count": 14,
   "metadata": {},
   "outputs": [
    {
     "data": {
      "text/plain": [
       "(31, 52)"
      ]
     },
     "execution_count": 14,
     "metadata": {},
     "output_type": "execute_result"
    }
   ],
   "source": [
    "cwtmatr.shape"
   ]
  },
  {
   "cell_type": "code",
   "execution_count": 15,
   "metadata": {},
   "outputs": [
    {
     "data": {
      "image/png": "[encoded data removed]",
      "text/plain": [
       "<Figure size 432x288 with 1 Axes>"
      ]
     },
     "metadata": {
      "needs_background": "light"
     },
     "output_type": "display_data"
    }
   ],
   "source": [
    "plt.figure()\n",
    "sns.lineplot(x=t,y=left_ts,linewidth=0.5)\n",
    "plt.show()"
   ]
  },
  {
   "cell_type": "code",
   "execution_count": 19,
   "metadata": {},
   "outputs": [
    {
     "data": {
      "image/png": "[encoded data removed]",
      "text/plain": [
       "<Figure size 432x288 with 1 Axes>"
      ]
     },
     "metadata": {
      "needs_background": "light"
     },
     "output_type": "display_data"
    }
   ],
   "source": [
    "sns.lineplot(x=emg_data.Time[:260],y=emg_data.LEFT_TA[:260],linewidth=0.5)\n",
    "plt.show()"
   ]
  },
  {
   "cell_type": "code",
   "execution_count": 21,
   "metadata": {},
   "outputs": [
    {
     "data": {
      "text/plain": [
       "array([-11, -13, -10, -10,   5,   5,  -3,  -2,  15,  18,  16,  31,  22,\n",
       "        -4, -24, -17,   9,  15,   8,  17,  23,  18,   3,  -3,   0,   2,\n",
       "        10,  16,   9,   0, -13, -19, -23, -10,  -7,   2,   7,   9,   8,\n",
       "        -1,  -4,  -4,  -2,  -4,  -4,  -4,  -4,  -7,  -1,  -2,  -4,  -4,\n",
       "         0,  -3,  -4,   2,   1,   0,   0,  -3], dtype=int64)"
      ]
     },
     "execution_count": 21,
     "metadata": {},
     "output_type": "execute_result"
    }
   ],
   "source": [
    "np.array(left_ta)[100:160]"
   ]
  },
  {
   "cell_type": "code",
   "execution_count": null,
   "metadata": {},
   "outputs": [],
   "source": []
  }
 ],
 "metadata": {
  "kernelspec": {
   "display_name": "Python 3",
   "language": "python",
   "name": "python3"
  },
  "language_info": {
   "codemirror_mode": {
    "name": "ipython",
    "version": 3
   },
   "file_extension": ".py",
   "mimetype": "text/x-python",
   "name": "python",
   "nbconvert_exporter": "python",
   "pygments_lexer": "ipython3",
   "version": "3.7.3"
  }
 },
 "nbformat": 4,
 "nbformat_minor": 2
}
