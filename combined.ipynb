{
 "cells": [
  {
   "cell_type": "code",
   "execution_count": null,
   "metadata": {},
   "outputs": [],
   "source": [
    "import numpy as np\n",
    "import pandas as pd\n",
    "from sklearn.preprocessing import StandardScaler, MinMaxScaler\n",
    "from sklearn.decomposition import PCA\n",
    "import data_processing as dp\n",
    "from scipy import signal\n",
    "from scipy.stats import skew\n",
    "import seaborn as sns\n",
    "import matplotlib.pyplot as plt\n",
    "import pywt\n",
    "import os\n",
    "import time\n",
    "import h5py\n",
    "from itertools import combinations"
   ]
  },
  {
   "cell_type": "code",
   "execution_count": null,
   "metadata": {},
   "outputs": [],
   "source": [
    "Data = pd.read_csv('./processed data/dataframe_W256_S64_DWTLmax_samelabel_sc.csv')\n",
    "\n",
    "# read file name of data with various Labels\n",
    "df = pd.read_csv('./useful_data_label.csv',index_col=0) \n",
    "drop = 'G07_Freezing_Trial1_trial_1_emg.csv'\n",
    "drop2= 'P812_M050_2_B_FoG_trial_2_emg.csv'\n",
    "drop3= 'P812_M050_2_B_FoG_trial_1_emg.csv'\n",
    "ind_drop = (df.columns!=drop)# & (df.columns!=drop2) & (df.columns!=drop3)\n",
    "# read file name of data with only label 0\n",
    "df2 = pd.read_csv('./unuseful_data_label.csv',index_col=0)\n",
    "# read some of the data with only label 0\n",
    "df3 = pd.read_csv('./data/file_name.txt',header=None)\n",
    "\n",
    "files = np.concatenate([np.array(df.columns),np.array(df3.loc[:,0])])\n",
    "ind = Data.File.isin(df.columns)\n",
    "ind2 = Data.File == drop\n",
    "#ind = (Data.File != drop) & (Data.File != drop2)\n",
    "Data_sel = Data[ind]\n",
    "Data_rest = Data[ind2]\n",
    "#ind2 = Data_rest.File == drop\n",
    "#Data_rest = Data_rest[ind2]\n",
    "#Data_rest"
   ]
  },
  {
   "cell_type": "code",
   "execution_count": 88,
   "metadata": {},
   "outputs": [
    {
     "name": "stdout",
     "output_type": "stream",
     "text": [
      "G04_FoG_trial_1_emg.csv\n",
      "G04_FoG_trial_2_emg.csv\n",
      "G06_FoG_trial_1_emg.csv\n",
      "G06_FoG_trial_2_emg.csv\n",
      "G06_FoG_trial_3_emg.csv\n",
      "G07_Freezing_Trial1_trial_1_emg.csv\n",
      "G08_FoG_1_trial_1_emg.csv\n",
      "G08_FoG_2_trial_1_emg.csv\n",
      "G11_FoG_trial_1_emg.csv\n",
      "G11_FoG_trial_2_emg.csv\n",
      "P379_M050_2_OFF_A_FoG_trial_1_emg.csv\n",
      "P379_M050_2_OFF_A_FoG_trial_2_emg.csv\n",
      "P379_M050_2_OFF_A_FoG_trial_3_emg.csv\n",
      "P379_M050_2_OFF_B_FoG_trial_1_emg.csv\n",
      "P379_M050_2_OFF_B_FoG_trial_2_emg.csv\n",
      "P379_M050_2_OFF_B_FoG_trial_3_emg.csv\n",
      "P551_M050_2_A_FoG_trial_1_emg.csv\n",
      "P551_M050_2_B_FoG_trial_1_emg.csv\n",
      "P551_M050_2_B_FoG_trial_2_emg.csv\n",
      "P812_M050_2_B_FoG_trial_1_emg.csv\n",
      "P812_M050_2_B_FoG_trial_2_emg.csv\n"
     ]
    }
   ],
   "source": [
    "for i in df.columns:\n",
    "    print(i)"
   ]
  },
  {
   "cell_type": "code",
   "execution_count": 7,
   "metadata": {},
   "outputs": [
    {
     "name": "stdout",
     "output_type": "stream",
     "text": [
      "G04_FoG_trial_1_emg.csv\n",
      "G04_FoG_trial_2_emg.csv\n",
      "G06_FoG_trial_1_emg.csv\n",
      "G06_FoG_trial_2_emg.csv\n",
      "G06_FoG_trial_3_emg.csv\n",
      "G07_Freezing_Trial1_trial_1_emg.csv\n",
      "G08_FoG_1_trial_1_emg.csv\n",
      "G08_FoG_2_trial_1_emg.csv\n",
      "G11_FoG_trial_1_emg.csv\n",
      "G11_FoG_trial_2_emg.csv\n",
      "P379_M050_2_OFF_A_FoG_trial_1_emg.csv\n",
      "P379_M050_2_OFF_A_FoG_trial_2_emg.csv\n",
      "P379_M050_2_OFF_A_FoG_trial_3_emg.csv\n",
      "P379_M050_2_OFF_B_FoG_trial_1_emg.csv\n",
      "P379_M050_2_OFF_B_FoG_trial_2_emg.csv\n",
      "P379_M050_2_OFF_B_FoG_trial_3_emg.csv\n",
      "P551_M050_2_A_FoG_trial_1_emg.csv\n",
      "P551_M050_2_B_FoG_trial_1_emg.csv\n",
      "P551_M050_2_B_FoG_trial_2_emg.csv\n",
      "P812_M050_2_B_FoG_trial_1_emg.csv\n",
      "P812_M050_2_B_FoG_trial_2_emg.csv\n"
     ]
    }
   ],
   "source": [
    "feature = pd.DataFrame()\n",
    "feature2 = pd.DataFrame()\n",
    "y_ann = pd.DataFrame()\n",
    "y2_ann = pd.DataFrame()\n",
    "m = 0\n",
    "for i in df.columns:\n",
    "    print(i)\n",
    "    ind = Data.File==i\n",
    "    temp = Data[ind].reset_index(drop=True)\n",
    "    ind3 = []\n",
    "    ind4 = []\n",
    "    for j in set(temp.Label):\n",
    "        #ind2 = temp.Label == j\n",
    "        #temp2 = temp[ind2]\n",
    "        #l = len(temp2)\n",
    "        #feature = pd.concat([feature,temp2.iloc[:int(0.8*l),1:-1]])\n",
    "        #y_ann = pd.concat([y_ann,temp2.iloc[:int(0.8*l),0]])\n",
    "        #feature2 = pd.concat([feature2,temp2.iloc[int(0.8*l):,1:-1]])\n",
    "        #y2_ann = pd.concat([y2_ann,temp2.iloc[int(0.8*l):,0]])\n",
    "        ind2 = np.where(temp.Label == j)[0].tolist()\n",
    "        l_t = len(ind2)\n",
    "        ind3 += ind2[:int(l_t*0.8)]\n",
    "        ind4 += ind2[int(l_t*0.8):] \n",
    "    feature = pd.concat([feature,temp.iloc[ind3,1:-1]])\n",
    "    y_ann = pd.concat([y_ann,temp.iloc[ind3,0]])\n",
    "    feature2 = pd.concat([feature2,temp.iloc[ind4,1:-1]])\n",
    "    y2_ann = pd.concat([y2_ann,temp.iloc[ind4,0]])\n",
    "y_ann = np.array(y_ann)[:,0]\n",
    "y2_ann = np.array(y2_ann)[:,0]"
   ]
  },
  {
   "cell_type": "code",
   "execution_count": 53,
   "metadata": {},
   "outputs": [
    {
     "name": "stdout",
     "output_type": "stream",
     "text": [
      "3 G06_FoG_trial_1_emg.csv (130, 232)\n",
      "4 G06_FoG_trial_2_emg.csv (242, 232)\n",
      "5 G06_FoG_trial_3_emg.csv (357, 232)\n",
      "6 G07_Freezing_Trial1_trial_1_emg.csv (802, 232)\n",
      "7 G08_FoG_1_trial_1_emg.csv (1530, 232)\n",
      "8 G08_FoG_2_trial_1_emg.csv (2482, 232)\n",
      "9 G11_FoG_trial_1_emg.csv (2584, 232)\n",
      "10 G11_FoG_trial_2_emg.csv (2662, 232)\n",
      "11 P379_M050_2_OFF_A_FoG_trial_1_emg.csv (2743, 232)\n",
      "12 P379_M050_2_OFF_A_FoG_trial_2_emg.csv (2792, 232)\n",
      "13 P379_M050_2_OFF_A_FoG_trial_3_emg.csv (2869, 232)\n",
      "14 P379_M050_2_OFF_B_FoG_trial_1_emg.csv (2944, 232)\n",
      "15 P379_M050_2_OFF_B_FoG_trial_2_emg.csv (3028, 232)\n",
      "16 P379_M050_2_OFF_B_FoG_trial_3_emg.csv (3111, 232)\n",
      "17 P551_M050_2_A_FoG_trial_1_emg.csv (3178, 232)\n",
      "18 P551_M050_2_B_FoG_trial_1_emg.csv (3463, 232)\n",
      "19 P551_M050_2_B_FoG_trial_2_emg.csv (3666, 232)\n",
      "20 P812_M050_2_B_FoG_trial_1_emg.csv (3879, 232)\n",
      "21 P812_M050_2_B_FoG_trial_2_emg.csv (4069, 232)\n"
     ]
    }
   ],
   "source": [
    "feature_ann = pd.DataFrame()\n",
    "y_ann = pd.DataFrame()\n",
    "m = 0\n",
    "for i in df.columns:\n",
    "    #print(i)\n",
    "    m+=1\n",
    "    if i.find('G04')==0:\n",
    "            continue\n",
    "    ind = Data.File==i\n",
    "    temp = Data[ind].reset_index(drop=True)\n",
    "\n",
    "    feature_ann = pd.concat([feature_ann,temp.iloc[:,1:-1]])\n",
    "    y_ann = pd.concat([y_ann,temp.iloc[:,0]])\n",
    "    print(m,i,feature_ann.shape)\n",
    "y_ann = np.array(y_ann)[:,0]"
   ]
  },
  {
   "cell_type": "code",
   "execution_count": 71,
   "metadata": {},
   "outputs": [
    {
     "name": "stdout",
     "output_type": "stream",
     "text": [
      "G06_FoG_trial_1_emg.csv\n",
      "3 (164, 32, 250, 8)\n",
      "G06_FoG_trial_2_emg.csv\n",
      "4 (302, 32, 250, 8)\n",
      "G06_FoG_trial_3_emg.csv\n",
      "5 (447, 32, 250, 8)\n",
      "G07_Freezing_Trial1_trial_1_emg.csv\n",
      "6 (1005, 32, 250, 8)\n",
      "G08_FoG_1_trial_1_emg.csv\n",
      "7 (1908, 32, 250, 8)\n",
      "G08_FoG_2_trial_1_emg.csv\n",
      "8 (3091, 32, 250, 8)\n",
      "G11_FoG_trial_1_emg.csv\n",
      "9 (3219, 32, 250, 8)\n",
      "G11_FoG_trial_2_emg.csv\n",
      "10 (3317, 32, 250, 8)\n",
      "P379_M050_2_OFF_A_FoG_trial_1_emg.csv\n",
      "11 (3418, 32, 250, 8)\n",
      "P379_M050_2_OFF_A_FoG_trial_2_emg.csv\n",
      "12 (3479, 32, 250, 8)\n",
      "P379_M050_2_OFF_A_FoG_trial_3_emg.csv\n",
      "13 (3576, 32, 250, 8)\n",
      "P379_M050_2_OFF_B_FoG_trial_1_emg.csv\n",
      "14 (3670, 32, 250, 8)\n",
      "P379_M050_2_OFF_B_FoG_trial_2_emg.csv\n",
      "15 (3775, 32, 250, 8)\n",
      "P379_M050_2_OFF_B_FoG_trial_3_emg.csv\n",
      "16 (3877, 32, 250, 8)\n",
      "P551_M050_2_A_FoG_trial_1_emg.csv\n",
      "17 (3960, 32, 250, 8)\n",
      "P551_M050_2_B_FoG_trial_1_emg.csv\n",
      "18 (4318, 32, 250, 8)\n",
      "P551_M050_2_B_FoG_trial_2_emg.csv\n",
      "19 (4568, 32, 250, 8)\n",
      "P812_M050_2_B_FoG_trial_1_emg.csv\n",
      "20 (4831, 32, 250, 8)\n",
      "P812_M050_2_B_FoG_trial_2_emg.csv\n",
      "21 (5073, 32, 250, 8)\n",
      "save finished.\n"
     ]
    }
   ],
   "source": [
    "#generate cwt features\n",
    "#files = np.concatenate([np.array(df.columns),np.array('正常/'+df3.loc[:,0])])\n",
    "widths = [250]\n",
    "files=np.array(df.columns)\n",
    "for width in widths:\n",
    "    features = np.zeros(shape=(0,32,250,8))\n",
    "    labels = np.zeros(shape=(0))\n",
    "    stride = 200\n",
    "    i = 0\n",
    "    for file in files:\n",
    "        i += 1\n",
    "        if file.find('G04')==0:\n",
    "            continue\n",
    "        print(file)\n",
    "        feature,label = dp.pipeline_cwt('./data/'+file,width = width, \n",
    "                                           stride=stride,\n",
    "                                           scaler=False,\n",
    "                                           norm=True,\n",
    "                                           width_c=32,\n",
    "                                            wavelet='mexh',\n",
    "                                           same_label=True,\n",
    "                                           dropna=True,\n",
    "                                           filt=None)\n",
    "\n",
    "        features = np.concatenate([features,feature])\n",
    "        labels = np.concatenate([labels,label])\n",
    "        print(i,features.shape)\n",
    "\n",
    "    print('save finished.')"
   ]
  },
  {
   "cell_type": "code",
   "execution_count": 58,
   "metadata": {},
   "outputs": [],
   "source": [
    "ind1 = ((labels==1) | (labels==2) | (labels==6))\n",
    "ind = np.where(ind1==True)\n",
    "#print(ind)\n",
    "oc = OneHotEncoder()\n",
    "#y_02 = y.copy()\n",
    "y_02 = oc.fit_transform(labels[ind1,np.newaxis]).toarray()\n",
    "\n",
    "X_full,X_test,y_full,y_test = train_test_split(features[ind],y_02,test_size = 0.2,shuffle = True,random_state=123)"
   ]
  },
  {
   "cell_type": "code",
   "execution_count": 8,
   "metadata": {},
   "outputs": [],
   "source": [
    "import tensorflow as tf\n",
    "from tensorflow.keras import layers,Model,callbacks,regularizers,models\n",
    "from tensorflow.keras.initializers import TruncatedNormal\n",
    "from tensorflow.keras.utils import plot_model\n",
    "from sklearn.model_selection import train_test_split,cross_validate\n",
    "from sklearn import metrics\n",
    "from sklearn.preprocessing import OneHotEncoder,normalize,MinMaxScaler\n",
    "from sklearn.decomposition import PCA\n",
    "from imblearn.over_sampling import SMOTE,BorderlineSMOTE,ADASYN,SVMSMOTE"
   ]
  },
  {
   "cell_type": "code",
   "execution_count": 9,
   "metadata": {},
   "outputs": [],
   "source": [
    "#ind = ((y[:20000]==1) | (y[:20000]==2) | (y[:20000]==3) | (y[:20000]==4) | (y[:20000]==6))\n",
    "#y_02 = y[:20000]\n",
    "#ind = ((y==1) | (y==2) | (y==3) | (y==4) | (y==6))\n",
    "file = './processed data/cwt_W256_S64_Wc32_mexh_nm_split.hdf5'\n",
    "with h5py.File(file,'r') as f:\n",
    "    cwtmatr = f['features']\n",
    "    y = f['labels'][...]\n",
    "    cwtmatr2 = f['features2']\n",
    "    y2 = f['labels2'][...]\n",
    "    ind1 = ((y==1) | (y==2) | (y==6))\n",
    "    ind = np.where(ind1==True)\n",
    "    #print(ind)\n",
    "    oc = OneHotEncoder()\n",
    "    #y_02 = y.copy()\n",
    "    y_02 = oc.fit_transform(y[ind1,np.newaxis]).toarray()\n",
    "    #y_02[ind]=1\n",
    "    ind2 = ((y2==1) | (y2==2) | (y2==6))\n",
    "    ind22 = np.where(ind2==True)\n",
    "    X2 = cwtmatr2[ind22]\n",
    "    Y2 = oc.transform(y2[ind2,np.newaxis]).toarray()\n",
    "    X_full,X_test,y_full,y_test = train_test_split(cwtmatr[ind],y_02,test_size = 0.2,shuffle = True,random_state=123)\n",
    "    #X_full,X_test,y_full,y_test= train_test_split(X_full1,y_full1,test_size = 0.2,shuffle = True,random_state=123)\n",
    "    #X_train,X_valid,y_train,y_valid= train_test_split(X_full,y_full,test_size = 0.2,random_state=555)"
   ]
  },
  {
   "cell_type": "code",
   "execution_count": 50,
   "metadata": {},
   "outputs": [
    {
     "data": {
      "text/plain": [
       "(12862,)"
      ]
     },
     "execution_count": 50,
     "metadata": {},
     "output_type": "execute_result"
    }
   ],
   "source": [
    "y.shape"
   ]
  },
  {
   "cell_type": "code",
   "execution_count": 81,
   "metadata": {},
   "outputs": [],
   "source": [
    "def train_model(model,feature,y,binary=True,file=None):\n",
    "    if binary:\n",
    "        ind = ((y==0)|(y==1)|(y==2)|(y==6))\n",
    "        #ind1 = ((y==4)|(y==1)|(y==2)|(y==3)|(y==6))\n",
    "        y_01 = y[ind].copy()\n",
    "        ind1 = ((y_01==1)|(y_01==2)|(y_01==6))\n",
    "        y_01[ind1] = 1\n",
    "        oc = OneHotEncoder()\n",
    "        y_01 = oc.fit_transform(np.array(y_01)[:,np.newaxis]).toarray()\n",
    "        cw = None#{0:1,1:5}\n",
    "    else:\n",
    "        ind = ((y==1)|(y==2)|(y==6))\n",
    "        #ind = ((y==1)|(y==6))\n",
    "        y_01 = y[ind].copy()\n",
    "        oc = OneHotEncoder()\n",
    "        y_01 = oc.fit_transform(np.array(y_01)[:,np.newaxis]).toarray()\n",
    "        cw = None#{0:5,1:1,2:1}#{0:2,1:1,2:10,3:2}\n",
    "    x_full,x_test,y_full,y_test = train_test_split(np.array(feature)[ind,:],y_01,\n",
    "                                                   test_size=0.2,\n",
    "                                                   random_state=123,\n",
    "                                                   shuffle=True)\n",
    "    x_train,x_valid,y_train,y_valid = train_test_split(x_full,y_full,\n",
    "                                                       test_size=0.25,\n",
    "                                                       random_state=555,\n",
    "                                                       shuffle=True)\n",
    "    \n",
    "    #sm = BorderlineSMOTE(random_state=50,kind='borderline-2')\n",
    "    #sm = SMOTE(random_state=50)\n",
    "    #print(y_full.shape)\n",
    "    #x_full,y_full = sm.fit_resample(x_full,y_full)\n",
    "    #print(y_full_n.shape)\n",
    "    sc = StandardScaler(with_mean=True)\n",
    "    #sc = MinMaxScaler()\n",
    "    x_train = sc.fit_transform(x_full)\n",
    "    pca = PCA(n_components=100)\n",
    "    #x_train = pca.fit_transform(x_full)\n",
    "    #x_valid = sc.transform(x_valid)\n",
    "    x_test = sc.transform(x_test)\n",
    "    #x_test = pca.transform(x_test)\n",
    "    #x_train = x_full\n",
    "    \n",
    "    early_stopping = callbacks.EarlyStopping(patience = 10,\n",
    "                                             monitor = 'val_loss', \n",
    "                                             restore_best_weights=True)\n",
    "    history = model.fit([x_train,X_full],y_full,validation_data=([x_test,X_test],y_test),\n",
    "                        epochs=300,batch_size=32,class_weight=cw,\n",
    "                        callbacks=[early_stopping],\n",
    "                        shuffle=True)\n",
    "    \n",
    "    if binary:\n",
    "        y_pred_t=model.predict([x_test,X_test])\n",
    "        test = metrics.accuracy_score(np.argmax(y_test,axis=1),np.argmax(y_pred_t,axis=1))\n",
    "        #test = metrics.accuracy_score(y_test,y_pred_t>0.5)\n",
    "        \n",
    "        #y_pred_v=model.predict(x_valid)\n",
    "        #valid = metrics.accuracy_score(y_valid,np.argmax(y_pred_v,axis=1))\n",
    "        y_pred_ta=model.predict([x_train,X_full])\n",
    "        train = metrics.accuracy_score(np.argmax(y_full,axis=1),np.argmax(y_pred_ta,axis=1))\n",
    "        #train = metrics.accuracy_score(y_full,y_pred_ta>0.5)\n",
    "        \n",
    "        print('train: \\n',metrics.confusion_matrix(np.argmax(y_full,axis=1),np.argmax(y_pred_ta,axis=1)))\n",
    "        #print('valid: \\n',metrics.confusion_matrix(np.argmax(y_valid,axis=1),np.argmax(y_pred_v,axis=1)))\n",
    "        print('test: \\n',metrics.confusion_matrix(np.argmax(y_test,axis=1),np.argmax(y_pred_t,axis=1)))\n",
    "        \n",
    "        #print('train: \\n',metrics.confusion_matrix(y_full,y_pred_ta>0.5))\n",
    "        #print('test: \\n',metrics.confusion_matrix(y_test,y_pred_t>0.5))\n",
    "\n",
    "    else:\n",
    "        y_pred_t=model.predict([x_test,X_test])\n",
    "        test = metrics.accuracy_score(np.argmax(y_test,axis=1),np.argmax(y_pred_t,axis=1))\n",
    "        #y_pred_v=model.predict(x_valid)\n",
    "        #valid = metrics.accuracy_score(np.argmax(y_valid,axis=1),np.argmax(y_pred_v,axis=1))\n",
    "        y_pred_ta=model.predict([x_train,X_full])\n",
    "        train = metrics.accuracy_score(np.argmax(y_full,axis=1),np.argmax(y_pred_ta,axis=1))        \n",
    "        print('train: \\n',metrics.confusion_matrix(np.argmax(y_full,axis=1),np.argmax(y_pred_ta,axis=1)))\n",
    "        #print('valid: \\n',metrics.confusion_matrix(np.argmax(y_valid,axis=1),np.argmax(y_pred_v,axis=1)))\n",
    "        print('test: \\n',metrics.confusion_matrix(np.argmax(y_test,axis=1),np.argmax(y_pred_t,axis=1)))\n",
    "    print('test:%f'%test)\n",
    "    #print('valid:%f'%valid)\n",
    "    print('train:%f'%train)\n",
    "    if file != None:\n",
    "        model.save_model(file)\n",
    "    return train,test,sc,pca\n",
    "\n",
    "def test_model(model,feature,y,sc,pca,binary=True):\n",
    "    if binary:\n",
    "        ind = ((y==0)|(y==1)|(y==2)|(y==3)|(y==4)|(y==6))\n",
    "        #ind1 = ((y==4)|(y==1)|(y==2)|(y==3)|(y==6))\n",
    "        y_01 = y[ind].copy()\n",
    "        ind1 = ((y_01==1)|(y_01==2)|(y_01==6))\n",
    "        y_01[ind1] = 1\n",
    "        oc = OneHotEncoder()\n",
    "        y_01 = oc.fit_transform(np.array(y_01)[:,np.newaxis]).toarray()\n",
    "        cw = None#{0:1,1:5}\n",
    "    else:\n",
    "        ind = ((y==1)|(y==2)|(y==6))\n",
    "        #ind = ((y==1)|(y==6))\n",
    "        y_01 = y[ind].copy()\n",
    "        oc = OneHotEncoder()\n",
    "        y_01 = oc.fit_transform(np.array(y_01)[:,np.newaxis]).toarray()\n",
    "        cw = None#{0:5,1:1,2:1}#{0:2,1:1,2:10,3:2}\n",
    "\n",
    "    #print(y_01)\n",
    "    feature=sc.transform(feature[ind])\n",
    "    #feature = feature[ind]\n",
    "    #feature=pca.transform(feature)\n",
    "    y_pred=model.predict([feature,X2])\n",
    "    test = metrics.accuracy_score(np.argmax(y_01,axis=1),np.argmax(y_pred,axis=1))\n",
    "    #test = metrics.accuracy_score(y_01,y_pred>0.5)\n",
    "    \n",
    "    print('acc:%f'%test)\n",
    "    print(metrics.confusion_matrix(np.argmax(y_01,axis=1),np.argmax(y_pred,axis=1)))\n",
    "    #print(metrics.confusion_matrix(y_01,y_pred>0.5))\n",
    "    return test\n",
    "\n",
    "def sparse_cost_sensitive_loss (y_true,y_pred):\n",
    "    #cost_matrix = tf.constant([[0,1.,1,1.],\n",
    "    #              [2,0,5,5],\n",
    "    #              [1,1,0,1],\n",
    "    #              [1.,2.,1,0]])\n",
    "    cost_matrix = tf.constant([[0,2.,2],\n",
    "                  [1,0,1],\n",
    "                  [1.0,1.,0]])\n",
    "    #cost_matrix = tf.constant([[0,1.],\n",
    "    #              [5.,0]])\n",
    "    batch_cost_matrix = tf.nn.embedding_lookup(cost_matrix, tf.argmax(y_true,axis=1))\n",
    "    eps = 1e-6\n",
    "    probability = tf.clip_by_value(y_pred, eps, 1-eps)\n",
    "    cost_values = tf.math.log(1-probability)*batch_cost_matrix\n",
    "    loss = tf.reduce_mean(-tf.reduce_sum(cost_values, axis=1))\n",
    "    return loss\n",
    "\n",
    "def output(model,x,y,sc):\n",
    "    ind = ((y==1)|(y==2)|(y==6))\n",
    "    y_01 = y[ind].copy()\n",
    "    oc = OneHotEncoder()\n",
    "    y_01 = oc.fit_transform(np.array(y_01)[:,np.newaxis]).toarray()\n",
    "    x=sc.transform(x[ind])\n",
    "    y_pred = model.predict([x,X2])\n",
    "    y_pred = (y_pred[:,:3])\n",
    "    test = metrics.accuracy_score(np.argmax(y_01,axis=1),np.argmax(y_pred,axis=1))\n",
    "    print('acc:%f'%test)\n",
    "    print(metrics.confusion_matrix(np.argmax(y_01,axis=1),np.argmax(y_pred,axis=1)))"
   ]
  },
  {
   "cell_type": "code",
   "execution_count": 50,
   "metadata": {},
   "outputs": [],
   "source": [
    "input_ann = layers.Input(shape=feature.shape[1:])#feature.shape[1:]\n",
    "l1 = layers.Dense(128,activation='elu',\n",
    "                  #kernel_initializer='lecun_normal',\n",
    "                  #kernel_regularizer = regularizers.l2(0.001),\n",
    "                 )(input_ann)\n",
    "l1 = layers.Dropout(0.2)(l1)\n",
    "#bn1 = layers.BatchNormalization()(l1)\n",
    "\n",
    "l2 = layers.Dense(64,activation='elu',\n",
    "                  #kernel_initializer='lecun_normal',\n",
    "                  #kernel_regularizer = regularizers.l2(0.001),\n",
    "                 )(l1)\n",
    "l2 = layers.Dropout(0.2)(l2)\n",
    "#bn2 = layers.BatchNormalization()(l2)\n",
    "\n",
    "l3 = layers.Dense(32,activation='elu',\n",
    "                  #kernel_initializer='lecun_normal',\n",
    "                  #kernel_regularizer = regularizers.l2(0.001),\n",
    "                 )(l2)\n",
    "l3 = layers.Dropout(0.2)(l3)\n",
    "\n",
    "#bn3 = layers.BatchNormalization()(l3)\n",
    "l4 = layers.Dense(16,activation='elu',\n",
    "                 #kernel_regularizer = regularizers.l2(0.001),\n",
    "                 )(l3)\n",
    "#l4 = layers.Dropout(0.2)(l4)\n",
    "\n",
    "#l5 = layers.Dense(8,activation='relu')(drop4)\n",
    "#drop5 = layers.Dropout(0.5)(l5)\n",
    "\n",
    "\n",
    "input_cnn = layers.Input(shape=X_full.shape[1:])\n",
    "#bn = layers.BatchNormalization()(input_)\n",
    "max_pool = layers.MaxPooling2D((2,2))(input_cnn)\n",
    "#bn = layers.BatchNormalization()(input_)\n",
    "cnn1 = layers.Conv2D(16,3,strides=(1,1),\n",
    "                      kernel_initializer=TruncatedNormal(),\n",
    "                      #use_bias=False,#activation='elu',\n",
    "                      padding='same')(max_pool)\n",
    "cnn1 = layers.Activation('elu')(cnn1)\n",
    "cnn1 = layers.Dropout(0.2)(cnn1)\n",
    "#cnn1 = layers.BatchNormalization()(cnn1)\n",
    "cnn1 = layers.MaxPooling2D((2,2))(cnn1)\n",
    "\n",
    "cnn2 = layers.Conv2D(32,3,strides=(1,1),\n",
    "                      kernel_initializer=TruncatedNormal(),\n",
    "                      #use_bias=False,#activation='elu',\n",
    "                      padding='same')(cnn1)\n",
    "cnn2 = layers.Activation('elu')(cnn2)\n",
    "cnn2 = layers.Dropout(0.2)(cnn2)\n",
    "#cnn2 = layers.BatchNormalization()(cnn2)\n",
    "cnn2 = layers.MaxPooling2D(2)(cnn2)\n",
    "\n",
    "cnn3 = layers.Conv2D(64,3,strides=(1,1),\n",
    "                      kernel_initializer=TruncatedNormal(),\n",
    "                      #use_bias=False,#activation='elu',\n",
    "                      padding='same')(cnn2)\n",
    "cnn3 = layers.Activation('elu')(cnn3)\n",
    "cnn3 = layers.Dropout(0.2)(cnn3)\n",
    "#cnn3 = layers.BatchNormalization()(cnn3)\n",
    "cnn3 = layers.MaxPooling2D(2)(cnn3)\n",
    "\n",
    "cnn4 = layers.Conv2D(128,3,strides=(1,1),\n",
    "                      kernel_initializer=TruncatedNormal(),\n",
    "                      #use_bias=False,#activation='elu',\n",
    "                      padding='same')(cnn3)\n",
    "cnn4 = layers.Activation('elu')(cnn4)\n",
    "cnn4 = layers.Dropout(0.2)(cnn4)\n",
    "#cnn4 = layers.BatchNormalization()(cnn4)\n",
    "cnn4 = layers.MaxPooling2D(2)(cnn4)\n",
    "flatten = layers.Flatten()(cnn4)\n",
    "\n",
    "#dropout = layers.Dropout(0.2)(flatten)\n",
    "#dense1 = layers.Dense(256,activation = 'relu')(dropout)\n",
    "#dense1 = layers.Dropout(0.2)(dense1)\n",
    "#dense2 = layers.Dense(128,activation = 'relu')(dense1)\n",
    "#dropout2 = layers.Dropout(0.2)(layer2)\n",
    "\n",
    "concat = layers.Concatenate()([l4,flatten])\n",
    "\n",
    "output = layers.Dense(3,activation='softmax')(concat)\n",
    "model = Model(inputs=[input_ann,input_cnn],outputs=[output])"
   ]
  },
  {
   "cell_type": "code",
   "execution_count": 85,
   "metadata": {},
   "outputs": [],
   "source": [
    "model.compile(loss='categorical_crossentropy',optimizer='adam',metrics=['accuracy'])"
   ]
  },
  {
   "cell_type": "code",
   "execution_count": 19,
   "metadata": {},
   "outputs": [
    {
     "name": "stdout",
     "output_type": "stream",
     "text": [
      "Epoch 1/300\n",
      "213/213 [==============================] - 24s 110ms/step - loss: 0.6404 - accuracy: 0.7155 - val_loss: 0.5290 - val_accuracy: 0.7776\n",
      "Epoch 2/300\n",
      "213/213 [==============================] - 23s 107ms/step - loss: 0.5243 - accuracy: 0.7714 - val_loss: 0.4737 - val_accuracy: 0.7987\n",
      "Epoch 3/300\n",
      "213/213 [==============================] - 23s 108ms/step - loss: 0.4656 - accuracy: 0.7979 - val_loss: 0.5918 - val_accuracy: 0.7447\n",
      "Epoch 4/300\n",
      "213/213 [==============================] - 23s 109ms/step - loss: 0.4342 - accuracy: 0.8128 - val_loss: 0.4295 - val_accuracy: 0.8204\n",
      "Epoch 5/300\n",
      "213/213 [==============================] - 24s 111ms/step - loss: 0.4090 - accuracy: 0.8253 - val_loss: 0.4314 - val_accuracy: 0.8286\n",
      "Epoch 6/300\n",
      "213/213 [==============================] - 29s 135ms/step - loss: 0.3771 - accuracy: 0.8397 - val_loss: 0.4036 - val_accuracy: 0.8386\n",
      "Epoch 7/300\n",
      "213/213 [==============================] - 24s 112ms/step - loss: 0.3544 - accuracy: 0.8491 - val_loss: 0.3808 - val_accuracy: 0.8439\n",
      "Epoch 8/300\n",
      "213/213 [==============================] - 23s 109ms/step - loss: 0.3277 - accuracy: 0.8617 - val_loss: 0.4080 - val_accuracy: 0.8316\n",
      "Epoch 9/300\n",
      "213/213 [==============================] - 23s 109ms/step - loss: 0.3107 - accuracy: 0.8713 - val_loss: 0.4004 - val_accuracy: 0.8357\n",
      "Epoch 10/300\n",
      "213/213 [==============================] - 24s 111ms/step - loss: 0.2831 - accuracy: 0.8831 - val_loss: 0.4393 - val_accuracy: 0.8263\n",
      "Epoch 11/300\n",
      "213/213 [==============================] - 29s 135ms/step - loss: 0.2664 - accuracy: 0.8896 - val_loss: 0.5101 - val_accuracy: 0.8169\n",
      "Epoch 12/300\n",
      "213/213 [==============================] - 24s 112ms/step - loss: 0.2514 - accuracy: 0.8991 - val_loss: 0.4005 - val_accuracy: 0.8545\n",
      "Epoch 13/300\n",
      "213/213 [==============================] - 23s 110ms/step - loss: 0.2363 - accuracy: 0.9046 - val_loss: 0.3756 - val_accuracy: 0.8574\n",
      "Epoch 14/300\n",
      "213/213 [==============================] - 24s 110ms/step - loss: 0.2182 - accuracy: 0.9124 - val_loss: 0.3633 - val_accuracy: 0.8650\n",
      "Epoch 15/300\n",
      "213/213 [==============================] - 23s 110ms/step - loss: 0.1958 - accuracy: 0.9209 - val_loss: 0.4333 - val_accuracy: 0.8539\n",
      "Epoch 16/300\n",
      "213/213 [==============================] - 23s 110ms/step - loss: 0.1856 - accuracy: 0.9266 - val_loss: 0.4248 - val_accuracy: 0.8462\n",
      "Epoch 17/300\n",
      "213/213 [==============================] - 24s 111ms/step - loss: 0.1724 - accuracy: 0.9347 - val_loss: 0.4157 - val_accuracy: 0.8480\n",
      "Epoch 18/300\n",
      "213/213 [==============================] - 23s 109ms/step - loss: 0.1571 - accuracy: 0.9378 - val_loss: 0.3551 - val_accuracy: 0.8826\n",
      "Epoch 19/300\n",
      "213/213 [==============================] - 28s 134ms/step - loss: 0.1453 - accuracy: 0.9433 - val_loss: 0.4049 - val_accuracy: 0.8744\n",
      "Epoch 20/300\n",
      "213/213 [==============================] - 24s 113ms/step - loss: 0.1353 - accuracy: 0.9486 - val_loss: 0.4341 - val_accuracy: 0.8715\n",
      "Epoch 21/300\n",
      "213/213 [==============================] - 23s 110ms/step - loss: 0.1149 - accuracy: 0.9551 - val_loss: 0.4182 - val_accuracy: 0.8644\n",
      "Epoch 22/300\n",
      "213/213 [==============================] - 23s 110ms/step - loss: 0.1120 - accuracy: 0.9617 - val_loss: 0.3634 - val_accuracy: 0.8891\n",
      "Epoch 23/300\n",
      "213/213 [==============================] - 23s 110ms/step - loss: 0.1081 - accuracy: 0.9593 - val_loss: 0.3873 - val_accuracy: 0.8803\n",
      "Epoch 24/300\n",
      "213/213 [==============================] - 26s 120ms/step - loss: 0.0880 - accuracy: 0.9674 - val_loss: 0.3901 - val_accuracy: 0.8838\n",
      "Epoch 25/300\n",
      "213/213 [==============================] - 24s 111ms/step - loss: 0.1039 - accuracy: 0.9590 - val_loss: 0.3838 - val_accuracy: 0.8920\n",
      "Epoch 26/300\n",
      "213/213 [==============================] - 24s 112ms/step - loss: 0.0967 - accuracy: 0.9664 - val_loss: 0.5244 - val_accuracy: 0.8609\n",
      "Epoch 27/300\n",
      "213/213 [==============================] - 24s 110ms/step - loss: 0.0973 - accuracy: 0.9646 - val_loss: 0.4302 - val_accuracy: 0.8809\n",
      "Epoch 28/300\n",
      "213/213 [==============================] - 23s 109ms/step - loss: 0.0819 - accuracy: 0.9665 - val_loss: 0.5051 - val_accuracy: 0.8650\n",
      "Epoch 29/300\n",
      "213/213 [==============================] - 23s 110ms/step - loss: 0.0700 - accuracy: 0.9734 - val_loss: 0.4048 - val_accuracy: 0.8903\n",
      "Epoch 30/300\n",
      "213/213 [==============================] - 23s 109ms/step - loss: 0.0691 - accuracy: 0.9755 - val_loss: 0.4908 - val_accuracy: 0.8756\n",
      "Epoch 31/300\n",
      "213/213 [==============================] - 23s 109ms/step - loss: 0.0759 - accuracy: 0.9708 - val_loss: 0.4951 - val_accuracy: 0.8744\n",
      "Epoch 32/300\n",
      "213/213 [==============================] - 26s 121ms/step - loss: 0.0777 - accuracy: 0.9714 - val_loss: 0.5241 - val_accuracy: 0.8838\n",
      "Epoch 33/300\n",
      "213/213 [==============================] - 27s 127ms/step - loss: 0.0849 - accuracy: 0.9686 - val_loss: 0.3724 - val_accuracy: 0.9131\n",
      "Epoch 34/300\n",
      "213/213 [==============================] - 24s 110ms/step - loss: 0.0692 - accuracy: 0.9728 - val_loss: 0.3757 - val_accuracy: 0.9002\n",
      "Epoch 35/300\n",
      "213/213 [==============================] - 23s 109ms/step - loss: 0.0684 - accuracy: 0.9765 - val_loss: 0.4071 - val_accuracy: 0.9049\n",
      "Epoch 36/300\n",
      "213/213 [==============================] - 23s 109ms/step - loss: 0.0474 - accuracy: 0.9837 - val_loss: 0.3773 - val_accuracy: 0.9161\n",
      "Epoch 37/300\n",
      "213/213 [==============================] - 23s 110ms/step - loss: 0.0646 - accuracy: 0.9783 - val_loss: 0.3835 - val_accuracy: 0.9073\n",
      "Epoch 38/300\n",
      "213/213 [==============================] - 23s 109ms/step - loss: 0.0631 - accuracy: 0.9778 - val_loss: 0.4904 - val_accuracy: 0.8738\n",
      "train: \n",
      " [[1450   15   38]\n",
      " [  60 3327   38]\n",
      " [   4    6 1874]]\n",
      "test: \n",
      " [[319  38  34]\n",
      " [ 67 755  24]\n",
      " [ 18  19 430]]\n",
      "test:0.882629\n",
      "train:0.976365\n"
     ]
    }
   ],
   "source": [
    "train,test,sc,pca = train_model(model,feature,np.array(y),False)"
   ]
  },
  {
   "cell_type": "code",
   "execution_count": 20,
   "metadata": {},
   "outputs": [
    {
     "name": "stdout",
     "output_type": "stream",
     "text": [
      "acc:0.738217\n",
      "[[214 145 117]\n",
      " [143 900  34]\n",
      " [ 64  58 468]]\n"
     ]
    },
    {
     "data": {
      "text/plain": [
       "0.7382174521698553"
      ]
     },
     "execution_count": 20,
     "metadata": {},
     "output_type": "execute_result"
    }
   ],
   "source": [
    "test_model(model,np.array(feature2),np.array(y2),sc,pca,False)"
   ]
  },
  {
   "cell_type": "code",
   "execution_count": 89,
   "metadata": {},
   "outputs": [],
   "source": [
    "model_ann = models.load_model('./model/ann2.h5')\n",
    "model_cnn = models.load_model('./model/cnn2.h5')"
   ]
  },
  {
   "cell_type": "code",
   "execution_count": null,
   "metadata": {},
   "outputs": [],
   "source": [
    "model_cnn.summary()"
   ]
  },
  {
   "cell_type": "code",
   "execution_count": 118,
   "metadata": {},
   "outputs": [
    {
     "data": {
      "image/png": "[encoded data removed]",
      "text/plain": [
       "<IPython.core.display.Image object>"
      ]
     },
     "execution_count": 118,
     "metadata": {},
     "output_type": "execute_result"
    }
   ],
   "source": [
    "plot_model(model)"
   ]
  },
  {
   "cell_type": "code",
   "execution_count": 90,
   "metadata": {},
   "outputs": [
    {
     "name": "stdout",
     "output_type": "stream",
     "text": [
      "Model: \"functional_12\"\n",
      "__________________________________________________________________________________________________\n",
      "Layer (type)                    Output Shape         Param #     Connected to                     \n",
      "==================================================================================================\n",
      "input_7 (InputLayer)            [(None, 32, 256, 8)] 0                                            \n",
      "__________________________________________________________________________________________________\n",
      "input_5 (InputLayer)            multiple             0           input_7[0][0]                    \n",
      "__________________________________________________________________________________________________\n",
      "max_pool (MaxPooling2D)         (None, 16, 128, 8)   0           input_5[1][0]                    \n",
      "__________________________________________________________________________________________________\n",
      "conv1 (Conv2D)                  (None, 16, 128, 16)  1168        max_pool[1][0]                   \n",
      "__________________________________________________________________________________________________\n",
      "act_conv1 (Activation)          (None, 16, 128, 16)  0           conv1[1][0]                      \n",
      "__________________________________________________________________________________________________\n",
      "dropout_conv1 (Dropout)         (None, 16, 128, 16)  0           act_conv1[1][0]                  \n",
      "__________________________________________________________________________________________________\n",
      "max_pool_conv1 (MaxPooling2D)   (None, 8, 64, 16)    0           dropout_conv1[1][0]              \n",
      "__________________________________________________________________________________________________\n",
      "conv2 (Conv2D)                  (None, 8, 64, 32)    4640        max_pool_conv1[1][0]             \n",
      "__________________________________________________________________________________________________\n",
      "input_ann (InputLayer)          [(None, 232)]        0                                            \n",
      "__________________________________________________________________________________________________\n",
      "act_conv2 (Activation)          (None, 8, 64, 32)    0           conv2[1][0]                      \n",
      "__________________________________________________________________________________________________\n",
      "batch_normalization_10 (BatchNo (None, 232)          928         input_ann[0][0]                  \n",
      "__________________________________________________________________________________________________\n",
      "dropout_conv2 (Dropout)         (None, 8, 64, 32)    0           act_conv2[1][0]                  \n",
      "__________________________________________________________________________________________________\n",
      "dense_10 (Dense)                (None, 128)          29824       batch_normalization_10[1][0]     \n",
      "__________________________________________________________________________________________________\n",
      "max_pool_conv2 (MaxPooling2D)   (None, 4, 32, 32)    0           dropout_conv2[1][0]              \n",
      "__________________________________________________________________________________________________\n",
      "batch_normalization_11 (BatchNo (None, 128)          512         dense_10[1][0]                   \n",
      "__________________________________________________________________________________________________\n",
      "conv3 (Conv2D)                  (None, 4, 32, 64)    18496       max_pool_conv2[1][0]             \n",
      "__________________________________________________________________________________________________\n",
      "activation_6 (Activation)       (None, 128)          0           batch_normalization_11[1][0]     \n",
      "__________________________________________________________________________________________________\n",
      "act_conv3 (Activation)          (None, 4, 32, 64)    0           conv3[1][0]                      \n",
      "__________________________________________________________________________________________________\n",
      "dense_11 (Dense)                (None, 64)           8256        activation_6[1][0]               \n",
      "__________________________________________________________________________________________________\n",
      "dropout_conv3 (Dropout)         (None, 4, 32, 64)    0           act_conv3[1][0]                  \n",
      "__________________________________________________________________________________________________\n",
      "batch_normalization_12 (BatchNo (None, 64)           256         dense_11[1][0]                   \n",
      "__________________________________________________________________________________________________\n",
      "max_pool_conv3 (MaxPooling2D)   (None, 2, 16, 64)    0           dropout_conv3[1][0]              \n",
      "__________________________________________________________________________________________________\n",
      "activation_7 (Activation)       (None, 64)           0           batch_normalization_12[1][0]     \n",
      "__________________________________________________________________________________________________\n",
      "conv4 (Conv2D)                  (None, 2, 16, 128)   73856       max_pool_conv3[1][0]             \n",
      "__________________________________________________________________________________________________\n",
      "dense_12 (Dense)                (None, 32)           2080        activation_7[1][0]               \n",
      "__________________________________________________________________________________________________\n",
      "act_conv4 (Activation)          (None, 2, 16, 128)   0           conv4[1][0]                      \n",
      "__________________________________________________________________________________________________\n",
      "batch_normalization_13 (BatchNo (None, 32)           128         dense_12[1][0]                   \n",
      "__________________________________________________________________________________________________\n",
      "dropout_conv4 (Dropout)         (None, 2, 16, 128)   0           act_conv4[1][0]                  \n",
      "__________________________________________________________________________________________________\n",
      "activation_8 (Activation)       (None, 32)           0           batch_normalization_13[1][0]     \n",
      "__________________________________________________________________________________________________\n",
      "max_pool_conv4 (MaxPooling2D)   (None, 1, 8, 128)    0           dropout_conv4[1][0]              \n",
      "__________________________________________________________________________________________________\n",
      "dense_13 (Dense)                (None, 16)           528         activation_8[1][0]               \n",
      "__________________________________________________________________________________________________\n",
      "cnn_flat (Flatten)              (None, 1024)         0           max_pool_conv4[1][0]             \n",
      "__________________________________________________________________________________________________\n",
      "concatenate_5 (Concatenate)     (None, 1040)         0           dense_13[1][0]                   \n",
      "                                                                 cnn_flat[1][0]                   \n",
      "__________________________________________________________________________________________________\n",
      "output (Dense)                  (None, 3)            3123        concatenate_5[0][0]              \n",
      "==================================================================================================\n",
      "Total params: 143,795\n",
      "Trainable params: 142,883\n",
      "Non-trainable params: 912\n",
      "__________________________________________________________________________________________________\n"
     ]
    }
   ],
   "source": [
    "input_ann = layers.Input(shape=feature.shape[1:],name='input_ann')\n",
    "ann = model_ann.layers[0](input_ann)\n",
    "#ann.trainable = False\n",
    "for layer in model_ann.layers[1:-2]:\n",
    "    ann = layer(ann)\n",
    "    ann.trainable = False\n",
    "#model_ann = Model(inputs=[input_],outputs=[ann])\n",
    "\n",
    "input_cnn = layers.Input(shape=X_full.shape[1:])\n",
    "cnn = model_cnn.layers[0](input_cnn)\n",
    "#cnn .trainable = False\n",
    "for layer in model_cnn.layers[1:-1]:\n",
    "    cnn = layer(cnn)\n",
    "    cnn.trainable = False\n",
    "#model_cnn = Model(inputs=[input_cnn],outputs=[cnn])\n",
    "concat = layers.Concatenate()([ann,cnn])\n",
    "dense1 = layers.Dense(1024,activation='relu',name='dense_concat')(concat)\n",
    "#dense1 = layers.Dropout(0.2)(dense1)\n",
    "#dense2 = layers.Dense(512,activation='relu')(dense1)\n",
    "#dense2 = layers.Dropout(0.2)(dense2)\n",
    "#dense3 = layers.Dense(256,activation='relu')(dense2)\n",
    "#dense3 = layers.Dropout(0.2)(dense3)\n",
    "dropout = layers.Dropout(0.2)(dense1)\n",
    "output = layers.Dense(3,activation='softmax',name='output')(concat)\n",
    "\n",
    "model = Model(inputs=[input_ann,input_cnn],outputs=[output])\n",
    "#for layer in model.layers[:-4]:\n",
    "#    layer.trainable=False\n",
    "model.summary()"
   ]
  },
  {
   "cell_type": "code",
   "execution_count": 91,
   "metadata": {},
   "outputs": [
    {
     "data": {
      "text/plain": [
       "True"
      ]
     },
     "execution_count": 91,
     "metadata": {},
     "output_type": "execute_result"
    }
   ],
   "source": [
    "model.layers[2].trainable"
   ]
  },
  {
   "cell_type": "code",
   "execution_count": 92,
   "metadata": {},
   "outputs": [],
   "source": [
    "model.compile(loss=sparse_cost_sensitive_loss,optimizer='adam',metrics=['accuracy'])"
   ]
  },
  {
   "cell_type": "code",
   "execution_count": 93,
   "metadata": {},
   "outputs": [
    {
     "name": "stdout",
     "output_type": "stream",
     "text": [
      "Epoch 1/300\n",
      "213/213 [==============================] - 23s 106ms/step - loss: 0.1951 - accuracy: 0.9339 - val_loss: 0.1628 - val_accuracy: 0.9548\n",
      "Epoch 2/300\n",
      "213/213 [==============================] - 24s 114ms/step - loss: 0.0269 - accuracy: 0.9943 - val_loss: 0.1309 - val_accuracy: 0.9619\n",
      "Epoch 3/300\n",
      "213/213 [==============================] - 21s 99ms/step - loss: 0.0196 - accuracy: 0.9962 - val_loss: 0.1590 - val_accuracy: 0.9448\n",
      "Epoch 4/300\n",
      "213/213 [==============================] - 21s 98ms/step - loss: 0.0227 - accuracy: 0.9938 - val_loss: 0.1862 - val_accuracy: 0.9472\n",
      "Epoch 5/300\n",
      "213/213 [==============================] - 21s 96ms/step - loss: 0.0199 - accuracy: 0.9950 - val_loss: 0.2447 - val_accuracy: 0.9184\n",
      "Epoch 6/300\n",
      "213/213 [==============================] - 21s 98ms/step - loss: 0.0145 - accuracy: 0.9963 - val_loss: 0.1634 - val_accuracy: 0.9437\n",
      "Epoch 7/300\n",
      "213/213 [==============================] - 23s 109ms/step - loss: 0.0267 - accuracy: 0.9921 - val_loss: 0.2584 - val_accuracy: 0.9296\n",
      "Epoch 8/300\n",
      "213/213 [==============================] - 22s 106ms/step - loss: 0.0774 - accuracy: 0.9787 - val_loss: 0.2155 - val_accuracy: 0.9302\n",
      "Epoch 9/300\n",
      "213/213 [==============================] - 22s 105ms/step - loss: 0.0331 - accuracy: 0.9903 - val_loss: 0.2770 - val_accuracy: 0.9354\n",
      "Epoch 10/300\n",
      "213/213 [==============================] - 22s 103ms/step - loss: 0.0425 - accuracy: 0.9880 - val_loss: 0.1878 - val_accuracy: 0.9484\n",
      "Epoch 11/300\n",
      "213/213 [==============================] - 22s 104ms/step - loss: 0.0353 - accuracy: 0.9910 - val_loss: 0.1861 - val_accuracy: 0.9484\n",
      "Epoch 12/300\n",
      "213/213 [==============================] - 24s 111ms/step - loss: 0.0142 - accuracy: 0.9965 - val_loss: 0.1549 - val_accuracy: 0.9613\n",
      "train: \n",
      " [[1502    1    0]\n",
      " [   0 3425    0]\n",
      " [   0    0 1884]]\n",
      "test: \n",
      " [[366  15  10]\n",
      " [ 13 827   6]\n",
      " [ 13   8 446]]\n",
      "test:0.961854\n",
      "train:0.999853\n"
     ]
    }
   ],
   "source": [
    "train,test,sc,pca = train_model(model,feature,y_ann,False)"
   ]
  },
  {
   "cell_type": "code",
   "execution_count": 78,
   "metadata": {},
   "outputs": [
    {
     "ename": "TypeError",
     "evalue": "'Tensor' object is not callable",
     "output_type": "error",
     "traceback": [
      "\u001b[1;31m---------------------------------------------------------------------------\u001b[0m",
      "\u001b[1;31mTypeError\u001b[0m                                 Traceback (most recent call last)",
      "\u001b[1;32m<ipython-input-78-72c96057d585>\u001b[0m in \u001b[0;36m<module>\u001b[1;34m\u001b[0m\n\u001b[1;32m----> 1\u001b[1;33m \u001b[0moutput\u001b[0m\u001b[1;33m(\u001b[0m\u001b[0mmodel\u001b[0m\u001b[1;33m,\u001b[0m\u001b[0mnp\u001b[0m\u001b[1;33m.\u001b[0m\u001b[0marray\u001b[0m\u001b[1;33m(\u001b[0m\u001b[0mfeature2\u001b[0m\u001b[1;33m)\u001b[0m\u001b[1;33m,\u001b[0m\u001b[0mnp\u001b[0m\u001b[1;33m.\u001b[0m\u001b[0marray\u001b[0m\u001b[1;33m(\u001b[0m\u001b[0my2\u001b[0m\u001b[1;33m)\u001b[0m\u001b[1;33m,\u001b[0m\u001b[0msc\u001b[0m\u001b[1;33m)\u001b[0m\u001b[1;33m\u001b[0m\u001b[1;33m\u001b[0m\u001b[0m\n\u001b[0m",
      "\u001b[1;31mTypeError\u001b[0m: 'Tensor' object is not callable"
     ]
    }
   ],
   "source": [
    "output(model,np.array(feature2),np.array(y2),sc)"
   ]
  },
  {
   "cell_type": "code",
   "execution_count": 94,
   "metadata": {},
   "outputs": [
    {
     "name": "stdout",
     "output_type": "stream",
     "text": [
      "acc:0.728418\n",
      "[[199 169 108]\n",
      " [103 919  55]\n",
      " [ 89  58 443]]\n"
     ]
    },
    {
     "data": {
      "text/plain": [
       "0.728418105459636"
      ]
     },
     "execution_count": 94,
     "metadata": {},
     "output_type": "execute_result"
    }
   ],
   "source": [
    "test_model(model,np.array(feature2),np.array(y2),sc,pca,False)"
   ]
  },
  {
   "cell_type": "code",
   "execution_count": 64,
   "metadata": {},
   "outputs": [],
   "source": [
    "def train_model(model,feature,y,binary=True,file=None):\n",
    "    if binary:\n",
    "        ind = ((y==0)|(y==1)|(y==2)|(y==6))\n",
    "        #ind1 = ((y==4)|(y==1)|(y==2)|(y==3)|(y==6))\n",
    "        y_01 = y[ind].copy()\n",
    "        ind1 = ((y_01==1)|(y_01==2)|(y_01==6))\n",
    "        y_01[ind1] = 1\n",
    "        oc = OneHotEncoder()\n",
    "        y_01 = oc.fit_transform(np.array(y_01)[:,np.newaxis]).toarray()\n",
    "        cw = None#{0:1,1:5}\n",
    "    else:\n",
    "        ind = ((y==1)|(y==2)|(y==6))\n",
    "        #ind = ((y==1)|(y==6))\n",
    "        y_01 = y[ind].copy()\n",
    "        oc = OneHotEncoder()\n",
    "        y_01 = oc.fit_transform(np.array(y_01)[:,np.newaxis]).toarray()\n",
    "        cw = None#{0:5,1:1,2:1}#{0:2,1:1,2:10,3:2}\n",
    "    x_full,x_test,y_full,y_test = train_test_split(np.array(feature)[ind,:],y_01,\n",
    "                                                   test_size=0.2,\n",
    "                                                   random_state=123,\n",
    "                                                   shuffle=True)\n",
    "    x_train,x_valid,y_train,y_valid = train_test_split(x_full,y_full,\n",
    "                                                       test_size=0.25,\n",
    "                                                       random_state=555,\n",
    "                                                       shuffle=True)\n",
    "    ind2 = ((Y2==1)|(Y2==2)|(Y2==6))\n",
    "    y_02 = Y2[ind2].copy()\n",
    "    y_02 = oc.transform(np.array(y_02)[:,np.newaxis]).toarray()\n",
    "\n",
    "    \n",
    "    early_stopping = callbacks.EarlyStopping(patience = 10,\n",
    "                                             monitor = 'val_loss', \n",
    "                                             restore_best_weights=True)\n",
    "    history = model.fit(x_full,y_full,validation_data=(x_test,y_test),\n",
    "                        epochs=100,batch_size=32,class_weight=cw,\n",
    "                        callbacks=[early_stopping],\n",
    "                        shuffle=True)\n",
    "    \n",
    "    if binary:\n",
    "        y_pred_t=model.predict(x_test)\n",
    "        test = metrics.accuracy_score(np.argmax(y_test,axis=1),np.argmax(y_pred_t,axis=1))\n",
    "        #test = metrics.accuracy_score(y_test,y_pred_t>0.5)\n",
    "        \n",
    "        #y_pred_v=model.predict(x_valid)\n",
    "        #valid = metrics.accuracy_score(y_valid,np.argmax(y_pred_v,axis=1))\n",
    "        y_pred_ta=model.predict(x_train)\n",
    "        train = metrics.accuracy_score(np.argmax(y_full,axis=1),np.argmax(y_pred_ta,axis=1))\n",
    "        #train = metrics.accuracy_score(y_full,y_pred_ta>0.5)\n",
    "        \n",
    "        print('train: \\n',metrics.confusion_matrix(np.argmax(y_full,axis=1),np.argmax(y_pred_ta,axis=1)))\n",
    "        #print('valid: \\n',metrics.confusion_matrix(np.argmax(y_valid,axis=1),np.argmax(y_pred_v,axis=1)))\n",
    "        print('test: \\n',metrics.confusion_matrix(np.argmax(y_test,axis=1),np.argmax(y_pred_t,axis=1)))\n",
    "        \n",
    "        #print('train: \\n',metrics.confusion_matrix(y_full,y_pred_ta>0.5))\n",
    "        #print('test: \\n',metrics.confusion_matrix(y_test,y_pred_t>0.5))\n",
    "\n",
    "    else:\n",
    "        y_pred_t=model.predict(x_test)\n",
    "        test = metrics.accuracy_score(np.argmax(y_test,axis=1),np.argmax(y_pred_t,axis=1))\n",
    "        #y_pred_v=model.predict(x_valid)\n",
    "        #valid = metrics.accuracy_score(np.argmax(y_valid,axis=1),np.argmax(y_pred_v,axis=1))\n",
    "        y_pred_ta=model.predict(x_full)\n",
    "        train = metrics.accuracy_score(np.argmax(y_full,axis=1),np.argmax(y_pred_ta,axis=1))        \n",
    "        print('train: \\n',metrics.confusion_matrix(np.argmax(y_full,axis=1),np.argmax(y_pred_ta,axis=1)))\n",
    "        #print('valid: \\n',metrics.confusion_matrix(np.argmax(y_valid,axis=1),np.argmax(y_pred_v,axis=1)))\n",
    "        print('test: \\n',metrics.confusion_matrix(np.argmax(y_test,axis=1),np.argmax(y_pred_t,axis=1)))\n",
    "    print('test:%f'%test)\n",
    "    #print('valid:%f'%valid)\n",
    "    print('train:%f'%train)\n",
    "    if file != None:\n",
    "        model.save_model(file)\n",
    "    return train,test\n",
    "\n",
    "def test_model(model,feature,y):\n",
    "\n",
    "    y_pred=model.predict(feature)\n",
    "    test = metrics.accuracy_score(np.argmax(y,axis=1),np.argmax(y_pred,axis=1))\n",
    "    #test = metrics.accuracy_score(y_01,y_pred>0.5)\n",
    "    \n",
    "    print('acc:%f'%test)\n",
    "    print(metrics.confusion_matrix(np.argmax(y,axis=1),np.argmax(y_pred,axis=1)))\n",
    "    #print(metrics.confusion_matrix(y_01,y_pred>0.5))\n",
    "    return test\n",
    "\n",
    "def test_model(model,feature,y,sc,pca):\n",
    "    ind = ((y==1)|(y==2)|(y==6))\n",
    "    y_01 = y[ind].copy()\n",
    "    oc = OneHotEncoder()\n",
    "    y_01 = oc.fit_transform(np.array(y_01)[:,np.newaxis]).toarray()\n",
    "    cw = None#{0:5,1:1,2:1}#{0:2,1:1,2:10,3:2}\n",
    "    x_full,x_test,y_full,y_test = train_test_split(np.array(feature)[ind,:],y_01,\n",
    "                                                   test_size=0.2,\n",
    "                                                   random_state=123,\n",
    "                                                   shuffle=True)\n",
    "\n",
    "    #print(y_01)\n",
    "    x_full=sc.transform(x_full)\n",
    "    x_test=sc.transform(x_test)\n",
    "    \n",
    "    y_pred_t=model.predict(x_test)\n",
    "    test = metrics.accuracy_score(np.argmax(y_test,axis=1),np.argmax(y_pred_t,axis=1))\n",
    "    #y_pred_v=model.predict(x_valid)\n",
    "    #valid = metrics.accuracy_score(np.argmax(y_valid,axis=1),np.argmax(y_pred_v,axis=1))\n",
    "    y_pred_ta=model.predict(x_full)\n",
    "    train = metrics.accuracy_score(np.argmax(y_full,axis=1),np.argmax(y_pred_ta,axis=1))        \n",
    "    print('train: \\n',metrics.confusion_matrix(np.argmax(y_full,axis=1),np.argmax(y_pred_ta,axis=1)))\n",
    "    #print('valid: \\n',metrics.confusion_matrix(np.argmax(y_valid,axis=1),np.argmax(y_pred_v,axis=1)))\n",
    "    print('test: \\n',metrics.confusion_matrix(np.argmax(y_test,axis=1),np.argmax(y_pred_t,axis=1)))\n",
    "    print('test:%f'%test)\n",
    "    #print('valid:%f'%valid)\n",
    "    print('train:%f'%train)\n",
    "    return test\n",
    "\n",
    "def test_model(model,feature,y,sc,pca):\n",
    "    ind = ((y==1)|(y==2)|(y==6))\n",
    "    y_01 = y[ind].copy()\n",
    "    oc = OneHotEncoder()\n",
    "    y_01 = oc.fit_transform(np.array(y_01)[:,np.newaxis]).toarray()\n",
    "    cw = None#{0:5,1:1,2:1}#{0:2,1:1,2:10,3:2}\n",
    "    \n",
    "\n",
    "    #print(y_01)\n",
    "    x_full=sc.transform(np.array(feature)[ind,:])\n",
    "    \n",
    "\n",
    "    y_pred_ta=model.predict(x_full)\n",
    "    train = metrics.accuracy_score(np.argmax(y_01,axis=1),np.argmax(y_pred_ta,axis=1))        \n",
    "    print('train: \\n',metrics.confusion_matrix(np.argmax(y_01,axis=1),np.argmax(y_pred_ta,axis=1)))\n",
    "\n",
    "    print('train:%f'%train)\n",
    "    return test"
   ]
  },
  {
   "cell_type": "code",
   "execution_count": 22,
   "metadata": {},
   "outputs": [],
   "source": [
    "input_ = layers.Input(shape=X_full.shape[1:])\n",
    "#bn = layers.BatchNormalization()(input_)\n",
    "max_pool = layers.MaxPooling2D((2,2))(input_)\n",
    "#bn = layers.BatchNormalization()(input_)\n",
    "\n",
    "cnn1 = layers.Conv2D(16,3,strides=2,\n",
    "                      kernel_initializer=TruncatedNormal(),\n",
    "                      #use_bias=False,#activation='elu',\n",
    "                      padding='same')(max_pool)\n",
    "cnn1 = layers.Activation('relu')(cnn1)\n",
    "cnn1 = layers.BatchNormalization()(cnn1)\n",
    "#cnn1 = layers.MaxPooling2D((2,2))(cnn1)\n",
    "\n",
    "cnn2 = layers.Conv2D(32,3,strides=2,\n",
    "                      kernel_initializer=TruncatedNormal(),\n",
    "                      #use_bias=False,#activation='elu',\n",
    "                      padding='same')(cnn1)\n",
    "cnn2 = layers.Activation('relu')(cnn2)\n",
    "cnn2 = layers.BatchNormalization()(cnn2)\n",
    "#cnn2 = layers.MaxPooling2D(2)(cnn2)\n",
    "\n",
    "cnn3 = layers.Conv2D(64,3,strides=2,\n",
    "                      kernel_initializer=TruncatedNormal(),\n",
    "                      #use_bias=False,#activation='elu',\n",
    "                      padding='same')(cnn2)\n",
    "cnn3 = layers.Activation('relu')(cnn3)\n",
    "cnn3 = layers.BatchNormalization()(cnn3)\n",
    "#cnn3 = layers.MaxPooling2D(2)(cnn3)\n",
    "\n",
    "cnn4 = layers.Conv2D(128,3,strides=2,\n",
    "                      kernel_initializer=TruncatedNormal(),\n",
    "                      #use_bias=False,#activation='elu',\n",
    "                      padding='same')(cnn3)\n",
    "cnn4 = layers.Activation('relu')(cnn4)\n",
    "cnn4 = layers.BatchNormalization()(cnn4)\n",
    "#cnn4 = layers.MaxPooling2D(2)(cnn4)\n",
    "\n",
    "flatten = layers.Flatten()(cnn4)\n",
    "#dropout = layers.Dropout(0.2)(flatten)\n",
    "#layer1 = layers.Dense(256,activation = 'relu')(dropout)\n",
    "#dropout1 = layers.Dropout(0.2)(layer1)\n",
    "#layer2 = layers.Dense(128,activation = 'relu')(dropout1)\n",
    "#dropout2 = layers.Dropout(0.2)(layer2)\n",
    "output = layers.Dense(3,activation = 'softmax')(flatten)\n",
    "model = Model(inputs=[input_],outputs=[output])"
   ]
  },
  {
   "cell_type": "code",
   "execution_count": 23,
   "metadata": {},
   "outputs": [],
   "source": [
    "model.compile(loss='categorical_crossentropy',optimizer='adam',metrics=['accuracy'])"
   ]
  },
  {
   "cell_type": "code",
   "execution_count": 24,
   "metadata": {},
   "outputs": [],
   "source": [
    "early_stopping = callbacks.EarlyStopping(patience = 10,monitor = 'val_accuracy', restore_best_weights=True)"
   ]
  },
  {
   "cell_type": "code",
   "execution_count": 39,
   "metadata": {},
   "outputs": [
    {
     "ename": "NameError",
     "evalue": "name 'labels' is not defined",
     "output_type": "error",
     "traceback": [
      "\u001b[1;31m---------------------------------------------------------------------------\u001b[0m",
      "\u001b[1;31mNameError\u001b[0m                                 Traceback (most recent call last)",
      "\u001b[1;32m<ipython-input-39-613199ec9f1a>\u001b[0m in \u001b[0;36m<module>\u001b[1;34m\u001b[0m\n\u001b[1;32m----> 1\u001b[1;33m \u001b[0mtrain_model\u001b[0m\u001b[1;33m(\u001b[0m\u001b[0mmodel\u001b[0m\u001b[1;33m,\u001b[0m\u001b[0mX_full\u001b[0m\u001b[1;33m,\u001b[0m\u001b[0mlabels\u001b[0m\u001b[1;33m,\u001b[0m\u001b[1;32mFalse\u001b[0m\u001b[1;33m)\u001b[0m\u001b[1;33m\u001b[0m\u001b[1;33m\u001b[0m\u001b[0m\n\u001b[0m",
      "\u001b[1;31mNameError\u001b[0m: name 'labels' is not defined"
     ]
    }
   ],
   "source": [
    "train_model(model,features,labels,False)"
   ]
  },
  {
   "cell_type": "code",
   "execution_count": 40,
   "metadata": {},
   "outputs": [
    {
     "name": "stdout",
     "output_type": "stream",
     "text": [
      "Epoch 1/100\n",
      "213/213 [==============================] - 23s 106ms/step - loss: 0.0339 - accuracy: 0.9878 - val_loss: 0.1307 - val_accuracy: 0.9554\n",
      "Epoch 2/100\n",
      "213/213 [==============================] - 22s 103ms/step - loss: 0.0325 - accuracy: 0.9880 - val_loss: 0.1485 - val_accuracy: 0.9466\n",
      "Epoch 3/100\n",
      "213/213 [==============================] - 22s 102ms/step - loss: 0.0271 - accuracy: 0.9921 - val_loss: 0.1437 - val_accuracy: 0.9484\n",
      "Epoch 4/100\n",
      "213/213 [==============================] - 23s 106ms/step - loss: 0.0307 - accuracy: 0.9903 - val_loss: 0.1250 - val_accuracy: 0.9583\n",
      "Epoch 5/100\n",
      "213/213 [==============================] - 22s 104ms/step - loss: 0.0300 - accuracy: 0.9890 - val_loss: 0.1403 - val_accuracy: 0.9519\n",
      "Epoch 6/100\n",
      "213/213 [==============================] - 23s 106ms/step - loss: 0.0430 - accuracy: 0.9856 - val_loss: 0.1587 - val_accuracy: 0.9466\n",
      "Epoch 7/100\n",
      "213/213 [==============================] - 24s 112ms/step - loss: 0.0417 - accuracy: 0.9859 - val_loss: 0.1363 - val_accuracy: 0.9548\n",
      "Epoch 8/100\n",
      "213/213 [==============================] - 22s 106ms/step - loss: 0.0314 - accuracy: 0.9887 - val_loss: 0.1164 - val_accuracy: 0.9566\n",
      "Epoch 9/100\n",
      "213/213 [==============================] - 22s 104ms/step - loss: 0.0396 - accuracy: 0.9869 - val_loss: 0.1270 - val_accuracy: 0.9542\n",
      "Epoch 10/100\n",
      "213/213 [==============================] - 22s 105ms/step - loss: 0.0226 - accuracy: 0.9919 - val_loss: 0.0903 - val_accuracy: 0.9730\n",
      "Epoch 11/100\n",
      "213/213 [==============================] - 22s 103ms/step - loss: 0.0328 - accuracy: 0.9883 - val_loss: 0.0922 - val_accuracy: 0.9707\n",
      "Epoch 12/100\n",
      "213/213 [==============================] - 22s 105ms/step - loss: 0.0400 - accuracy: 0.9868 - val_loss: 0.1992 - val_accuracy: 0.9284\n",
      "Epoch 13/100\n",
      "213/213 [==============================] - 23s 110ms/step - loss: 0.0310 - accuracy: 0.9897 - val_loss: 0.1323 - val_accuracy: 0.9542\n",
      "Epoch 14/100\n",
      "213/213 [==============================] - 22s 104ms/step - loss: 0.0262 - accuracy: 0.9915 - val_loss: 0.1038 - val_accuracy: 0.9624\n",
      "Epoch 15/100\n",
      "213/213 [==============================] - 23s 109ms/step - loss: 0.0323 - accuracy: 0.9897 - val_loss: 0.1683 - val_accuracy: 0.9384\n",
      "Epoch 16/100\n",
      "213/213 [==============================] - 22s 105ms/step - loss: 0.0277 - accuracy: 0.9915 - val_loss: 0.1034 - val_accuracy: 0.9619\n",
      "Epoch 17/100\n",
      "213/213 [==============================] - 22s 105ms/step - loss: 0.0234 - accuracy: 0.9909 - val_loss: 0.1148 - val_accuracy: 0.9607\n",
      "Epoch 18/100\n",
      "213/213 [==============================] - 23s 106ms/step - loss: 0.0190 - accuracy: 0.9937 - val_loss: 0.0919 - val_accuracy: 0.9707\n",
      "Epoch 19/100\n",
      "213/213 [==============================] - 22s 103ms/step - loss: 0.0325 - accuracy: 0.9910 - val_loss: 0.1003 - val_accuracy: 0.9695\n",
      "Epoch 20/100\n",
      "213/213 [==============================] - 22s 104ms/step - loss: 0.0707 - accuracy: 0.9796 - val_loss: 0.1277 - val_accuracy: 0.9531\n"
     ]
    }
   ],
   "source": [
    "early_stopping = callbacks.EarlyStopping(patience = 10,\n",
    "                                             monitor = 'val_loss', \n",
    "                                             restore_best_weights=True)\n",
    "history = model_cnn.fit(X_full,y_full,validation_data=(X_test,y_test),\n",
    "                        epochs=100,batch_size=32,#class_weight=cw,\n",
    "                        callbacks=[early_stopping],\n",
    "                        shuffle=True)"
   ]
  },
  {
   "cell_type": "code",
   "execution_count": 65,
   "metadata": {},
   "outputs": [
    {
     "name": "stdout",
     "output_type": "stream",
     "text": [
      "train: \n",
      " [[176 156 144]\n",
      " [ 89 927  61]\n",
      " [ 39 108 443]]\n",
      "train:0.721419\n"
     ]
    },
    {
     "data": {
      "text/plain": [
       "0.9970657276995305"
      ]
     },
     "execution_count": 65,
     "metadata": {},
     "output_type": "execute_result"
    }
   ],
   "source": [
    "test_model(model_ann,feature2,y2_ann,sc,pca)"
   ]
  },
  {
   "cell_type": "code",
   "execution_count": 61,
   "metadata": {},
   "outputs": [
    {
     "name": "stdout",
     "output_type": "stream",
     "text": [
      "WARNING:tensorflow:Model was constructed with shape (None, 32, 256, 8) for input Tensor(\"input_2:0\", shape=(None, 32, 256, 8), dtype=float32), but it was called on an input with incompatible shape (None, 232).\n"
     ]
    },
    {
     "ename": "ValueError",
     "evalue": "in user code:\n\n    E:\\ProgramData\\Anaconda3\\lib\\site-packages\\tensorflow\\python\\keras\\engine\\training.py:1462 predict_function  *\n        return step_function(self, iterator)\n    E:\\ProgramData\\Anaconda3\\lib\\site-packages\\tensorflow\\python\\keras\\engine\\training.py:1452 step_function  **\n        outputs = model.distribute_strategy.run(run_step, args=(data,))\n    E:\\ProgramData\\Anaconda3\\lib\\site-packages\\tensorflow\\python\\distribute\\distribute_lib.py:1211 run\n        return self._extended.call_for_each_replica(fn, args=args, kwargs=kwargs)\n    E:\\ProgramData\\Anaconda3\\lib\\site-packages\\tensorflow\\python\\distribute\\distribute_lib.py:2585 call_for_each_replica\n        return self._call_for_each_replica(fn, args, kwargs)\n    E:\\ProgramData\\Anaconda3\\lib\\site-packages\\tensorflow\\python\\distribute\\distribute_lib.py:2945 _call_for_each_replica\n        return fn(*args, **kwargs)\n    E:\\ProgramData\\Anaconda3\\lib\\site-packages\\tensorflow\\python\\keras\\engine\\training.py:1445 run_step  **\n        outputs = model.predict_step(data)\n    E:\\ProgramData\\Anaconda3\\lib\\site-packages\\tensorflow\\python\\keras\\engine\\training.py:1418 predict_step\n        return self(x, training=False)\n    E:\\ProgramData\\Anaconda3\\lib\\site-packages\\tensorflow\\python\\keras\\engine\\base_layer.py:985 __call__\n        outputs = call_fn(inputs, *args, **kwargs)\n    E:\\ProgramData\\Anaconda3\\lib\\site-packages\\tensorflow\\python\\keras\\engine\\functional.py:386 call\n        inputs, training=training, mask=mask)\n    E:\\ProgramData\\Anaconda3\\lib\\site-packages\\tensorflow\\python\\keras\\engine\\functional.py:508 _run_internal_graph\n        outputs = node.layer(*args, **kwargs)\n    E:\\ProgramData\\Anaconda3\\lib\\site-packages\\tensorflow\\python\\keras\\engine\\base_layer.py:976 __call__\n        self.name)\n    E:\\ProgramData\\Anaconda3\\lib\\site-packages\\tensorflow\\python\\keras\\engine\\input_spec.py:180 assert_input_compatibility\n        str(x.shape.as_list()))\n\n    ValueError: Input 0 of layer max_pooling2d is incompatible with the layer: expected ndim=4, found ndim=2. Full shape received: [None, 232]\n",
     "output_type": "error",
     "traceback": [
      "\u001b[1;31m---------------------------------------------------------------------------\u001b[0m",
      "\u001b[1;31mValueError\u001b[0m                                Traceback (most recent call last)",
      "\u001b[1;32m<ipython-input-61-78e769dc0a7c>\u001b[0m in \u001b[0;36m<module>\u001b[1;34m\u001b[0m\n\u001b[1;32m----> 1\u001b[1;33m \u001b[0my_pred\u001b[0m\u001b[1;33m=\u001b[0m\u001b[0mmodel\u001b[0m\u001b[1;33m.\u001b[0m\u001b[0mpredict\u001b[0m\u001b[1;33m(\u001b[0m\u001b[0mfeature2\u001b[0m\u001b[1;33m)\u001b[0m\u001b[1;33m\u001b[0m\u001b[1;33m\u001b[0m\u001b[0m\n\u001b[0m\u001b[0;32m      2\u001b[0m \u001b[0mmetrics\u001b[0m\u001b[1;33m.\u001b[0m\u001b[0mconfusion_matrix\u001b[0m\u001b[1;33m(\u001b[0m\u001b[0mnp\u001b[0m\u001b[1;33m.\u001b[0m\u001b[0margmax\u001b[0m\u001b[1;33m(\u001b[0m\u001b[0my2_ann\u001b[0m\u001b[1;33m,\u001b[0m\u001b[0maxis\u001b[0m\u001b[1;33m=\u001b[0m\u001b[1;36m1\u001b[0m\u001b[1;33m)\u001b[0m\u001b[1;33m,\u001b[0m\u001b[0mnp\u001b[0m\u001b[1;33m.\u001b[0m\u001b[0margmax\u001b[0m\u001b[1;33m(\u001b[0m\u001b[0my_pred\u001b[0m\u001b[1;33m,\u001b[0m\u001b[0maxis\u001b[0m\u001b[1;33m=\u001b[0m\u001b[1;36m1\u001b[0m\u001b[1;33m)\u001b[0m\u001b[1;33m)\u001b[0m\u001b[1;33m\u001b[0m\u001b[1;33m\u001b[0m\u001b[0m\n",
      "\u001b[1;32mE:\\ProgramData\\Anaconda3\\lib\\site-packages\\tensorflow\\python\\keras\\engine\\training.py\u001b[0m in \u001b[0;36m_method_wrapper\u001b[1;34m(self, *args, **kwargs)\u001b[0m\n\u001b[0;32m    128\u001b[0m       raise ValueError('{} is not supported in multi-worker mode.'.format(\n\u001b[0;32m    129\u001b[0m           method.__name__))\n\u001b[1;32m--> 130\u001b[1;33m     \u001b[1;32mreturn\u001b[0m \u001b[0mmethod\u001b[0m\u001b[1;33m(\u001b[0m\u001b[0mself\u001b[0m\u001b[1;33m,\u001b[0m \u001b[1;33m*\u001b[0m\u001b[0margs\u001b[0m\u001b[1;33m,\u001b[0m \u001b[1;33m**\u001b[0m\u001b[0mkwargs\u001b[0m\u001b[1;33m)\u001b[0m\u001b[1;33m\u001b[0m\u001b[1;33m\u001b[0m\u001b[0m\n\u001b[0m\u001b[0;32m    131\u001b[0m \u001b[1;33m\u001b[0m\u001b[0m\n\u001b[0;32m    132\u001b[0m   return tf_decorator.make_decorator(\n",
      "\u001b[1;32mE:\\ProgramData\\Anaconda3\\lib\\site-packages\\tensorflow\\python\\keras\\engine\\training.py\u001b[0m in \u001b[0;36mpredict\u001b[1;34m(self, x, batch_size, verbose, steps, callbacks, max_queue_size, workers, use_multiprocessing)\u001b[0m\n\u001b[0;32m   1597\u001b[0m           \u001b[1;32mfor\u001b[0m \u001b[0mstep\u001b[0m \u001b[1;32min\u001b[0m \u001b[0mdata_handler\u001b[0m\u001b[1;33m.\u001b[0m\u001b[0msteps\u001b[0m\u001b[1;33m(\u001b[0m\u001b[1;33m)\u001b[0m\u001b[1;33m:\u001b[0m\u001b[1;33m\u001b[0m\u001b[1;33m\u001b[0m\u001b[0m\n\u001b[0;32m   1598\u001b[0m             \u001b[0mcallbacks\u001b[0m\u001b[1;33m.\u001b[0m\u001b[0mon_predict_batch_begin\u001b[0m\u001b[1;33m(\u001b[0m\u001b[0mstep\u001b[0m\u001b[1;33m)\u001b[0m\u001b[1;33m\u001b[0m\u001b[1;33m\u001b[0m\u001b[0m\n\u001b[1;32m-> 1599\u001b[1;33m             \u001b[0mtmp_batch_outputs\u001b[0m \u001b[1;33m=\u001b[0m \u001b[0mpredict_function\u001b[0m\u001b[1;33m(\u001b[0m\u001b[0miterator\u001b[0m\u001b[1;33m)\u001b[0m\u001b[1;33m\u001b[0m\u001b[1;33m\u001b[0m\u001b[0m\n\u001b[0m\u001b[0;32m   1600\u001b[0m             \u001b[1;32mif\u001b[0m \u001b[0mdata_handler\u001b[0m\u001b[1;33m.\u001b[0m\u001b[0mshould_sync\u001b[0m\u001b[1;33m:\u001b[0m\u001b[1;33m\u001b[0m\u001b[1;33m\u001b[0m\u001b[0m\n\u001b[0;32m   1601\u001b[0m               \u001b[0mcontext\u001b[0m\u001b[1;33m.\u001b[0m\u001b[0masync_wait\u001b[0m\u001b[1;33m(\u001b[0m\u001b[1;33m)\u001b[0m\u001b[1;33m\u001b[0m\u001b[1;33m\u001b[0m\u001b[0m\n",
      "\u001b[1;32mE:\\ProgramData\\Anaconda3\\lib\\site-packages\\tensorflow\\python\\eager\\def_function.py\u001b[0m in \u001b[0;36m__call__\u001b[1;34m(self, *args, **kwds)\u001b[0m\n\u001b[0;32m    778\u001b[0m       \u001b[1;32melse\u001b[0m\u001b[1;33m:\u001b[0m\u001b[1;33m\u001b[0m\u001b[1;33m\u001b[0m\u001b[0m\n\u001b[0;32m    779\u001b[0m         \u001b[0mcompiler\u001b[0m \u001b[1;33m=\u001b[0m \u001b[1;34m\"nonXla\"\u001b[0m\u001b[1;33m\u001b[0m\u001b[1;33m\u001b[0m\u001b[0m\n\u001b[1;32m--> 780\u001b[1;33m         \u001b[0mresult\u001b[0m \u001b[1;33m=\u001b[0m \u001b[0mself\u001b[0m\u001b[1;33m.\u001b[0m\u001b[0m_call\u001b[0m\u001b[1;33m(\u001b[0m\u001b[1;33m*\u001b[0m\u001b[0margs\u001b[0m\u001b[1;33m,\u001b[0m \u001b[1;33m**\u001b[0m\u001b[0mkwds\u001b[0m\u001b[1;33m)\u001b[0m\u001b[1;33m\u001b[0m\u001b[1;33m\u001b[0m\u001b[0m\n\u001b[0m\u001b[0;32m    781\u001b[0m \u001b[1;33m\u001b[0m\u001b[0m\n\u001b[0;32m    782\u001b[0m       \u001b[0mnew_tracing_count\u001b[0m \u001b[1;33m=\u001b[0m \u001b[0mself\u001b[0m\u001b[1;33m.\u001b[0m\u001b[0m_get_tracing_count\u001b[0m\u001b[1;33m(\u001b[0m\u001b[1;33m)\u001b[0m\u001b[1;33m\u001b[0m\u001b[1;33m\u001b[0m\u001b[0m\n",
      "\u001b[1;32mE:\\ProgramData\\Anaconda3\\lib\\site-packages\\tensorflow\\python\\eager\\def_function.py\u001b[0m in \u001b[0;36m_call\u001b[1;34m(self, *args, **kwds)\u001b[0m\n\u001b[0;32m    821\u001b[0m       \u001b[1;31m# This is the first call of __call__, so we have to initialize.\u001b[0m\u001b[1;33m\u001b[0m\u001b[1;33m\u001b[0m\u001b[1;33m\u001b[0m\u001b[0m\n\u001b[0;32m    822\u001b[0m       \u001b[0minitializers\u001b[0m \u001b[1;33m=\u001b[0m \u001b[1;33m[\u001b[0m\u001b[1;33m]\u001b[0m\u001b[1;33m\u001b[0m\u001b[1;33m\u001b[0m\u001b[0m\n\u001b[1;32m--> 823\u001b[1;33m       \u001b[0mself\u001b[0m\u001b[1;33m.\u001b[0m\u001b[0m_initialize\u001b[0m\u001b[1;33m(\u001b[0m\u001b[0margs\u001b[0m\u001b[1;33m,\u001b[0m \u001b[0mkwds\u001b[0m\u001b[1;33m,\u001b[0m \u001b[0madd_initializers_to\u001b[0m\u001b[1;33m=\u001b[0m\u001b[0minitializers\u001b[0m\u001b[1;33m)\u001b[0m\u001b[1;33m\u001b[0m\u001b[1;33m\u001b[0m\u001b[0m\n\u001b[0m\u001b[0;32m    824\u001b[0m     \u001b[1;32mfinally\u001b[0m\u001b[1;33m:\u001b[0m\u001b[1;33m\u001b[0m\u001b[1;33m\u001b[0m\u001b[0m\n\u001b[0;32m    825\u001b[0m       \u001b[1;31m# At this point we know that the initialization is complete (or less\u001b[0m\u001b[1;33m\u001b[0m\u001b[1;33m\u001b[0m\u001b[1;33m\u001b[0m\u001b[0m\n",
      "\u001b[1;32mE:\\ProgramData\\Anaconda3\\lib\\site-packages\\tensorflow\\python\\eager\\def_function.py\u001b[0m in \u001b[0;36m_initialize\u001b[1;34m(self, args, kwds, add_initializers_to)\u001b[0m\n\u001b[0;32m    695\u001b[0m     self._concrete_stateful_fn = (\n\u001b[0;32m    696\u001b[0m         self._stateful_fn._get_concrete_function_internal_garbage_collected(  # pylint: disable=protected-access\n\u001b[1;32m--> 697\u001b[1;33m             *args, **kwds))\n\u001b[0m\u001b[0;32m    698\u001b[0m \u001b[1;33m\u001b[0m\u001b[0m\n\u001b[0;32m    699\u001b[0m     \u001b[1;32mdef\u001b[0m \u001b[0minvalid_creator_scope\u001b[0m\u001b[1;33m(\u001b[0m\u001b[1;33m*\u001b[0m\u001b[0munused_args\u001b[0m\u001b[1;33m,\u001b[0m \u001b[1;33m**\u001b[0m\u001b[0munused_kwds\u001b[0m\u001b[1;33m)\u001b[0m\u001b[1;33m:\u001b[0m\u001b[1;33m\u001b[0m\u001b[1;33m\u001b[0m\u001b[0m\n",
      "\u001b[1;32mE:\\ProgramData\\Anaconda3\\lib\\site-packages\\tensorflow\\python\\eager\\function.py\u001b[0m in \u001b[0;36m_get_concrete_function_internal_garbage_collected\u001b[1;34m(self, *args, **kwargs)\u001b[0m\n\u001b[0;32m   2853\u001b[0m       \u001b[0margs\u001b[0m\u001b[1;33m,\u001b[0m \u001b[0mkwargs\u001b[0m \u001b[1;33m=\u001b[0m \u001b[1;32mNone\u001b[0m\u001b[1;33m,\u001b[0m \u001b[1;32mNone\u001b[0m\u001b[1;33m\u001b[0m\u001b[1;33m\u001b[0m\u001b[0m\n\u001b[0;32m   2854\u001b[0m     \u001b[1;32mwith\u001b[0m \u001b[0mself\u001b[0m\u001b[1;33m.\u001b[0m\u001b[0m_lock\u001b[0m\u001b[1;33m:\u001b[0m\u001b[1;33m\u001b[0m\u001b[1;33m\u001b[0m\u001b[0m\n\u001b[1;32m-> 2855\u001b[1;33m       \u001b[0mgraph_function\u001b[0m\u001b[1;33m,\u001b[0m \u001b[0m_\u001b[0m\u001b[1;33m,\u001b[0m \u001b[0m_\u001b[0m \u001b[1;33m=\u001b[0m \u001b[0mself\u001b[0m\u001b[1;33m.\u001b[0m\u001b[0m_maybe_define_function\u001b[0m\u001b[1;33m(\u001b[0m\u001b[0margs\u001b[0m\u001b[1;33m,\u001b[0m \u001b[0mkwargs\u001b[0m\u001b[1;33m)\u001b[0m\u001b[1;33m\u001b[0m\u001b[1;33m\u001b[0m\u001b[0m\n\u001b[0m\u001b[0;32m   2856\u001b[0m     \u001b[1;32mreturn\u001b[0m \u001b[0mgraph_function\u001b[0m\u001b[1;33m\u001b[0m\u001b[1;33m\u001b[0m\u001b[0m\n\u001b[0;32m   2857\u001b[0m \u001b[1;33m\u001b[0m\u001b[0m\n",
      "\u001b[1;32mE:\\ProgramData\\Anaconda3\\lib\\site-packages\\tensorflow\\python\\eager\\function.py\u001b[0m in \u001b[0;36m_maybe_define_function\u001b[1;34m(self, args, kwargs)\u001b[0m\n\u001b[0;32m   3211\u001b[0m \u001b[1;33m\u001b[0m\u001b[0m\n\u001b[0;32m   3212\u001b[0m       \u001b[0mself\u001b[0m\u001b[1;33m.\u001b[0m\u001b[0m_function_cache\u001b[0m\u001b[1;33m.\u001b[0m\u001b[0mmissed\u001b[0m\u001b[1;33m.\u001b[0m\u001b[0madd\u001b[0m\u001b[1;33m(\u001b[0m\u001b[0mcall_context_key\u001b[0m\u001b[1;33m)\u001b[0m\u001b[1;33m\u001b[0m\u001b[1;33m\u001b[0m\u001b[0m\n\u001b[1;32m-> 3213\u001b[1;33m       \u001b[0mgraph_function\u001b[0m \u001b[1;33m=\u001b[0m \u001b[0mself\u001b[0m\u001b[1;33m.\u001b[0m\u001b[0m_create_graph_function\u001b[0m\u001b[1;33m(\u001b[0m\u001b[0margs\u001b[0m\u001b[1;33m,\u001b[0m \u001b[0mkwargs\u001b[0m\u001b[1;33m)\u001b[0m\u001b[1;33m\u001b[0m\u001b[1;33m\u001b[0m\u001b[0m\n\u001b[0m\u001b[0;32m   3214\u001b[0m       \u001b[0mself\u001b[0m\u001b[1;33m.\u001b[0m\u001b[0m_function_cache\u001b[0m\u001b[1;33m.\u001b[0m\u001b[0mprimary\u001b[0m\u001b[1;33m[\u001b[0m\u001b[0mcache_key\u001b[0m\u001b[1;33m]\u001b[0m \u001b[1;33m=\u001b[0m \u001b[0mgraph_function\u001b[0m\u001b[1;33m\u001b[0m\u001b[1;33m\u001b[0m\u001b[0m\n\u001b[0;32m   3215\u001b[0m       \u001b[1;32mreturn\u001b[0m \u001b[0mgraph_function\u001b[0m\u001b[1;33m,\u001b[0m \u001b[0margs\u001b[0m\u001b[1;33m,\u001b[0m \u001b[0mkwargs\u001b[0m\u001b[1;33m\u001b[0m\u001b[1;33m\u001b[0m\u001b[0m\n",
      "\u001b[1;32mE:\\ProgramData\\Anaconda3\\lib\\site-packages\\tensorflow\\python\\eager\\function.py\u001b[0m in \u001b[0;36m_create_graph_function\u001b[1;34m(self, args, kwargs, override_flat_arg_shapes)\u001b[0m\n\u001b[0;32m   3073\u001b[0m             \u001b[0marg_names\u001b[0m\u001b[1;33m=\u001b[0m\u001b[0marg_names\u001b[0m\u001b[1;33m,\u001b[0m\u001b[1;33m\u001b[0m\u001b[1;33m\u001b[0m\u001b[0m\n\u001b[0;32m   3074\u001b[0m             \u001b[0moverride_flat_arg_shapes\u001b[0m\u001b[1;33m=\u001b[0m\u001b[0moverride_flat_arg_shapes\u001b[0m\u001b[1;33m,\u001b[0m\u001b[1;33m\u001b[0m\u001b[1;33m\u001b[0m\u001b[0m\n\u001b[1;32m-> 3075\u001b[1;33m             capture_by_value=self._capture_by_value),\n\u001b[0m\u001b[0;32m   3076\u001b[0m         \u001b[0mself\u001b[0m\u001b[1;33m.\u001b[0m\u001b[0m_function_attributes\u001b[0m\u001b[1;33m,\u001b[0m\u001b[1;33m\u001b[0m\u001b[1;33m\u001b[0m\u001b[0m\n\u001b[0;32m   3077\u001b[0m         \u001b[0mfunction_spec\u001b[0m\u001b[1;33m=\u001b[0m\u001b[0mself\u001b[0m\u001b[1;33m.\u001b[0m\u001b[0mfunction_spec\u001b[0m\u001b[1;33m,\u001b[0m\u001b[1;33m\u001b[0m\u001b[1;33m\u001b[0m\u001b[0m\n",
      "\u001b[1;32mE:\\ProgramData\\Anaconda3\\lib\\site-packages\\tensorflow\\python\\framework\\func_graph.py\u001b[0m in \u001b[0;36mfunc_graph_from_py_func\u001b[1;34m(name, python_func, args, kwargs, signature, func_graph, autograph, autograph_options, add_control_dependencies, arg_names, op_return_value, collections, capture_by_value, override_flat_arg_shapes)\u001b[0m\n\u001b[0;32m    984\u001b[0m         \u001b[0m_\u001b[0m\u001b[1;33m,\u001b[0m \u001b[0moriginal_func\u001b[0m \u001b[1;33m=\u001b[0m \u001b[0mtf_decorator\u001b[0m\u001b[1;33m.\u001b[0m\u001b[0munwrap\u001b[0m\u001b[1;33m(\u001b[0m\u001b[0mpython_func\u001b[0m\u001b[1;33m)\u001b[0m\u001b[1;33m\u001b[0m\u001b[1;33m\u001b[0m\u001b[0m\n\u001b[0;32m    985\u001b[0m \u001b[1;33m\u001b[0m\u001b[0m\n\u001b[1;32m--> 986\u001b[1;33m       \u001b[0mfunc_outputs\u001b[0m \u001b[1;33m=\u001b[0m \u001b[0mpython_func\u001b[0m\u001b[1;33m(\u001b[0m\u001b[1;33m*\u001b[0m\u001b[0mfunc_args\u001b[0m\u001b[1;33m,\u001b[0m \u001b[1;33m**\u001b[0m\u001b[0mfunc_kwargs\u001b[0m\u001b[1;33m)\u001b[0m\u001b[1;33m\u001b[0m\u001b[1;33m\u001b[0m\u001b[0m\n\u001b[0m\u001b[0;32m    987\u001b[0m \u001b[1;33m\u001b[0m\u001b[0m\n\u001b[0;32m    988\u001b[0m       \u001b[1;31m# invariant: `func_outputs` contains only Tensors, CompositeTensors,\u001b[0m\u001b[1;33m\u001b[0m\u001b[1;33m\u001b[0m\u001b[1;33m\u001b[0m\u001b[0m\n",
      "\u001b[1;32mE:\\ProgramData\\Anaconda3\\lib\\site-packages\\tensorflow\\python\\eager\\def_function.py\u001b[0m in \u001b[0;36mwrapped_fn\u001b[1;34m(*args, **kwds)\u001b[0m\n\u001b[0;32m    598\u001b[0m         \u001b[1;31m# __wrapped__ allows AutoGraph to swap in a converted function. We give\u001b[0m\u001b[1;33m\u001b[0m\u001b[1;33m\u001b[0m\u001b[1;33m\u001b[0m\u001b[0m\n\u001b[0;32m    599\u001b[0m         \u001b[1;31m# the function a weak reference to itself to avoid a reference cycle.\u001b[0m\u001b[1;33m\u001b[0m\u001b[1;33m\u001b[0m\u001b[1;33m\u001b[0m\u001b[0m\n\u001b[1;32m--> 600\u001b[1;33m         \u001b[1;32mreturn\u001b[0m \u001b[0mweak_wrapped_fn\u001b[0m\u001b[1;33m(\u001b[0m\u001b[1;33m)\u001b[0m\u001b[1;33m.\u001b[0m\u001b[0m__wrapped__\u001b[0m\u001b[1;33m(\u001b[0m\u001b[1;33m*\u001b[0m\u001b[0margs\u001b[0m\u001b[1;33m,\u001b[0m \u001b[1;33m**\u001b[0m\u001b[0mkwds\u001b[0m\u001b[1;33m)\u001b[0m\u001b[1;33m\u001b[0m\u001b[1;33m\u001b[0m\u001b[0m\n\u001b[0m\u001b[0;32m    601\u001b[0m     \u001b[0mweak_wrapped_fn\u001b[0m \u001b[1;33m=\u001b[0m \u001b[0mweakref\u001b[0m\u001b[1;33m.\u001b[0m\u001b[0mref\u001b[0m\u001b[1;33m(\u001b[0m\u001b[0mwrapped_fn\u001b[0m\u001b[1;33m)\u001b[0m\u001b[1;33m\u001b[0m\u001b[1;33m\u001b[0m\u001b[0m\n\u001b[0;32m    602\u001b[0m \u001b[1;33m\u001b[0m\u001b[0m\n",
      "\u001b[1;32mE:\\ProgramData\\Anaconda3\\lib\\site-packages\\tensorflow\\python\\framework\\func_graph.py\u001b[0m in \u001b[0;36mwrapper\u001b[1;34m(*args, **kwargs)\u001b[0m\n\u001b[0;32m    971\u001b[0m           \u001b[1;32mexcept\u001b[0m \u001b[0mException\u001b[0m \u001b[1;32mas\u001b[0m \u001b[0me\u001b[0m\u001b[1;33m:\u001b[0m  \u001b[1;31m# pylint:disable=broad-except\u001b[0m\u001b[1;33m\u001b[0m\u001b[1;33m\u001b[0m\u001b[0m\n\u001b[0;32m    972\u001b[0m             \u001b[1;32mif\u001b[0m \u001b[0mhasattr\u001b[0m\u001b[1;33m(\u001b[0m\u001b[0me\u001b[0m\u001b[1;33m,\u001b[0m \u001b[1;34m\"ag_error_metadata\"\u001b[0m\u001b[1;33m)\u001b[0m\u001b[1;33m:\u001b[0m\u001b[1;33m\u001b[0m\u001b[1;33m\u001b[0m\u001b[0m\n\u001b[1;32m--> 973\u001b[1;33m               \u001b[1;32mraise\u001b[0m \u001b[0me\u001b[0m\u001b[1;33m.\u001b[0m\u001b[0mag_error_metadata\u001b[0m\u001b[1;33m.\u001b[0m\u001b[0mto_exception\u001b[0m\u001b[1;33m(\u001b[0m\u001b[0me\u001b[0m\u001b[1;33m)\u001b[0m\u001b[1;33m\u001b[0m\u001b[1;33m\u001b[0m\u001b[0m\n\u001b[0m\u001b[0;32m    974\u001b[0m             \u001b[1;32melse\u001b[0m\u001b[1;33m:\u001b[0m\u001b[1;33m\u001b[0m\u001b[1;33m\u001b[0m\u001b[0m\n\u001b[0;32m    975\u001b[0m               \u001b[1;32mraise\u001b[0m\u001b[1;33m\u001b[0m\u001b[1;33m\u001b[0m\u001b[0m\n",
      "\u001b[1;31mValueError\u001b[0m: in user code:\n\n    E:\\ProgramData\\Anaconda3\\lib\\site-packages\\tensorflow\\python\\keras\\engine\\training.py:1462 predict_function  *\n        return step_function(self, iterator)\n    E:\\ProgramData\\Anaconda3\\lib\\site-packages\\tensorflow\\python\\keras\\engine\\training.py:1452 step_function  **\n        outputs = model.distribute_strategy.run(run_step, args=(data,))\n    E:\\ProgramData\\Anaconda3\\lib\\site-packages\\tensorflow\\python\\distribute\\distribute_lib.py:1211 run\n        return self._extended.call_for_each_replica(fn, args=args, kwargs=kwargs)\n    E:\\ProgramData\\Anaconda3\\lib\\site-packages\\tensorflow\\python\\distribute\\distribute_lib.py:2585 call_for_each_replica\n        return self._call_for_each_replica(fn, args, kwargs)\n    E:\\ProgramData\\Anaconda3\\lib\\site-packages\\tensorflow\\python\\distribute\\distribute_lib.py:2945 _call_for_each_replica\n        return fn(*args, **kwargs)\n    E:\\ProgramData\\Anaconda3\\lib\\site-packages\\tensorflow\\python\\keras\\engine\\training.py:1445 run_step  **\n        outputs = model.predict_step(data)\n    E:\\ProgramData\\Anaconda3\\lib\\site-packages\\tensorflow\\python\\keras\\engine\\training.py:1418 predict_step\n        return self(x, training=False)\n    E:\\ProgramData\\Anaconda3\\lib\\site-packages\\tensorflow\\python\\keras\\engine\\base_layer.py:985 __call__\n        outputs = call_fn(inputs, *args, **kwargs)\n    E:\\ProgramData\\Anaconda3\\lib\\site-packages\\tensorflow\\python\\keras\\engine\\functional.py:386 call\n        inputs, training=training, mask=mask)\n    E:\\ProgramData\\Anaconda3\\lib\\site-packages\\tensorflow\\python\\keras\\engine\\functional.py:508 _run_internal_graph\n        outputs = node.layer(*args, **kwargs)\n    E:\\ProgramData\\Anaconda3\\lib\\site-packages\\tensorflow\\python\\keras\\engine\\base_layer.py:976 __call__\n        self.name)\n    E:\\ProgramData\\Anaconda3\\lib\\site-packages\\tensorflow\\python\\keras\\engine\\input_spec.py:180 assert_input_compatibility\n        str(x.shape.as_list()))\n\n    ValueError: Input 0 of layer max_pooling2d is incompatible with the layer: expected ndim=4, found ndim=2. Full shape received: [None, 232]\n"
     ]
    }
   ],
   "source": [
    "y_pred=model.predict(X2)\n",
    "metrics.confusion_matrix(np.argmax(Y2,axis=1),np.argmax(y_pred,axis=1))"
   ]
  },
  {
   "cell_type": "code",
   "execution_count": 166,
   "metadata": {},
   "outputs": [
    {
     "name": "stdout",
     "output_type": "stream",
     "text": [
      "test:0.966549\n",
      "train:1.000000\n",
      "train: \n",
      " [[1503    0    0]\n",
      " [   0 3425    0]\n",
      " [   0    0 1884]]\n",
      "test: \n",
      " [[371  10  10]\n",
      " [ 15 823   8]\n",
      " [  9   5 453]]\n"
     ]
    }
   ],
   "source": [
    "y_pred_t=model.predict(X_test)\n",
    "test = metrics.accuracy_score(np.argmax(y_test,axis=1),np.argmax(y_pred_t,axis=1))\n",
    "#y_pred_v=model.predict(x_valid)\n",
    "#valid = metrics.accuracy_score(np.argmax(y_valid,axis=1),np.argmax(y_pred_v,axis=1))\n",
    "y_pred_ta=model.predict(X_full)\n",
    "train = metrics.accuracy_score(np.argmax(y_full,axis=1),np.argmax(y_pred_ta,axis=1))\n",
    "print('test:%f'%test)\n",
    "#print('valid:%f'%valid)\n",
    "print('train:%f'%train)\n",
    "print('train: \\n',metrics.confusion_matrix(np.argmax(y_full,axis=1),np.argmax(y_pred_ta,axis=1)))\n",
    "#print('valid: \\n',metrics.confusion_matrix(np.argmax(y_valid,axis=1),np.argmax(y_pred_v,axis=1)))\n",
    "print('test: \\n',metrics.confusion_matrix(np.argmax(y_test,axis=1),np.argmax(y_pred_t,axis=1)))"
   ]
  },
  {
   "cell_type": "code",
   "execution_count": 42,
   "metadata": {},
   "outputs": [],
   "source": [
    "#model.save('./model/cnn3.h5')"
   ]
  },
  {
   "cell_type": "code",
   "execution_count": 72,
   "metadata": {},
   "outputs": [
    {
     "data": {
      "text/plain": [
       "<matplotlib.contour.QuadContourSet at 0x2dc8fb05608>"
      ]
     },
     "execution_count": 72,
     "metadata": {},
     "output_type": "execute_result"
    },
    {
     "data": {
      "image/png": "[encoded data removed]",
      "text/plain": [
       "<Figure size 432x288 with 1 Axes>"
      ]
     },
     "metadata": {
      "needs_background": "light"
     },
     "output_type": "display_data"
    }
   ],
   "source": [
    "t = np.arange(0,256)\n",
    "f=np.array([500.   , 484.375, 468.75 , 453.125, 437.5  , 421.875, 406.25 ,\n",
    "       390.625, 375.   , 359.375, 343.75 , 328.125, 312.5  , 296.875,\n",
    "       281.25 , 265.625, 250.   , 234.375, 218.75 , 203.125, 187.5  ,\n",
    "       171.875, 156.25 , 140.625, 125.   , 109.375,  93.75 ,  78.125,\n",
    "        62.5  ,  46.875,  31.25,32 ])\n",
    "plt.contourf(t, f, abs(X_full[381,:,:,2]))"
   ]
  },
  {
   "cell_type": "code",
   "execution_count": null,
   "metadata": {},
   "outputs": [],
   "source": []
  }
 ],
 "metadata": {
  "kernelspec": {
   "display_name": "Python 3",
   "language": "python",
   "name": "python3"
  },
  "language_info": {
   "codemirror_mode": {
    "name": "ipython",
    "version": 3
   },
   "file_extension": ".py",
   "mimetype": "text/x-python",
   "name": "python",
   "nbconvert_exporter": "python",
   "pygments_lexer": "ipython3",
   "version": "3.7.6"
  }
 },
 "nbformat": 4,
 "nbformat_minor": 4
}
