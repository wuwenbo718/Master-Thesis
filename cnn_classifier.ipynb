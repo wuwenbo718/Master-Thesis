{
 "cells": [
  {
   "cell_type": "code",
   "execution_count": 1,
   "metadata": {},
   "outputs": [],
   "source": [
    "import numpy as np\n",
    "import pandas as pd\n",
    "from sklearn.preprocessing import StandardScaler, MinMaxScaler\n",
    "from scipy import signal\n",
    "import seaborn as sns\n",
    "import matplotlib.pyplot as plt\n",
    "import pywt\n",
    "import os\n",
    "import time"
   ]
  },
  {
   "cell_type": "code",
   "execution_count": 2,
   "metadata": {},
   "outputs": [
    {
     "name": "stdout",
     "output_type": "stream",
     "text": [
      ".\\data\\G04_FoG_trial_1_emg.csv\n",
      ".\\data\\G04_FoG_trial_2_emg.csv\n",
      ".\\data\\G06_FoG_trial_1_emg.csv\n",
      ".\\data\\G06_FoG_trial_2_emg.csv\n",
      ".\\data\\G06_FoG_trial_3_emg.csv\n",
      ".\\data\\G07_Freezing_Trial1_trial_1_emg.csv\n",
      ".\\data\\G08_FoG_1_trial_1_emg.csv\n",
      ".\\data\\G08_FoG_2_trial_1_emg.csv\n",
      ".\\data\\G11_FoG_trial_1_emg.csv\n",
      ".\\data\\G11_FoG_trial_2_emg.csv\n",
      ".\\data\\labels.txt\n",
      ".\\data\\P379_M050_2_OFF_A_FoG_trial_1_emg.csv\n",
      ".\\data\\P379_M050_2_OFF_A_FoG_trial_2_emg.csv\n",
      ".\\data\\P379_M050_2_OFF_A_FoG_trial_3_emg.csv\n",
      ".\\data\\P379_M050_2_OFF_B_FoG_trial_1_emg.csv\n",
      ".\\data\\P379_M050_2_OFF_B_FoG_trial_2_emg.csv\n",
      ".\\data\\P379_M050_2_OFF_B_FoG_trial_3_emg.csv\n",
      ".\\data\\P551_M050_2_A_FoG_trial_1_emg.csv\n",
      ".\\data\\P551_M050_2_B_FoG_trial_1_emg.csv\n",
      ".\\data\\P551_M050_2_B_FoG_trial_2_emg.csv\n",
      ".\\data\\P812_M050_2_B_FoG_trial1_annotation.csv\n",
      ".\\data\\P812_M050_2_B_FoG_trials.mat\n",
      ".\\data\\P812_M050_2_B_FoG_trial_1_emg.csv\n",
      ".\\data\\P812_M050_2_B_FoG_trial_1_out_left_foot.csv\n",
      ".\\data\\P812_M050_2_B_FoG_trial_1_out_lower_left_foot.csv\n",
      ".\\data\\P812_M050_2_B_FoG_trial_1_out_lower_right_foot.csv\n",
      ".\\data\\P812_M050_2_B_FoG_trial_1_out_right_foot.csv\n",
      ".\\data\\P812_M050_2_B_FoG_trial_2_emg.csv\n",
      ".\\data\\P812_M050_2_B_FoG_trial_2_out_left_foot.csv\n",
      ".\\data\\P812_M050_2_B_FoG_trial_2_out_lower_left_foot.csv\n",
      ".\\data\\P812_M050_2_B_FoG_trial_2_out_lower_right_foot.csv\n",
      ".\\data\\P812_M050_2_B_FoG_trial_2_out_right_foot.csv\n",
      ".\\data\\P812_M50_2_B_FoG_trial2_annotation.csv\n"
     ]
    }
   ],
   "source": [
    "for dirname, _, filenames in os.walk('.\\data'):\n",
    "    for filename in filenames:\n",
    "        print(os.path.join(dirname,filename))"
   ]
  },
  {
   "cell_type": "code",
   "execution_count": 241,
   "metadata": {},
   "outputs": [],
   "source": [
    "emg_data = pd.read_csv('.\\data\\P812_M050_2_B_FoG_trial_1_emg.csv')\n",
    "emg_data2 = pd.read_csv('.\\data\\P379_M050_2_OFF_A_FoG_trial_1_emg.csv')\n",
    "emg_data3 = pd.read_csv('.\\data\\P812_M050_2_B_FoG_trial_2_emg.csv')"
   ]
  },
  {
   "cell_type": "code",
   "execution_count": 75,
   "metadata": {},
   "outputs": [
    {
     "data": {
      "text/plain": [
       "0    16143\n",
       "2     4962\n",
       "1      721\n",
       "Name: Label2, dtype: int64"
      ]
     },
     "execution_count": 75,
     "metadata": {},
     "output_type": "execute_result"
    }
   ],
   "source": [
    "emg_data3.Label2.value_counts()"
   ]
  },
  {
   "cell_type": "code",
   "execution_count": 243,
   "metadata": {
    "scrolled": true
   },
   "outputs": [
    {
     "data": {
      "text/plain": [
       "Time        0\n",
       "Label1      0\n",
       "Label2      0\n",
       "LEFT_TA     0\n",
       "LEFT_TS     0\n",
       "LEFT_BF     0\n",
       "LEFT_RF     0\n",
       "RIGHT_TA    0\n",
       "RIGHT_TS    0\n",
       "RIGHT_BF    0\n",
       "RIGHT_RF    0\n",
       "dtype: int64"
      ]
     },
     "execution_count": 243,
     "metadata": {},
     "output_type": "execute_result"
    }
   ],
   "source": [
    "emg_data = emg_data.fillna({'LEFT_BF':emg_data.LEFT_BF.mean(),\n",
    "                           'LEFT_RF':emg_data.LEFT_RF.mean(),\n",
    "                           'RIGHT_TA':emg_data.RIGHT_TA.mean(),\n",
    "                           'RIGHT_TS':emg_data.RIGHT_TS.mean(),\n",
    "                           'RIGHT_BF':emg_data.RIGHT_BF.mean(),\n",
    "                           'RIGHT_RF':emg_data.RIGHT_RF.mean()})\n",
    "emg_data.isna().sum()"
   ]
  },
  {
   "cell_type": "code",
   "execution_count": 244,
   "metadata": {},
   "outputs": [
    {
     "data": {
      "text/plain": [
       "Time        0\n",
       "Label1      0\n",
       "Label2      0\n",
       "LEFT_TA     0\n",
       "LEFT_TS     0\n",
       "LEFT_BF     0\n",
       "LEFT_RF     0\n",
       "RIGHT_TA    0\n",
       "RIGHT_TS    0\n",
       "RIGHT_BF    0\n",
       "RIGHT_RF    0\n",
       "dtype: int64"
      ]
     },
     "execution_count": 244,
     "metadata": {},
     "output_type": "execute_result"
    }
   ],
   "source": [
    "emg_data2 = emg_data2.fillna({'RIGHT_TA':emg_data2.RIGHT_TA.mean()})\n",
    "emg_data2.isna().sum()"
   ]
  },
  {
   "cell_type": "code",
   "execution_count": 242,
   "metadata": {},
   "outputs": [
    {
     "data": {
      "text/plain": [
       "Time        0\n",
       "Label1      0\n",
       "Label2      0\n",
       "LEFT_TA     0\n",
       "LEFT_TS     0\n",
       "LEFT_BF     0\n",
       "LEFT_RF     0\n",
       "RIGHT_TA    0\n",
       "RIGHT_TS    0\n",
       "RIGHT_BF    0\n",
       "RIGHT_RF    0\n",
       "dtype: int64"
      ]
     },
     "execution_count": 242,
     "metadata": {},
     "output_type": "execute_result"
    }
   ],
   "source": [
    "emg_data3 = emg_data3.fillna({'LEFT_BF':emg_data3.LEFT_BF.mean(),\n",
    "                           'LEFT_RF':emg_data3.LEFT_RF.mean(),\n",
    "                           'RIGHT_TA':emg_data3.RIGHT_TA.mean(),\n",
    "                           'RIGHT_TS':emg_data3.RIGHT_TS.mean(),\n",
    "                           'RIGHT_BF':emg_data3.RIGHT_BF.mean(),\n",
    "                           'RIGHT_RF':emg_data3.RIGHT_RF.mean()})\n",
    "emg_data3.isna().sum()"
   ]
  },
  {
   "cell_type": "code",
   "execution_count": 245,
   "metadata": {},
   "outputs": [],
   "source": [
    "def scale_data(data,scaler):\n",
    "    X = data.iloc[:,3:]\n",
    "    X = sc.fit_transform(X)\n",
    "    data.iloc[:,3:] = X\n",
    "    return data\n",
    "\n",
    "def generate_window_slide_data(data,width = 256,stride = 32):\n",
    "    l = len(data)\n",
    "    end = (l-width)//stride+1\n",
    "    X = []\n",
    "    Y = []\n",
    "    sc = StandardScaler(with_mean=False)\n",
    "    for i in range(end):\n",
    "        if len(set(data.Label2[i*stride:i*stride+width])) == 1:\n",
    "                Y += [data.Label2[i*stride]]\n",
    "                #x_sc = sc.fit_transform(np.array(data.iloc[i*stride:i*stride+width,3:]))\n",
    "                #X += [x_sc]\n",
    "                X += [np.array(data.iloc[i*stride:i*stride+width,3:])]\n",
    "            #print(set(data.Label2[i*stride:i*stride+width]))\n",
    "        else:\n",
    "            #print(set(data.Label2[i*stride:i*stride+width]))\n",
    "            continue\n",
    "    return np.array(X,dtype=np.float32),np.array(Y,dtype=np.uint8)\n",
    "\n",
    "#def generate_CWT_feature(data,widths=260,wavelet = signal.ricker):\n",
    "#    n,t,c = data.shape\n",
    "#    cwtmatr = np.zeros((n,widths,t,c))\n",
    "#    for i in range(n):\n",
    "#        for j in range(c):\n",
    "#            cwtmatr[i,:,:,j] = signal.cwt(data[i,:,j],wavelet,np.arange(1,widths+1))\n",
    "#    return cwtmatr\n",
    "\n",
    "\n",
    "def generate_CWT_feature(data,widths=260,wavelet = 'mexh'):\n",
    "    n,t,c = data.shape\n",
    "    cwtmatr = np.zeros((n,widths,t,c))\n",
    "    for i in range(n):\n",
    "        for j in range(c):\n",
    "            cwtmatr[i,:,:,j],_ = pywt.cwt(data[i,:,j],np.arange(1,widths+1),wavelet)\n",
    "    return cwtmatr"
   ]
  },
  {
   "cell_type": "code",
   "execution_count": 204,
   "metadata": {},
   "outputs": [],
   "source": [
    "sc = StandardScaler()\n",
    "#sc.fit(emg_data.iloc[:,3:])\n",
    "emg_data_sc = scale_data(emg_data,sc)\n",
    "emg_data_sc2 = scale_data(emg_data3,sc)\n",
    "#emg_data_sc.iloc[:,8].plot()"
   ]
  },
  {
   "cell_type": "code",
   "execution_count": 260,
   "metadata": {},
   "outputs": [],
   "source": [
    "width = 256\n",
    "stride = 32\n",
    "widths_scale = 32\n",
    "x,y = generate_window_slide_data(emg_data,width,stride)\n",
    "x2,y2 = generate_window_slide_data(emg_data2,width,stride)"
   ]
  },
  {
   "cell_type": "code",
   "execution_count": 261,
   "metadata": {},
   "outputs": [
    {
     "data": {
      "text/plain": [
       "2    39366\n",
       "0    25373\n",
       "1     7808\n",
       "3     4922\n",
       "4     2362\n",
       "Name: Label2, dtype: int64"
      ]
     },
     "execution_count": 261,
     "metadata": {},
     "output_type": "execute_result"
    }
   ],
   "source": [
    "emg_data.Label2.value_counts()"
   ]
  },
  {
   "cell_type": "code",
   "execution_count": 262,
   "metadata": {
    "scrolled": true
   },
   "outputs": [
    {
     "name": "stdout",
     "output_type": "stream",
     "text": [
      "duration: 15.472022\n"
     ]
    }
   ],
   "source": [
    "start = time.time()\n",
    "#cwtmatr = generate_CWT_feature(x,widths_scale,'mexh')\n",
    "cwtmatr2 = generate_CWT_feature(x2,widths_scale,'mexh')\n",
    "end = time.time()\n",
    "duration = end-start\n",
    "print('duration: %f'%(duration))"
   ]
  },
  {
   "cell_type": "code",
   "execution_count": 263,
   "metadata": {},
   "outputs": [
    {
     "data": {
      "text/plain": [
       "4276.8759765625"
      ]
     },
     "execution_count": 263,
     "metadata": {},
     "output_type": "execute_result"
    }
   ],
   "source": [
    "#cwtmatr=StandardScaler(cwtmatr)\n",
    "cwtmatr2.max()"
   ]
  },
  {
   "cell_type": "code",
   "execution_count": 252,
   "metadata": {},
   "outputs": [
    {
     "data": {
      "text/plain": [
       "['cgau1',\n",
       " 'cgau2',\n",
       " 'cgau3',\n",
       " 'cgau4',\n",
       " 'cgau5',\n",
       " 'cgau6',\n",
       " 'cgau7',\n",
       " 'cgau8',\n",
       " 'cmor',\n",
       " 'fbsp',\n",
       " 'gaus1',\n",
       " 'gaus2',\n",
       " 'gaus3',\n",
       " 'gaus4',\n",
       " 'gaus5',\n",
       " 'gaus6',\n",
       " 'gaus7',\n",
       " 'gaus8',\n",
       " 'mexh',\n",
       " 'morl',\n",
       " 'shan']"
      ]
     },
     "execution_count": 252,
     "metadata": {},
     "output_type": "execute_result"
    }
   ],
   "source": [
    "pywt.wavelist(kind='continuous')"
   ]
  },
  {
   "cell_type": "code",
   "execution_count": 9,
   "metadata": {},
   "outputs": [],
   "source": [
    "import h5py\n",
    "\n",
    "file = './processed data/P812_trial_1_W%d_S%d_WS%d_CWT.hdf5'%(width,stride,widths_scale)\n",
    "with h5py.File(file,'w') as f:\n",
    "    f.create_dataset('cwt_data',data=cwtmatr, maxshape=(None,260,260,8),\n",
    "                     chunks = True,dtype = np.float32)\n",
    "    f.create_dataset('label2',data=y, dtype = np.int8)"
   ]
  },
  {
   "cell_type": "code",
   "execution_count": 264,
   "metadata": {},
   "outputs": [
    {
     "data": {
      "image/png": "[encoded data removed]",
      "text/plain": [
       "<Figure size 432x288 with 1 Axes>"
      ]
     },
     "metadata": {
      "needs_background": "light"
     },
     "output_type": "display_data"
    }
   ],
   "source": [
    "plt.plot(x2[200,:,0])\n",
    "plt.grid(True)"
   ]
  },
  {
   "cell_type": "code",
   "execution_count": 265,
   "metadata": {},
   "outputs": [
    {
     "data": {
      "image/png": "[encoded data removed]",
      "text/plain": [
       "<Figure size 432x288 with 2 Axes>"
      ]
     },
     "metadata": {
      "needs_background": "light"
     },
     "output_type": "display_data"
    },
    {
     "name": "stdout",
     "output_type": "stream",
     "text": [
      "3\n"
     ]
    }
   ],
   "source": [
    "temp = 200\n",
    "channel = 0\n",
    "plt.imshow(cwtmatr[temp,:,:,channel], cmap='PRGn', aspect='auto',\n",
    "           vmax=abs(cwtmatr[temp,:,:,channel]).max(), \n",
    "           vmin=-abs(cwtmatr[temp,:,:,channel]).max())\n",
    "plt.colorbar()\n",
    "plt.show()\n",
    "print(y[temp])"
   ]
  },
  {
   "cell_type": "code",
   "execution_count": 156,
   "metadata": {
    "scrolled": true
   },
   "outputs": [],
   "source": [
    "#label = y[ind]\n",
    "#label[label==2]=1\n"
   ]
  },
  {
   "cell_type": "code",
   "execution_count": 14,
   "metadata": {},
   "outputs": [],
   "source": [
    "from tensorflow import keras\n",
    "from tensorflow.keras import layers\n",
    "from tensorflow.keras.models import save_model,load_model\n",
    "from tensorflow.keras import callbacks, Model\n",
    "from tensorflow.keras.losses import BinaryCrossentropy,CategoricalCrossentropy\n",
    "from tensorflow.keras.utils import plot_model\n",
    "from tensorflow.keras.initializers import TruncatedNormal\n",
    "from sklearn.preprocessing import OneHotEncoder\n",
    "from sklearn.model_selection import train_test_split\n",
    "from sklearn.metrics import precision_recall_curve,confusion_matrix\n",
    "import tensorflow as tf\n",
    "from tensorflow.keras import backend as K"
   ]
  },
  {
   "cell_type": "code",
   "execution_count": 253,
   "metadata": {},
   "outputs": [],
   "source": [
    "ind = ((y==0) | (y==2))\n",
    "y_02 = y[ind]\n",
    "y_02[y_02==2]=1\n",
    "X_full,X_test,y_full,y_test = train_test_split(cwtmatr[ind],y_02,test_size = 0.2,random_state=60)\n",
    "X_train,X_valid,y_train,y_valid= train_test_split(X_full,y_full,test_size = 0.2,random_state=60)"
   ]
  },
  {
   "cell_type": "code",
   "execution_count": 254,
   "metadata": {},
   "outputs": [],
   "source": [
    "input_ = layers.Input(shape=cwtmatr.shape[1:])\n",
    "#max_pool = layers.MaxPooling2D(2)(input_)\n",
    "bn = layers.BatchNormalization()(input_)\n",
    "conv1 = layers.Conv2D(128,5,strides=(2,2),kernel_initializer=TruncatedNormal(),activation='relu',padding='same')(bn)\n",
    "max_pool1 = layers.MaxPooling2D(2)(conv1)\n",
    "conv2 = layers.Conv2D(64,5,strides=(2,2),kernel_initializer=TruncatedNormal(),activation='relu',padding='same')(max_pool1)\n",
    "max_pool2 = layers.MaxPooling2D(2)(conv2)\n",
    "flatten = layers.Flatten()(max_pool2)\n",
    "#layer1 = Dense(256,activation = 'relu')(flatten)\n",
    "dropout1 = layers.Dropout(0.3)(flatten)\n",
    "layer2 = layers.Dense(128,activation = 'relu')(dropout1)\n",
    "dropout2 = layers.Dropout(0.3)(layer2)\n",
    "output = layers.Dense(2,activation = 'softmax')(dropout2)\n",
    "model = keras.Model(inputs=[input_],outputs=[output])"
   ]
  },
  {
   "cell_type": "code",
   "execution_count": 255,
   "metadata": {},
   "outputs": [],
   "source": [
    "#ind = ((y==0) | (y==2))\n",
    "#bce = CategoricalCrossentropy()\n",
    "model.compile(loss = 'sparse_categorical_crossentropy' ,optimizer='adam',metrics=['accuracy'])\n",
    "#oh_ec = OneHotEncoder()\n",
    "#label = oh_ec.fit_transform(K.eval(y)[ind,tf.newaxis]).toarray()"
   ]
  },
  {
   "cell_type": "code",
   "execution_count": 256,
   "metadata": {},
   "outputs": [],
   "source": [
    "early_stopping = callbacks.EarlyStopping(patience = 10,monitor = 'val_accuracy', restore_best_weights=True)"
   ]
  },
  {
   "cell_type": "code",
   "execution_count": 257,
   "metadata": {
    "scrolled": true
   },
   "outputs": [
    {
     "name": "stdout",
     "output_type": "stream",
     "text": [
      "Train on 1173 samples, validate on 294 samples\n",
      "Epoch 1/100\n",
      "1173/1173 [==============================] - 18s 15ms/sample - loss: 0.8040 - accuracy: 0.6164 - val_loss: 1.2158 - val_accuracy: 0.6463\n",
      "Epoch 2/100\n",
      "1173/1173 [==============================] - 15s 13ms/sample - loss: 0.5594 - accuracy: 0.6735 - val_loss: 0.6146 - val_accuracy: 0.6599\n",
      "Epoch 3/100\n",
      "1173/1173 [==============================] - 14s 12ms/sample - loss: 0.4875 - accuracy: 0.7451 - val_loss: 0.5511 - val_accuracy: 0.7449\n",
      "Epoch 4/100\n",
      "1173/1173 [==============================] - 14s 12ms/sample - loss: 0.4124 - accuracy: 0.8397 - val_loss: 0.6658 - val_accuracy: 0.7279\n",
      "Epoch 5/100\n",
      "1173/1173 [==============================] - 14s 12ms/sample - loss: 0.3455 - accuracy: 0.8593 - val_loss: 0.3755 - val_accuracy: 0.8469\n",
      "Epoch 6/100\n",
      "1173/1173 [==============================] - 17s 15ms/sample - loss: 0.2573 - accuracy: 0.9062 - val_loss: 0.3610 - val_accuracy: 0.8673\n",
      "Epoch 7/100\n",
      "1173/1173 [==============================] - 15s 13ms/sample - loss: 0.2288 - accuracy: 0.9096 - val_loss: 0.5123 - val_accuracy: 0.8265\n",
      "Epoch 8/100\n",
      "1173/1173 [==============================] - 14s 12ms/sample - loss: 0.1957 - accuracy: 0.9216 - val_loss: 0.2702 - val_accuracy: 0.8912\n",
      "Epoch 9/100\n",
      "1173/1173 [==============================] - 14s 12ms/sample - loss: 0.1377 - accuracy: 0.9420 - val_loss: 0.2908 - val_accuracy: 0.8946\n",
      "Epoch 10/100\n",
      "1173/1173 [==============================] - 14s 12ms/sample - loss: 0.1634 - accuracy: 0.9352 - val_loss: 0.2719 - val_accuracy: 0.8980\n",
      "Epoch 11/100\n",
      "1173/1173 [==============================] - 14s 12ms/sample - loss: 0.1112 - accuracy: 0.9574 - val_loss: 0.2335 - val_accuracy: 0.9048\n",
      "Epoch 12/100\n",
      "1173/1173 [==============================] - 14s 12ms/sample - loss: 0.1063 - accuracy: 0.9650 - val_loss: 0.5637 - val_accuracy: 0.8265\n",
      "Epoch 13/100\n",
      "1173/1173 [==============================] - 14s 12ms/sample - loss: 0.1348 - accuracy: 0.9471 - val_loss: 0.2635 - val_accuracy: 0.8946\n",
      "Epoch 14/100\n",
      "1173/1173 [==============================] - 14s 12ms/sample - loss: 0.0833 - accuracy: 0.9719 - val_loss: 0.2444 - val_accuracy: 0.8980\n",
      "Epoch 15/100\n",
      "1173/1173 [==============================] - 15s 13ms/sample - loss: 0.0608 - accuracy: 0.9778 - val_loss: 0.2243 - val_accuracy: 0.9252\n",
      "Epoch 16/100\n",
      "1173/1173 [==============================] - 14s 12ms/sample - loss: 0.0824 - accuracy: 0.9710 - val_loss: 0.1896 - val_accuracy: 0.9388\n",
      "Epoch 17/100\n",
      "1173/1173 [==============================] - 14s 12ms/sample - loss: 0.0549 - accuracy: 0.9864 - val_loss: 0.2707 - val_accuracy: 0.9286\n",
      "Epoch 18/100\n",
      "1173/1173 [==============================] - 14s 12ms/sample - loss: 0.0617 - accuracy: 0.9821 - val_loss: 0.2300 - val_accuracy: 0.9150\n",
      "Epoch 19/100\n",
      "1173/1173 [==============================] - 14s 12ms/sample - loss: 0.0488 - accuracy: 0.9864 - val_loss: 0.1570 - val_accuracy: 0.9490\n",
      "Epoch 20/100\n",
      "1173/1173 [==============================] - 14s 12ms/sample - loss: 0.0405 - accuracy: 0.9898 - val_loss: 0.1742 - val_accuracy: 0.9490\n",
      "Epoch 21/100\n",
      "1173/1173 [==============================] - 15s 13ms/sample - loss: 0.0831 - accuracy: 0.9676 - val_loss: 0.1896 - val_accuracy: 0.9286\n",
      "Epoch 22/100\n",
      "1173/1173 [==============================] - 14s 12ms/sample - loss: 0.0846 - accuracy: 0.9685 - val_loss: 0.1337 - val_accuracy: 0.9388\n",
      "Epoch 23/100\n",
      "1173/1173 [==============================] - 14s 12ms/sample - loss: 0.0633 - accuracy: 0.9753 - val_loss: 0.1998 - val_accuracy: 0.9184\n",
      "Epoch 24/100\n",
      "1173/1173 [==============================] - 14s 12ms/sample - loss: 0.0419 - accuracy: 0.9881 - val_loss: 0.2170 - val_accuracy: 0.9354\n",
      "Epoch 25/100\n",
      "1173/1173 [==============================] - 14s 12ms/sample - loss: 0.0251 - accuracy: 0.9932 - val_loss: 0.2057 - val_accuracy: 0.9354\n",
      "Epoch 26/100\n",
      "1173/1173 [==============================] - 14s 12ms/sample - loss: 0.0258 - accuracy: 0.9889 - val_loss: 0.1443 - val_accuracy: 0.9490\n",
      "Epoch 27/100\n",
      "1173/1173 [==============================] - 14s 12ms/sample - loss: 0.0541 - accuracy: 0.9847 - val_loss: 0.1974 - val_accuracy: 0.9320\n",
      "Epoch 28/100\n",
      "1173/1173 [==============================] - 16s 14ms/sample - loss: 0.0495 - accuracy: 0.9838 - val_loss: 0.3579 - val_accuracy: 0.8844\n",
      "Epoch 29/100\n",
      "1173/1173 [==============================] - 17s 15ms/sample - loss: 0.0502 - accuracy: 0.9804 - val_loss: 0.2125 - val_accuracy: 0.9320\n"
     ]
    }
   ],
   "source": [
    "history = model.fit(X_train,y_train,validation_data=[X_valid,y_valid],\n",
    "                    epochs=100,batch_size=50,\n",
    "                   callbacks=[early_stopping])"
   ]
  },
  {
   "cell_type": "code",
   "execution_count": 258,
   "metadata": {},
   "outputs": [
    {
     "name": "stdout",
     "output_type": "stream",
     "text": [
      "\r",
      "367/1 [==================================================================================================================================================================================================================================================================================================================================================================================================================================================================================================================================================================================================================================================================================================================================================================================================================================================================================================================================================================================================================================================================================================================================================================================================================================================================================================================================================================================================================================================================================================================================================================================================================================================================================================================================================================================================================================================================================================================================================================================================================================================================================================================================================================================================================================================================================================================================================================================================================================================================================================================================================================================================================================================================================================================================================================================================================================================================================================================================================================================================================================================================================================================================================================================================================================================================================================================================================================================================================================================================================================================================================================================================================================================================================================================================================================================================================================================================================================================================================================================================================================================================================================================================================================================================================================================================================================================================================================================================================================================================================================================================================================================================================================================================================================================================================================================================================================================================================================================================================================================================================================================================================================================================================================================================================================================================================================================================================================================================================================================================================================================================================================================================================================================================================================================================================================================================================================================================================================================================================================================================================================================================================================================================================================================================================================================================================================================================================================================================================================================================================================================================================================================================================================================================================================================================================================================================================================================================================================================================================================================================================================================================================================================================================================================================================================================================================================================================================================================================================================================================================================================================================================================================================================================================================================================================================================================================================================================================================================================================================================================================================================================================================================================================================================================================================================================================================================================================================================================================================================================================================================================================================================================================================================================================================================================================================================================================================================================================================================================================================================================================================================================================================================================================================================================================================================================================================================================================================================================================================================================================================================================================================================================================================================================================================================================================================================================================================================================================================================================================================================================================================================================================================================================================================================================================================================================================================================================================================================================================================================================================================================================================================================================================================================================================================================================================================================================================================================================================================================================================================================================================================================================================================================================================================================================================================================================================================================================================================================================================================================================================] - 1s 3ms/sample - loss: 0.1421 - accuracy: 0.9564\n"
     ]
    },
    {
     "data": {
      "text/plain": [
       "[0.14391287544117962, 0.95640326]"
      ]
     },
     "execution_count": 258,
     "metadata": {},
     "output_type": "execute_result"
    }
   ],
   "source": [
    "model.evaluate(X_test,y_test)"
   ]
  },
  {
   "cell_type": "code",
   "execution_count": 228,
   "metadata": {},
   "outputs": [],
   "source": [
    "y_pred = model.predict(X_full)\n",
    "oh_ec = OneHotEncoder()\n",
    "label = oh_ec.fit_transform(y_full[:,np.newaxis]).toarray()\n",
    "precision, recall, threshold = precision_recall_curve(label[:,0],y_pred[:,0])"
   ]
  },
  {
   "cell_type": "code",
   "execution_count": 229,
   "metadata": {},
   "outputs": [
    {
     "data": {
      "text/plain": [
       "array([[522,   3],\n",
       "       [  7, 935]], dtype=int64)"
      ]
     },
     "execution_count": 229,
     "metadata": {},
     "output_type": "execute_result"
    },
    {
     "data": {
      "image/png": "[encoded data removed]",
      "text/plain": [
       "<Figure size 432x288 with 1 Axes>"
      ]
     },
     "metadata": {
      "needs_background": "light"
     },
     "output_type": "display_data"
    }
   ],
   "source": [
    "plt.plot(recall,precision)\n",
    "confusion_matrix(y_full,np.where(y_pred<0.5,1,0)[:,0])"
   ]
  },
  {
   "cell_type": "code",
   "execution_count": 231,
   "metadata": {},
   "outputs": [
    {
     "data": {
      "text/plain": [
       "[<matplotlib.lines.Line2D at 0x26855bf5f08>]"
      ]
     },
     "execution_count": 231,
     "metadata": {},
     "output_type": "execute_result"
    },
    {
     "data": {
      "image/png": "[encoded data removed]",
      "text/plain": [
       "<Figure size 432x288 with 1 Axes>"
      ]
     },
     "metadata": {
      "needs_background": "light"
     },
     "output_type": "display_data"
    }
   ],
   "source": [
    "plt.plot(threshold,precision[:-1])\n",
    "plt.plot(threshold,recall[:-1])"
   ]
  },
  {
   "cell_type": "code",
   "execution_count": 266,
   "metadata": {},
   "outputs": [
    {
     "name": "stdout",
     "output_type": "stream",
     "text": [
      "\r",
      "700/1 [========================================================================================================================================================================================================================================================================================================================================================================================================================================================================================================================================================================================================================================================================================================================================================================================================================================================================================================================================================================================================================================================================================================================================================================================================================================================================================================================================================================================================================================================================================================================================================================================================================================================================================================================================================================================================================================================================================================================================================================================================================================================================================================================================================================================================================================================================================================================================================================================================================================================================================================================================================================================================================================================================================================================================================================================================================================================================================================================================================================================================================================================================================================================================================================================================================================================================================================================================================================================================================================================================================================================================================================================================================================================================================================================================================================================================================================================================================================================================================================================================================================================================================================================================================================================================================================================================================================================================================================================================================================================================================================================================================================================================================================================================================================================================================================================================================================================================================================================================================================================================================================================================================================================================================================================================================================================================================================================================================================================================================================================================================================================================================================================================================================================================================================================================================================================================================================================================================================================================================================================================================================================================================================================================================================================================================================================================================================================================================================================================================================================================================================================================================================================================================================================================================================================================================================================================================================================================================================================================================================================================================================================================================================================================================================================================================================================================================================================================================================================================================================================================================================================================================================================================================================================================================================================================================================================================================================================================================================================================================================================================================================================================================================================================================================================================================================================================================================================================================================================================================================================================================================================================================================================================================================================================================================================================================================================================================================================================================================================================================================================================================================================================================================================================================================================================================================================================================================================================================================================================================================================================================================================================================================================================================================================================================================================================================================================================================================================================================================================================================================================================================================================================================================================================================================================================================================================================================================================================================================================================================================================================================================================================================================================================================================================================================================================================================================================================================================================================================================================================================================================================================================================================================================================================================================================================================================================================================================================================================================================================================================================================================================================================================================================================================================================================================================================================================================================================================================================================================================================================================================================================================================================================================================================================================================================================================================================================================================================================================================================================================================================================================================================================================================================================================================================================================================================================================================================================================================================================================================================================================================================================================================================================================================================================================================================================================================================================================================================================================================================================================================================================================================================================================================================================================================================================================================================================================================================================================================================================================================================================================================================================================================================================================================================================================================================================================================================================================================================================================================================================================================================================================================================================================================================================================================================================================================================================================================================================================================================================================================================================================================================================================================================================================================================================================================================================================================================================================================================================================================================================================================================================================================================================================================================================================================================================================================================================================================================================================================================================================================================================================================================================================================================================================================================================================================================================================================================================================================================================================================================================================================================================================================================================================================================================================================================================================================================================================================================================================================================================================================================================================================================================================================================================================================================================================================================================================================================================================================================================================================================================================================================================================================================================================================================================================================================================================================================================================================================================================================================================================================================================================================================================================================================================================================================================================================================================================================================================================================================================================================================================================================================================================================================================================================================================================================================================================================================================================================================================================================================================================================================================================================================================================================================================================================================================================================================================================================================================================================================================================================================================================================================================================================================================================================================================================================================================================================================================================================================================================================================================================================================================================================================================================================================================================================================================================================================================================================================================================================================================================================================================================================================================================================================================================================================================================================================================================================================================================================================================================================================================================================================================================================================================================================================================================================================================================================================================================================================================================================================================================================================================================================================================================================================================================================================================================================================================================================================================================================================================================================================================] - 2s 2ms/sample - loss: 2.4510 - accuracy: 0.6386\n"
     ]
    },
    {
     "data": {
      "text/plain": [
       "[4.900847364882939, 0.63857144]"
      ]
     },
     "execution_count": 266,
     "metadata": {},
     "output_type": "execute_result"
    }
   ],
   "source": [
    "#model = load_model('./model/Mexh_W256_S32_WS32.h5')\n",
    "ind = (y2==0)|(y2==2)\n",
    "y_02=y2[ind]\n",
    "y_02[y_02==2]=1\n",
    "model.evaluate(cwtmatr2[ind],y_02)"
   ]
  },
  {
   "cell_type": "code",
   "execution_count": 151,
   "metadata": {},
   "outputs": [
    {
     "data": {
      "text/plain": [
       "array([0, 0, 0, 0, 0, 0, 0, 0, 0, 0, 0, 0, 0, 0, 0, 0, 0, 0, 0, 0, 0, 0,\n",
       "       0, 0, 0, 0, 0, 0, 0, 0, 0, 0, 0, 0, 0, 0, 0, 0, 0, 0, 0, 0, 0, 0,\n",
       "       0, 0, 0, 0, 0, 0, 0, 0, 0, 2, 2, 2, 2, 2, 2, 2, 2, 2, 2, 2, 2, 2,\n",
       "       2, 2, 2, 2, 2, 2, 2, 2, 2, 2, 2, 2, 2, 2, 2, 2, 2, 2, 2, 2, 2, 2,\n",
       "       2, 2, 2, 2, 2, 2, 2, 2, 2, 2, 2, 2, 2, 2, 2, 2, 2, 2, 2, 2, 2, 1,\n",
       "       1, 1, 1, 1, 1, 1, 1, 1, 2, 2, 2, 2, 2, 2, 2, 2, 2, 2, 2, 2, 2, 2,\n",
       "       2, 2, 0, 0, 0, 0, 0, 0, 0, 0, 0, 0, 0, 0, 0, 0, 0, 0, 0, 2, 2, 2,\n",
       "       2, 2, 2, 2, 2, 2, 2, 2, 2, 2, 2, 2, 2, 2, 2, 2, 2, 2, 2, 2, 2, 2,\n",
       "       2, 2, 2, 2, 2, 2, 2, 2, 2, 2, 2, 2, 2, 2, 2, 2, 2, 2, 2, 2, 2, 2,\n",
       "       2, 2, 2, 2, 2, 2, 2, 2, 2, 2, 2, 2, 2, 2, 2, 2, 2, 2, 2, 2, 2, 2,\n",
       "       2, 2, 2, 2, 2, 2, 2, 2, 2, 2, 2, 2, 2, 2, 2, 2, 2, 2, 2, 2, 2, 2,\n",
       "       2, 2, 2, 2, 2, 2, 2, 2, 2, 2, 2, 2, 2, 2, 2, 2, 2, 2, 2, 2, 2, 2,\n",
       "       2, 2, 2, 2, 2, 2, 2, 2, 2, 2, 2, 2, 2, 2, 2, 2, 2, 2, 2, 2, 2, 2,\n",
       "       2, 2, 2, 2, 2, 2, 2, 2, 2, 2, 2, 2, 2, 2, 2, 2, 2, 2, 2, 2, 2, 2,\n",
       "       2, 2, 2, 2, 2, 2, 2, 2, 2, 2, 2, 2, 2, 2, 2, 2, 2, 2, 2, 2, 2, 2,\n",
       "       2, 2, 2, 2, 2, 2, 2, 2, 2, 2, 2, 2, 0, 0, 0, 0, 0, 0, 0, 0, 0, 0,\n",
       "       0, 0, 0, 0, 0, 0, 0, 0, 0, 0, 0, 0, 0, 0, 0, 0, 0, 0, 0, 0, 0, 0,\n",
       "       0, 0, 0, 0, 0, 0, 0, 0, 0, 0, 0, 0, 0, 0, 0, 0, 0, 0, 0, 0, 0, 0,\n",
       "       0, 0, 0, 0, 0, 0, 0, 0, 0, 0, 0, 0, 0, 0, 0, 0, 0, 0, 0, 0, 0, 0,\n",
       "       0, 0, 0, 0, 0, 0, 0, 0, 0, 0, 0, 0, 0, 0, 0, 0, 0, 0, 0, 3, 3, 3,\n",
       "       3, 3, 3, 3, 3, 3, 3, 3, 3, 3, 3, 0, 0, 0, 0, 0, 0, 0, 0, 0, 0, 0,\n",
       "       0, 0, 0, 0, 0, 0, 0, 0, 0, 0, 0, 0, 0, 0, 0, 0, 0, 0, 0, 0, 0, 0,\n",
       "       0, 0, 0, 0, 0, 0, 0, 0, 0, 0, 0, 0, 0, 0, 0, 0, 0, 0, 0, 0, 0, 0,\n",
       "       0, 0, 0, 0, 0, 0, 0, 0, 0, 0, 0, 0, 0, 0, 0, 0, 0, 0, 0, 0, 0, 0,\n",
       "       0, 0, 0, 0, 0, 0, 0, 0, 0, 0, 0, 0, 0, 0, 0, 0, 0, 0, 0, 0, 0, 0,\n",
       "       0, 0, 0, 0, 0, 0, 0, 0, 0, 0, 0, 0, 0, 0, 0, 0, 0, 0, 0, 0, 0, 0,\n",
       "       0, 0, 0, 0, 0, 0, 0, 0, 0, 0, 0, 0, 0, 0, 0, 0, 0, 0, 0, 0, 0, 0,\n",
       "       0, 0, 0, 0, 0, 0, 0, 0, 0, 0, 0, 0, 0, 0, 0, 0, 0, 0, 0, 0, 0, 0,\n",
       "       0, 0, 0, 0, 0, 0, 0, 0, 0, 0, 0, 0, 0, 0, 0, 0, 0, 0, 0, 0, 0, 0,\n",
       "       0, 0, 0, 0, 0, 0, 0, 0, 0, 0, 0, 0, 0, 0, 0, 0, 0, 0, 0, 0, 0, 0,\n",
       "       0, 0, 0, 0, 0, 0, 0, 0, 0, 0, 0, 0, 0, 0, 0, 0, 0, 0, 0, 0, 0, 0,\n",
       "       0, 0, 0, 0, 0, 0, 0, 0, 0, 0, 0, 0, 0, 0, 0, 0, 0, 0, 0, 0, 0, 0,\n",
       "       0, 0, 0, 0, 0, 0, 0, 0, 0, 0, 0, 0, 0, 0, 0, 0, 0, 0, 0],\n",
       "      dtype=uint8)"
      ]
     },
     "execution_count": 151,
     "metadata": {},
     "output_type": "execute_result"
    }
   ],
   "source": [
    "y"
   ]
  },
  {
   "cell_type": "code",
   "execution_count": 53,
   "metadata": {},
   "outputs": [
    {
     "data": {
      "text/plain": [
       "array([[ 651,    7],\n",
       "       [   9, 1167]], dtype=int64)"
      ]
     },
     "execution_count": 53,
     "metadata": {},
     "output_type": "execute_result"
    },
    {
     "data": {
      "image/png": "[encoded data removed]",
      "text/plain": [
       "<Figure size 432x288 with 1 Axes>"
      ]
     },
     "metadata": {
      "needs_background": "light"
     },
     "output_type": "display_data"
    }
   ],
   "source": [
    "y_pred = model.predict(cwtmatr[ind])\n",
    "oh_ec = OneHotEncoder()\n",
    "label = oh_ec.fit_transform(y_02[:,np.newaxis]).toarray()\n",
    "precision, recall, threshold = precision_recall_curve(label[:,0],y_pred[:,0])\n",
    "plt.plot(recall,precision)\n",
    "confusion_matrix(y_02,np.where(y_pred<0.5,1,0)[:,0])"
   ]
  },
  {
   "cell_type": "code",
   "execution_count": 54,
   "metadata": {},
   "outputs": [
    {
     "data": {
      "text/plain": [
       "[<matplotlib.lines.Line2D at 0x2ca50c94848>]"
      ]
     },
     "execution_count": 54,
     "metadata": {},
     "output_type": "execute_result"
    },
    {
     "data": {
      "image/png": "[encoded data removed]",
      "text/plain": [
       "<Figure size 432x288 with 1 Axes>"
      ]
     },
     "metadata": {
      "needs_background": "light"
     },
     "output_type": "display_data"
    }
   ],
   "source": [
    "plt.plot(threshold,precision[:-1])\n",
    "plt.plot(threshold,recall[:-1])"
   ]
  },
  {
   "cell_type": "code",
   "execution_count": 232,
   "metadata": {},
   "outputs": [
    {
     "name": "stdout",
     "output_type": "stream",
     "text": [
      "Model: \"model_8\"\n",
      "_________________________________________________________________\n",
      "Layer (type)                 Output Shape              Param #   \n",
      "=================================================================\n",
      "input_9 (InputLayer)         [(None, 32, 256, 8)]      0         \n",
      "_________________________________________________________________\n",
      "batch_normalization_1 (Batch (None, 32, 256, 8)        32        \n",
      "_________________________________________________________________\n",
      "conv2d_16 (Conv2D)           (None, 16, 128, 128)      25728     \n",
      "_________________________________________________________________\n",
      "max_pooling2d_16 (MaxPooling (None, 8, 64, 128)        0         \n",
      "_________________________________________________________________\n",
      "conv2d_17 (Conv2D)           (None, 4, 32, 64)         204864    \n",
      "_________________________________________________________________\n",
      "max_pooling2d_17 (MaxPooling (None, 2, 16, 64)         0         \n",
      "_________________________________________________________________\n",
      "flatten_8 (Flatten)          (None, 2048)              0         \n",
      "_________________________________________________________________\n",
      "dropout_16 (Dropout)         (None, 2048)              0         \n",
      "_________________________________________________________________\n",
      "dense_16 (Dense)             (None, 128)               262272    \n",
      "_________________________________________________________________\n",
      "dropout_17 (Dropout)         (None, 128)               0         \n",
      "_________________________________________________________________\n",
      "dense_17 (Dense)             (None, 2)                 258       \n",
      "=================================================================\n",
      "Total params: 493,154\n",
      "Trainable params: 493,138\n",
      "Non-trainable params: 16\n",
      "_________________________________________________________________\n"
     ]
    }
   ],
   "source": [
    "model.summary()"
   ]
  },
  {
   "cell_type": "code",
   "execution_count": 22,
   "metadata": {
    "scrolled": false
   },
   "outputs": [
    {
     "data": {
      "text/plain": [
       "(0, 1)"
      ]
     },
     "execution_count": 22,
     "metadata": {},
     "output_type": "execute_result"
    },
    {
     "data": {
      "image/png": "[encoded data removed]",
      "text/plain": [
       "<Figure size 432x288 with 1 Axes>"
      ]
     },
     "metadata": {
      "needs_background": "light"
     },
     "output_type": "display_data"
    }
   ],
   "source": [
    "pd.DataFrame(history.history).plot()\n",
    "plt.grid(True)\n",
    "plt.gca().set_ylim(0,1)"
   ]
  },
  {
   "cell_type": "code",
   "execution_count": 39,
   "metadata": {},
   "outputs": [],
   "source": [
    "model.save('./model/Mexh_W%d_S%d_WS%d.h5'%(width,stride,widths_scale))"
   ]
  },
  {
   "cell_type": "code",
   "execution_count": null,
   "metadata": {},
   "outputs": [],
   "source": []
  }
 ],
 "metadata": {
  "kernelspec": {
   "display_name": "Python 3",
   "language": "python",
   "name": "python3"
  },
  "language_info": {
   "codemirror_mode": {
    "name": "ipython",
    "version": 3
   },
   "file_extension": ".py",
   "mimetype": "text/x-python",
   "name": "python",
   "nbconvert_exporter": "python",
   "pygments_lexer": "ipython3",
   "version": "3.7.6"
  }
 },
 "nbformat": 4,
 "nbformat_minor": 2
}
