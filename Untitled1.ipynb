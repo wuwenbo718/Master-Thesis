{
 "cells": [
  {
   "cell_type": "code",
   "execution_count": 1,
   "metadata": {},
   "outputs": [],
   "source": [
    "import numpy as np\n",
    "import pandas as pd\n",
    "from sklearn.preprocessing import StandardScaler, MinMaxScaler, LabelEncoder,normalize\n",
    "from sklearn.decomposition import PCA, NMF\n",
    "import data_processing as dp\n",
    "from scipy import signal\n",
    "from scipy.stats import skew\n",
    "from scipy.misc import derivative\n",
    "from scipy.fftpack import diff\n",
    "import seaborn as sns\n",
    "import matplotlib.pyplot as plt\n",
    "import pywt\n",
    "import os\n",
    "import time\n",
    "import h5py\n",
    "from itertools import combinations\n",
    "from sklearn.linear_model import LogisticRegression\n",
    "from nitime.algorithms.autoregressive import AR_est_YW"
   ]
  },
  {
   "cell_type": "code",
   "execution_count": 95,
   "metadata": {},
   "outputs": [
    {
     "data": {
      "text/plain": [
       "<module 'data_processing' from 'E:\\\\Document\\\\jupyter\\\\Master Thesis\\\\data_processing.py'>"
      ]
     },
     "execution_count": 95,
     "metadata": {},
     "output_type": "execute_result"
    }
   ],
   "source": [
    "import imp\n",
    "imp.reload(dp)"
   ]
  },
  {
   "cell_type": "code",
   "execution_count": 9,
   "metadata": {},
   "outputs": [],
   "source": [
    "# read file name of data with various Labels\n",
    "df = pd.read_csv('./useful_data_label.csv',index_col=0) \n",
    "#drop = 'G08_FoG_1_trial_1_emg.csv'\n",
    "#ind_drop = df.columns!=drop\n",
    "\n",
    "# read file name of data with only label 0\n",
    "df2 = pd.read_csv('./unuseful_data_label.csv',index_col=0)\n",
    "# read some of the data with only label 0\n",
    "df3 = pd.read_csv('./data/file_name.txt',header=None)"
   ]
  },
  {
   "cell_type": "code",
   "execution_count": 10,
   "metadata": {},
   "outputs": [
    {
     "name": "stdout",
     "output_type": "stream",
     "text": [
      "1/1: G07_Freezing_Trial1_trial_1_emg.csv\n",
      "Duration: 32.699488\n"
     ]
    },
    {
     "ename": "NameError",
     "evalue": "name 'player' is not defined",
     "output_type": "error",
     "traceback": [
      "\u001b[1;31m---------------------------------------------------------------------------\u001b[0m",
      "\u001b[1;31mNameError\u001b[0m                                 Traceback (most recent call last)",
      "\u001b[1;32m<ipython-input-10-e3ec3bdb4da2>\u001b[0m in \u001b[0;36m<module>\u001b[1;34m\u001b[0m\n\u001b[0;32m    167\u001b[0m \u001b[0mduration\u001b[0m \u001b[1;33m=\u001b[0m \u001b[0mend\u001b[0m\u001b[1;33m-\u001b[0m\u001b[0mstart\u001b[0m\u001b[1;33m\u001b[0m\u001b[1;33m\u001b[0m\u001b[0m\n\u001b[0;32m    168\u001b[0m \u001b[0mprint\u001b[0m\u001b[1;33m(\u001b[0m\u001b[1;34m'Duration: %f'\u001b[0m\u001b[1;33m%\u001b[0m\u001b[1;33m(\u001b[0m\u001b[0mduration\u001b[0m\u001b[1;33m)\u001b[0m\u001b[1;33m)\u001b[0m\u001b[1;33m\u001b[0m\u001b[1;33m\u001b[0m\u001b[0m\n\u001b[1;32m--> 169\u001b[1;33m \u001b[0mplayer\u001b[0m\u001b[1;33m.\u001b[0m\u001b[0mBeep\u001b[0m\u001b[1;33m(\u001b[0m\u001b[1;36m1000\u001b[0m\u001b[1;33m,\u001b[0m\u001b[1;36m200\u001b[0m\u001b[1;33m)\u001b[0m\u001b[1;33m\u001b[0m\u001b[1;33m\u001b[0m\u001b[0m\n\u001b[0m",
      "\u001b[1;31mNameError\u001b[0m: name 'player' is not defined"
     ]
    }
   ],
   "source": [
    "# read the data and labels of df2 or df3\n",
    "sc = StandardScaler(with_mean = True)\n",
    "#sc = MinMaxScaler()\n",
    "ind = df2.iloc[1].isna()\n",
    "#files = np.concatenate([np.array(df.columns),np.array('正常/'+df2.columns[ind])])\n",
    "files = np.array(df.columns[[5]])#[[2,5,6,7,8,10,11,12,13,16,17,18,19,20]])\n",
    "N = len(files)\n",
    "#sc = StandardScaler(with_mean=False)\n",
    "width = 1024\n",
    "stride = 512\n",
    "start = time.time()\n",
    "i = 0\n",
    "X = []\n",
    "Y = []\n",
    "X2 = []\n",
    "Y2 = []\n",
    "X3 = []\n",
    "Y3 = []\n",
    "F = []\n",
    "F2 = []\n",
    "F3 = []\n",
    "for file in files:\n",
    "    i += 1\n",
    "    if file.find('G04')==0:\n",
    "        continue\n",
    "    emg_data = pd.read_csv('./data/'+file)\n",
    "    #emg_data.iloc[:,3:] = \n",
    "    emg_data = emg_data.dropna().reset_index(drop=True)\n",
    "    #emg_data.iloc[:,3:]=normalize(emg_data.iloc[:,3:],axis=0)\n",
    "    #emg_data.iloc[:,3:] = sc.fit_transform(emg_data.iloc[:,3:])\n",
    "    #for j in (0,1,4,5):\n",
    "        #ind = abs(zscore(emg_data.iloc[:,j+3]))>10\n",
    "        #emg_data=emg_data.loc[~ind,:]\n",
    "        #ind_p = zscore(emg_data.iloc[:,j+3])>10\n",
    "        #ind_n = zscore(emg_data.iloc[:,j+3])<-10\n",
    "        #emg_data.loc[ind_p,emg_data.columns[3+j]] = emg_data.loc[~ind_p,emg_data.columns[3+j]].max()\n",
    "        #emg_data.loc[ind_n,emg_data.columns[3+j]] = emg_data.loc[~ind_n,emg_data.columns[3+j]].min()\n",
    "    fn = 300\n",
    "    wn=2*fn/1000\n",
    "    fn1 = 400\n",
    "    wn1 = 2*fn1/1000\n",
    "    #fs = 1000.0  # Sample frequency (Hz)\n",
    "    #f0 = 50  # Frequency to be removed from signal (Hz)\n",
    "    #Q = 100.0  # Quality factor\n",
    "    # Design notch filter\n",
    "    #b1, a1 = signal.iirnotch(f0, Q, fs)\n",
    "    #b, a = signal.butter(4, [wn,wn1], 'bandpass')\n",
    "    b, a = signal.butter(4, [wn], 'lowpass')\n",
    "    #b, a = signal.butter(4, [wn], 'highpass')\n",
    "    #for j in ['LEFT_TA','LEFT_TS','LEFT_BF','LEFT_RF','RIGHT_TA','RIGHT_TS','RIGHT_BF','RIGHT_RF']:\n",
    "        #emg_data.loc[:,j] = signal.filtfilt(b, a, emg_data.loc[:,j])\n",
    "        #emg_data.loc[:,j] = signal.filtfilt(b1, a1, emg_data.loc[:,j])\n",
    "    \"\"\"if file==df.columns[5]:\n",
    "        print(file)\n",
    "        fs = 1000.0  # Sample frequency (Hz)\n",
    "        f0 = 72  # Frequency to be removed from signal (Hz)\n",
    "        Q = 50.0  # Quality factor\n",
    "        # Design notch filter\n",
    "        b1, a1 = signal.iirnotch(f0, Q, fs)\n",
    "        emg_data.loc[:,'LEFT_TA'] = signal.filtfilt(b1, a1, emg_data.loc[:,'LEFT_TA'])\n",
    "        f0 = 75  # Frequency to be removed from signal (Hz)\n",
    "        b1, a1 = signal.iirnotch(f0, Q, fs)\n",
    "        emg_data.loc[:,'LEFT_TS'] = signal.filtfilt(b1, a1, emg_data.loc[:,'LEFT_TS'])\n",
    "        f0 = 13.2  # Frequency to be removed from signal (Hz)\n",
    "        b1, a1 = signal.iirnotch(f0, Q, fs)\n",
    "        emg_data.loc[:,'RIGHT_TS'] = signal.filtfilt(b1, a1, emg_data.loc[:,'RIGHT_TS'])\n",
    "    if file==df.columns[6]:\n",
    "        print(file)\n",
    "        fs = 1000.0  # Sample frequency (Hz)\n",
    "        f0 = 40  # Frequency to be removed from signal (Hz)\n",
    "        Q = 100.0  # Quality factor\n",
    "        # Design notch filter\n",
    "        b1, a1 = signal.iirnotch(f0, Q, fs)\n",
    "        emg_data.loc[:,'LEFT_TA'] = signal.filtfilt(b1, a1, emg_data.loc[:,'LEFT_TA'])\n",
    "        f0 = 26.5  # Frequency to be removed from signal (Hz)\n",
    "        b1, a1 = signal.iirnotch(f0, Q, fs)\n",
    "        emg_data.loc[:,'LEFT_TS'] = signal.filtfilt(b1, a1, emg_data.loc[:,'LEFT_TS'])\n",
    "        f0 = 13.2  # Frequency to be removed from signal (Hz)\n",
    "        b1, a1 = signal.iirnotch(f0, Q, fs)\n",
    "        emg_data.loc[:,'LEFT_TS'] = signal.filtfilt(b1, a1, emg_data.loc[:,'LEFT_TS'])\n",
    "        f0 = 48  # Frequency to be removed from signal (Hz)\n",
    "        b1, a1 = signal.iirnotch(f0, Q, fs)\n",
    "        #emg_data.loc[:,'LEFT_TS'] = signal.filtfilt(b1, a1, emg_data.loc[:,'LEFT_TS'])\n",
    "        f0 = 50  # Frequency to be removed from signal (Hz)\n",
    "        b1, a1 = signal.iirnotch(f0, Q, fs)\n",
    "        emg_data.loc[:,'RIGHT_TA'] = signal.filtfilt(b1, a1, emg_data.loc[:,'RIGHT_TA'])\n",
    "    if file==df.columns[7]:\n",
    "        print(file)\n",
    "        fs = 1000.0  # Sample frequency (Hz)\n",
    "        f0 = 13.2  # Frequency to be removed from signal (Hz)\n",
    "        Q = 50.0  # Quality factor\n",
    "        # Design notch filter\n",
    "        b1, a1 = signal.iirnotch(f0, Q, fs)\n",
    "        emg_data.loc[:,'LEFT_TS'] = signal.filtfilt(b1, a1, emg_data.loc[:,'LEFT_TS'])\n",
    "        emg_data.loc[:,'RIGHT_TS'] = signal.filtfilt(b1, a1, emg_data.loc[:,'RIGHT_TS'])\n",
    "        f0 = 26.5  # Frequency to be removed from signal (Hz)\n",
    "        b1, a1 = signal.iirnotch(f0, Q, fs)\n",
    "        emg_data.loc[:,'LEFT_TS'] = signal.filtfilt(b1, a1, emg_data.loc[:,'LEFT_TS'])\n",
    "        f0 = 50  # Frequency to be removed from signal (Hz)\n",
    "        b1, a1 = signal.iirnotch(f0, Q, fs)\n",
    "        emg_data.loc[:,'LEFT_TS'] = signal.filtfilt(b1, a1, emg_data.loc[:,'LEFT_TS'])\n",
    "    \"\"\"\n",
    "    #emg_data.iloc[:,3:] = sc.fit_transform(emg_data.iloc[:,3:])\n",
    "    #emg_data.iloc[:,3:]=normalize(emg_data.iloc[:,3:],axis=0)\n",
    "    x_raw,y = dp.generate_window_slide_data_time_continue(emg_data,width=width,\n",
    "                                        stride=stride,\n",
    "                                        scaler=True,\n",
    "                                        same_label=True)\n",
    "    #x=np.abs(x)\n",
    "    #x=dp.lowpass_filter(x,300)\n",
    "    #x=dp.mean_smooth(x)\n",
    "    shape = x_raw.shape\n",
    "    x = np.zeros(shape)\n",
    "    #x = x_raw\n",
    "    for n in range(shape[0]):\n",
    "        x[n,:,:] = dp.detrend(x_raw[n,:,:],50)\n",
    "        for c in range(shape[2]):\n",
    "            x[n,:,c] = signal.filtfilt(b,a,x[n,:,c])\n",
    "    \n",
    "    ind1 = []\n",
    "    ind2 = []\n",
    "    ind3 = []\n",
    "    l = len(y)\n",
    "    for j in set(y):\n",
    "        ind = np.where(y == j)[0].tolist()\n",
    "        l_t = len(ind)\n",
    "        #if (j==1)&((file==df.columns[5])|(file==df.columns[17])):\n",
    "            #continue\n",
    "#         if file == files[6]:\n",
    "#             ind3 += ind\n",
    "#             print('X2')\n",
    "        #else:\n",
    "        ind1 += ind[:int(l_t*1)]\n",
    "        #ind2 += ind[int(l_t*0.6):int(l_t*0.8)]\n",
    "        #ind3 += ind[int(l_t*0.8):]\n",
    "\n",
    "    l1 = len(ind1)\n",
    "    l2 = len(ind2)\n",
    "    l3 = len(ind3)\n",
    "\n",
    "    fi = [file]*len(ind1)\n",
    "    fi2 = [file]*len(ind2)\n",
    "    fi3 = [file]*len(ind3)\n",
    "    \n",
    "    X += x[ind1].tolist()\n",
    "    Y += y[ind1].tolist()\n",
    "    \n",
    "    X2 += x[ind2].tolist()\n",
    "    Y2 += y[ind2].tolist()\n",
    "    \n",
    "    X3 += x[ind3].tolist()\n",
    "    Y3 += y[ind3].tolist()\n",
    "    \n",
    "    F += fi\n",
    "    F2 += fi2\n",
    "    F3 += fi3\n",
    "    print('%d/%d: '%(i,N)+file)\n",
    "\n",
    "ind_c = [True,True,False,False,True,True,False,False]\n",
    "X = np.array(X)#[:,:,ind_c]\n",
    "Y = np.array(Y)\n",
    "X2 = np.array(X2)#[:,:,ind_c]\n",
    "Y2 = np.array(Y2)\n",
    "X3 = np.array(X3)#[:,:,ind_c]\n",
    "Y3 = np.array(Y3)\n",
    "end = time.time()\n",
    "duration = end-start\n",
    "print('Duration: %f'%(duration))\n",
    "player.Beep(1000,200)"
   ]
  },
  {
   "cell_type": "code",
   "execution_count": 4,
   "metadata": {},
   "outputs": [
    {
     "data": {
      "text/plain": [
       "array([[[-1.82735278e-01, -1.25038381e+00,  6.90001505e-01, ...,\n",
       "          2.03777711e+00, -9.57471336e-02,  1.44006597e+00],\n",
       "        [ 1.29622057e-01, -9.65963216e-01,  9.95138188e-01, ...,\n",
       "         -6.26128025e-01, -1.27817849e-01,  6.52865709e-01],\n",
       "        [-2.76973762e-01,  5.30634531e-01,  2.26167777e-01, ...,\n",
       "         -6.07670483e-01, -1.24184665e-01, -2.76283044e-01],\n",
       "        ...,\n",
       "        [-5.16867834e+00, -1.39151723e+00, -8.74715388e-03, ...,\n",
       "         -6.87662654e-01,  6.37700522e-01, -3.55855344e-03],\n",
       "        [-7.81684338e+00, -2.16941277e+00,  3.55241245e-01, ...,\n",
       "         -1.66884255e-01,  1.40356207e+00,  4.78982732e-01],\n",
       "        [-2.39954363e+00, -1.50017778e+00,  5.61644462e-01, ...,\n",
       "          1.16552177e+00,  1.00384892e+00,  1.63922694e+00]],\n",
       "\n",
       "       [[-2.56759386e-02, -2.77449459e-01, -8.98131610e-03, ...,\n",
       "          2.07910962e-01,  9.11455521e-02,  1.59223672e-03],\n",
       "        [-1.31291879e-02, -6.65010583e-01, -8.29058298e-02, ...,\n",
       "          1.91221628e-01, -2.16781699e-01, -3.60025776e-03],\n",
       "        [ 2.65164086e-03, -1.00946142e-01, -1.65444601e-01, ...,\n",
       "         -7.32803304e-01, -3.84666654e-01,  4.78939992e-03],\n",
       "        ...,\n",
       "        [ 8.48093026e-01, -1.36165971e+00,  1.65115853e-01, ...,\n",
       "          1.35284550e+00, -9.77975405e-02, -2.51351124e-01],\n",
       "        [-4.79556065e-01, -4.73194518e-02,  1.24823862e-01, ...,\n",
       "          1.50337666e+00, -1.65846193e-01,  6.29369181e-02],\n",
       "        [-1.87616276e+00, -2.02232914e+00,  2.40100030e-01, ...,\n",
       "         -1.62515718e+00,  1.58610627e-01,  2.88896789e-01]],\n",
       "\n",
       "       [[-8.84412357e-01, -4.55600247e-02,  1.65467064e-03, ...,\n",
       "         -1.48277535e-01,  5.60404393e-01, -9.63227720e-03],\n",
       "        [-2.99100245e-01, -5.55738517e-03, -3.17041442e-02, ...,\n",
       "         -6.22548397e-02,  2.51986399e-01, -1.37086322e-02],\n",
       "        [ 9.46738010e-02,  2.04065626e-01, -2.55303503e-02, ...,\n",
       "          1.89386098e-01, -1.51284431e-01, -7.64038006e-03],\n",
       "        ...,\n",
       "        [-2.69988240e-02, -1.20536090e-01,  2.52750848e-02, ...,\n",
       "          5.05847558e+00,  1.08108854e+00, -2.21385722e-01],\n",
       "        [ 3.96630180e-02, -1.67298174e+00,  1.49028779e-01, ...,\n",
       "         -1.66235724e-01,  6.12461487e-01, -3.53899356e-01],\n",
       "        [ 9.32895600e-02, -2.58574753e+00,  4.46130407e-01, ...,\n",
       "         -2.28081955e+00, -4.28560842e-01, -3.92126505e-01]],\n",
       "\n",
       "       ...,\n",
       "\n",
       "       [[-7.91185478e-02,  7.62170697e-02,  4.92889974e-02, ...,\n",
       "         -3.28017186e-02,  1.25154521e-01,  1.07121497e-01],\n",
       "        [ 3.58484047e-01, -1.63046567e-01,  6.41459443e-02, ...,\n",
       "          2.91814917e-02,  1.25712123e-01,  1.81531006e-01],\n",
       "        [ 4.81729809e-01, -9.00979079e-02,  1.24462698e-01, ...,\n",
       "          3.03835495e-02,  3.31773920e-01,  3.01893081e-01],\n",
       "        ...,\n",
       "        [ 4.86010400e-01, -5.03929870e-01,  7.32094127e-01, ...,\n",
       "         -2.35982861e-01, -9.59486129e-01,  8.90601180e-01],\n",
       "        [ 9.42352735e-01, -3.41378153e-01,  3.68462116e-01, ...,\n",
       "         -6.53461265e-01, -6.14206472e-01,  2.82013091e+00],\n",
       "        [ 7.50064404e-01, -4.32561901e-01, -1.52473561e-01, ...,\n",
       "         -7.61393559e-01, -1.34440591e+00,  4.42041161e+00]],\n",
       "\n",
       "       [[ 6.61484769e-03, -2.19677655e-02,  9.42168351e-01, ...,\n",
       "          1.70303920e-02, -4.96634741e-01, -3.45332579e-02],\n",
       "        [-5.78423309e-03,  6.13853604e-02,  4.39691739e-01, ...,\n",
       "          1.45102471e-01, -1.50205659e-01, -2.03754227e-01],\n",
       "        [ 4.65802775e-03,  2.92049457e-02,  1.38106931e-01, ...,\n",
       "          2.46836593e-01,  3.37426342e-02, -2.50511427e-01],\n",
       "        ...,\n",
       "        [ 1.00181326e-01, -3.81503278e-02,  1.84022354e-01, ...,\n",
       "          8.26570760e-02, -3.81332716e-01,  5.23390877e-01],\n",
       "        [-7.24510701e-01,  4.42688674e-02,  2.13843759e-01, ...,\n",
       "          1.47681376e-01, -2.60324945e-01,  4.42651076e-02],\n",
       "        [-7.48478627e-01,  2.21542932e-01,  7.50742947e-02, ...,\n",
       "         -1.09839218e-01,  2.36578022e-01, -5.62977679e-01]],\n",
       "\n",
       "       [[ 8.11963696e-02, -3.68502756e-01, -2.77564937e-01, ...,\n",
       "          1.31750134e-01, -2.46567949e-01, -8.40700795e-02],\n",
       "        [-3.00302834e-02, -1.96749405e-01, -1.66583308e-01, ...,\n",
       "          6.08533855e-02, -4.52995590e-01, -9.42943161e-02],\n",
       "        [-1.19771235e-01,  1.89968126e-01,  2.45185811e-01, ...,\n",
       "         -1.53076663e-01, -5.37337429e-01,  2.24661680e-02],\n",
       "        ...,\n",
       "        [-1.20772996e+00,  2.78793759e-01,  8.63026025e-03, ...,\n",
       "         -1.77566784e+00,  5.90890223e-02,  8.32703043e-01],\n",
       "        [-1.27210960e+00, -4.11367596e-01, -5.03796559e-01, ...,\n",
       "         -7.05868045e-01,  1.07059816e+00, -1.87219294e-01],\n",
       "        [ 1.18044221e+00, -1.01841326e+00, -1.45075743e+00, ...,\n",
       "          1.43040332e+00,  1.16999033e+00, -6.29561596e-01]]])"
      ]
     },
     "execution_count": 4,
     "metadata": {},
     "output_type": "execute_result"
    }
   ],
   "source": [
    "X"
   ]
  },
  {
   "cell_type": "code",
   "execution_count": 3,
   "metadata": {},
   "outputs": [],
   "source": [
    "temp = np.sin(np.arange(0,10,0.1))"
   ]
  },
  {
   "cell_type": "code",
   "execution_count": 4,
   "metadata": {},
   "outputs": [
    {
     "data": {
      "text/plain": [
       "[<matplotlib.lines.Line2D at 0x2032c592e88>]"
      ]
     },
     "execution_count": 4,
     "metadata": {},
     "output_type": "execute_result"
    },
    {
     "data": {
      "image/png": "[encoded data removed]",
      "text/plain": [
       "<Figure size 432x288 with 1 Axes>"
      ]
     },
     "metadata": {
      "needs_background": "light"
     },
     "output_type": "display_data"
    }
   ],
   "source": [
    "plt.plot(temp)"
   ]
  },
  {
   "cell_type": "code",
   "execution_count": 8,
   "metadata": {},
   "outputs": [
    {
     "data": {
      "text/plain": [
       "[<matplotlib.lines.Line2D at 0x2032d6b6088>]"
      ]
     },
     "execution_count": 8,
     "metadata": {},
     "output_type": "execute_result"
    },
    {
     "data": {
      "image/png": "[encoded data removed]",
      "text/plain": [
       "<Figure size 432x288 with 1 Axes>"
      ]
     },
     "metadata": {
      "needs_background": "light"
     },
     "output_type": "display_data"
    }
   ],
   "source": [
    "plt.plot(np.gradient(temp,np.arange(0,10,0.1)))"
   ]
  },
  {
   "cell_type": "code",
   "execution_count": 15,
   "metadata": {},
   "outputs": [
    {
     "data": {
      "text/plain": [
       "[<matplotlib.lines.Line2D at 0x2032d718848>]"
      ]
     },
     "execution_count": 15,
     "metadata": {},
     "output_type": "execute_result"
    },
    {
     "data": {
      "image/png": "[encoded data removed]",
      "text/plain": [
       "<Figure size 864x576 with 1 Axes>"
      ]
     },
     "metadata": {
      "needs_background": "light"
     },
     "output_type": "display_data"
    }
   ],
   "source": [
    "plt.figure(figsize=(12,8))\n",
    "plt.plot(X[0,:,0])"
   ]
  },
  {
   "cell_type": "code",
   "execution_count": 14,
   "metadata": {},
   "outputs": [
    {
     "data": {
      "text/plain": [
       "[<matplotlib.lines.Line2D at 0x2033687b088>]"
      ]
     },
     "execution_count": 14,
     "metadata": {},
     "output_type": "execute_result"
    },
    {
     "data": {
      "image/png": "[encoded data removed]",
      "text/plain": [
       "<Figure size 864x576 with 1 Axes>"
      ]
     },
     "metadata": {
      "needs_background": "light"
     },
     "output_type": "display_data"
    }
   ],
   "source": [
    "plt.figure(figsize=(12,8))\n",
    "plt.plot(np.gradient(X[0,:,0],np.arange(0,1.024,1e-3)))"
   ]
  },
  {
   "cell_type": "code",
   "execution_count": 13,
   "metadata": {},
   "outputs": [
    {
     "data": {
      "text/plain": [
       "(1,)"
      ]
     },
     "execution_count": 13,
     "metadata": {},
     "output_type": "execute_result"
    }
   ],
   "source": [
    "np.arange(0,1e-3,1.024).shape"
   ]
  },
  {
   "cell_type": "code",
   "execution_count": 32,
   "metadata": {},
   "outputs": [],
   "source": [
    "def compute_AR(data,p=4):\n",
    "    N = len(data)\n",
    "    M = data.shape[-1]\n",
    "    feature = np.zeros((N,M))\n",
    "    for i in range(N):\n",
    "        for j in range(M):\n",
    "            ak,_ = AR_est_YW(data[i,:,j],p)\n",
    "            feature[i,j] = ak[0]\n",
    "    return feature\n",
    "\n",
    "def compute_cc(ak,p=4):\n",
    "    '''\n",
    "        Compute  Cepstral Coefficient with Autoregression Coefficient for compute_CC\n",
    "        inputs:  Autoregression Coefficient\n",
    "        outputs: Cepstral Coefficient\n",
    "    '''\n",
    "    cc = np.zeros(p)\n",
    "    for i in np.arange(p):\n",
    "        temp = -ak[i]\n",
    "        for j in range(i):\n",
    "            temp -= (1-(j+1)/(i+1))*ak[j]*cc[i-j-1]\n",
    "        cc[i]=temp\n",
    "    return cc\n",
    "\n",
    "def compute_CC(data,p=4):\n",
    "    \n",
    "    '''\n",
    "        Compute Cepstral Coefficient of data matrix\n",
    "        inputs: data [N,L,C]\n",
    "        N: number of data\n",
    "        L: length of signal\n",
    "        C: number of channels \n",
    "        outputs: Cepstral Coefficient\n",
    "    '''\n",
    "    \n",
    "    N = len(data)\n",
    "    C = data.shape[-1]\n",
    "    feature = np.zeros((N,p,C))\n",
    "    \n",
    "    for i in range(N):\n",
    "        for j in range(C):\n",
    "            ak,_ = AR_est_YW(data[i,:,j],p)\n",
    "            feature[i,:,j] = compute_cc(ak,p)\n",
    "    return feature\n",
    "\n",
    "def compute_CC_pd(data,p=4):\n",
    "    \n",
    "    '''\n",
    "        Compute Cepstral Coefficient of data matrix\n",
    "        inputs: data [N,L,C]\n",
    "        N: number of data\n",
    "        L: length of signal\n",
    "        C: number of channels \n",
    "        outputs: Cepstral Coefficient\n",
    "    '''\n",
    "    \n",
    "    N = len(data)\n",
    "    C = data.shape[-1]\n",
    "    feature = np.zeros((N,p*C))\n",
    "    \n",
    "    columns = pd.Index(['LEFT_TA', 'LEFT_TS', 'LEFT_BF', 'LEFT_RF',\n",
    "       'RIGHT_TA', 'RIGHT_TS', 'RIGHT_BF', 'RIGHT_RF'])\n",
    "    columns_b = []\n",
    "    index = []\n",
    "    for m in range(p):\n",
    "        columns_b += ['_CC%d'%m]\n",
    "    columns_b = pd.Index(columns_b)\n",
    "    for col in columns:\n",
    "        index += (col+columns_b).to_list()\n",
    "    \n",
    "    for i in range(N):\n",
    "        for j in range(C):\n",
    "            ak,_ = AR_est_YW(data[i,:,j],p)\n",
    "            feature[i,j*p:(j+1)*p] = compute_cc(ak,p)\n",
    "    return pd.DataFrame(feature,columns=index)\n",
    "\n",
    "def compute_Acti(data):\n",
    "    N = data.shape[1]\n",
    "    mean = np.mean(data,axis=1)\n",
    "    return np.sum((data-mean[:,np.newaxis,:])**2,axis=1)/N\n",
    "\n",
    "def compute_Mobi(data):\n",
    "    N,L,C = data.shape\n",
    "    feature = np.zeros((N,C))\n",
    "    for i in range(N):\n",
    "        for j in range(C):\n",
    "            temp = np.gradient(data[i,:,j],np.arange(0,L/1000,1e-3))\n",
    "            feature[i,j] = np.sum((temp-temp.mean())**2)/N\n",
    "    acti = compute_Acti(data)\n",
    "    feature = np.sqrt(feature/acti)\n",
    "    return feature\n",
    "\n",
    "def compute_complexity(data):\n",
    "    N,L,C = data.shape\n",
    "    xd = np.zeros((N,L,C))\n",
    "    for i in range(N):\n",
    "        for j in range(C):\n",
    "            xd[i,:,j] = np.gradient(data[i,:,j],np.arange(0,L/1000,1e-3))\n",
    "    return compute_Mobi(xd)/compute_Mobi(data)"
   ]
  },
  {
   "cell_type": "code",
   "execution_count": 61,
   "metadata": {},
   "outputs": [],
   "source": [
    "ar,sig=AR_est_YW(X[0,:,0],4)"
   ]
  },
  {
   "cell_type": "code",
   "execution_count": 39,
   "metadata": {},
   "outputs": [],
   "source": [
    "temp = X[0,:,0]\n",
    "result = []\n",
    "for i in np.arange(10,1024):\n",
    "    x_n=temp[i-10:i]@ar+sig\n",
    "    result += [x_n]"
   ]
  },
  {
   "cell_type": "code",
   "execution_count": 41,
   "metadata": {},
   "outputs": [
    {
     "data": {
      "text/plain": [
       "[<matplotlib.lines.Line2D at 0x1db14e4a288>]"
      ]
     },
     "execution_count": 41,
     "metadata": {},
     "output_type": "execute_result"
    },
    {
     "data": {
      "image/png": "[encoded data removed]",
      "text/plain": [
       "<Figure size 864x576 with 1 Axes>"
      ]
     },
     "metadata": {
      "needs_background": "light"
     },
     "output_type": "display_data"
    }
   ],
   "source": [
    "plt.figure(figsize=(12,8))\n",
    "plt.plot(result)\n",
    "plt.plot(X[0,:,0])"
   ]
  },
  {
   "cell_type": "code",
   "execution_count": 49,
   "metadata": {},
   "outputs": [
    {
     "data": {
      "text/plain": [
       "array([1, 2])"
      ]
     },
     "execution_count": 49,
     "metadata": {},
     "output_type": "execute_result"
    }
   ],
   "source": [
    "np.arange(1,3)"
   ]
  },
  {
   "cell_type": "code",
   "execution_count": 96,
   "metadata": {},
   "outputs": [
    {
     "data": {
      "text/html": [
       "<div>\n",
       "<style scoped>\n",
       "    .dataframe tbody tr th:only-of-type {\n",
       "        vertical-align: middle;\n",
       "    }\n",
       "\n",
       "    .dataframe tbody tr th {\n",
       "        vertical-align: top;\n",
       "    }\n",
       "\n",
       "    .dataframe thead th {\n",
       "        text-align: right;\n",
       "    }\n",
       "</style>\n",
       "<table border=\"1\" class=\"dataframe\">\n",
       "  <thead>\n",
       "    <tr style=\"text-align: right;\">\n",
       "      <th></th>\n",
       "      <th>LEFT_TA_CC0</th>\n",
       "      <th>LEFT_TA_CC1</th>\n",
       "      <th>LEFT_TA_CC2</th>\n",
       "      <th>LEFT_TA_CC3</th>\n",
       "      <th>LEFT_TS_CC0</th>\n",
       "      <th>LEFT_TS_CC1</th>\n",
       "      <th>LEFT_TS_CC2</th>\n",
       "      <th>LEFT_TS_CC3</th>\n",
       "      <th>LEFT_BF_CC0</th>\n",
       "      <th>LEFT_BF_CC1</th>\n",
       "      <th>...</th>\n",
       "      <th>RIGHT_TS_CC2</th>\n",
       "      <th>RIGHT_TS_CC3</th>\n",
       "      <th>RIGHT_BF_CC0</th>\n",
       "      <th>RIGHT_BF_CC1</th>\n",
       "      <th>RIGHT_BF_CC2</th>\n",
       "      <th>RIGHT_BF_CC3</th>\n",
       "      <th>RIGHT_RF_CC0</th>\n",
       "      <th>RIGHT_RF_CC1</th>\n",
       "      <th>RIGHT_RF_CC2</th>\n",
       "      <th>RIGHT_RF_CC3</th>\n",
       "    </tr>\n",
       "  </thead>\n",
       "  <tbody>\n",
       "    <tr>\n",
       "      <th>0</th>\n",
       "      <td>-1.730911</td>\n",
       "      <td>3.477164</td>\n",
       "      <td>-6.527502</td>\n",
       "      <td>13.112848</td>\n",
       "      <td>-1.502365</td>\n",
       "      <td>2.817926</td>\n",
       "      <td>-4.911584</td>\n",
       "      <td>8.984996</td>\n",
       "      <td>-2.004550</td>\n",
       "      <td>4.124813</td>\n",
       "      <td>...</td>\n",
       "      <td>-3.866897</td>\n",
       "      <td>6.564952</td>\n",
       "      <td>-1.885839</td>\n",
       "      <td>3.782796</td>\n",
       "      <td>-7.507340</td>\n",
       "      <td>15.775621</td>\n",
       "      <td>-1.596165</td>\n",
       "      <td>2.942741</td>\n",
       "      <td>-5.221905</td>\n",
       "      <td>9.741447</td>\n",
       "    </tr>\n",
       "    <tr>\n",
       "      <th>1</th>\n",
       "      <td>-1.510889</td>\n",
       "      <td>2.944245</td>\n",
       "      <td>-5.028126</td>\n",
       "      <td>9.351585</td>\n",
       "      <td>-1.581810</td>\n",
       "      <td>2.962526</td>\n",
       "      <td>-5.200008</td>\n",
       "      <td>9.710413</td>\n",
       "      <td>-2.053375</td>\n",
       "      <td>4.267763</td>\n",
       "      <td>...</td>\n",
       "      <td>-4.336547</td>\n",
       "      <td>7.641718</td>\n",
       "      <td>-1.925926</td>\n",
       "      <td>3.925874</td>\n",
       "      <td>-7.916286</td>\n",
       "      <td>16.916750</td>\n",
       "      <td>-1.792855</td>\n",
       "      <td>2.820985</td>\n",
       "      <td>-4.249094</td>\n",
       "      <td>7.315752</td>\n",
       "    </tr>\n",
       "    <tr>\n",
       "      <th>2</th>\n",
       "      <td>-1.519249</td>\n",
       "      <td>3.020987</td>\n",
       "      <td>-5.231085</td>\n",
       "      <td>9.866843</td>\n",
       "      <td>-1.734616</td>\n",
       "      <td>3.416063</td>\n",
       "      <td>-6.356767</td>\n",
       "      <td>12.674897</td>\n",
       "      <td>-2.124263</td>\n",
       "      <td>4.475453</td>\n",
       "      <td>...</td>\n",
       "      <td>-5.820358</td>\n",
       "      <td>11.256971</td>\n",
       "      <td>-2.132361</td>\n",
       "      <td>4.574271</td>\n",
       "      <td>-9.665933</td>\n",
       "      <td>22.086627</td>\n",
       "      <td>-2.342711</td>\n",
       "      <td>5.389027</td>\n",
       "      <td>-12.142588</td>\n",
       "      <td>29.959248</td>\n",
       "    </tr>\n",
       "    <tr>\n",
       "      <th>3</th>\n",
       "      <td>-1.581047</td>\n",
       "      <td>3.212185</td>\n",
       "      <td>-5.702318</td>\n",
       "      <td>11.075303</td>\n",
       "      <td>-1.956143</td>\n",
       "      <td>4.067059</td>\n",
       "      <td>-8.076136</td>\n",
       "      <td>17.409197</td>\n",
       "      <td>-2.220844</td>\n",
       "      <td>4.974282</td>\n",
       "      <td>...</td>\n",
       "      <td>-8.085485</td>\n",
       "      <td>17.404912</td>\n",
       "      <td>-2.086365</td>\n",
       "      <td>4.446791</td>\n",
       "      <td>-9.284912</td>\n",
       "      <td>20.933873</td>\n",
       "      <td>-1.995849</td>\n",
       "      <td>3.890718</td>\n",
       "      <td>-7.443976</td>\n",
       "      <td>15.635764</td>\n",
       "    </tr>\n",
       "    <tr>\n",
       "      <th>4</th>\n",
       "      <td>-1.661126</td>\n",
       "      <td>3.443938</td>\n",
       "      <td>-6.320772</td>\n",
       "      <td>12.682846</td>\n",
       "      <td>-2.145958</td>\n",
       "      <td>4.824095</td>\n",
       "      <td>-10.387925</td>\n",
       "      <td>24.327268</td>\n",
       "      <td>-2.018297</td>\n",
       "      <td>4.254807</td>\n",
       "      <td>...</td>\n",
       "      <td>-12.054008</td>\n",
       "      <td>29.624797</td>\n",
       "      <td>-1.890230</td>\n",
       "      <td>3.802292</td>\n",
       "      <td>-7.390484</td>\n",
       "      <td>15.472400</td>\n",
       "      <td>-2.068291</td>\n",
       "      <td>4.427148</td>\n",
       "      <td>-9.254506</td>\n",
       "      <td>20.845065</td>\n",
       "    </tr>\n",
       "    <tr>\n",
       "      <th>...</th>\n",
       "      <td>...</td>\n",
       "      <td>...</td>\n",
       "      <td>...</td>\n",
       "      <td>...</td>\n",
       "      <td>...</td>\n",
       "      <td>...</td>\n",
       "      <td>...</td>\n",
       "      <td>...</td>\n",
       "      <td>...</td>\n",
       "      <td>...</td>\n",
       "      <td>...</td>\n",
       "      <td>...</td>\n",
       "      <td>...</td>\n",
       "      <td>...</td>\n",
       "      <td>...</td>\n",
       "      <td>...</td>\n",
       "      <td>...</td>\n",
       "      <td>...</td>\n",
       "      <td>...</td>\n",
       "      <td>...</td>\n",
       "      <td>...</td>\n",
       "    </tr>\n",
       "    <tr>\n",
       "      <th>156</th>\n",
       "      <td>-1.770073</td>\n",
       "      <td>3.575443</td>\n",
       "      <td>-6.751403</td>\n",
       "      <td>13.707933</td>\n",
       "      <td>-2.008129</td>\n",
       "      <td>4.323366</td>\n",
       "      <td>-8.950971</td>\n",
       "      <td>19.963771</td>\n",
       "      <td>-1.925209</td>\n",
       "      <td>3.971612</td>\n",
       "      <td>...</td>\n",
       "      <td>-6.558983</td>\n",
       "      <td>13.214359</td>\n",
       "      <td>-1.975945</td>\n",
       "      <td>4.201796</td>\n",
       "      <td>-8.553628</td>\n",
       "      <td>18.788340</td>\n",
       "      <td>-2.106826</td>\n",
       "      <td>4.516872</td>\n",
       "      <td>-9.514618</td>\n",
       "      <td>21.650555</td>\n",
       "    </tr>\n",
       "    <tr>\n",
       "      <th>157</th>\n",
       "      <td>-1.820561</td>\n",
       "      <td>3.768340</td>\n",
       "      <td>-7.320700</td>\n",
       "      <td>15.272344</td>\n",
       "      <td>-2.010650</td>\n",
       "      <td>4.356690</td>\n",
       "      <td>-9.064477</td>\n",
       "      <td>20.294386</td>\n",
       "      <td>-1.982227</td>\n",
       "      <td>4.164345</td>\n",
       "      <td>...</td>\n",
       "      <td>-8.312643</td>\n",
       "      <td>18.087959</td>\n",
       "      <td>-1.649860</td>\n",
       "      <td>2.947729</td>\n",
       "      <td>-5.011050</td>\n",
       "      <td>9.240843</td>\n",
       "      <td>-2.136338</td>\n",
       "      <td>4.589087</td>\n",
       "      <td>-9.712202</td>\n",
       "      <td>22.261248</td>\n",
       "    </tr>\n",
       "    <tr>\n",
       "      <th>158</th>\n",
       "      <td>-1.817940</td>\n",
       "      <td>3.774751</td>\n",
       "      <td>-7.355138</td>\n",
       "      <td>15.380974</td>\n",
       "      <td>-1.961884</td>\n",
       "      <td>4.203578</td>\n",
       "      <td>-8.522700</td>\n",
       "      <td>18.694501</td>\n",
       "      <td>-1.984462</td>\n",
       "      <td>4.184834</td>\n",
       "      <td>...</td>\n",
       "      <td>-7.506950</td>\n",
       "      <td>15.849038</td>\n",
       "      <td>-1.905292</td>\n",
       "      <td>3.865226</td>\n",
       "      <td>-7.628613</td>\n",
       "      <td>16.100034</td>\n",
       "      <td>-1.675735</td>\n",
       "      <td>2.932053</td>\n",
       "      <td>-5.044858</td>\n",
       "      <td>9.358856</td>\n",
       "    </tr>\n",
       "    <tr>\n",
       "      <th>159</th>\n",
       "      <td>-1.811879</td>\n",
       "      <td>3.750548</td>\n",
       "      <td>-7.254248</td>\n",
       "      <td>15.113360</td>\n",
       "      <td>-1.937059</td>\n",
       "      <td>4.125961</td>\n",
       "      <td>-8.288618</td>\n",
       "      <td>18.026656</td>\n",
       "      <td>-1.961187</td>\n",
       "      <td>4.117854</td>\n",
       "      <td>...</td>\n",
       "      <td>-7.827948</td>\n",
       "      <td>16.726294</td>\n",
       "      <td>-2.064648</td>\n",
       "      <td>4.503294</td>\n",
       "      <td>-9.448304</td>\n",
       "      <td>21.422701</td>\n",
       "      <td>-2.047872</td>\n",
       "      <td>4.380225</td>\n",
       "      <td>-9.155089</td>\n",
       "      <td>20.572440</td>\n",
       "    </tr>\n",
       "    <tr>\n",
       "      <th>160</th>\n",
       "      <td>-1.598817</td>\n",
       "      <td>3.073367</td>\n",
       "      <td>-5.348112</td>\n",
       "      <td>10.173401</td>\n",
       "      <td>-2.056208</td>\n",
       "      <td>4.503965</td>\n",
       "      <td>-9.405617</td>\n",
       "      <td>21.328915</td>\n",
       "      <td>-1.952759</td>\n",
       "      <td>4.042512</td>\n",
       "      <td>...</td>\n",
       "      <td>-6.825768</td>\n",
       "      <td>13.936499</td>\n",
       "      <td>-1.962642</td>\n",
       "      <td>4.104267</td>\n",
       "      <td>-8.304176</td>\n",
       "      <td>18.054243</td>\n",
       "      <td>-2.114897</td>\n",
       "      <td>4.614795</td>\n",
       "      <td>-9.827830</td>\n",
       "      <td>22.599914</td>\n",
       "    </tr>\n",
       "  </tbody>\n",
       "</table>\n",
       "<p>161 rows × 32 columns</p>\n",
       "</div>"
      ],
      "text/plain": [
       "     LEFT_TA_CC0  LEFT_TA_CC1  LEFT_TA_CC2  LEFT_TA_CC3  LEFT_TS_CC0  \\\n",
       "0      -1.730911     3.477164    -6.527502    13.112848    -1.502365   \n",
       "1      -1.510889     2.944245    -5.028126     9.351585    -1.581810   \n",
       "2      -1.519249     3.020987    -5.231085     9.866843    -1.734616   \n",
       "3      -1.581047     3.212185    -5.702318    11.075303    -1.956143   \n",
       "4      -1.661126     3.443938    -6.320772    12.682846    -2.145958   \n",
       "..           ...          ...          ...          ...          ...   \n",
       "156    -1.770073     3.575443    -6.751403    13.707933    -2.008129   \n",
       "157    -1.820561     3.768340    -7.320700    15.272344    -2.010650   \n",
       "158    -1.817940     3.774751    -7.355138    15.380974    -1.961884   \n",
       "159    -1.811879     3.750548    -7.254248    15.113360    -1.937059   \n",
       "160    -1.598817     3.073367    -5.348112    10.173401    -2.056208   \n",
       "\n",
       "     LEFT_TS_CC1  LEFT_TS_CC2  LEFT_TS_CC3  LEFT_BF_CC0  LEFT_BF_CC1  ...  \\\n",
       "0       2.817926    -4.911584     8.984996    -2.004550     4.124813  ...   \n",
       "1       2.962526    -5.200008     9.710413    -2.053375     4.267763  ...   \n",
       "2       3.416063    -6.356767    12.674897    -2.124263     4.475453  ...   \n",
       "3       4.067059    -8.076136    17.409197    -2.220844     4.974282  ...   \n",
       "4       4.824095   -10.387925    24.327268    -2.018297     4.254807  ...   \n",
       "..           ...          ...          ...          ...          ...  ...   \n",
       "156     4.323366    -8.950971    19.963771    -1.925209     3.971612  ...   \n",
       "157     4.356690    -9.064477    20.294386    -1.982227     4.164345  ...   \n",
       "158     4.203578    -8.522700    18.694501    -1.984462     4.184834  ...   \n",
       "159     4.125961    -8.288618    18.026656    -1.961187     4.117854  ...   \n",
       "160     4.503965    -9.405617    21.328915    -1.952759     4.042512  ...   \n",
       "\n",
       "     RIGHT_TS_CC2  RIGHT_TS_CC3  RIGHT_BF_CC0  RIGHT_BF_CC1  RIGHT_BF_CC2  \\\n",
       "0       -3.866897      6.564952     -1.885839      3.782796     -7.507340   \n",
       "1       -4.336547      7.641718     -1.925926      3.925874     -7.916286   \n",
       "2       -5.820358     11.256971     -2.132361      4.574271     -9.665933   \n",
       "3       -8.085485     17.404912     -2.086365      4.446791     -9.284912   \n",
       "4      -12.054008     29.624797     -1.890230      3.802292     -7.390484   \n",
       "..            ...           ...           ...           ...           ...   \n",
       "156     -6.558983     13.214359     -1.975945      4.201796     -8.553628   \n",
       "157     -8.312643     18.087959     -1.649860      2.947729     -5.011050   \n",
       "158     -7.506950     15.849038     -1.905292      3.865226     -7.628613   \n",
       "159     -7.827948     16.726294     -2.064648      4.503294     -9.448304   \n",
       "160     -6.825768     13.936499     -1.962642      4.104267     -8.304176   \n",
       "\n",
       "     RIGHT_BF_CC3  RIGHT_RF_CC0  RIGHT_RF_CC1  RIGHT_RF_CC2  RIGHT_RF_CC3  \n",
       "0       15.775621     -1.596165      2.942741     -5.221905      9.741447  \n",
       "1       16.916750     -1.792855      2.820985     -4.249094      7.315752  \n",
       "2       22.086627     -2.342711      5.389027    -12.142588     29.959248  \n",
       "3       20.933873     -1.995849      3.890718     -7.443976     15.635764  \n",
       "4       15.472400     -2.068291      4.427148     -9.254506     20.845065  \n",
       "..            ...           ...           ...           ...           ...  \n",
       "156     18.788340     -2.106826      4.516872     -9.514618     21.650555  \n",
       "157      9.240843     -2.136338      4.589087     -9.712202     22.261248  \n",
       "158     16.100034     -1.675735      2.932053     -5.044858      9.358856  \n",
       "159     21.422701     -2.047872      4.380225     -9.155089     20.572440  \n",
       "160     18.054243     -2.114897      4.614795     -9.827830     22.599914  \n",
       "\n",
       "[161 rows x 32 columns]"
      ]
     },
     "execution_count": 96,
     "metadata": {},
     "output_type": "execute_result"
    }
   ],
   "source": [
    "dp.compute_CC_pd(X[:,:,:])"
   ]
  },
  {
   "cell_type": "code",
   "execution_count": 55,
   "metadata": {},
   "outputs": [
    {
     "data": {
      "text/plain": [
       "(array([ 1.73091129, -1.97913677,  1.37315691, -0.60385923]),\n",
       " 0.12463132981085157)"
      ]
     },
     "execution_count": 55,
     "metadata": {},
     "output_type": "execute_result"
    }
   ],
   "source": [
    "AR_est_YW(X[0,:,0],4)"
   ]
  },
  {
   "cell_type": "code",
   "execution_count": 89,
   "metadata": {},
   "outputs": [
    {
     "data": {
      "text/plain": [
       "-6.527501598103454"
      ]
     },
     "execution_count": 89,
     "metadata": {},
     "output_type": "execute_result"
    }
   ],
   "source": [
    "-ar[2]-(1-1/3)*ar[0]*3.47716372-(1-2/3)*ar[1]*(-ar[0])"
   ]
  },
  {
   "cell_type": "code",
   "execution_count": 78,
   "metadata": {},
   "outputs": [
    {
     "data": {
      "text/plain": [
       "-1.4980269519528615"
      ]
     },
     "execution_count": 78,
     "metadata": {},
     "output_type": "execute_result"
    }
   ],
   "source": [
    "(1-0.5)*ar[0]*(-ar[0])"
   ]
  },
  {
   "cell_type": "code",
   "execution_count": 16,
   "metadata": {},
   "outputs": [
    {
     "data": {
      "text/plain": [
       "858.3790770376686"
      ]
     },
     "execution_count": 16,
     "metadata": {},
     "output_type": "execute_result"
    }
   ],
   "source": [
    "np.sum((X[0,:,0]-X[0,:,0].mean())**2)/N"
   ]
  },
  {
   "cell_type": "code",
   "execution_count": 39,
   "metadata": {},
   "outputs": [
    {
     "name": "stdout",
     "output_type": "stream",
     "text": [
      "[1, 2, 3]\n",
      "2.5\n"
     ]
    }
   ],
   "source": [
    "a = [2]\n",
    "b = [1,3,4]\n",
    "m = []\n",
    "m1 = np.inf\n",
    "m2 = np.inf\n",
    "j = 0\n",
    "k = 0\n",
    "L = len(a)+len(b)\n",
    "for i in range(L//2+1):\n",
    "    if j < len(a):\n",
    "        t1 = a[j]\n",
    "    else:\n",
    "        t1 = m1\n",
    "    if k < len(b):\n",
    "        t2 = b[k]\n",
    "    else:\n",
    "        t2 = m2\n",
    "    if t1 > t2:\n",
    "        m.append(t2)\n",
    "        k += 1\n",
    "        #m2 = t2\n",
    "    else:\n",
    "        m.append(t1)\n",
    "        j += 1\n",
    "        #m1 = t1\n",
    "print(m)\n",
    "if np.mod(L,2):\n",
    "    print(m[-1])\n",
    "else:\n",
    "    print(np.sum(m[-2:])/2)"
   ]
  },
  {
   "cell_type": "code",
   "execution_count": 12,
   "metadata": {},
   "outputs": [],
   "source": [
    "class Node(object):\n",
    "    def __init__(self,item):\n",
    "        self.item = item\n",
    "        self.next = None\n",
    "\n",
    "class linked_list(object):\n",
    "    def __init__(self):\n",
    "        self._head = None\n",
    "    \n",
    "    def is_empty(self):\n",
    "        return self._head is None\n",
    "    \n",
    "    def add(self,node):\n",
    "        if self._head == None:\n",
    "            self._head = node\n",
    "        else:\n",
    "            cur = self._head\n",
    "            cur = cur.next\n",
    "            cur = node"
   ]
  },
  {
   "cell_type": "code",
   "execution_count": 13,
   "metadata": {},
   "outputs": [
    {
     "name": "stdout",
     "output_type": "stream",
     "text": [
      "None\n"
     ]
    }
   ],
   "source": [
    "l1 = linked_list()\n",
    "node1 = Node(1)\n",
    "node2 = Node(2)\n",
    "print(l1._head)"
   ]
  },
  {
   "cell_type": "code",
   "execution_count": 14,
   "metadata": {},
   "outputs": [
    {
     "name": "stdout",
     "output_type": "stream",
     "text": [
      "1\n"
     ]
    }
   ],
   "source": [
    "l1.add(node1)\n",
    "print(l1._head.item)"
   ]
  },
  {
   "cell_type": "code",
   "execution_count": 15,
   "metadata": {},
   "outputs": [],
   "source": [
    "l1.add(node2)"
   ]
  },
  {
   "cell_type": "code",
   "execution_count": 2,
   "metadata": {},
   "outputs": [],
   "source": [
    "def check(s,left,right):\n",
    "    if left == right:\n",
    "        return True\n",
    "    elif (right-left)==1:\n",
    "        if s[left] == s[right]:\n",
    "            return True\n",
    "        else:\n",
    "            return False\n",
    "    elif (right-left)<0:\n",
    "        print('wrong indices.')\n",
    "        return False\n",
    "    else:\n",
    "        if s[left] == s[right]:\n",
    "            return check(s,left+1,right-1)\n",
    "        else:\n",
    "            return False"
   ]
  },
  {
   "cell_type": "code",
   "execution_count": 56,
   "metadata": {},
   "outputs": [
    {
     "name": "stdout",
     "output_type": "stream",
     "text": [
      "500\n"
     ]
    },
    {
     "data": {
      "text/plain": [
       "'aaaaaaaaaaaaaaaaaaaaaaaaaaaaaaaaaaaaaaaaaaaaaaaaaaaaaaaaaaaaaaaaaaaaaaaaaaaaaaaaaaaaaaaaaaaaaaaaaaaaaaaaaaaaaaaaaaaaaaaaaaaaaaaaaaaaaaaaaaaaaaaaaaaaaaaaaaaaaaaaaaaaaaaaaaaaaaaaaaaaaaaaaaaaaaaaaaaaaaaaaaaaaaaaaaaaaaaaaaaaaaaaaaaaaaaaaaaaaaaaaaaaaaaaaaaaaaaaaaaaaaaaaaaaaaaaaaaaaaaaaaaaaaaaaaaaaaaaaaaaaaaaaaaaaaaaaaaaaaaaaaaaaaaaaaaaaaaaaaaaaaaaaaaaaaaaaaaaaaaaaaaaaaaaaaaaaaaaaaaaaaaaaaaaaaaaaaaaaaaaaaaaaaaaaaaaaaaaaaaaaaaaaaaaaaaaaaaaaaaaaaaaaaaaaaaaaaaaaaaaaaaaaaaaaaaaaaaaaaaaaaaaaaaaaaaaaaaaaaaa'"
      ]
     },
     "execution_count": 56,
     "metadata": {},
     "output_type": "execute_result"
    }
   ],
   "source": [
    "s = 'aaaaaaaaaaaaaaaaaaaaaaaaaaaaaaaaaaaaaaaaaaaaaaaaaaaaaaaaaaaaaaaaaaaaaaaaaaaaaaaaaaaaaaaaaaaaaaaaaaaaaaaaaaaaaaaaaaaaaaaaaaaaaaaaaaaaaaaaaaaaaaaaaaaaaaaaaaaaaaaaaaaaaaaaaaaaaaaaaaaaaaaaaaaaaaaaaaaaaaaaaaaaaaaaaaaaaaaaaaaaaaaaaaaaaaaaaaaaaaaaaaaaaaaaaaaaaaaaaaaaaaaaaaaaaaaaaaaaaaaaaaaaaaaaaaaaaaaaaaaaaaaaaaaaaaaaaaaaaaaaaaaaaaaaaaaaaaaaaaaaaaaaaaaaaaaaaaaaaaaaaaaaaaaaaaaaaaaaaaaaaaaaaaaaaaaaaaaaaaaaaaaaaaaaaaaaaaaaaaaaaaaaaaaaaaaaaaaaaaaaaaaaaaaaaaaaaaaaaaaaaaaaaaaaaaaaaaaaaaaaaaaaaaaaaaaaaaaaaaaabcaaaaaaaaaaaaaaaaaaaaaaaaaaaaaaaaaaaaaaaaaaaaaaaaaaaaaaaaaaaaaaaaaaaaaaaaaaaaaaaaaaaaaaaaaaaaaaaaaaaaaaaaaaaaaaaaaaaaaaaaaaaaaaaaaaaaaaaaaaaaaaaaaaaaaaaaaaaaaaaaaaaaaaaaaaaaaaaaaaaaaaaaaaaaaaaaaaaaaaaaaaaaaaaaaaaaaaaaaaaaaaaaaaaaaaaaaaaaaaaaaaaaaaaaaaaaaaaaaaaaaaaaaaaaaaaaaaaaaaaaaaaaaaaaaaaaaaaaaaaaaaaaaaaaaaaaaaaaaaaaaaaaaaaaaaaaaaaaaaaaaaaaaaaaaaaaaaaaaaaaaaaaaaaaaaaaaaaaaaaaaaaaaaaaaaaaaaaaaaaaaaaaaaaaaaaaaaaaaaaaaaaaaaaaaaaaaaaaaaaaaaaaaaaaaaaaaaaaaaaaaaaaaaaaaaaaaaaaaaaaaaaaaaaaaaaaaaaaaa'\n",
    "L = len(s)\n",
    "length = 0\n",
    "left = 0\n",
    "right = 0\n",
    "for i in range(L):\n",
    "    if length >= (L-i):\n",
    "        break\n",
    "    for j in range(L-i):\n",
    "        #print(i)\n",
    "        if s[i:L-j] == s[i:L-j][::-1]:\n",
    "            if (length<(L-j-i)):\n",
    "                length = L-j-i\n",
    "                left = i\n",
    "                right = L-j\n",
    "                break\n",
    "print(length)\n",
    "s[left:right]"
   ]
  },
  {
   "cell_type": "code",
   "execution_count": 69,
   "metadata": {},
   "outputs": [],
   "source": [
    "s = ['abc','bac','acd','cab','qwe','wqe']"
   ]
  },
  {
   "cell_type": "code",
   "execution_count": 76,
   "metadata": {},
   "outputs": [],
   "source": [
    "sol = {}\n",
    "for i in s:\n",
    "    l1 = ''.join(sorted(i))\n",
    "    if l1 not in sol:\n",
    "        sol[l1] = [i]\n",
    "    else:\n",
    "        sol[l1].append(i)"
   ]
  },
  {
   "cell_type": "code",
   "execution_count": 88,
   "metadata": {},
   "outputs": [],
   "source": []
  },
  {
   "cell_type": "code",
   "execution_count": 119,
   "metadata": {},
   "outputs": [],
   "source": [
    "at = np.zeros(256)\n",
    "for i in a:\n",
    "    at[ord(i)]+=1"
   ]
  },
  {
   "cell_type": "code",
   "execution_count": 160,
   "metadata": {},
   "outputs": [
    {
     "name": "stdout",
     "output_type": "stream",
     "text": [
      "2\n",
      "1\n",
      "0\n",
      "5\n",
      "abc\n"
     ]
    }
   ],
   "source": [
    "a = 'acb'\n",
    "\n",
    "at = np.zeros(256)\n",
    "for i in a:\n",
    "    at[ord(i)]+=1\n",
    "\n",
    "b = 'ddabcadd'\n",
    "invalid=0\n",
    "for i in range(len(a)):\n",
    "    at[ord(b[i])] -= 1\n",
    "    if at[ord(b[i])]<0:\n",
    "        invalid+=1\n",
    "print(invalid)\n",
    "#print(at)\n",
    "for j in range(len(a),len(b)):\n",
    "#     at[ord(b[j-len(a)])] += 1\n",
    "#     at[ord(b[j])] -= 1\n",
    "    #print(b[j-len(a)])\n",
    "    if invalid==0:\n",
    "        print(j)\n",
    "        ind = j-len(a)\n",
    "        break\n",
    "    if at[ord(b[j-len(a)])]<0:\n",
    "        invalid-=1\n",
    "        at[ord(b[j-len(a)])] += 1\n",
    "    else:\n",
    "        at[ord(b[j-len(a)])] += 1\n",
    "    at[ord(b[j])] -= 1\n",
    "    if at[ord(b[j])]<0:\n",
    "        invalid+=1\n",
    "    \n",
    "    print(invalid)\n",
    "print(b[ind:ind+len(a)])"
   ]
  },
  {
   "cell_type": "code",
   "execution_count": 90,
   "metadata": {},
   "outputs": [],
   "source": [
    "def select_sort(ar):\n",
    "    for i in range(len(ar)-1):\n",
    "        max_i = 0\n",
    "        for j in range(1,len(ar)-i):\n",
    "            if ar[max_i] < ar[j]:\n",
    "                max_i = j\n",
    "        #print(max_i)\n",
    "        temp = ar[len(ar)-1-i]\n",
    "        ar[len(ar)-i-1] = ar[max_i]\n",
    "        ar[max_i] = temp\n",
    "    return ar\n",
    "\n",
    "def bubble_sort(ar):\n",
    "    for i in range(len(ar)-1):\n",
    "        for j in range(1,len(ar)-i):\n",
    "            if ar[j-1]>ar[j]:\n",
    "                temp = ar[j]\n",
    "                ar[j] = ar[j-1]\n",
    "                ar[j-1] = temp\n",
    "    return ar\n",
    "\n",
    "def insertion_sort(ar):\n",
    "    for i in range(1,len(ar)):\n",
    "        j = i\n",
    "        while (j>0)&(ar[j-1]>ar[j]):\n",
    "            temp = ar[j]\n",
    "            ar[j] = ar[j-1]\n",
    "            ar[j-1] = temp\n",
    "            j-=1  \n",
    "    return ar\n",
    "\n",
    "def merge(left,right):\n",
    "    ar = []\n",
    "    l = len(left)\n",
    "    r = len(right)\n",
    "    i = 0\n",
    "    j = 0\n",
    "    while (i<l)&(j<r):\n",
    "        if left[i] < right[j]:\n",
    "            ar += [left[i]]\n",
    "            i += 1\n",
    "        else:\n",
    "            ar += [right[j]]\n",
    "            j += 1\n",
    "    while i<l:\n",
    "        ar += [left[i]]\n",
    "        i += 1\n",
    "    while j<r:\n",
    "        ar += [right[j]]\n",
    "        j += 1\n",
    "    return ar\n",
    "\n",
    "def merge_sort(ar):\n",
    "    N = len(ar)\n",
    "    if N == 1:\n",
    "        return ar\n",
    "    mid = N//2\n",
    "    left = merge_sort(ar[:mid])\n",
    "    right = merge_sort(ar[mid:])\n",
    "    sol = merge(left,right)\n",
    "    return sol\n",
    "        "
   ]
  },
  {
   "cell_type": "code",
   "execution_count": 93,
   "metadata": {},
   "outputs": [
    {
     "name": "stdout",
     "output_type": "stream",
     "text": [
      "[0, 1, 2, 2, 3, 5, 6, 8, 9, 10, 11, 13, 14, 14, 14, 14, 16, 18, 18, 19]\n"
     ]
    },
    {
     "data": {
      "text/plain": [
       "array([14,  6, 18,  8,  0, 16,  2,  9, 14,  1, 14, 18,  2, 11, 10, 13, 19,\n",
       "       14,  3,  5])"
      ]
     },
     "execution_count": 93,
     "metadata": {},
     "output_type": "execute_result"
    }
   ],
   "source": [
    "ar = np.random.randint(0,20,20)\n",
    "ar1 = np.array([1,3,4])\n",
    "ar2 = np.array([2,4,6])\n",
    "print(merge_sort(ar))\n",
    "ar"
   ]
  },
  {
   "cell_type": "code",
   "execution_count": 100,
   "metadata": {},
   "outputs": [],
   "source": [
    "sels = []\n",
    "inss = []\n",
    "bubs = []\n",
    "mers = []\n",
    "for i in range(1000):\n",
    "    ar = np.random.randint(0,1000,500)\n",
    "    start = time.time()\n",
    "    sel = select_sort(ar)\n",
    "    end = time.time()\n",
    "#     print('selectsort: ',end-start)\n",
    "    sels += [end-start]\n",
    "\n",
    "    start = time.time()\n",
    "    ins = insertion_sort(ar)\n",
    "    end = time.time()\n",
    "#     print('insertion_sort: ',end-start)\n",
    "    inss += [end-start]\n",
    "\n",
    "    start = time.time()\n",
    "    bub = bubble_sort(ar)\n",
    "    end = time.time()\n",
    "#     print('bubble_sort: ',end-start)\n",
    "    bubs += [end-start]\n",
    "\n",
    "    start = time.time()\n",
    "    mer = merge_sort(ar)\n",
    "    end = time.time()\n",
    "#     print('merge_sort: ',end-start)\n",
    "    mers += [end-start]\n",
    "    if np.any(sel != ins) | np.any(ins != bub) | np.any(bub != mer):\n",
    "        print('oops.')\n",
    "        break"
   ]
  },
  {
   "cell_type": "code",
   "execution_count": 102,
   "metadata": {},
   "outputs": [
    {
     "name": "stdout",
     "output_type": "stream",
     "text": [
      "sel:  0.05720588707923889\n",
      "ins:  0.0014891383647918702\n",
      "bub:  0.060780225038528445\n",
      "mer:  0.0028363728523254396\n"
     ]
    }
   ],
   "source": [
    "print('sel: ',np.array([sels]).mean())\n",
    "print('ins: ',np.array([inss]).mean())\n",
    "print('bub: ',np.array([bubs]).mean())\n",
    "print('mer: ',np.array([mers]).mean())"
   ]
  },
  {
   "cell_type": "code",
   "execution_count": 77,
   "metadata": {},
   "outputs": [],
   "source": [
    "def generate_array(N):\n",
    "    if N==1:\n",
    "        return np.array([1])\n",
    "    half = (N+1)//2\n",
    "    ar = generate_array(half)\n",
    "    l = ar*2-1\n",
    "    r = ar*2\n",
    "    return np.concatenate([l[:half],r[:N-half]])\n",
    "\n",
    "def check(ar):\n",
    "    for i in range(len(ar)-2):\n",
    "        for j in range(i+2,len(ar)):\n",
    "            for k in range(i+1,j):\n",
    "                if ar[i]+ar[j]==2*ar[k]:\n",
    "                    print('oops.')\n",
    "                    break"
   ]
  },
  {
   "cell_type": "code",
   "execution_count": 78,
   "metadata": {},
   "outputs": [],
   "source": [
    "for i in range(1000):\n",
    "    N = np.random.randint(3,100)\n",
    "    check(generate_array(N))"
   ]
  },
  {
   "cell_type": "code",
   "execution_count": 63,
   "metadata": {},
   "outputs": [
    {
     "data": {
      "text/plain": [
       "array([ 1,  9,  5,  3, 11,  2, 10,  6,  4, 12])"
      ]
     },
     "execution_count": 63,
     "metadata": {},
     "output_type": "execute_result"
    }
   ],
   "source": [
    "generate_array(10)"
   ]
  },
  {
   "cell_type": "code",
   "execution_count": null,
   "metadata": {},
   "outputs": [],
   "source": []
  }
 ],
 "metadata": {
  "kernelspec": {
   "display_name": "Python 3",
   "language": "python",
   "name": "python3"
  },
  "language_info": {
   "codemirror_mode": {
    "name": "ipython",
    "version": 3
   },
   "file_extension": ".py",
   "mimetype": "text/x-python",
   "name": "python",
   "nbconvert_exporter": "python",
   "pygments_lexer": "ipython3",
   "version": "3.7.6"
  }
 },
 "nbformat": 4,
 "nbformat_minor": 4
}
