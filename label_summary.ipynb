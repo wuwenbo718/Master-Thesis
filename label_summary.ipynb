{
 "cells": [
  {
   "cell_type": "code",
   "execution_count": 7,
   "metadata": {},
   "outputs": [],
   "source": [
    "import numpy as np\n",
    "import pandas as pd\n",
    "import os\n",
    "import data_processing as dp\n",
    "from sklearn.preprocessing import StandardScaler\n",
    "import time"
   ]
  },
  {
   "cell_type": "code",
   "execution_count": null,
   "metadata": {},
   "outputs": [],
   "source": [
    "df = pd.DataFrame(index=[0,1,2,3,4,5,6])\n",
    "df.index.name='Label2'\n",
    "for dirname,_,filenames in os.walk('.\\data'):\n",
    "    for filename in filenames:\n",
    "        dir_depth = len(dirname.split(os.path.sep))\n",
    "        if dir_depth <= 2:\n",
    "            file = os.path.join(dirname,filename)\n",
    "            emg_data = pd.read_csv(file)\n",
    "            info = emg_data.Label2.value_counts()\n",
    "            df[filename] = info\n",
    "            #print(info)\n",
    "#df.to_csv('data_info.csv',index=True)\n",
    "df.to_csv('data_info.txt',sep='\\t',index=True)"
   ]
  },
  {
   "cell_type": "code",
   "execution_count": null,
   "metadata": {},
   "outputs": [],
   "source": [
    "with open('data_info.txt','w') as f:\n",
    "    for dirname,_,filenames in os.walk('.\\data'):\n",
    "        for filename in filenames:\n",
    "            dir_depth = len(dirname.split(os.path.sep))\n",
    "            if dir_depth <= 2:\n",
    "                emg_data = pd.read_csv(file)\n",
    "                info = emg_data.Label2.value_counts()\n",
    "                #f.write(filename+'\\n')\n",
    "                #f.write()\n",
    "                #print(os.path.join(dirname,filename))\n",
    "                #print(dir_depth)"
   ]
  },
  {
   "cell_type": "code",
   "execution_count": null,
   "metadata": {},
   "outputs": [],
   "source": [
    "df = pd.DataFrame(index=[0,1,2,3,4,5,6])\n",
    "for dirname,_,filenames in os.walk('E:\\Document\\教材\\Master thesis\\data'):\n",
    "    for filename in filenames:\n",
    "        dir_depth = len(dirname.split(os.path.sep))\n",
    "        if dir_depth == 5:\n",
    "            if filename.endswith('.csv'):\n",
    "                file = os.path.join(dirname,filename)\n",
    "                emg_data = pd.read_csv(file)\n",
    "                try:\n",
    "                    emg_data.Label2\n",
    "                except AttributeError:\n",
    "                    continue\n",
    "                else:\n",
    "                    info = emg_data.Label2.value_counts()\n",
    "                    df[filename] = info\n",
    "                print(info)\n",
    "            #print(os.path.join(dirname,filename))\n",
    "df.to_csv('whole_data_info.csv',index=True)\n",
    "#df.to_csv('whole_data_info.txt',sep='\\t',index=True)"
   ]
  },
  {
   "cell_type": "code",
   "execution_count": 27,
   "metadata": {},
   "outputs": [],
   "source": [
    "emg_data = pd.read_csv('.\\data\\P812_M050_2_B_FoG_trial_2_emg.csv')"
   ]
  },
  {
   "cell_type": "code",
   "execution_count": 5,
   "metadata": {},
   "outputs": [],
   "source": [
    "df = pd.read_csv('./useful_data_label.csv',index_col=0)"
   ]
  },
  {
   "cell_type": "code",
   "execution_count": 3,
   "metadata": {},
   "outputs": [],
   "source": [
    "df = df.fillna(0).astype('int')"
   ]
  },
  {
   "cell_type": "code",
   "execution_count": 4,
   "metadata": {},
   "outputs": [],
   "source": [
    "num = df.sum(axis=1)"
   ]
  },
  {
   "cell_type": "code",
   "execution_count": 5,
   "metadata": {},
   "outputs": [
    {
     "data": {
      "text/plain": [
       "0    14576.34375\n",
       "1     9322.81250\n",
       "2    15632.78125\n",
       "3     1228.59375\n",
       "4       65.81250\n",
       "5       -8.00000\n",
       "6     7140.87500\n",
       "dtype: float64"
      ]
     },
     "execution_count": 5,
     "metadata": {},
     "output_type": "execute_result"
    }
   ],
   "source": [
    "(num-256)/32"
   ]
  },
  {
   "cell_type": "code",
   "execution_count": 6,
   "metadata": {},
   "outputs": [
    {
     "name": "stdout",
     "output_type": "stream",
     "text": [
      "(2145, 256, 8)\n",
      "(2175, 256, 8)\n",
      "(1059, 256, 8)\n",
      "(948, 256, 8)\n",
      "(939, 256, 8)\n",
      "(4670, 256, 8)\n",
      "(6502, 256, 8)\n",
      "(10556, 256, 8)\n",
      "(850, 256, 8)\n",
      "(619, 256, 8)\n",
      "(723, 256, 8)\n",
      "(722, 256, 8)\n",
      "(629, 256, 8)\n",
      "(818, 256, 8)\n",
      "(756, 256, 8)\n",
      "(748, 256, 8)\n",
      "(782, 256, 8)\n",
      "(2617, 256, 8)\n",
      "(2045, 256, 8)\n",
      "(2196, 256, 8)\n",
      "(2031, 256, 8)\n",
      "Duration: 84.201815\n"
     ]
    }
   ],
   "source": [
    "X = []\n",
    "Y = []\n",
    "#sc = StandardScaler(with_mean=False)\n",
    "width = 256\n",
    "stride = 32\n",
    "start = time.time()\n",
    "for file in df.columns:\n",
    "    emg_data = pd.read_csv('./data/'+file)\n",
    "    emg_data = emg_data.fillna({'LEFT_TA':emg_data.LEFT_TA.mean(),\n",
    "                                'LEFT_TS':emg_data.LEFT_TS.mean(),\n",
    "                                'LEFT_BF':emg_data.LEFT_BF.mean(),\n",
    "                                'LEFT_RF':emg_data.LEFT_RF.mean(),\n",
    "                                'RIGHT_TA':emg_data.RIGHT_TA.mean(),\n",
    "                                'RIGHT_TS':emg_data.RIGHT_TS.mean(),\n",
    "                                'RIGHT_BF':emg_data.RIGHT_BF.mean(),\n",
    "                                'RIGHT_RF':emg_data.RIGHT_RF.mean()})\n",
    "    x,y = dp.generate_window_slide_data(emg_data,width=width,stride=stride,scaler=True)\n",
    "    X += x.tolist()\n",
    "    Y += y.tolist()\n",
    "    print(x.shape)\n",
    "end = time.time()\n",
    "duration = end-start\n",
    "print('Duration: %f'%(duration))"
   ]
  },
  {
   "cell_type": "code",
   "execution_count": 18,
   "metadata": {},
   "outputs": [],
   "source": [
    "if False:\n",
    "    print('true')"
   ]
  },
  {
   "cell_type": "code",
   "execution_count": 17,
   "metadata": {},
   "outputs": [
    {
     "data": {
      "text/plain": [
       "(1059, 256, 8)"
      ]
     },
     "execution_count": 17,
     "metadata": {},
     "output_type": "execute_result"
    }
   ],
   "source": [
    "np.array(X)[2].shape"
   ]
  },
  {
   "cell_type": "code",
   "execution_count": 26,
   "metadata": {},
   "outputs": [
    {
     "data": {
      "text/plain": [
       "(44530, 256, 8)"
      ]
     },
     "execution_count": 26,
     "metadata": {},
     "output_type": "execute_result"
    }
   ],
   "source": [
    "np.array(X).shape"
   ]
  },
  {
   "cell_type": "code",
   "execution_count": 33,
   "metadata": {},
   "outputs": [],
   "source": [
    "import h5py\n",
    "\n",
    "file = './processed data/data_set_after_window.hdf5'\n",
    "with h5py.File(file,'w') as f:\n",
    "    f.create_dataset('cwt_data',data=np.array(X),\n",
    "                     chunks = True,dtype = np.float32)\n",
    "    f.create_dataset('label2',data=np.array(Y), dtype = np.int8)"
   ]
  },
  {
   "cell_type": "code",
   "execution_count": 31,
   "metadata": {},
   "outputs": [
    {
     "data": {
      "text/plain": [
       "0    26775\n",
       "2    22889\n",
       "1     2842\n",
       "3      761\n",
       "Name: Label1, dtype: int64"
      ]
     },
     "execution_count": 31,
     "metadata": {},
     "output_type": "execute_result"
    }
   ],
   "source": [
    "emg_data[emg_data.Label1 == emg_data.Label2].Label1.value_counts()"
   ]
  },
  {
   "cell_type": "code",
   "execution_count": 32,
   "metadata": {},
   "outputs": [
    {
     "data": {
      "text/plain": [
       "2    34890\n",
       "0    33012\n",
       "1     4643\n",
       "3      761\n",
       "Name: Label1, dtype: int64"
      ]
     },
     "execution_count": 32,
     "metadata": {},
     "output_type": "execute_result"
    }
   ],
   "source": [
    "emg_data.Label1.value_counts()"
   ]
  },
  {
   "cell_type": "code",
   "execution_count": null,
   "metadata": {},
   "outputs": [],
   "source": []
  }
 ],
 "metadata": {
  "kernelspec": {
   "display_name": "Python 3",
   "language": "python",
   "name": "python3"
  },
  "language_info": {
   "codemirror_mode": {
    "name": "ipython",
    "version": 3
   },
   "file_extension": ".py",
   "mimetype": "text/x-python",
   "name": "python",
   "nbconvert_exporter": "python",
   "pygments_lexer": "ipython3",
   "version": "3.7.6"
  }
 },
 "nbformat": 4,
 "nbformat_minor": 4
}
