{
 "cells": [
  {
   "cell_type": "code",
   "execution_count": 6,
   "metadata": {},
   "outputs": [],
   "source": [
    "import numpy as np\n",
    "import pandas as pd\n",
    "from sklearn.preprocessing import StandardScaler, MinMaxScaler\n",
    "from scipy import signal\n",
    "import seaborn as sns\n",
    "import matplotlib.pyplot as plt\n",
    "import pywt\n",
    "import os\n",
    "import time"
   ]
  },
  {
   "cell_type": "code",
   "execution_count": 2,
   "metadata": {},
   "outputs": [
    {
     "name": "stdout",
     "output_type": "stream",
     "text": [
      ".\\data\\labels.txt\n",
      ".\\data\\P812_M050_2_B_FoG_trial1_annotation.csv\n",
      ".\\data\\P812_M050_2_B_FoG_trials.mat\n",
      ".\\data\\P812_M050_2_B_FoG_trial_1_emg.csv\n",
      ".\\data\\P812_M050_2_B_FoG_trial_1_out_left_foot.csv\n",
      ".\\data\\P812_M050_2_B_FoG_trial_1_out_lower_left_foot.csv\n",
      ".\\data\\P812_M050_2_B_FoG_trial_1_out_lower_right_foot.csv\n",
      ".\\data\\P812_M050_2_B_FoG_trial_1_out_right_foot.csv\n",
      ".\\data\\P812_M050_2_B_FoG_trial_2_emg.csv\n",
      ".\\data\\P812_M050_2_B_FoG_trial_2_out_left_foot.csv\n",
      ".\\data\\P812_M050_2_B_FoG_trial_2_out_lower_left_foot.csv\n",
      ".\\data\\P812_M050_2_B_FoG_trial_2_out_lower_right_foot.csv\n",
      ".\\data\\P812_M050_2_B_FoG_trial_2_out_right_foot.csv\n",
      ".\\data\\P812_M50_2_B_FoG_trial2_annotation.csv\n"
     ]
    }
   ],
   "source": [
    "for dirname, _, filenames in os.walk('.\\data'):\n",
    "    for filename in filenames:\n",
    "        print(os.path.join(dirname,filename))"
   ]
  },
  {
   "cell_type": "code",
   "execution_count": 3,
   "metadata": {},
   "outputs": [],
   "source": [
    "emg_data = pd.read_csv('.\\data\\P812_M050_2_B_FoG_trial_1_emg.csv')\n",
    "t1olf = pd.read_csv('.\\data\\P812_M050_2_B_FoG_trial_1_out_left_foot.csv')\n",
    "emg_data2 = pd.read_csv('.\\data\\P812_M050_2_B_FoG_trial_2_emg.csv')"
   ]
  },
  {
   "cell_type": "code",
   "execution_count": 4,
   "metadata": {
    "scrolled": true
   },
   "outputs": [
    {
     "data": {
      "text/plain": [
       "Time        0\n",
       "Label1      0\n",
       "Label2      0\n",
       "LEFT_TA     0\n",
       "LEFT_TS     0\n",
       "LEFT_BF     0\n",
       "LEFT_RF     0\n",
       "RIGHT_TA    0\n",
       "RIGHT_TS    0\n",
       "RIGHT_BF    0\n",
       "RIGHT_RF    0\n",
       "dtype: int64"
      ]
     },
     "execution_count": 4,
     "metadata": {},
     "output_type": "execute_result"
    }
   ],
   "source": [
    "emg_data = emg_data.fillna({'LEFT_BF':emg_data.LEFT_BF.mean(),\n",
    "                           'LEFT_RF':emg_data.LEFT_RF.mean(),\n",
    "                           'RIGHT_TA':emg_data.RIGHT_TA.mean(),\n",
    "                           'RIGHT_TS':emg_data.RIGHT_TS.mean(),\n",
    "                           'RIGHT_BF':emg_data.RIGHT_BF.mean(),\n",
    "                           'RIGHT_RF':emg_data.RIGHT_RF.mean()})\n",
    "emg_data.isna().sum()"
   ]
  },
  {
   "cell_type": "code",
   "execution_count": 27,
   "metadata": {},
   "outputs": [],
   "source": [
    "def scale_data(data,scaler):\n",
    "    X = data.iloc[:,3:]\n",
    "    sc = scaler()\n",
    "    X = sc.fit_transform(X)\n",
    "    data.iloc[:,3:] = X\n",
    "    return data\n",
    "\n",
    "def generate_window_slide_data(data,width = 260,stride = 30):\n",
    "    l = len(data)\n",
    "    end = (l-width)//stride+1\n",
    "    X = []\n",
    "    Y = []\n",
    "    for i in range(end):\n",
    "        if len(set(data.Label2[i*stride:i*stride+width])) == 1:\n",
    "                Y += [data.Label2[i*stride]]\n",
    "                X += [np.array(data.iloc[i*stride:i*stride+width,3:])]\n",
    "            #print(set(data.Label2[i*stride:i*stride+width]))\n",
    "        else:\n",
    "            #print(set(data.Label2[i*stride:i*stride+width]))\n",
    "            continue\n",
    "    return np.array(X,dtype=np.float32),np.array(Y,dtype=np.uint8)\n",
    "\n",
    "#def generate_CWT_feature(data,widths=260,wavelet = signal.ricker):\n",
    "#    n,t,c = data.shape\n",
    "#    cwtmatr = np.zeros((n,widths,t,c))\n",
    "#    for i in range(n):\n",
    "#        for j in range(c):\n",
    "#            cwtmatr[i,:,:,j] = signal.cwt(data[i,:,j],wavelet,np.arange(1,widths+1))\n",
    "#    return cwtmatr\n",
    "\n",
    "\n",
    "def generate_CWT_feature(data,widths=260,wavelet = 'mexh'):\n",
    "    n,t,c = data.shape\n",
    "    cwtmatr = np.zeros((n,widths,t,c))\n",
    "    for i in range(n):\n",
    "        for j in range(c):\n",
    "            cwtmatr[i,:,:,j],_ = pywt.cwt(data[i,:,j],np.arange(1,widths+1),wavelet)\n",
    "    return cwtmatr"
   ]
  },
  {
   "cell_type": "code",
   "execution_count": 36,
   "metadata": {},
   "outputs": [],
   "source": [
    "emg_data_sc = scale_data(emg_data,StandardScaler)\n",
    "#sc = StandardScaler()\n",
    "#sc.fit_transform(emg_data.iloc[:,3:])\n",
    "#emg_data_sc.iloc[:,8].plot()"
   ]
  },
  {
   "cell_type": "code",
   "execution_count": 38,
   "metadata": {},
   "outputs": [],
   "source": [
    "width = 256\n",
    "stride = 32\n",
    "widths_scale = 32\n",
    "x,y = generate_window_slide_data(emg_data_sc,width,stride)"
   ]
  },
  {
   "cell_type": "code",
   "execution_count": 39,
   "metadata": {
    "scrolled": true
   },
   "outputs": [
    {
     "name": "stdout",
     "output_type": "stream",
     "text": [
      "duration: 47.611546\n"
     ]
    }
   ],
   "source": [
    "start = time.time()\n",
    "cwtmatr = generate_CWT_feature(x,widths_scale,'mexh')\n",
    "end = time.time()\n",
    "duration = end-start\n",
    "print('duration: %f'%(duration))"
   ]
  },
  {
   "cell_type": "code",
   "execution_count": 119,
   "metadata": {},
   "outputs": [
    {
     "data": {
      "text/plain": [
       "['cgau1',\n",
       " 'cgau2',\n",
       " 'cgau3',\n",
       " 'cgau4',\n",
       " 'cgau5',\n",
       " 'cgau6',\n",
       " 'cgau7',\n",
       " 'cgau8',\n",
       " 'cmor',\n",
       " 'fbsp',\n",
       " 'gaus1',\n",
       " 'gaus2',\n",
       " 'gaus3',\n",
       " 'gaus4',\n",
       " 'gaus5',\n",
       " 'gaus6',\n",
       " 'gaus7',\n",
       " 'gaus8',\n",
       " 'mexh',\n",
       " 'morl',\n",
       " 'shan']"
      ]
     },
     "execution_count": 119,
     "metadata": {},
     "output_type": "execute_result"
    }
   ],
   "source": [
    "(np.isnan(cwtmatr)).sum()\n",
    "cwtmatr.max()"
   ]
  },
  {
   "cell_type": "code",
   "execution_count": 180,
   "metadata": {},
   "outputs": [
    {
     "name": "stdout",
     "output_type": "stream",
     "text": [
      "duration: 51.549625\n"
     ]
    }
   ],
   "source": [
    "pywt.wavelist(kind='continuous')"
   ]
  },
  {
   "cell_type": "code",
   "execution_count": 12,
   "metadata": {},
   "outputs": [],
   "source": [
    "import h5py\n",
    "\n",
    "file = './processed data/P812_trial_1_W%d_S%d_WS%d_CWT.hdf5'%(width,stride,widths_scale)\n",
    "with h5py.File(file,'w') as f:\n",
    "    f.create_dataset('cwt_data',data=cwtmatr, maxshape=(None,260,260,8),\n",
    "                     chunks = True,dtype = np.float32)\n",
    "    f.create_dataset('label2',data=y, dtype = np.int8)"
   ]
  },
  {
   "cell_type": "code",
   "execution_count": 40,
   "metadata": {},
   "outputs": [
    {
     "data": {
      "text/plain": [
       "[<matplotlib.lines.Line2D at 0x1e125ee1688>]"
      ]
     },
     "execution_count": 40,
     "metadata": {},
     "output_type": "execute_result"
    },
    {
     "data": {
      "image/png": "[encoded data removed]",
      "text/plain": [
       "<Figure size 432x288 with 1 Axes>"
      ]
     },
     "metadata": {
      "needs_background": "light"
     },
     "output_type": "display_data"
    }
   ],
   "source": [
    "plt.plot(x[1,:,1])"
   ]
  },
  {
   "cell_type": "code",
   "execution_count": 42,
   "metadata": {},
   "outputs": [
    {
     "data": {
      "image/png": "[encoded data removed]",
      "text/plain": [
       "<Figure size 432x288 with 2 Axes>"
      ]
     },
     "metadata": {
      "needs_background": "light"
     },
     "output_type": "display_data"
    },
    {
     "name": "stdout",
     "output_type": "stream",
     "text": [
      "3\n"
     ]
    }
   ],
   "source": [
    "temp = 200\n",
    "channel = 0\n",
    "plt.imshow(cwtmatr[temp,:,:,channel], cmap='PRGn', aspect='auto',\n",
    "           vmax=abs(cwtmatr[temp,:,:,channel]).max(), \n",
    "           vmin=-abs(cwtmatr[temp,:,:,channel]).max())\n",
    "plt.colorbar()\n",
    "plt.show()\n",
    "print(y[temp])"
   ]
  },
  {
   "cell_type": "code",
   "execution_count": 156,
   "metadata": {
    "scrolled": true
   },
   "outputs": [],
   "source": [
    "#label = y[ind]\n",
    "#label[label==2]=1\n"
   ]
  },
  {
   "cell_type": "code",
   "execution_count": 96,
   "metadata": {},
   "outputs": [],
   "source": [
    "from tensorflow import keras\n",
    "from tensorflow.keras import layers\n",
    "from tensorflow.keras.models import save_model\n",
    "from tensorflow.keras import callbacks, Model\n",
    "from tensorflow.keras.losses import BinaryCrossentropy,CategoricalCrossentropy\n",
    "from tensorflow.keras.utils import plot_model\n",
    "from tensorflow.keras.initializers import TruncatedNormal\n",
    "from sklearn.preprocessing import OneHotEncoder\n",
    "from sklearn.model_selection import train_test_split\n",
    "from sklearn.metrics import precision_recall_curve,confusion_matrix\n",
    "import tensorflow as tf\n",
    "from tensorflow.keras import backend as K"
   ]
  },
  {
   "cell_type": "code",
   "execution_count": 117,
   "metadata": {},
   "outputs": [],
   "source": [
    "ind = ((y==0) | (y==2))\n",
    "y_02 = y[ind]\n",
    "y_02[y_02==2]=1\n",
    "X_full,X_test,y_full,y_test = train_test_split(cwtmatr[ind],y_02,test_size = 0.2,random_state=60)\n",
    "X_train,X_valid,y_train,y_valid= train_test_split(X_full,y_full,test_size = 0.2,random_state=60)"
   ]
  },
  {
   "cell_type": "code",
   "execution_count": 161,
   "metadata": {},
   "outputs": [],
   "source": [
    "input_ = layers.Input(shape=cwtmatr.shape[1:])\n",
    "#max_pool = layers.MaxPooling2D(2)(input_)\n",
    "conv1 = layers.Conv2D(128,5,strides=(2,2),kernel_initializer=TruncatedNormal(),activation='relu',padding='same')(input_)\n",
    "max_pool1 = layers.MaxPooling2D(2)(conv1)\n",
    "conv2 = layers.Conv2D(64,5,strides=(2,2),kernel_initializer=TruncatedNormal(),activation='relu',padding='same')(max_pool1)\n",
    "max_pool2 = layers.MaxPooling2D(2)(conv2)\n",
    "flatten = layers.Flatten()(max_pool2)\n",
    "#layer1 = Dense(256,activation = 'relu')(flatten)\n",
    "dropout1 = layers.Dropout(0.3)(flatten)\n",
    "layer2 = layers.Dense(128,activation = 'relu')(dropout1)\n",
    "dropout2 = layers.Dropout(0.3)(layer2)\n",
    "output = layers.Dense(2,activation = 'softmax')(dropout2)\n",
    "model = keras.Model(inputs=[input_],outputs=[output])"
   ]
  },
  {
   "cell_type": "code",
   "execution_count": 162,
   "metadata": {},
   "outputs": [],
   "source": [
    "#ind = ((y==0) | (y==2))\n",
    "#bce = CategoricalCrossentropy()\n",
    "model.compile(loss = 'sparse_categorical_crossentropy' ,optimizer='adam',metrics=['accuracy'])\n",
    "#oh_ec = OneHotEncoder()\n",
    "#label = oh_ec.fit_transform(K.eval(y)[ind,tf.newaxis]).toarray()"
   ]
  },
  {
   "cell_type": "code",
   "execution_count": 163,
   "metadata": {},
   "outputs": [],
   "source": [
    "early_stopping = callbacks.EarlyStopping(patience = 10,monitor = 'val_accuracy', restore_best_weights=True)"
   ]
  },
  {
   "cell_type": "code",
   "execution_count": 164,
   "metadata": {
    "scrolled": true
   },
   "outputs": [
    {
     "name": "stdout",
     "output_type": "stream",
     "text": [
      "Train on 1173 samples, validate on 294 samples\n",
      "Epoch 1/100\n",
      "1173/1173 [==============================] - 11s 10ms/sample - loss: 1.2784 - accuracy: 0.5942 - val_loss: 0.6146 - val_accuracy: 0.6633\n",
      "Epoch 2/100\n",
      "1173/1173 [==============================] - 10s 8ms/sample - loss: 0.5642 - accuracy: 0.6786 - val_loss: 0.5765 - val_accuracy: 0.6735\n",
      "Epoch 3/100\n",
      "1173/1173 [==============================] - 10s 8ms/sample - loss: 0.5267 - accuracy: 0.7093 - val_loss: 0.5111 - val_accuracy: 0.7313\n",
      "Epoch 4/100\n",
      "1173/1173 [==============================] - 11s 9ms/sample - loss: 0.4724 - accuracy: 0.7758 - val_loss: 0.5265 - val_accuracy: 0.7143\n",
      "Epoch 5/100\n",
      "1173/1173 [==============================] - 10s 8ms/sample - loss: 0.4056 - accuracy: 0.8235 - val_loss: 0.4219 - val_accuracy: 0.7857\n",
      "Epoch 6/100\n",
      "1173/1173 [==============================] - 10s 8ms/sample - loss: 0.3701 - accuracy: 0.8593 - val_loss: 0.3970 - val_accuracy: 0.8367\n",
      "Epoch 7/100\n",
      "1173/1173 [==============================] - 12s 10ms/sample - loss: 0.2772 - accuracy: 0.9011 - val_loss: 0.2518 - val_accuracy: 0.9184\n",
      "Epoch 8/100\n",
      "1173/1173 [==============================] - 11s 9ms/sample - loss: 0.2351 - accuracy: 0.9190 - val_loss: 0.2480 - val_accuracy: 0.8946\n",
      "Epoch 9/100\n",
      "1173/1173 [==============================] - 11s 10ms/sample - loss: 0.1538 - accuracy: 0.9437 - val_loss: 0.1640 - val_accuracy: 0.9252\n",
      "Epoch 10/100\n",
      "1173/1173 [==============================] - 11s 9ms/sample - loss: 0.1017 - accuracy: 0.9642 - val_loss: 0.1761 - val_accuracy: 0.9286\n",
      "Epoch 11/100\n",
      "1173/1173 [==============================] - 12s 10ms/sample - loss: 0.1308 - accuracy: 0.9633 - val_loss: 0.2387 - val_accuracy: 0.9014\n",
      "Epoch 12/100\n",
      "1173/1173 [==============================] - 13s 11ms/sample - loss: 0.1136 - accuracy: 0.9693 - val_loss: 0.2720 - val_accuracy: 0.9082\n",
      "Epoch 13/100\n",
      "1173/1173 [==============================] - 13s 11ms/sample - loss: 0.1388 - accuracy: 0.9523 - val_loss: 0.1882 - val_accuracy: 0.9184\n",
      "Epoch 14/100\n",
      "1173/1173 [==============================] - 12s 10ms/sample - loss: 0.1701 - accuracy: 0.9361 - val_loss: 0.2223 - val_accuracy: 0.9048\n",
      "Epoch 15/100\n",
      "1173/1173 [==============================] - 12s 10ms/sample - loss: 0.0939 - accuracy: 0.9642 - val_loss: 0.1163 - val_accuracy: 0.9490\n",
      "Epoch 16/100\n",
      "1173/1173 [==============================] - 12s 10ms/sample - loss: 0.1022 - accuracy: 0.9608 - val_loss: 0.1831 - val_accuracy: 0.9388\n",
      "Epoch 17/100\n",
      "1173/1173 [==============================] - 12s 10ms/sample - loss: 0.0861 - accuracy: 0.9668 - val_loss: 0.1758 - val_accuracy: 0.9320\n",
      "Epoch 18/100\n",
      "1173/1173 [==============================] - 12s 10ms/sample - loss: 0.1060 - accuracy: 0.9685 - val_loss: 0.1428 - val_accuracy: 0.9456\n",
      "Epoch 19/100\n",
      "1173/1173 [==============================] - 11s 10ms/sample - loss: 0.0892 - accuracy: 0.9668 - val_loss: 0.1142 - val_accuracy: 0.9490\n",
      "Epoch 20/100\n",
      "1173/1173 [==============================] - 11s 10ms/sample - loss: 0.0798 - accuracy: 0.9676 - val_loss: 0.1547 - val_accuracy: 0.9320\n",
      "Epoch 21/100\n",
      "1173/1173 [==============================] - 9s 8ms/sample - loss: 0.0727 - accuracy: 0.9753 - val_loss: 0.1632 - val_accuracy: 0.9354\n",
      "Epoch 22/100\n",
      "1173/1173 [==============================] - 9s 8ms/sample - loss: 0.0742 - accuracy: 0.9702 - val_loss: 0.1555 - val_accuracy: 0.9456\n",
      "Epoch 23/100\n",
      "1173/1173 [==============================] - 9s 8ms/sample - loss: 0.0265 - accuracy: 0.9932 - val_loss: 0.1973 - val_accuracy: 0.9320\n",
      "Epoch 24/100\n",
      "1173/1173 [==============================] - 10s 8ms/sample - loss: 0.0557 - accuracy: 0.9829 - val_loss: 0.1054 - val_accuracy: 0.9592\n",
      "Epoch 25/100\n",
      "1173/1173 [==============================] - 10s 8ms/sample - loss: 0.0267 - accuracy: 0.9923 - val_loss: 0.0905 - val_accuracy: 0.9694\n",
      "Epoch 26/100\n",
      "1173/1173 [==============================] - 10s 9ms/sample - loss: 0.0430 - accuracy: 0.9864 - val_loss: 0.1388 - val_accuracy: 0.9524\n",
      "Epoch 27/100\n",
      "1173/1173 [==============================] - 11s 9ms/sample - loss: 0.0368 - accuracy: 0.9864 - val_loss: 0.1853 - val_accuracy: 0.9456\n",
      "Epoch 28/100\n",
      "1173/1173 [==============================] - 12s 10ms/sample - loss: 0.0486 - accuracy: 0.9872 - val_loss: 0.1358 - val_accuracy: 0.9490\n",
      "Epoch 29/100\n",
      "1173/1173 [==============================] - 13s 11ms/sample - loss: 0.0400 - accuracy: 0.9872 - val_loss: 0.1371 - val_accuracy: 0.9422\n",
      "Epoch 30/100\n",
      "1173/1173 [==============================] - 9s 8ms/sample - loss: 0.0397 - accuracy: 0.9881 - val_loss: 0.1427 - val_accuracy: 0.9626\n",
      "Epoch 31/100\n",
      "1173/1173 [==============================] - 9s 8ms/sample - loss: 0.0371 - accuracy: 0.9864 - val_loss: 0.1103 - val_accuracy: 0.9592\n",
      "Epoch 32/100\n",
      "1173/1173 [==============================] - 9s 8ms/sample - loss: 0.0244 - accuracy: 0.9906 - val_loss: 0.1011 - val_accuracy: 0.9558\n",
      "Epoch 33/100\n",
      "1173/1173 [==============================] - 9s 8ms/sample - loss: 0.0087 - accuracy: 0.9991 - val_loss: 0.0668 - val_accuracy: 0.9762\n",
      "Epoch 34/100\n",
      "1173/1173 [==============================] - 9s 8ms/sample - loss: 0.0114 - accuracy: 0.9966 - val_loss: 0.1188 - val_accuracy: 0.9558\n",
      "Epoch 35/100\n",
      "1173/1173 [==============================] - 9s 8ms/sample - loss: 0.0168 - accuracy: 0.9932 - val_loss: 0.1521 - val_accuracy: 0.9558\n",
      "Epoch 36/100\n",
      "1173/1173 [==============================] - 9s 8ms/sample - loss: 0.0214 - accuracy: 0.9932 - val_loss: 0.1196 - val_accuracy: 0.9592\n",
      "Epoch 37/100\n",
      "1173/1173 [==============================] - 9s 8ms/sample - loss: 0.0233 - accuracy: 0.9915 - val_loss: 0.1172 - val_accuracy: 0.9694\n",
      "Epoch 38/100\n",
      "1173/1173 [==============================] - 9s 8ms/sample - loss: 0.0169 - accuracy: 0.9923 - val_loss: 0.1070 - val_accuracy: 0.9592\n",
      "Epoch 39/100\n",
      "1173/1173 [==============================] - 9s 8ms/sample - loss: 0.0705 - accuracy: 0.9812 - val_loss: 0.1822 - val_accuracy: 0.9320\n",
      "Epoch 40/100\n",
      "1173/1173 [==============================] - 9s 8ms/sample - loss: 0.1156 - accuracy: 0.9650 - val_loss: 0.2350 - val_accuracy: 0.9354\n",
      "Epoch 41/100\n",
      "1173/1173 [==============================] - 9s 8ms/sample - loss: 0.0629 - accuracy: 0.9778 - val_loss: 0.1556 - val_accuracy: 0.9388\n",
      "Epoch 42/100\n",
      "1173/1173 [==============================] - 10s 8ms/sample - loss: 0.0613 - accuracy: 0.9787 - val_loss: 0.1683 - val_accuracy: 0.9286\n",
      "Epoch 43/100\n",
      "1173/1173 [==============================] - 9s 8ms/sample - loss: 0.0337 - accuracy: 0.9881 - val_loss: 0.1121 - val_accuracy: 0.9456\n"
     ]
    }
   ],
   "source": [
    "history = model.fit(X_train,y_train,validation_data=[X_valid,y_valid],\n",
    "                    epochs=100,batch_size=50,\n",
    "                   callbacks=[early_stopping])"
   ]
  },
  {
   "cell_type": "code",
   "execution_count": 169,
   "metadata": {},
   "outputs": [
    {
     "name": "stdout",
     "output_type": "stream",
     "text": [
      "\r",
      "367/1 [==================================================================================================================================================================================================================================================================================================================================================================================================================================================================================================================================================================================================================================================================================================================================================================================================================================================================================================================================================================================================================================================================================================================================================================================================================================================================================================================================================================================================================================================================================================================================================================================================================================================================================================================================================================================================================================================================================================================================================================================================================================================================================================================================================================================================================================================================================================================================================================================================================================================================================================================================================================================================================================================================================================================================================================================================================================================================================================================================================================================================================================================================================================================================================================================================================================================================================================================================================================================================================================================================================================================================================================================================================================================================================================================================================================================================================================================================================================================================================================================================================================================================================================================================================================================================================================================================================================================================================================================================================================================================================================================================================================================================================================================================================================================================================================================================================================================================================================================================================================================================================================================================================================================================================================================================================================================================================================================================================================================================================================================================================================================================================================================================================================================================================================================================================================================================================================================================================================================================================================================================================================================================================================================================================================================================================================================================================================================================================================================================================================================================================================================================================================================================================================================================================================================================================================================================================================================================================================================================================================================================================================================================================================================================================================================================================================================================================================================================================================================================================================================================================================================================================================================================================================================================================================================================================================================================================================================================================================================================================================================================================================================================================================================================================================================================================================================================================================================================================================================================================================================================================================================================================================================================================================================================================================================================================================================================================================================================================================================================================================================================================================================================================================================================================================================================================================================================================================================================================================================================================================================================================================================================================================================================================================================================================================================================================================================================================================================================================================================================================================================================================================================================================================================================================================================================================================================================================================================================================================================================================================================================================================================================================================================================================================================================================================================================================================================================================================================================================================================================================================================================================================================================================================================================================================================================================================================================================================================================================================================================================================================================] - 2s 4ms/sample - loss: 0.1688 - accuracy: 0.9728\n"
     ]
    },
    {
     "data": {
      "text/plain": [
       "[0.06801003643009579, 0.97275203]"
      ]
     },
     "execution_count": 169,
     "metadata": {},
     "output_type": "execute_result"
    }
   ],
   "source": [
    "model.evaluate(X_test,y_test)"
   ]
  },
  {
   "cell_type": "code",
   "execution_count": 165,
   "metadata": {},
   "outputs": [],
   "source": [
    "y_pred = model.predict(X_full)\n",
    "oh_ec = OneHotEncoder()\n",
    "label = oh_ec.fit_transform(y_full[:,np.newaxis]).toarray()\n",
    "precision, recall, threshold = precision_recall_curve(label[:,0],y_pred[:,0])"
   ]
  },
  {
   "cell_type": "code",
   "execution_count": 166,
   "metadata": {},
   "outputs": [
    {
     "data": {
      "text/plain": [
       "array([[520,   5],\n",
       "       [  2, 940]], dtype=int64)"
      ]
     },
     "execution_count": 166,
     "metadata": {},
     "output_type": "execute_result"
    },
    {
     "data": {
      "image/png": "[encoded data removed]",
      "text/plain": [
       "<Figure size 432x288 with 1 Axes>"
      ]
     },
     "metadata": {
      "needs_background": "light"
     },
     "output_type": "display_data"
    }
   ],
   "source": [
    "plt.plot(recall,precision)\n",
    "confusion_matrix(y_full,np.where(y_pred<0.5,1,0)[:,0])"
   ]
  },
  {
   "cell_type": "code",
   "execution_count": 167,
   "metadata": {},
   "outputs": [
    {
     "data": {
      "text/plain": [
       "[<matplotlib.lines.Line2D at 0x1e1b7b7b408>]"
      ]
     },
     "execution_count": 167,
     "metadata": {},
     "output_type": "execute_result"
    },
    {
     "data": {
      "image/png": "[encoded data removed]",
      "text/plain": [
       "<Figure size 432x288 with 1 Axes>"
      ]
     },
     "metadata": {
      "needs_background": "light"
     },
     "output_type": "display_data"
    }
   ],
   "source": [
    "plt.plot(threshold,precision[:-1])\n",
    "plt.plot(threshold,recall[:-1])"
   ]
  },
  {
   "cell_type": "code",
   "execution_count": 133,
   "metadata": {},
   "outputs": [
    {
     "data": {
      "text/plain": [
       "525"
      ]
     },
     "execution_count": 133,
     "metadata": {},
     "output_type": "execute_result"
    }
   ],
   "source": [
    "(y_full==0).sum()"
   ]
  },
  {
   "cell_type": "code",
   "execution_count": 34,
   "metadata": {},
   "outputs": [
    {
     "name": "stdout",
     "output_type": "stream",
     "text": [
      "Model: \"model_1\"\n",
      "_________________________________________________________________\n",
      "Layer (type)                 Output Shape              Param #   \n",
      "=================================================================\n",
      "input_3 (InputLayer)         [(None, 64, 256, 8)]      0         \n",
      "_________________________________________________________________\n",
      "max_pooling2d_6 (MaxPooling2 (None, 32, 128, 8)        0         \n",
      "_________________________________________________________________\n",
      "conv2d_4 (Conv2D)            (None, 16, 64, 64)        12864     \n",
      "_________________________________________________________________\n",
      "max_pooling2d_7 (MaxPooling2 (None, 8, 32, 64)         0         \n",
      "_________________________________________________________________\n",
      "conv2d_5 (Conv2D)            (None, 4, 16, 128)        204928    \n",
      "_________________________________________________________________\n",
      "max_pooling2d_8 (MaxPooling2 (None, 2, 8, 128)         0         \n",
      "_________________________________________________________________\n",
      "flatten_2 (Flatten)          (None, 2048)              0         \n",
      "_________________________________________________________________\n",
      "dropout (Dropout)            (None, 2048)              0         \n",
      "_________________________________________________________________\n",
      "dense_2 (Dense)              (None, 128)               262272    \n",
      "_________________________________________________________________\n",
      "dropout_1 (Dropout)          (None, 128)               0         \n",
      "_________________________________________________________________\n",
      "dense_3 (Dense)              (None, 2)                 258       \n",
      "=================================================================\n",
      "Total params: 480,322\n",
      "Trainable params: 480,322\n",
      "Non-trainable params: 0\n",
      "_________________________________________________________________\n"
     ]
    }
   ],
   "source": [
    "model.summary()"
   ]
  },
  {
   "cell_type": "code",
   "execution_count": 168,
   "metadata": {
    "scrolled": true
   },
   "outputs": [
    {
     "data": {
      "text/plain": [
       "(0, 1)"
      ]
     },
     "execution_count": 168,
     "metadata": {},
     "output_type": "execute_result"
    },
    {
     "data": {
      "image/png": "[encoded data removed]",
      "text/plain": [
       "<Figure size 432x288 with 1 Axes>"
      ]
     },
     "metadata": {
      "needs_background": "light"
     },
     "output_type": "display_data"
    }
   ],
   "source": [
    "pd.DataFrame(history.history).plot()\n",
    "plt.grid(True)\n",
    "plt.gca().set_ylim(0,1)"
   ]
  },
  {
   "cell_type": "code",
   "execution_count": 203,
   "metadata": {},
   "outputs": [],
   "source": [
    "model.save('Mexh_W%d_S%d_WS%d.h5'%(width,stride,widths_scale))"
   ]
  }
 ],
 "metadata": {
  "kernelspec": {
   "display_name": "Python 3",
   "language": "python",
   "name": "python3"
  },
  "language_info": {
   "codemirror_mode": {
    "name": "ipython",
    "version": 3
   },
   "file_extension": ".py",
   "mimetype": "text/x-python",
   "name": "python",
   "nbconvert_exporter": "python",
   "pygments_lexer": "ipython3",
   "version": "3.7.6"
  }
 },
 "nbformat": 4,
 "nbformat_minor": 2
}
