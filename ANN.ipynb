{
 "cells": [
  {
   "cell_type": "code",
   "execution_count": 1,
   "metadata": {},
   "outputs": [],
   "source": [
    "import numpy as np\n",
    "import pandas as pd\n",
    "from sklearn.preprocessing import StandardScaler, MinMaxScaler\n",
    "from sklearn.decomposition import PCA\n",
    "import data_processing as dp\n",
    "from scipy import signal\n",
    "from scipy.stats import skew\n",
    "import seaborn as sns\n",
    "import matplotlib.pyplot as plt\n",
    "import pywt\n",
    "import os\n",
    "import time\n",
    "import h5py"
   ]
  },
  {
   "cell_type": "code",
   "execution_count": 2,
   "metadata": {},
   "outputs": [
    {
     "name": "stdout",
     "output_type": "stream",
     "text": [
      ".\\data\\G04_FoG_trial_1_emg.csv\n",
      ".\\data\\G04_FoG_trial_2_emg.csv\n",
      ".\\data\\G06_FoG_trial_1_emg.csv\n",
      ".\\data\\G06_FoG_trial_2_emg.csv\n",
      ".\\data\\G06_FoG_trial_3_emg.csv\n",
      ".\\data\\G07_Freezing_Trial1_trial_1_emg.csv\n",
      ".\\data\\G08_FoG_1_trial_1_emg.csv\n",
      ".\\data\\G08_FoG_2_trial_1_emg.csv\n",
      ".\\data\\G11_FoG_trial_1_emg.csv\n",
      ".\\data\\G11_FoG_trial_2_emg.csv\n",
      ".\\data\\P379_M050_2_OFF_A_FoG_trial_1_emg.csv\n",
      ".\\data\\P379_M050_2_OFF_A_FoG_trial_2_emg.csv\n",
      ".\\data\\P379_M050_2_OFF_A_FoG_trial_3_emg.csv\n",
      ".\\data\\P379_M050_2_OFF_B_FoG_trial_1_emg.csv\n",
      ".\\data\\P379_M050_2_OFF_B_FoG_trial_2_emg.csv\n",
      ".\\data\\P379_M050_2_OFF_B_FoG_trial_3_emg.csv\n",
      ".\\data\\P551_M050_2_A_FoG_trial_1_emg.csv\n",
      ".\\data\\P551_M050_2_B_FoG_trial_1_emg.csv\n",
      ".\\data\\P551_M050_2_B_FoG_trial_2_emg.csv\n",
      ".\\data\\P812_M050_2_B_FoG_trial_1_emg.csv\n",
      ".\\data\\P812_M050_2_B_FoG_trial_2_emg.csv\n",
      ".\\data\\其他\\labels.txt\n",
      ".\\data\\其他\\P812_M050_2_B_FoG_trial1_annotation.csv\n",
      ".\\data\\其他\\P812_M050_2_B_FoG_trials.mat\n",
      ".\\data\\其他\\P812_M050_2_B_FoG_trial_1_out_left_foot.csv\n",
      ".\\data\\其他\\P812_M050_2_B_FoG_trial_1_out_lower_left_foot.csv\n",
      ".\\data\\其他\\P812_M050_2_B_FoG_trial_1_out_lower_right_foot.csv\n",
      ".\\data\\其他\\P812_M050_2_B_FoG_trial_1_out_right_foot.csv\n",
      ".\\data\\其他\\P812_M050_2_B_FoG_trial_2_out_left_foot.csv\n",
      ".\\data\\其他\\P812_M050_2_B_FoG_trial_2_out_lower_left_foot.csv\n",
      ".\\data\\其他\\P812_M050_2_B_FoG_trial_2_out_lower_right_foot.csv\n",
      ".\\data\\其他\\P812_M050_2_B_FoG_trial_2_out_right_foot.csv\n",
      ".\\data\\其他\\P812_M50_2_B_FoG_trial2_annotation.csv\n",
      ".\\data\\正常\\G02_Walking_trial_1_emg.csv\n",
      ".\\data\\正常\\G03_Walking_trial_1_emg.csv\n",
      ".\\data\\正常\\G03_Walking_trial_2_emg.csv\n",
      ".\\data\\正常\\G05_Walking_struct_fixed_trial_1_emg.csv\n",
      ".\\data\\正常\\G05_Walking_struct_fixed_trial_2_emg.csv\n",
      ".\\data\\正常\\G05_Walking_struct_fixed_trial_3_emg.csv\n",
      ".\\data\\正常\\G09_FoG_trial_1_emg.csv\n",
      ".\\data\\正常\\G09_FoG_trial_2_emg.csv\n",
      ".\\data\\正常\\G09_FoG_trial_3_emg.csv\n",
      ".\\data\\正常\\G09_Walking_trial_2_emg.csv\n",
      ".\\data\\正常\\G09_Walking_trial_4_emg.csv\n",
      ".\\data\\正常\\G09_Walking_trial_6_emg.csv\n",
      ".\\data\\正常\\G11_Walking_trial_2_emg.csv\n",
      ".\\data\\正常\\G11_Walking_trial_4_emg.csv\n"
     ]
    }
   ],
   "source": [
    "for dirname, _, filenames in os.walk('.\\data'):\n",
    "    for filename in filenames:\n",
    "        print(os.path.join(dirname,filename))"
   ]
  },
  {
   "cell_type": "code",
   "execution_count": 72,
   "metadata": {},
   "outputs": [],
   "source": [
    "path2 = '.\\data\\正常\\G11_Walking_trial_4_emg.csv'"
   ]
  },
  {
   "cell_type": "code",
   "execution_count": 4,
   "metadata": {},
   "outputs": [],
   "source": [
    "path = './processed data/data_set_after_window_withoutSC.hdf5'\n",
    "with h5py.File(path,'r') as f:\n",
    "    x = f['cwt_data'][...]\n",
    "    y = f['label2'][...]"
   ]
  },
  {
   "cell_type": "code",
   "execution_count": null,
   "metadata": {},
   "outputs": [],
   "source": [
    "import imp\n",
    "imp.reload(dp)"
   ]
  },
  {
   "cell_type": "code",
   "execution_count": 5,
   "metadata": {},
   "outputs": [
    {
     "data": {
      "text/plain": [
       "1"
      ]
     },
     "execution_count": 5,
     "metadata": {},
     "output_type": "execute_result"
    }
   ],
   "source": [
    "import ctypes\n",
    "player = ctypes.windll.kernel32\n",
    "player.Beep(1000,200)"
   ]
  },
  {
   "cell_type": "code",
   "execution_count": 6,
   "metadata": {},
   "outputs": [
    {
     "name": "stdout",
     "output_type": "stream",
     "text": [
      "threshold_WAMP:50.0, threshold_ZC:0.0, threshold_SSC:0.0,bins:9,ranges:(-70,70)\n",
      "IEMG,MAV,SSI,VAR,RMS,WL,ZC,SSC,WAMP,skew,Acti,AR,HIST\n"
     ]
    },
    {
     "data": {
      "text/plain": [
       "1"
      ]
     },
     "execution_count": 6,
     "metadata": {},
     "output_type": "execute_result"
    }
   ],
   "source": [
    "feature = dp.generate_feature(x,50,0,bins=9,ranges=(-70,70))\n",
    "#feature2 = dp.generate_feature(x2)\n",
    "player.Beep(1000,200)"
   ]
  },
  {
   "cell_type": "code",
   "execution_count": 73,
   "metadata": {},
   "outputs": [
    {
     "name": "stdout",
     "output_type": "stream",
     "text": [
      "threshold_WAMP:50.0, threshold_ZC:0.0, threshold_SSC:0.0,bins:9,ranges:(-70,70)\n",
      "IEMG,MAV,SSI,VAR,RMS,WL,ZC,SSC,WAMP,skew,Acti,AR,HIST\n"
     ]
    }
   ],
   "source": [
    "feature2,y2 = dp.pipeline_feature(path2,width=256,scaler=False,threshold_WAMP=50,\n",
    "                                  bins=9,ranges=(-70,70))"
   ]
  },
  {
   "cell_type": "code",
   "execution_count": 74,
   "metadata": {},
   "outputs": [],
   "source": [
    "sc = StandardScaler(with_mean=False)\n",
    "feature_sc = sc.fit_transform(feature)\n",
    "feature2_sc = sc.fit_transform(feature2)"
   ]
  },
  {
   "cell_type": "code",
   "execution_count": 20,
   "metadata": {},
   "outputs": [],
   "source": [
    "from tensorflow.keras import layers,Model,callbacks\n",
    "from sklearn.model_selection import train_test_split\n",
    "from sklearn import metrics\n",
    "from sklearn.preprocessing import OneHotEncoder"
   ]
  },
  {
   "cell_type": "code",
   "execution_count": 42,
   "metadata": {},
   "outputs": [],
   "source": [
    "#ind = ((y==1)|(y==2)|(y==3)|(y==6))\n",
    "ind = ((y==4)|(y==1)|(y==2)|(y==3)|(y==6))\n",
    "ind_f = [0,1,6,42,46,57,62]\n",
    "#y_01 = y[ind].copy()\n",
    "#y_01[y_01==1]=0\n",
    "#y_01[y_01==2]=1\n",
    "#y_01[y_01==3]=2\n",
    "#y_01[y_01==6]=3\n",
    "y_01 = y.copy()\n",
    "y_01[ind] = 1\n",
    "oh_ec = OneHotEncoder()\n",
    "y_oh = oh_ec.fit_transform(y_01[:,np.newaxis]).toarray()\n",
    "x_full,x_test,y_full,y_test = train_test_split(feature_sc[:-2000],y_01[:-2000],test_size=0.2,random_state=123)\n",
    "x_train,x_valid,y_train,y_valid = train_test_split(x_full,y_full,test_size=0.2,random_state=555)"
   ]
  },
  {
   "cell_type": "code",
   "execution_count": 66,
   "metadata": {},
   "outputs": [],
   "source": [
    "input_ = layers.Input(shape=feature.shape[1:])\n",
    "l1 = layers.Dense(128,activation='tanh')(input_)\n",
    "drop1 = layers.Dropout(0.2)(l1)\n",
    "l2 = layers.Dense(64,activation='tanh')(drop1)\n",
    "drop2 = layers.Dropout(0.2)(l2)\n",
    "#l3 = layers.Dense(32,activation='tanh')(l2)\n",
    "#l4 = layers.Dense(16,activation='tanh')(l3)\n",
    "output = layers.Dense(1,activation='sigmoid')(drop2)\n",
    "model = Model(inputs=[input_],outputs=[output])"
   ]
  },
  {
   "cell_type": "code",
   "execution_count": 67,
   "metadata": {},
   "outputs": [],
   "source": [
    "model.compile(loss='binary_crossentropy',optimizer='adam',metrics=['accuracy'])"
   ]
  },
  {
   "cell_type": "code",
   "execution_count": 68,
   "metadata": {},
   "outputs": [
    {
     "name": "stdout",
     "output_type": "stream",
     "text": [
      "Train on 27219 samples, validate on 6805 samples\n",
      "Epoch 1/100\n",
      "27219/27219 [==============================] - 2s 84us/sample - loss: 0.3941 - accuracy: 0.8306 - val_loss: 0.3529 - val_accuracy: 0.8573\n",
      "Epoch 2/100\n",
      "27219/27219 [==============================] - 2s 58us/sample - loss: 0.3183 - accuracy: 0.8729 - val_loss: 0.3373 - val_accuracy: 0.8679\n",
      "Epoch 3/100\n",
      "27219/27219 [==============================] - 1s 51us/sample - loss: 0.2959 - accuracy: 0.8825 - val_loss: 0.2785 - val_accuracy: 0.8918\n",
      "Epoch 4/100\n",
      "27219/27219 [==============================] - 1s 50us/sample - loss: 0.2805 - accuracy: 0.8908 - val_loss: 0.2586 - val_accuracy: 0.8977\n",
      "Epoch 5/100\n",
      "27219/27219 [==============================] - 1s 52us/sample - loss: 0.2677 - accuracy: 0.8953 - val_loss: 0.2359 - val_accuracy: 0.9108\n",
      "Epoch 6/100\n",
      "27219/27219 [==============================] - 1s 51us/sample - loss: 0.2544 - accuracy: 0.9006 - val_loss: 0.2246 - val_accuracy: 0.9154\n",
      "Epoch 7/100\n",
      "27219/27219 [==============================] - 1s 50us/sample - loss: 0.2426 - accuracy: 0.9091 - val_loss: 0.2253 - val_accuracy: 0.9145\n",
      "Epoch 8/100\n",
      "27219/27219 [==============================] - 1s 50us/sample - loss: 0.2290 - accuracy: 0.9107 - val_loss: 0.2101 - val_accuracy: 0.9198\n",
      "Epoch 9/100\n",
      "27219/27219 [==============================] - 1s 51us/sample - loss: 0.2255 - accuracy: 0.9127 - val_loss: 0.2081 - val_accuracy: 0.9195\n",
      "Epoch 10/100\n",
      "27219/27219 [==============================] - 1s 49us/sample - loss: 0.2225 - accuracy: 0.9155 - val_loss: 0.2149 - val_accuracy: 0.9152\n",
      "Epoch 11/100\n",
      "27219/27219 [==============================] - 1s 53us/sample - loss: 0.2112 - accuracy: 0.9197 - val_loss: 0.2000 - val_accuracy: 0.9258\n",
      "Epoch 12/100\n",
      "27219/27219 [==============================] - 1s 51us/sample - loss: 0.2078 - accuracy: 0.9213 - val_loss: 0.1918 - val_accuracy: 0.9271\n",
      "Epoch 13/100\n",
      "27219/27219 [==============================] - 1s 50us/sample - loss: 0.1967 - accuracy: 0.9261 - val_loss: 0.1825 - val_accuracy: 0.9317\n",
      "Epoch 14/100\n",
      "27219/27219 [==============================] - 1s 50us/sample - loss: 0.1935 - accuracy: 0.9275 - val_loss: 0.2110 - val_accuracy: 0.9180\n",
      "Epoch 15/100\n",
      "27219/27219 [==============================] - 1s 50us/sample - loss: 0.1889 - accuracy: 0.9300 - val_loss: 0.1752 - val_accuracy: 0.9365\n",
      "Epoch 16/100\n",
      "27219/27219 [==============================] - 1s 51us/sample - loss: 0.1858 - accuracy: 0.9306 - val_loss: 0.1756 - val_accuracy: 0.9358\n",
      "Epoch 17/100\n",
      "27219/27219 [==============================] - 1s 50us/sample - loss: 0.1821 - accuracy: 0.9310 - val_loss: 0.1659 - val_accuracy: 0.9384\n",
      "Epoch 18/100\n",
      "27219/27219 [==============================] - 1s 50us/sample - loss: 0.1777 - accuracy: 0.9328 - val_loss: 0.1868 - val_accuracy: 0.9259\n",
      "Epoch 19/100\n",
      "27219/27219 [==============================] - 1s 50us/sample - loss: 0.1698 - accuracy: 0.9372 - val_loss: 0.1713 - val_accuracy: 0.9358\n",
      "Epoch 20/100\n",
      "27219/27219 [==============================] - 1s 51us/sample - loss: 0.1708 - accuracy: 0.9382 - val_loss: 0.1636 - val_accuracy: 0.9400\n",
      "Epoch 21/100\n",
      "27219/27219 [==============================] - 1s 49us/sample - loss: 0.1627 - accuracy: 0.9402 - val_loss: 0.1803 - val_accuracy: 0.9327\n",
      "Epoch 22/100\n",
      "27219/27219 [==============================] - 1s 50us/sample - loss: 0.1611 - accuracy: 0.9404 - val_loss: 0.1537 - val_accuracy: 0.9450\n",
      "Epoch 23/100\n",
      "27219/27219 [==============================] - 1s 52us/sample - loss: 0.1584 - accuracy: 0.9424 - val_loss: 0.1565 - val_accuracy: 0.9411\n",
      "Epoch 24/100\n",
      "27219/27219 [==============================] - 1s 49us/sample - loss: 0.1569 - accuracy: 0.9429 - val_loss: 0.1454 - val_accuracy: 0.9464\n",
      "Epoch 25/100\n",
      "27219/27219 [==============================] - 1s 50us/sample - loss: 0.1516 - accuracy: 0.9441 - val_loss: 0.1368 - val_accuracy: 0.9505\n",
      "Epoch 26/100\n",
      "27219/27219 [==============================] - 1s 50us/sample - loss: 0.1480 - accuracy: 0.9448 - val_loss: 0.1422 - val_accuracy: 0.9497\n",
      "Epoch 27/100\n",
      "27219/27219 [==============================] - 1s 50us/sample - loss: 0.1477 - accuracy: 0.9461 - val_loss: 0.1442 - val_accuracy: 0.9477\n",
      "Epoch 28/100\n",
      "27219/27219 [==============================] - 1s 51us/sample - loss: 0.1404 - accuracy: 0.9475 - val_loss: 0.1405 - val_accuracy: 0.9514\n",
      "Epoch 29/100\n",
      "27219/27219 [==============================] - 1s 50us/sample - loss: 0.1386 - accuracy: 0.9478 - val_loss: 0.1529 - val_accuracy: 0.9446\n",
      "Epoch 30/100\n",
      "27219/27219 [==============================] - 1s 50us/sample - loss: 0.1383 - accuracy: 0.9490 - val_loss: 0.1350 - val_accuracy: 0.9493\n",
      "Epoch 31/100\n",
      "27219/27219 [==============================] - 1s 51us/sample - loss: 0.1323 - accuracy: 0.9512 - val_loss: 0.1264 - val_accuracy: 0.9527\n",
      "Epoch 32/100\n",
      "27219/27219 [==============================] - 1s 50us/sample - loss: 0.1349 - accuracy: 0.9499 - val_loss: 0.1265 - val_accuracy: 0.9534\n",
      "Epoch 33/100\n",
      "27219/27219 [==============================] - 1s 52us/sample - loss: 0.1340 - accuracy: 0.9513 - val_loss: 0.1369 - val_accuracy: 0.9509\n",
      "Epoch 34/100\n",
      "27219/27219 [==============================] - 2s 62us/sample - loss: 0.1305 - accuracy: 0.9525 - val_loss: 0.1281 - val_accuracy: 0.9534\n",
      "Epoch 35/100\n",
      "27219/27219 [==============================] - 2s 59us/sample - loss: 0.1226 - accuracy: 0.9551 - val_loss: 0.1248 - val_accuracy: 0.9530\n",
      "Epoch 36/100\n",
      "27219/27219 [==============================] - 1s 52us/sample - loss: 0.1258 - accuracy: 0.9543 - val_loss: 0.1353 - val_accuracy: 0.9521\n",
      "Epoch 37/100\n",
      "27219/27219 [==============================] - 1s 55us/sample - loss: 0.1233 - accuracy: 0.9558 - val_loss: 0.1261 - val_accuracy: 0.9556\n",
      "Epoch 38/100\n",
      "27219/27219 [==============================] - 1s 52us/sample - loss: 0.1192 - accuracy: 0.9571 - val_loss: 0.1199 - val_accuracy: 0.9575\n",
      "Epoch 39/100\n",
      "27219/27219 [==============================] - 1s 50us/sample - loss: 0.1190 - accuracy: 0.9557 - val_loss: 0.1263 - val_accuracy: 0.9565\n",
      "Epoch 40/100\n",
      "27219/27219 [==============================] - 1s 50us/sample - loss: 0.1175 - accuracy: 0.9571 - val_loss: 0.1220 - val_accuracy: 0.9566\n",
      "Epoch 41/100\n",
      "27219/27219 [==============================] - 1s 51us/sample - loss: 0.1166 - accuracy: 0.9564 - val_loss: 0.1229 - val_accuracy: 0.9581\n",
      "Epoch 42/100\n",
      "27219/27219 [==============================] - 1s 51us/sample - loss: 0.1147 - accuracy: 0.9586 - val_loss: 0.1329 - val_accuracy: 0.9531\n",
      "Epoch 43/100\n",
      "27219/27219 [==============================] - 1s 50us/sample - loss: 0.1107 - accuracy: 0.9586 - val_loss: 0.1225 - val_accuracy: 0.9536\n",
      "Epoch 44/100\n",
      "27219/27219 [==============================] - 1s 50us/sample - loss: 0.1096 - accuracy: 0.9605 - val_loss: 0.1141 - val_accuracy: 0.9593\n",
      "Epoch 45/100\n",
      "27219/27219 [==============================] - 1s 54us/sample - loss: 0.1091 - accuracy: 0.9593 - val_loss: 0.1164 - val_accuracy: 0.9593\n",
      "Epoch 46/100\n",
      "27219/27219 [==============================] - 1s 54us/sample - loss: 0.1123 - accuracy: 0.9589 - val_loss: 0.1109 - val_accuracy: 0.9628\n",
      "Epoch 47/100\n",
      "27219/27219 [==============================] - 1s 53us/sample - loss: 0.1055 - accuracy: 0.9614 - val_loss: 0.1086 - val_accuracy: 0.9594\n",
      "Epoch 48/100\n",
      "27219/27219 [==============================] - 1s 53us/sample - loss: 0.1060 - accuracy: 0.9606 - val_loss: 0.1272 - val_accuracy: 0.9540\n",
      "Epoch 49/100\n",
      "27219/27219 [==============================] - 1s 54us/sample - loss: 0.1035 - accuracy: 0.9619 - val_loss: 0.1255 - val_accuracy: 0.9574\n",
      "Epoch 50/100\n",
      "27219/27219 [==============================] - 1s 51us/sample - loss: 0.1032 - accuracy: 0.9614 - val_loss: 0.1176 - val_accuracy: 0.9589\n",
      "Epoch 51/100\n",
      "27219/27219 [==============================] - 1s 53us/sample - loss: 0.1003 - accuracy: 0.9644 - val_loss: 0.1044 - val_accuracy: 0.9633\n",
      "Epoch 52/100\n",
      "27219/27219 [==============================] - 1s 53us/sample - loss: 0.1021 - accuracy: 0.9623 - val_loss: 0.1051 - val_accuracy: 0.9630\n",
      "Epoch 53/100\n",
      "27219/27219 [==============================] - 1s 55us/sample - loss: 0.1012 - accuracy: 0.9630 - val_loss: 0.1067 - val_accuracy: 0.9636\n",
      "Epoch 54/100\n",
      "27219/27219 [==============================] - 2s 55us/sample - loss: 0.1014 - accuracy: 0.9623 - val_loss: 0.1436 - val_accuracy: 0.9508\n"
     ]
    },
    {
     "name": "stdout",
     "output_type": "stream",
     "text": [
      "Epoch 55/100\n",
      "27219/27219 [==============================] - 1s 49us/sample - loss: 0.1002 - accuracy: 0.9634 - val_loss: 0.1143 - val_accuracy: 0.9580\n",
      "Epoch 56/100\n",
      "27219/27219 [==============================] - 1s 50us/sample - loss: 0.0963 - accuracy: 0.9649 - val_loss: 0.1061 - val_accuracy: 0.9630\n",
      "Epoch 57/100\n",
      "27219/27219 [==============================] - 1s 48us/sample - loss: 0.0974 - accuracy: 0.9645 - val_loss: 0.1048 - val_accuracy: 0.9637\n",
      "Epoch 58/100\n",
      "27219/27219 [==============================] - 1s 48us/sample - loss: 0.0935 - accuracy: 0.9646 - val_loss: 0.1034 - val_accuracy: 0.9616\n",
      "Epoch 59/100\n",
      "27219/27219 [==============================] - 1s 49us/sample - loss: 0.0965 - accuracy: 0.9648 - val_loss: 0.1092 - val_accuracy: 0.9618\n",
      "Epoch 60/100\n",
      "27219/27219 [==============================] - 1s 49us/sample - loss: 0.0950 - accuracy: 0.9652 - val_loss: 0.1263 - val_accuracy: 0.9564\n",
      "Epoch 61/100\n",
      "27219/27219 [==============================] - 1s 48us/sample - loss: 0.0875 - accuracy: 0.9684 - val_loss: 0.1025 - val_accuracy: 0.9652\n",
      "Epoch 62/100\n",
      "27219/27219 [==============================] - 1s 49us/sample - loss: 0.0952 - accuracy: 0.9647 - val_loss: 0.0975 - val_accuracy: 0.9646\n",
      "Epoch 63/100\n",
      "27219/27219 [==============================] - 1s 49us/sample - loss: 0.0884 - accuracy: 0.9684 - val_loss: 0.1023 - val_accuracy: 0.9644\n",
      "Epoch 64/100\n",
      "27219/27219 [==============================] - 1s 49us/sample - loss: 0.0905 - accuracy: 0.9677 - val_loss: 0.0969 - val_accuracy: 0.9658\n",
      "Epoch 65/100\n",
      "27219/27219 [==============================] - 1s 51us/sample - loss: 0.0942 - accuracy: 0.9645 - val_loss: 0.0953 - val_accuracy: 0.9663\n",
      "Epoch 66/100\n",
      "27219/27219 [==============================] - 1s 49us/sample - loss: 0.0887 - accuracy: 0.9670 - val_loss: 0.0926 - val_accuracy: 0.9653\n",
      "Epoch 67/100\n",
      "27219/27219 [==============================] - 1s 50us/sample - loss: 0.0902 - accuracy: 0.9669 - val_loss: 0.1012 - val_accuracy: 0.9656\n",
      "Epoch 68/100\n",
      "27219/27219 [==============================] - 1s 49us/sample - loss: 0.0899 - accuracy: 0.9670 - val_loss: 0.1000 - val_accuracy: 0.9652\n",
      "Epoch 69/100\n",
      "27219/27219 [==============================] - 1s 49us/sample - loss: 0.0878 - accuracy: 0.9676 - val_loss: 0.0955 - val_accuracy: 0.9680\n",
      "Epoch 70/100\n",
      "27219/27219 [==============================] - 1s 50us/sample - loss: 0.0870 - accuracy: 0.9676 - val_loss: 0.1053 - val_accuracy: 0.9641\n",
      "Epoch 71/100\n",
      "27219/27219 [==============================] - 1s 55us/sample - loss: 0.0883 - accuracy: 0.9682 - val_loss: 0.0962 - val_accuracy: 0.9665\n",
      "Epoch 72/100\n",
      "27219/27219 [==============================] - 1s 51us/sample - loss: 0.0835 - accuracy: 0.9694 - val_loss: 0.0931 - val_accuracy: 0.9672\n",
      "Epoch 73/100\n",
      "27219/27219 [==============================] - 1s 55us/sample - loss: 0.0899 - accuracy: 0.9674 - val_loss: 0.1009 - val_accuracy: 0.9668\n",
      "Epoch 74/100\n",
      "27219/27219 [==============================] - 1s 53us/sample - loss: 0.0837 - accuracy: 0.9692 - val_loss: 0.0913 - val_accuracy: 0.9681\n",
      "Epoch 75/100\n",
      "27219/27219 [==============================] - 1s 51us/sample - loss: 0.0819 - accuracy: 0.9710 - val_loss: 0.0990 - val_accuracy: 0.9652\n",
      "Epoch 76/100\n",
      "27219/27219 [==============================] - 1s 51us/sample - loss: 0.0821 - accuracy: 0.9703 - val_loss: 0.0918 - val_accuracy: 0.9671\n",
      "Epoch 77/100\n",
      "27219/27219 [==============================] - 1s 51us/sample - loss: 0.0839 - accuracy: 0.9691 - val_loss: 0.0935 - val_accuracy: 0.9661\n",
      "Epoch 78/100\n",
      "27219/27219 [==============================] - 1s 52us/sample - loss: 0.0800 - accuracy: 0.9708 - val_loss: 0.0934 - val_accuracy: 0.9680\n",
      "Epoch 79/100\n",
      "27219/27219 [==============================] - 1s 50us/sample - loss: 0.0828 - accuracy: 0.9705 - val_loss: 0.0938 - val_accuracy: 0.9681\n",
      "Epoch 80/100\n",
      "27219/27219 [==============================] - 1s 50us/sample - loss: 0.0778 - accuracy: 0.9715 - val_loss: 0.0979 - val_accuracy: 0.9634\n",
      "Epoch 81/100\n",
      "27219/27219 [==============================] - 1s 52us/sample - loss: 0.0811 - accuracy: 0.9686 - val_loss: 0.0936 - val_accuracy: 0.9677\n",
      "Epoch 82/100\n",
      "27219/27219 [==============================] - 1s 52us/sample - loss: 0.0783 - accuracy: 0.9708 - val_loss: 0.0951 - val_accuracy: 0.9684\n",
      "Epoch 83/100\n",
      "27219/27219 [==============================] - 2s 62us/sample - loss: 0.0752 - accuracy: 0.9724 - val_loss: 0.0908 - val_accuracy: 0.9688\n",
      "Epoch 84/100\n",
      "27219/27219 [==============================] - 2s 62us/sample - loss: 0.0786 - accuracy: 0.9704 - val_loss: 0.1043 - val_accuracy: 0.9631\n",
      "Epoch 85/100\n",
      "27219/27219 [==============================] - 2s 64us/sample - loss: 0.0781 - accuracy: 0.9711 - val_loss: 0.0985 - val_accuracy: 0.9653\n",
      "Epoch 86/100\n",
      "27219/27219 [==============================] - 2s 62us/sample - loss: 0.0793 - accuracy: 0.9702 - val_loss: 0.0893 - val_accuracy: 0.9699\n",
      "Epoch 87/100\n",
      "27219/27219 [==============================] - 2s 63us/sample - loss: 0.0790 - accuracy: 0.9709 - val_loss: 0.0824 - val_accuracy: 0.9711\n",
      "Epoch 88/100\n",
      "27219/27219 [==============================] - 2s 65us/sample - loss: 0.0734 - accuracy: 0.9726 - val_loss: 0.0959 - val_accuracy: 0.9644\n",
      "Epoch 89/100\n",
      "27219/27219 [==============================] - 2s 62us/sample - loss: 0.0728 - accuracy: 0.9749 - val_loss: 0.0826 - val_accuracy: 0.9699\n",
      "Epoch 90/100\n",
      "27219/27219 [==============================] - 2s 61us/sample - loss: 0.0738 - accuracy: 0.9726 - val_loss: 0.0865 - val_accuracy: 0.9708\n",
      "Epoch 91/100\n",
      "27219/27219 [==============================] - 2s 63us/sample - loss: 0.0765 - accuracy: 0.9710 - val_loss: 0.0979 - val_accuracy: 0.9659\n",
      "Epoch 92/100\n",
      "27219/27219 [==============================] - 2s 70us/sample - loss: 0.0755 - accuracy: 0.9730 - val_loss: 0.0842 - val_accuracy: 0.9694\n",
      "Epoch 93/100\n",
      "27219/27219 [==============================] - 2s 63us/sample - loss: 0.0762 - accuracy: 0.9721 - val_loss: 0.0965 - val_accuracy: 0.9652\n",
      "Epoch 94/100\n",
      "27219/27219 [==============================] - 2s 71us/sample - loss: 0.0722 - accuracy: 0.9734 - val_loss: 0.0848 - val_accuracy: 0.9691\n",
      "Epoch 95/100\n",
      "27219/27219 [==============================] - 2s 64us/sample - loss: 0.0730 - accuracy: 0.9725 - val_loss: 0.0864 - val_accuracy: 0.9680\n",
      "Epoch 96/100\n",
      "27219/27219 [==============================] - 1s 53us/sample - loss: 0.0745 - accuracy: 0.9726 - val_loss: 0.0827 - val_accuracy: 0.9718\n",
      "Epoch 97/100\n",
      "27219/27219 [==============================] - 1s 53us/sample - loss: 0.0725 - accuracy: 0.9731 - val_loss: 0.0931 - val_accuracy: 0.9665\n",
      "Epoch 98/100\n",
      "27219/27219 [==============================] - 1s 52us/sample - loss: 0.0703 - accuracy: 0.9735 - val_loss: 0.0850 - val_accuracy: 0.9719\n",
      "Epoch 99/100\n",
      "27219/27219 [==============================] - 1s 52us/sample - loss: 0.0712 - accuracy: 0.9747 - val_loss: 0.0887 - val_accuracy: 0.9697\n",
      "Epoch 100/100\n",
      "27219/27219 [==============================] - 1s 51us/sample - loss: 0.0711 - accuracy: 0.9741 - val_loss: 0.0793 - val_accuracy: 0.9706\n"
     ]
    }
   ],
   "source": [
    "early_stopping = callbacks.EarlyStopping(patience = 20,\n",
    "                                         monitor = 'val_accuracy', \n",
    "                                         restore_best_weights=True)\n",
    "history = model.fit(x_train,y_train,validation_data=[x_valid,y_valid],\n",
    "                    epochs=100,batch_size=50,\n",
    "                   callbacks=[early_stopping])"
   ]
  },
  {
   "cell_type": "code",
   "execution_count": 69,
   "metadata": {},
   "outputs": [
    {
     "name": "stdout",
     "output_type": "stream",
     "text": [
      "test:0.974606\n",
      "valid:0.970610\n"
     ]
    }
   ],
   "source": [
    "y_pred=model.predict(x_test)\n",
    "test = metrics.accuracy_score(y_test,y_pred>0.5)\n",
    "y_pred=model.predict(x_valid)\n",
    "valid = metrics.accuracy_score(y_valid,y_pred>0.5)\n",
    "print('test:%f'%test)\n",
    "print('valid:%f'%valid)"
   ]
  },
  {
   "cell_type": "code",
   "execution_count": 70,
   "metadata": {},
   "outputs": [
    {
     "data": {
      "text/plain": [
       "0.8476297968397292"
      ]
     },
     "execution_count": 70,
     "metadata": {},
     "output_type": "execute_result"
    }
   ],
   "source": [
    "y_pred=model.predict(feature_sc[41872:])\n",
    "metrics.accuracy_score(y_01[41872:],y_pred>0.5)"
   ]
  },
  {
   "cell_type": "code",
   "execution_count": 48,
   "metadata": {},
   "outputs": [
    {
     "data": {
      "text/plain": [
       "{0, 1}"
      ]
     },
     "execution_count": 48,
     "metadata": {},
     "output_type": "execute_result"
    }
   ],
   "source": [
    "set(y_01)"
   ]
  },
  {
   "cell_type": "code",
   "execution_count": 75,
   "metadata": {},
   "outputs": [
    {
     "data": {
      "text/plain": [
       "0.6651651651651652"
      ]
     },
     "execution_count": 75,
     "metadata": {},
     "output_type": "execute_result"
    }
   ],
   "source": [
    "y_pred=model.predict(feature2_sc)\n",
    "metrics.accuracy_score(y2,y_pred>0.5)"
   ]
  },
  {
   "cell_type": "code",
   "execution_count": null,
   "metadata": {},
   "outputs": [],
   "source": []
  }
 ],
 "metadata": {
  "kernelspec": {
   "display_name": "Python 3",
   "language": "python",
   "name": "python3"
  },
  "language_info": {
   "codemirror_mode": {
    "name": "ipython",
    "version": 3
   },
   "file_extension": ".py",
   "mimetype": "text/x-python",
   "name": "python",
   "nbconvert_exporter": "python",
   "pygments_lexer": "ipython3",
   "version": "3.7.6"
  }
 },
 "nbformat": 4,
 "nbformat_minor": 4
}
