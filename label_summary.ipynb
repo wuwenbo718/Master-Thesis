{
 "cells": [
  {
   "cell_type": "code",
   "execution_count": 1,
   "metadata": {},
   "outputs": [],
   "source": [
    "import numpy as np\n",
    "import pandas as pd\n",
    "import os\n",
    "import data_processing as dp\n",
    "from sklearn.preprocessing import StandardScaler\n",
    "import time"
   ]
  },
  {
   "cell_type": "code",
   "execution_count": null,
   "metadata": {},
   "outputs": [],
   "source": [
    "df = pd.DataFrame(index=[0,1,2,3,4,5,6])\n",
    "df.index.name='Label2'\n",
    "for dirname,_,filenames in os.walk('.\\data'):\n",
    "    for filename in filenames:\n",
    "        dir_depth = len(dirname.split(os.path.sep))\n",
    "        if dir_depth <= 2:\n",
    "            file = os.path.join(dirname,filename)\n",
    "            emg_data = pd.read_csv(file)\n",
    "            info = emg_data.Label2.value_counts()\n",
    "            df[filename] = info\n",
    "            #print(info)\n",
    "#df.to_csv('data_info.csv',index=True)\n",
    "df.to_csv('data_info.txt',sep='\\t',index=True)"
   ]
  },
  {
   "cell_type": "code",
   "execution_count": null,
   "metadata": {},
   "outputs": [],
   "source": [
    "with open('data_info.txt','w') as f:\n",
    "    for dirname,_,filenames in os.walk('.\\data'):\n",
    "        for filename in filenames:\n",
    "            dir_depth = len(dirname.split(os.path.sep))\n",
    "            if dir_depth <= 2:\n",
    "                emg_data = pd.read_csv(file)\n",
    "                info = emg_data.Label2.value_counts()\n",
    "                #f.write(filename+'\\n')\n",
    "                #f.write()\n",
    "                #print(os.path.join(dirname,filename))\n",
    "                #print(dir_depth)"
   ]
  },
  {
   "cell_type": "code",
   "execution_count": null,
   "metadata": {},
   "outputs": [],
   "source": [
    "df = pd.DataFrame(index=[0,1,2,3,4,5,6])\n",
    "for dirname,_,filenames in os.walk('E:\\Document\\教材\\Master thesis\\data'):\n",
    "    for filename in filenames:\n",
    "        dir_depth = len(dirname.split(os.path.sep))\n",
    "        if dir_depth == 5:\n",
    "            if filename.endswith('.csv'):\n",
    "                file = os.path.join(dirname,filename)\n",
    "                emg_data = pd.read_csv(file)\n",
    "                try:\n",
    "                    emg_data.Label2\n",
    "                except AttributeError:\n",
    "                    continue\n",
    "                else:\n",
    "                    info = emg_data.Label2.value_counts()\n",
    "                    df[filename] = info\n",
    "                print(info)\n",
    "            #print(os.path.join(dirname,filename))\n",
    "df.to_csv('whole_data_info.csv',index=True)\n",
    "#df.to_csv('whole_data_info.txt',sep='\\t',index=True)"
   ]
  },
  {
   "cell_type": "code",
   "execution_count": 27,
   "metadata": {},
   "outputs": [],
   "source": [
    "emg_data = pd.read_csv('.\\data\\P812_M050_2_B_FoG_trial_2_emg.csv')"
   ]
  },
  {
   "cell_type": "code",
   "execution_count": 2,
   "metadata": {},
   "outputs": [],
   "source": [
    "df = pd.read_csv('./useful_data_label.csv',index_col=0)"
   ]
  },
  {
   "cell_type": "code",
   "execution_count": 4,
   "metadata": {},
   "outputs": [
    {
     "data": {
      "text/html": [
       "<div>\n",
       "<style scoped>\n",
       "    .dataframe tbody tr th:only-of-type {\n",
       "        vertical-align: middle;\n",
       "    }\n",
       "\n",
       "    .dataframe tbody tr th {\n",
       "        vertical-align: top;\n",
       "    }\n",
       "\n",
       "    .dataframe thead th {\n",
       "        text-align: right;\n",
       "    }\n",
       "</style>\n",
       "<table border=\"1\" class=\"dataframe\">\n",
       "  <thead>\n",
       "    <tr style=\"text-align: right;\">\n",
       "      <th></th>\n",
       "      <th>G04_FoG_trial_1_emg.csv</th>\n",
       "      <th>G04_FoG_trial_2_emg.csv</th>\n",
       "      <th>G06_FoG_trial_1_emg.csv</th>\n",
       "      <th>G06_FoG_trial_2_emg.csv</th>\n",
       "      <th>G06_FoG_trial_3_emg.csv</th>\n",
       "      <th>G07_Freezing_Trial1_trial_1_emg.csv</th>\n",
       "      <th>G08_FoG_1_trial_1_emg.csv</th>\n",
       "      <th>G08_FoG_2_trial_1_emg.csv</th>\n",
       "      <th>G11_FoG_trial_1_emg.csv</th>\n",
       "      <th>G11_FoG_trial_2_emg.csv</th>\n",
       "      <th>...</th>\n",
       "      <th>P379_M050_2_OFF_A_FoG_trial_2_emg.csv</th>\n",
       "      <th>P379_M050_2_OFF_A_FoG_trial_3_emg.csv</th>\n",
       "      <th>P379_M050_2_OFF_B_FoG_trial_1_emg.csv</th>\n",
       "      <th>P379_M050_2_OFF_B_FoG_trial_2_emg.csv</th>\n",
       "      <th>P379_M050_2_OFF_B_FoG_trial_3_emg.csv</th>\n",
       "      <th>P551_M050_2_A_FoG_trial_1_emg.csv</th>\n",
       "      <th>P551_M050_2_B_FoG_trial_1_emg.csv</th>\n",
       "      <th>P551_M050_2_B_FoG_trial_2_emg.csv</th>\n",
       "      <th>P812_M050_2_B_FoG_trial_1_emg.csv</th>\n",
       "      <th>P812_M050_2_B_FoG_trial_2_emg.csv</th>\n",
       "    </tr>\n",
       "  </thead>\n",
       "  <tbody>\n",
       "    <tr>\n",
       "      <th>0</th>\n",
       "      <td>37548.0</td>\n",
       "      <td>28246.0</td>\n",
       "      <td>24774.0</td>\n",
       "      <td>21965.0</td>\n",
       "      <td>21360.0</td>\n",
       "      <td>28706.0</td>\n",
       "      <td>42447.0</td>\n",
       "      <td>25244.0</td>\n",
       "      <td>19924.0</td>\n",
       "      <td>17544.0</td>\n",
       "      <td>...</td>\n",
       "      <td>16089.0</td>\n",
       "      <td>16143.0</td>\n",
       "      <td>20448.0</td>\n",
       "      <td>17692.0</td>\n",
       "      <td>16204.0</td>\n",
       "      <td>5260.0</td>\n",
       "      <td>19597.0</td>\n",
       "      <td>16837.0</td>\n",
       "      <td>25373.0</td>\n",
       "      <td>30330.0</td>\n",
       "    </tr>\n",
       "    <tr>\n",
       "      <th>1</th>\n",
       "      <td>12202.0</td>\n",
       "      <td>14884.0</td>\n",
       "      <td>NaN</td>\n",
       "      <td>NaN</td>\n",
       "      <td>NaN</td>\n",
       "      <td>30882.0</td>\n",
       "      <td>48201.0</td>\n",
       "      <td>158281.0</td>\n",
       "      <td>560.0</td>\n",
       "      <td>NaN</td>\n",
       "      <td>...</td>\n",
       "      <td>NaN</td>\n",
       "      <td>721.0</td>\n",
       "      <td>NaN</td>\n",
       "      <td>1160.0</td>\n",
       "      <td>3121.0</td>\n",
       "      <td>NaN</td>\n",
       "      <td>11001.0</td>\n",
       "      <td>NaN</td>\n",
       "      <td>7808.0</td>\n",
       "      <td>9245.0</td>\n",
       "    </tr>\n",
       "    <tr>\n",
       "      <th>2</th>\n",
       "      <td>19362.0</td>\n",
       "      <td>25561.0</td>\n",
       "      <td>10362.0</td>\n",
       "      <td>9121.0</td>\n",
       "      <td>9441.0</td>\n",
       "      <td>25721.0</td>\n",
       "      <td>65005.0</td>\n",
       "      <td>93126.0</td>\n",
       "      <td>8482.0</td>\n",
       "      <td>3522.0</td>\n",
       "      <td>...</td>\n",
       "      <td>8242.0</td>\n",
       "      <td>4962.0</td>\n",
       "      <td>NaN</td>\n",
       "      <td>5283.0</td>\n",
       "      <td>6641.0</td>\n",
       "      <td>17801.0</td>\n",
       "      <td>58528.0</td>\n",
       "      <td>52488.0</td>\n",
       "      <td>39366.0</td>\n",
       "      <td>28329.0</td>\n",
       "    </tr>\n",
       "    <tr>\n",
       "      <th>3</th>\n",
       "      <td>3800.0</td>\n",
       "      <td>7280.0</td>\n",
       "      <td>NaN</td>\n",
       "      <td>NaN</td>\n",
       "      <td>NaN</td>\n",
       "      <td>841.0</td>\n",
       "      <td>NaN</td>\n",
       "      <td>4560.0</td>\n",
       "      <td>NaN</td>\n",
       "      <td>NaN</td>\n",
       "      <td>...</td>\n",
       "      <td>NaN</td>\n",
       "      <td>NaN</td>\n",
       "      <td>7483.0</td>\n",
       "      <td>3041.0</td>\n",
       "      <td>NaN</td>\n",
       "      <td>NaN</td>\n",
       "      <td>600.0</td>\n",
       "      <td>961.0</td>\n",
       "      <td>4922.0</td>\n",
       "      <td>5402.0</td>\n",
       "    </tr>\n",
       "    <tr>\n",
       "      <th>4</th>\n",
       "      <td>NaN</td>\n",
       "      <td>NaN</td>\n",
       "      <td>NaN</td>\n",
       "      <td>NaN</td>\n",
       "      <td>NaN</td>\n",
       "      <td>NaN</td>\n",
       "      <td>NaN</td>\n",
       "      <td>NaN</td>\n",
       "      <td>NaN</td>\n",
       "      <td>NaN</td>\n",
       "      <td>...</td>\n",
       "      <td>NaN</td>\n",
       "      <td>NaN</td>\n",
       "      <td>NaN</td>\n",
       "      <td>NaN</td>\n",
       "      <td>NaN</td>\n",
       "      <td>NaN</td>\n",
       "      <td>NaN</td>\n",
       "      <td>NaN</td>\n",
       "      <td>2362.0</td>\n",
       "      <td>NaN</td>\n",
       "    </tr>\n",
       "  </tbody>\n",
       "</table>\n",
       "<p>5 rows × 21 columns</p>\n",
       "</div>"
      ],
      "text/plain": [
       "   G04_FoG_trial_1_emg.csv  G04_FoG_trial_2_emg.csv  G06_FoG_trial_1_emg.csv  \\\n",
       "0                  37548.0                  28246.0                  24774.0   \n",
       "1                  12202.0                  14884.0                      NaN   \n",
       "2                  19362.0                  25561.0                  10362.0   \n",
       "3                   3800.0                   7280.0                      NaN   \n",
       "4                      NaN                      NaN                      NaN   \n",
       "\n",
       "   G06_FoG_trial_2_emg.csv  G06_FoG_trial_3_emg.csv  \\\n",
       "0                  21965.0                  21360.0   \n",
       "1                      NaN                      NaN   \n",
       "2                   9121.0                   9441.0   \n",
       "3                      NaN                      NaN   \n",
       "4                      NaN                      NaN   \n",
       "\n",
       "   G07_Freezing_Trial1_trial_1_emg.csv  G08_FoG_1_trial_1_emg.csv  \\\n",
       "0                              28706.0                    42447.0   \n",
       "1                              30882.0                    48201.0   \n",
       "2                              25721.0                    65005.0   \n",
       "3                                841.0                        NaN   \n",
       "4                                  NaN                        NaN   \n",
       "\n",
       "   G08_FoG_2_trial_1_emg.csv  G11_FoG_trial_1_emg.csv  \\\n",
       "0                    25244.0                  19924.0   \n",
       "1                   158281.0                    560.0   \n",
       "2                    93126.0                   8482.0   \n",
       "3                     4560.0                      NaN   \n",
       "4                        NaN                      NaN   \n",
       "\n",
       "   G11_FoG_trial_2_emg.csv  ...  P379_M050_2_OFF_A_FoG_trial_2_emg.csv  \\\n",
       "0                  17544.0  ...                                16089.0   \n",
       "1                      NaN  ...                                    NaN   \n",
       "2                   3522.0  ...                                 8242.0   \n",
       "3                      NaN  ...                                    NaN   \n",
       "4                      NaN  ...                                    NaN   \n",
       "\n",
       "   P379_M050_2_OFF_A_FoG_trial_3_emg.csv  \\\n",
       "0                                16143.0   \n",
       "1                                  721.0   \n",
       "2                                 4962.0   \n",
       "3                                    NaN   \n",
       "4                                    NaN   \n",
       "\n",
       "   P379_M050_2_OFF_B_FoG_trial_1_emg.csv  \\\n",
       "0                                20448.0   \n",
       "1                                    NaN   \n",
       "2                                    NaN   \n",
       "3                                 7483.0   \n",
       "4                                    NaN   \n",
       "\n",
       "   P379_M050_2_OFF_B_FoG_trial_2_emg.csv  \\\n",
       "0                                17692.0   \n",
       "1                                 1160.0   \n",
       "2                                 5283.0   \n",
       "3                                 3041.0   \n",
       "4                                    NaN   \n",
       "\n",
       "   P379_M050_2_OFF_B_FoG_trial_3_emg.csv  P551_M050_2_A_FoG_trial_1_emg.csv  \\\n",
       "0                                16204.0                             5260.0   \n",
       "1                                 3121.0                                NaN   \n",
       "2                                 6641.0                            17801.0   \n",
       "3                                    NaN                                NaN   \n",
       "4                                    NaN                                NaN   \n",
       "\n",
       "   P551_M050_2_B_FoG_trial_1_emg.csv  P551_M050_2_B_FoG_trial_2_emg.csv  \\\n",
       "0                            19597.0                            16837.0   \n",
       "1                            11001.0                                NaN   \n",
       "2                            58528.0                            52488.0   \n",
       "3                              600.0                              961.0   \n",
       "4                                NaN                                NaN   \n",
       "\n",
       "   P812_M050_2_B_FoG_trial_1_emg.csv  P812_M050_2_B_FoG_trial_2_emg.csv  \n",
       "0                            25373.0                            30330.0  \n",
       "1                             7808.0                             9245.0  \n",
       "2                            39366.0                            28329.0  \n",
       "3                             4922.0                             5402.0  \n",
       "4                             2362.0                                NaN  \n",
       "\n",
       "[5 rows x 21 columns]"
      ]
     },
     "execution_count": 4,
     "metadata": {},
     "output_type": "execute_result"
    }
   ],
   "source": [
    "df.head()"
   ]
  },
  {
   "cell_type": "code",
   "execution_count": 4,
   "metadata": {},
   "outputs": [],
   "source": [
    "num = df.sum(axis=1)"
   ]
  },
  {
   "cell_type": "code",
   "execution_count": 5,
   "metadata": {},
   "outputs": [
    {
     "data": {
      "text/plain": [
       "0    14576.34375\n",
       "1     9322.81250\n",
       "2    15632.78125\n",
       "3     1228.59375\n",
       "4       65.81250\n",
       "5       -8.00000\n",
       "6     7140.87500\n",
       "dtype: float64"
      ]
     },
     "execution_count": 5,
     "metadata": {},
     "output_type": "execute_result"
    }
   ],
   "source": [
    "(num-256)/32"
   ]
  },
  {
   "cell_type": "code",
   "execution_count": 3,
   "metadata": {},
   "outputs": [
    {
     "name": "stdout",
     "output_type": "stream",
     "text": [
      "(2145, 256, 8)\n",
      "(2175, 256, 8)\n",
      "(1059, 256, 8)\n",
      "(948, 256, 8)\n",
      "(939, 256, 8)\n",
      "(4670, 256, 8)\n",
      "(6502, 256, 8)\n",
      "(10556, 256, 8)\n",
      "(850, 256, 8)\n",
      "(619, 256, 8)\n",
      "(723, 256, 8)\n",
      "(722, 256, 8)\n",
      "(629, 256, 8)\n",
      "(818, 256, 8)\n",
      "(756, 256, 8)\n",
      "(748, 256, 8)\n",
      "(782, 256, 8)\n",
      "(2617, 256, 8)\n",
      "(2045, 256, 8)\n",
      "(2196, 256, 8)\n",
      "(2031, 256, 8)\n",
      "Duration: 72.984296\n"
     ]
    }
   ],
   "source": [
    "X = []\n",
    "Y = []\n",
    "#sc = StandardScaler(with_mean=False)\n",
    "width = 256\n",
    "stride = 32\n",
    "start = time.time()\n",
    "for file in df.columns:\n",
    "    emg_data = pd.read_csv('./data/'+file)\n",
    "    emg_data = emg_data.fillna({'LEFT_TA':emg_data.LEFT_TA.mean(),\n",
    "                                'LEFT_TS':emg_data.LEFT_TS.mean(),\n",
    "                                'LEFT_BF':emg_data.LEFT_BF.mean(),\n",
    "                                'LEFT_RF':emg_data.LEFT_RF.mean(),\n",
    "                                'RIGHT_TA':emg_data.RIGHT_TA.mean(),\n",
    "                                'RIGHT_TS':emg_data.RIGHT_TS.mean(),\n",
    "                                'RIGHT_BF':emg_data.RIGHT_BF.mean(),\n",
    "                                'RIGHT_RF':emg_data.RIGHT_RF.mean()})\n",
    "    #emg_data = emg_data[emg_data.Label1 == emg_data.Label2].reset_index(drop=True)\n",
    "    x,y = dp.generate_window_slide_data(emg_data,width=width,stride=stride,scaler=False)\n",
    "    X += x.tolist()\n",
    "    Y += y.tolist()\n",
    "    print(x.shape)\n",
    "end = time.time()\n",
    "duration = end-start\n",
    "print('Duration: %f'%(duration))"
   ]
  },
  {
   "cell_type": "code",
   "execution_count": 18,
   "metadata": {},
   "outputs": [],
   "source": [
    "if False:\n",
    "    print('true')"
   ]
  },
  {
   "cell_type": "code",
   "execution_count": 17,
   "metadata": {},
   "outputs": [
    {
     "data": {
      "text/plain": [
       "(1059, 256, 8)"
      ]
     },
     "execution_count": 17,
     "metadata": {},
     "output_type": "execute_result"
    }
   ],
   "source": [
    "np.array(X)[2].shape"
   ]
  },
  {
   "cell_type": "code",
   "execution_count": 26,
   "metadata": {},
   "outputs": [
    {
     "data": {
      "text/plain": [
       "(44530, 256, 8)"
      ]
     },
     "execution_count": 26,
     "metadata": {},
     "output_type": "execute_result"
    }
   ],
   "source": [
    "np.array(X).shape"
   ]
  },
  {
   "cell_type": "code",
   "execution_count": 4,
   "metadata": {},
   "outputs": [],
   "source": [
    "import h5py\n",
    "\n",
    "file = './processed data/data_set_after_window_withoutSC.hdf5'\n",
    "with h5py.File(file,'w') as f:\n",
    "    f.create_dataset('cwt_data',data=np.array(X),\n",
    "                     chunks = True,dtype = np.float32)\n",
    "    f.create_dataset('label2',data=np.array(Y), dtype = np.int8)"
   ]
  },
  {
   "cell_type": "code",
   "execution_count": 31,
   "metadata": {},
   "outputs": [
    {
     "data": {
      "text/plain": [
       "0    26775\n",
       "2    22889\n",
       "1     2842\n",
       "3      761\n",
       "Name: Label1, dtype: int64"
      ]
     },
     "execution_count": 31,
     "metadata": {},
     "output_type": "execute_result"
    }
   ],
   "source": [
    "emg_data[emg_data.Label1 == emg_data.Label2].Label1.value_counts()"
   ]
  },
  {
   "cell_type": "code",
   "execution_count": 16,
   "metadata": {},
   "outputs": [
    {
     "data": {
      "text/plain": [
       "2    14429\n",
       "0    13629\n",
       "1     8567\n",
       "6     6797\n",
       "3     1051\n",
       "4       57\n",
       "dtype: int64"
      ]
     },
     "execution_count": 16,
     "metadata": {},
     "output_type": "execute_result"
    }
   ],
   "source": [
    "pd.Series(Y).value_counts()"
   ]
  },
  {
   "cell_type": "code",
   "execution_count": 17,
   "metadata": {},
   "outputs": [],
   "source": [
    "path = './processed data/data_set_after_window_label12.hdf5'\n",
    "with h5py.File(path,'r') as f:\n",
    "    x = f['cwt_data'][...]\n",
    "    y = f['label2'][...]"
   ]
  },
  {
   "cell_type": "code",
   "execution_count": 18,
   "metadata": {},
   "outputs": [
    {
     "data": {
      "text/plain": [
       "2    11903\n",
       "0    11711\n",
       "6     5887\n",
       "1     5405\n",
       "3       92\n",
       "dtype: int64"
      ]
     },
     "execution_count": 18,
     "metadata": {},
     "output_type": "execute_result"
    }
   ],
   "source": [
    "pd.Series(y).value_counts()"
   ]
  },
  {
   "cell_type": "code",
   "execution_count": null,
   "metadata": {},
   "outputs": [],
   "source": []
  }
 ],
 "metadata": {
  "kernelspec": {
   "display_name": "Python 3",
   "language": "python",
   "name": "python3"
  },
  "language_info": {
   "codemirror_mode": {
    "name": "ipython",
    "version": 3
   },
   "file_extension": ".py",
   "mimetype": "text/x-python",
   "name": "python",
   "nbconvert_exporter": "python",
   "pygments_lexer": "ipython3",
   "version": "3.7.6"
  }
 },
 "nbformat": 4,
 "nbformat_minor": 4
}
