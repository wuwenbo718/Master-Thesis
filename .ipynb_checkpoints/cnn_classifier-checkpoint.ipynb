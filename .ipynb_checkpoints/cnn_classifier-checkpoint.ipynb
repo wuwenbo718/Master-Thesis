{
 "cells": [
  {
   "cell_type": "code",
   "execution_count": 1,
   "metadata": {},
   "outputs": [],
   "source": [
    "import numpy as np\n",
    "import pandas as pd\n",
    "from sklearn.preprocessing import StandardScaler, MinMaxScaler\n",
    "from scipy import signal\n",
    "import seaborn as sns\n",
    "import matplotlib.pyplot as plt\n",
    "import pywt\n",
    "import os\n",
    "import time"
   ]
  },
  {
   "cell_type": "code",
   "execution_count": 2,
   "metadata": {},
   "outputs": [
    {
     "name": "stdout",
     "output_type": "stream",
     "text": [
      ".\\data\\G04_FoG_trial_1_emg.csv\n",
      ".\\data\\G04_FoG_trial_2_emg.csv\n",
      ".\\data\\G06_FoG_trial_1_emg.csv\n",
      ".\\data\\G06_FoG_trial_2_emg.csv\n",
      ".\\data\\G06_FoG_trial_3_emg.csv\n",
      ".\\data\\G07_Freezing_Trial1_trial_1_emg.csv\n",
      ".\\data\\G08_FoG_1_trial_1_emg.csv\n",
      ".\\data\\G08_FoG_2_trial_1_emg.csv\n",
      ".\\data\\G11_FoG_trial_1_emg.csv\n",
      ".\\data\\G11_FoG_trial_2_emg.csv\n",
      ".\\data\\P379_M050_2_OFF_A_FoG_trial_1_emg.csv\n",
      ".\\data\\P379_M050_2_OFF_A_FoG_trial_2_emg.csv\n",
      ".\\data\\P379_M050_2_OFF_A_FoG_trial_3_emg.csv\n",
      ".\\data\\P379_M050_2_OFF_B_FoG_trial_1_emg.csv\n",
      ".\\data\\P379_M050_2_OFF_B_FoG_trial_2_emg.csv\n",
      ".\\data\\P379_M050_2_OFF_B_FoG_trial_3_emg.csv\n",
      ".\\data\\P551_M050_2_A_FoG_trial_1_emg.csv\n",
      ".\\data\\P551_M050_2_B_FoG_trial_1_emg.csv\n",
      ".\\data\\P551_M050_2_B_FoG_trial_2_emg.csv\n",
      ".\\data\\P812_M050_2_B_FoG_trial_1_emg.csv\n",
      ".\\data\\P812_M050_2_B_FoG_trial_2_emg.csv\n",
      ".\\data\\其他\\labels.txt\n",
      ".\\data\\其他\\P812_M050_2_B_FoG_trial1_annotation.csv\n",
      ".\\data\\其他\\P812_M050_2_B_FoG_trials.mat\n",
      ".\\data\\其他\\P812_M050_2_B_FoG_trial_1_out_left_foot.csv\n",
      ".\\data\\其他\\P812_M050_2_B_FoG_trial_1_out_lower_left_foot.csv\n",
      ".\\data\\其他\\P812_M050_2_B_FoG_trial_1_out_lower_right_foot.csv\n",
      ".\\data\\其他\\P812_M050_2_B_FoG_trial_1_out_right_foot.csv\n",
      ".\\data\\其他\\P812_M050_2_B_FoG_trial_2_out_left_foot.csv\n",
      ".\\data\\其他\\P812_M050_2_B_FoG_trial_2_out_lower_left_foot.csv\n",
      ".\\data\\其他\\P812_M050_2_B_FoG_trial_2_out_lower_right_foot.csv\n",
      ".\\data\\其他\\P812_M050_2_B_FoG_trial_2_out_right_foot.csv\n",
      ".\\data\\其他\\P812_M50_2_B_FoG_trial2_annotation.csv\n"
     ]
    }
   ],
   "source": [
    "for dirname, _, filenames in os.walk('.\\data'):\n",
    "    for filename in filenames:\n",
    "        print(os.path.join(dirname,filename))"
   ]
  },
  {
   "cell_type": "code",
   "execution_count": 124,
   "metadata": {},
   "outputs": [],
   "source": [
    "emg_data = pd.read_csv('.\\data\\P812_M050_2_B_FoG_trial_1_emg.csv')\n",
    "emg_data2 = pd.read_csv('.\\data\\P379_M050_2_OFF_A_FoG_trial_1_emg.csv')\n",
    "emg_data3 = pd.read_csv('.\\data\\G11_FoG_trial_2_emg.csv')"
   ]
  },
  {
   "cell_type": "code",
   "execution_count": 130,
   "metadata": {},
   "outputs": [
    {
     "data": {
      "text/html": [
       "<div>\n",
       "<style scoped>\n",
       "    .dataframe tbody tr th:only-of-type {\n",
       "        vertical-align: middle;\n",
       "    }\n",
       "\n",
       "    .dataframe tbody tr th {\n",
       "        vertical-align: top;\n",
       "    }\n",
       "\n",
       "    .dataframe thead th {\n",
       "        text-align: right;\n",
       "    }\n",
       "</style>\n",
       "<table border=\"1\" class=\"dataframe\">\n",
       "  <thead>\n",
       "    <tr style=\"text-align: right;\">\n",
       "      <th></th>\n",
       "      <th>Time</th>\n",
       "      <th>Label1</th>\n",
       "      <th>Label2</th>\n",
       "      <th>LEFT_TA</th>\n",
       "      <th>LEFT_TS</th>\n",
       "      <th>LEFT_BF</th>\n",
       "      <th>LEFT_RF</th>\n",
       "      <th>RIGHT_TA</th>\n",
       "      <th>RIGHT_TS</th>\n",
       "      <th>RIGHT_BF</th>\n",
       "      <th>RIGHT_RF</th>\n",
       "    </tr>\n",
       "  </thead>\n",
       "  <tbody>\n",
       "    <tr>\n",
       "      <th>0</th>\n",
       "      <td>0.000</td>\n",
       "      <td>0</td>\n",
       "      <td>0</td>\n",
       "      <td>-3</td>\n",
       "      <td>2</td>\n",
       "      <td>-4.000000</td>\n",
       "      <td>-1.000000</td>\n",
       "      <td>0.0</td>\n",
       "      <td>2.0</td>\n",
       "      <td>1.0</td>\n",
       "      <td>-2.0</td>\n",
       "    </tr>\n",
       "    <tr>\n",
       "      <th>1</th>\n",
       "      <td>0.001</td>\n",
       "      <td>0</td>\n",
       "      <td>0</td>\n",
       "      <td>-5</td>\n",
       "      <td>10</td>\n",
       "      <td>0.000000</td>\n",
       "      <td>-2.000000</td>\n",
       "      <td>-4.0</td>\n",
       "      <td>0.0</td>\n",
       "      <td>-7.0</td>\n",
       "      <td>-2.0</td>\n",
       "    </tr>\n",
       "    <tr>\n",
       "      <th>2</th>\n",
       "      <td>0.002</td>\n",
       "      <td>0</td>\n",
       "      <td>0</td>\n",
       "      <td>-6</td>\n",
       "      <td>11</td>\n",
       "      <td>1.000000</td>\n",
       "      <td>0.000000</td>\n",
       "      <td>-4.0</td>\n",
       "      <td>-1.0</td>\n",
       "      <td>-2.0</td>\n",
       "      <td>-3.0</td>\n",
       "    </tr>\n",
       "    <tr>\n",
       "      <th>3</th>\n",
       "      <td>0.003</td>\n",
       "      <td>0</td>\n",
       "      <td>0</td>\n",
       "      <td>0</td>\n",
       "      <td>-2</td>\n",
       "      <td>0.000000</td>\n",
       "      <td>-3.000000</td>\n",
       "      <td>-6.0</td>\n",
       "      <td>-2.0</td>\n",
       "      <td>-5.0</td>\n",
       "      <td>-8.0</td>\n",
       "    </tr>\n",
       "    <tr>\n",
       "      <th>4</th>\n",
       "      <td>0.004</td>\n",
       "      <td>0</td>\n",
       "      <td>0</td>\n",
       "      <td>0</td>\n",
       "      <td>-8</td>\n",
       "      <td>-3.000000</td>\n",
       "      <td>-3.000000</td>\n",
       "      <td>-4.0</td>\n",
       "      <td>-3.0</td>\n",
       "      <td>0.0</td>\n",
       "      <td>2.0</td>\n",
       "    </tr>\n",
       "    <tr>\n",
       "      <th>...</th>\n",
       "      <td>...</td>\n",
       "      <td>...</td>\n",
       "      <td>...</td>\n",
       "      <td>...</td>\n",
       "      <td>...</td>\n",
       "      <td>...</td>\n",
       "      <td>...</td>\n",
       "      <td>...</td>\n",
       "      <td>...</td>\n",
       "      <td>...</td>\n",
       "      <td>...</td>\n",
       "    </tr>\n",
       "    <tr>\n",
       "      <th>58305</th>\n",
       "      <td>79.826</td>\n",
       "      <td>0</td>\n",
       "      <td>0</td>\n",
       "      <td>1</td>\n",
       "      <td>15</td>\n",
       "      <td>-0.098425</td>\n",
       "      <td>-0.261414</td>\n",
       "      <td>-2.0</td>\n",
       "      <td>5.0</td>\n",
       "      <td>-2.0</td>\n",
       "      <td>8.0</td>\n",
       "    </tr>\n",
       "    <tr>\n",
       "      <th>58306</th>\n",
       "      <td>79.827</td>\n",
       "      <td>0</td>\n",
       "      <td>0</td>\n",
       "      <td>-1</td>\n",
       "      <td>25</td>\n",
       "      <td>-1.000000</td>\n",
       "      <td>81.000000</td>\n",
       "      <td>3.0</td>\n",
       "      <td>2.0</td>\n",
       "      <td>2.0</td>\n",
       "      <td>8.0</td>\n",
       "    </tr>\n",
       "    <tr>\n",
       "      <th>58307</th>\n",
       "      <td>79.828</td>\n",
       "      <td>0</td>\n",
       "      <td>0</td>\n",
       "      <td>2</td>\n",
       "      <td>-1</td>\n",
       "      <td>-0.098425</td>\n",
       "      <td>-0.261414</td>\n",
       "      <td>0.0</td>\n",
       "      <td>-2.0</td>\n",
       "      <td>2.0</td>\n",
       "      <td>5.0</td>\n",
       "    </tr>\n",
       "    <tr>\n",
       "      <th>58308</th>\n",
       "      <td>79.829</td>\n",
       "      <td>0</td>\n",
       "      <td>0</td>\n",
       "      <td>3</td>\n",
       "      <td>-9</td>\n",
       "      <td>-0.098425</td>\n",
       "      <td>-0.261414</td>\n",
       "      <td>0.0</td>\n",
       "      <td>2.0</td>\n",
       "      <td>3.0</td>\n",
       "      <td>7.0</td>\n",
       "    </tr>\n",
       "    <tr>\n",
       "      <th>58309</th>\n",
       "      <td>79.830</td>\n",
       "      <td>0</td>\n",
       "      <td>0</td>\n",
       "      <td>-1</td>\n",
       "      <td>-12</td>\n",
       "      <td>-0.098425</td>\n",
       "      <td>-0.261414</td>\n",
       "      <td>-5.0</td>\n",
       "      <td>7.0</td>\n",
       "      <td>-3.0</td>\n",
       "      <td>5.0</td>\n",
       "    </tr>\n",
       "  </tbody>\n",
       "</table>\n",
       "<p>58310 rows × 11 columns</p>\n",
       "</div>"
      ],
      "text/plain": [
       "         Time  Label1  Label2  LEFT_TA  LEFT_TS   LEFT_BF    LEFT_RF  \\\n",
       "0       0.000       0       0       -3        2 -4.000000  -1.000000   \n",
       "1       0.001       0       0       -5       10  0.000000  -2.000000   \n",
       "2       0.002       0       0       -6       11  1.000000   0.000000   \n",
       "3       0.003       0       0        0       -2  0.000000  -3.000000   \n",
       "4       0.004       0       0        0       -8 -3.000000  -3.000000   \n",
       "...       ...     ...     ...      ...      ...       ...        ...   \n",
       "58305  79.826       0       0        1       15 -0.098425  -0.261414   \n",
       "58306  79.827       0       0       -1       25 -1.000000  81.000000   \n",
       "58307  79.828       0       0        2       -1 -0.098425  -0.261414   \n",
       "58308  79.829       0       0        3       -9 -0.098425  -0.261414   \n",
       "58309  79.830       0       0       -1      -12 -0.098425  -0.261414   \n",
       "\n",
       "       RIGHT_TA  RIGHT_TS  RIGHT_BF  RIGHT_RF  \n",
       "0           0.0       2.0       1.0      -2.0  \n",
       "1          -4.0       0.0      -7.0      -2.0  \n",
       "2          -4.0      -1.0      -2.0      -3.0  \n",
       "3          -6.0      -2.0      -5.0      -8.0  \n",
       "4          -4.0      -3.0       0.0       2.0  \n",
       "...         ...       ...       ...       ...  \n",
       "58305      -2.0       5.0      -2.0       8.0  \n",
       "58306       3.0       2.0       2.0       8.0  \n",
       "58307       0.0      -2.0       2.0       5.0  \n",
       "58308       0.0       2.0       3.0       7.0  \n",
       "58309      -5.0       7.0      -3.0       5.0  \n",
       "\n",
       "[58310 rows x 11 columns]"
      ]
     },
     "execution_count": 130,
     "metadata": {},
     "output_type": "execute_result"
    }
   ],
   "source": [
    "emg_data"
   ]
  },
  {
   "cell_type": "code",
   "execution_count": 125,
   "metadata": {
    "scrolled": true
   },
   "outputs": [
    {
     "data": {
      "text/plain": [
       "Time        0\n",
       "Label1      0\n",
       "Label2      0\n",
       "LEFT_TA     0\n",
       "LEFT_TS     0\n",
       "LEFT_BF     0\n",
       "LEFT_RF     0\n",
       "RIGHT_TA    0\n",
       "RIGHT_TS    0\n",
       "RIGHT_BF    0\n",
       "RIGHT_RF    0\n",
       "dtype: int64"
      ]
     },
     "execution_count": 125,
     "metadata": {},
     "output_type": "execute_result"
    }
   ],
   "source": [
    "emg_data = emg_data.fillna({'LEFT_BF':emg_data.LEFT_BF.mean(),\n",
    "                           'LEFT_RF':emg_data.LEFT_RF.mean(),\n",
    "                           'RIGHT_TA':emg_data.RIGHT_TA.mean(),\n",
    "                           'RIGHT_TS':emg_data.RIGHT_TS.mean(),\n",
    "                           'RIGHT_BF':emg_data.RIGHT_BF.mean(),\n",
    "                           'RIGHT_RF':emg_data.RIGHT_RF.mean()})\n",
    "emg_data = emg_data[emg_data.Label1==emg_data.Label2].reset_index(drop=True)\n",
    "emg_data.isna().sum()"
   ]
  },
  {
   "cell_type": "code",
   "execution_count": 126,
   "metadata": {},
   "outputs": [
    {
     "data": {
      "text/plain": [
       "Time        0\n",
       "Label1      0\n",
       "Label2      0\n",
       "LEFT_TA     0\n",
       "LEFT_TS     0\n",
       "LEFT_BF     0\n",
       "LEFT_RF     0\n",
       "RIGHT_TA    0\n",
       "RIGHT_TS    0\n",
       "RIGHT_BF    0\n",
       "RIGHT_RF    0\n",
       "dtype: int64"
      ]
     },
     "execution_count": 126,
     "metadata": {},
     "output_type": "execute_result"
    }
   ],
   "source": [
    "emg_data2 = emg_data2.fillna({'RIGHT_TA':emg_data2.RIGHT_TA.mean()})\n",
    "emg_data2 = emg_data2[emg_data2.Label1==emg_data2.Label2].reset_index(drop=True)\n",
    "emg_data2.isna().sum()"
   ]
  },
  {
   "cell_type": "code",
   "execution_count": 127,
   "metadata": {},
   "outputs": [
    {
     "data": {
      "text/plain": [
       "Time        0\n",
       "Label1      0\n",
       "Label2      0\n",
       "LEFT_TA     0\n",
       "LEFT_TS     0\n",
       "LEFT_BF     0\n",
       "LEFT_RF     0\n",
       "RIGHT_TA    0\n",
       "RIGHT_TS    0\n",
       "RIGHT_BF    0\n",
       "RIGHT_RF    0\n",
       "dtype: int64"
      ]
     },
     "execution_count": 127,
     "metadata": {},
     "output_type": "execute_result"
    }
   ],
   "source": [
    "emg_data3 = emg_data3.fillna({'LEFT_TA':emg_data3.LEFT_TA.mean(),\n",
    "                           'LEFT_TS':emg_data3.LEFT_TS.mean(),\n",
    "                           'LEFT_BF':emg_data3.LEFT_BF.mean(),\n",
    "                           'LEFT_RF':emg_data3.LEFT_RF.mean(),\n",
    "                           'RIGHT_TA':emg_data3.RIGHT_TA.mean(),\n",
    "                           'RIGHT_TS':emg_data3.RIGHT_TS.mean(),\n",
    "                           'RIGHT_BF':emg_data3.RIGHT_BF.mean(),\n",
    "                           'RIGHT_RF':emg_data3.RIGHT_RF.mean()})\n",
    "emg_data3 = emg_data3[emg_data3.Label1==emg_data3.Label2].reset_index(drop=True)\n",
    "emg_data3.isna().sum()"
   ]
  },
  {
   "cell_type": "code",
   "execution_count": 27,
   "metadata": {},
   "outputs": [],
   "source": [
    "def scale_data(data,scaler):\n",
    "    X = data.iloc[:,3:]\n",
    "    X = sc.fit_transform(X)\n",
    "    data.iloc[:,3:] = X\n",
    "    return data\n",
    "\n",
    "def generate_window_slide_data(data,width = 256,stride = 32):\n",
    "    l = len(data)\n",
    "    end = (l-width)//stride+1\n",
    "    X = []\n",
    "    Y = []\n",
    "    sc = StandardScaler(with_mean=False)\n",
    "    for i in range(end):\n",
    "        if len(set(data.Label2[i*stride:i*stride+width])) == 1:\n",
    "                Y += [data.Label2[i*stride]]\n",
    "                x_sc = sc.fit_transform(np.array(data.iloc[i*stride:i*stride+width,3:]))\n",
    "                X += [x_sc]\n",
    "                #X += [np.array(data.iloc[i*stride:i*stride+width,3:])]\n",
    "            #print(set(data.Label2[i*stride:i*stride+width]))\n",
    "        else:\n",
    "            #print(set(data.Label2[i*stride:i*stride+width]))\n",
    "            continue\n",
    "    return np.array(X,dtype=np.float32),np.array(Y,dtype=np.uint8)\n",
    "\n",
    "#def generate_CWT_feature(data,widths=260,wavelet = signal.ricker):\n",
    "#    n,t,c = data.shape\n",
    "#    cwtmatr = np.zeros((n,widths,t,c))\n",
    "#    for i in range(n):\n",
    "#        for j in range(c):\n",
    "#            cwtmatr[i,:,:,j] = signal.cwt(data[i,:,j],wavelet,np.arange(1,widths+1))\n",
    "#    return cwtmatr\n",
    "\n",
    "\n",
    "def generate_CWT_feature(data,widths=260,wavelet = 'mexh'):\n",
    "    n,t,c = data.shape\n",
    "    cwtmatr = np.zeros((n,widths,t,c))\n",
    "    for i in range(n):\n",
    "        for j in range(c):\n",
    "            cwtmatr[i,:,:,j],_ = pywt.cwt(data[i,:,j],np.arange(1,widths+1),wavelet)\n",
    "    return cwtmatr"
   ]
  },
  {
   "cell_type": "code",
   "execution_count": 204,
   "metadata": {},
   "outputs": [],
   "source": [
    "sc = StandardScaler()\n",
    "#sc.fit(emg_data.iloc[:,3:])\n",
    "emg_data_sc = scale_data(emg_data,sc)\n",
    "emg_data_sc2 = scale_data(emg_data3,sc)\n",
    "#emg_data_sc.iloc[:,8].plot()"
   ]
  },
  {
   "cell_type": "code",
   "execution_count": 148,
   "metadata": {},
   "outputs": [],
   "source": [
    "width = 256\n",
    "stride = 32\n",
    "widths_scale = 32\n",
    "#x,y = generate_window_slide_data(emg_data,width,stride)\n",
    "x2,y2 = generate_window_slide_data(emg_data2,width,stride)"
   ]
  },
  {
   "cell_type": "code",
   "execution_count": 132,
   "metadata": {},
   "outputs": [
    {
     "data": {
      "text/plain": [
       "2    31968\n",
       "0    21138\n",
       "1     4244\n",
       "3      960\n",
       "Name: Label2, dtype: int64"
      ]
     },
     "execution_count": 132,
     "metadata": {},
     "output_type": "execute_result"
    }
   ],
   "source": [
    "emg_data.Label2.value_counts()"
   ]
  },
  {
   "cell_type": "code",
   "execution_count": 150,
   "metadata": {
    "scrolled": true
   },
   "outputs": [
    {
     "name": "stdout",
     "output_type": "stream",
     "text": [
      "duration: 13.631945\n"
     ]
    }
   ],
   "source": [
    "start = time.time()\n",
    "#cwtmatr = generate_CWT_feature(x,widths_scale,'mexh')\n",
    "cwtmatr2 = generate_CWT_feature(x2,widths_scale,'mexh')\n",
    "end = time.time()\n",
    "duration = end-start\n",
    "print('duration: %f'%(duration))"
   ]
  },
  {
   "cell_type": "code",
   "execution_count": 151,
   "metadata": {},
   "outputs": [
    {
     "data": {
      "text/plain": [
       "15.260562896728516"
      ]
     },
     "execution_count": 151,
     "metadata": {},
     "output_type": "execute_result"
    }
   ],
   "source": [
    "#cwtmatr=StandardScaler(cwtmatr)\n",
    "cwtmatr.max()"
   ]
  },
  {
   "cell_type": "code",
   "execution_count": null,
   "metadata": {},
   "outputs": [],
   "source": [
    "pywt.wavelist(kind='continuous')"
   ]
  },
  {
   "cell_type": "code",
   "execution_count": null,
   "metadata": {},
   "outputs": [],
   "source": [
    "import h5py\n",
    "\n",
    "file = './processed data/P812_trial_1_W%d_S%d_WS%d_CWT.hdf5'%(width,stride,widths_scale)\n",
    "with h5py.File(file,'w') as f:\n",
    "    f.create_dataset('cwt_data',data=cwtmatr, maxshape=(None,260,260,8),\n",
    "                     chunks = True,dtype = np.float32)\n",
    "    f.create_dataset('label2',data=y, dtype = np.int8)"
   ]
  },
  {
   "cell_type": "code",
   "execution_count": 152,
   "metadata": {},
   "outputs": [
    {
     "data": {
      "image/png": "[encoded data removed]",
      "text/plain": [
       "<Figure size 432x288 with 1 Axes>"
      ]
     },
     "metadata": {
      "needs_background": "light"
     },
     "output_type": "display_data"
    }
   ],
   "source": [
    "plt.plot(x2[100,:,0])\n",
    "plt.grid(True)"
   ]
  },
  {
   "cell_type": "code",
   "execution_count": 153,
   "metadata": {},
   "outputs": [
    {
     "data": {
      "image/png": "[encoded data removed]",
      "text/plain": [
       "<Figure size 432x288 with 2 Axes>"
      ]
     },
     "metadata": {
      "needs_background": "light"
     },
     "output_type": "display_data"
    },
    {
     "name": "stdout",
     "output_type": "stream",
     "text": [
      "0\n"
     ]
    }
   ],
   "source": [
    "temp = 200\n",
    "channel = 0\n",
    "plt.imshow(cwtmatr[temp,:,:,channel], cmap='PRGn', aspect='auto',\n",
    "           vmax=abs(cwtmatr[temp,:,:,channel]).max(), \n",
    "           vmin=-abs(cwtmatr[temp,:,:,channel]).max())\n",
    "plt.colorbar()\n",
    "plt.show()\n",
    "print(y[temp])"
   ]
  },
  {
   "cell_type": "code",
   "execution_count": 156,
   "metadata": {
    "scrolled": true
   },
   "outputs": [],
   "source": [
    "#label = y[ind]\n",
    "#label[label==2]=1\n"
   ]
  },
  {
   "cell_type": "code",
   "execution_count": 32,
   "metadata": {},
   "outputs": [],
   "source": [
    "from tensorflow import keras\n",
    "from tensorflow.keras import layers\n",
    "from tensorflow.keras.models import save_model,load_model\n",
    "from tensorflow.keras import callbacks, Model\n",
    "from tensorflow.keras.losses import BinaryCrossentropy,CategoricalCrossentropy\n",
    "from tensorflow.keras.utils import plot_model\n",
    "from tensorflow.keras.initializers import TruncatedNormal\n",
    "from sklearn.preprocessing import OneHotEncoder\n",
    "from sklearn.model_selection import train_test_split\n",
    "from sklearn.metrics import precision_recall_curve,confusion_matrix\n",
    "import tensorflow as tf\n",
    "from tensorflow.keras import backend as K"
   ]
  },
  {
   "cell_type": "code",
   "execution_count": 156,
   "metadata": {},
   "outputs": [],
   "source": [
    "ind = ((y==1) | (y==2) | (y==3) | (y==4))\n",
    "y_02 = y\n",
    "y_02[ind]=1\n",
    "X_full,X_test,y_full,y_test = train_test_split(cwtmatr,y_02,test_size = 0.2,random_state=60)\n",
    "X_train,X_valid,y_train,y_valid= train_test_split(X_full,y_full,test_size = 0.2,random_state=60)"
   ]
  },
  {
   "cell_type": "code",
   "execution_count": 157,
   "metadata": {},
   "outputs": [],
   "source": [
    "input_ = layers.Input(shape=cwtmatr.shape[1:])\n",
    "#max_pool = layers.MaxPooling2D(2)(input_)\n",
    "#bn = layers.BatchNormalization()(input_)\n",
    "conv1 = layers.Conv2D(128,5,strides=(2,2),kernel_initializer=TruncatedNormal(),activation='relu',padding='same')(input_)\n",
    "max_pool1 = layers.MaxPooling2D(2)(conv1)\n",
    "conv2 = layers.Conv2D(64,5,strides=(2,2),kernel_initializer=TruncatedNormal(),activation='relu',padding='same')(max_pool1)\n",
    "max_pool2 = layers.MaxPooling2D(2)(conv2)\n",
    "flatten = layers.Flatten()(max_pool2)\n",
    "#layer1 = Dense(256,activation = 'relu')(flatten)\n",
    "dropout1 = layers.Dropout(0.3)(flatten)\n",
    "layer2 = layers.Dense(128,activation = 'relu')(dropout1)\n",
    "dropout2 = layers.Dropout(0.3)(layer2)\n",
    "output = layers.Dense(2,activation = 'softmax')(dropout2)\n",
    "model = keras.Model(inputs=[input_],outputs=[output])"
   ]
  },
  {
   "cell_type": "code",
   "execution_count": 158,
   "metadata": {},
   "outputs": [],
   "source": [
    "#ind = ((y==0) | (y==2))\n",
    "#bce = CategoricalCrossentropy()\n",
    "model.compile(loss = 'sparse_categorical_crossentropy' ,optimizer='adam',metrics=['accuracy'])\n",
    "#oh_ec = OneHotEncoder()\n",
    "#label = oh_ec.fit_transform(K.eval(y)[ind,tf.newaxis]).toarray()"
   ]
  },
  {
   "cell_type": "code",
   "execution_count": 159,
   "metadata": {},
   "outputs": [],
   "source": [
    "early_stopping = callbacks.EarlyStopping(patience = 10,monitor = 'val_accuracy', restore_best_weights=True)"
   ]
  },
  {
   "cell_type": "code",
   "execution_count": 160,
   "metadata": {
    "scrolled": true
   },
   "outputs": [
    {
     "name": "stdout",
     "output_type": "stream",
     "text": [
      "Train on 1064 samples, validate on 266 samples\n",
      "Epoch 1/100\n",
      "1064/1064 [==============================] - 13s 12ms/sample - loss: 1.7207 - accuracy: 0.5160 - val_loss: 0.6514 - val_accuracy: 0.6391\n",
      "Epoch 2/100\n",
      "1064/1064 [==============================] - 8s 8ms/sample - loss: 0.6402 - accuracy: 0.6372 - val_loss: 0.6030 - val_accuracy: 0.6692\n",
      "Epoch 3/100\n",
      "1064/1064 [==============================] - 8s 8ms/sample - loss: 0.5778 - accuracy: 0.6974 - val_loss: 0.5633 - val_accuracy: 0.7444\n",
      "Epoch 4/100\n",
      "1064/1064 [==============================] - 8s 8ms/sample - loss: 0.5186 - accuracy: 0.7547 - val_loss: 0.5404 - val_accuracy: 0.7444\n",
      "Epoch 5/100\n",
      "1064/1064 [==============================] - 8s 8ms/sample - loss: 0.4513 - accuracy: 0.8055 - val_loss: 0.4553 - val_accuracy: 0.8045\n",
      "Epoch 6/100\n",
      "1064/1064 [==============================] - 8s 8ms/sample - loss: 0.4224 - accuracy: 0.8167 - val_loss: 0.4574 - val_accuracy: 0.8008\n",
      "Epoch 7/100\n",
      "1064/1064 [==============================] - 9s 8ms/sample - loss: 0.3395 - accuracy: 0.8571 - val_loss: 0.4172 - val_accuracy: 0.8008\n",
      "Epoch 8/100\n",
      "1064/1064 [==============================] - 8s 8ms/sample - loss: 0.2674 - accuracy: 0.8882 - val_loss: 0.5430 - val_accuracy: 0.7180\n",
      "Epoch 9/100\n",
      "1064/1064 [==============================] - 8s 8ms/sample - loss: 0.3570 - accuracy: 0.8421 - val_loss: 0.3020 - val_accuracy: 0.8722\n",
      "Epoch 10/100\n",
      "1064/1064 [==============================] - 9s 8ms/sample - loss: 0.2568 - accuracy: 0.8947 - val_loss: 0.3800 - val_accuracy: 0.8233\n",
      "Epoch 11/100\n",
      "1064/1064 [==============================] - 8s 8ms/sample - loss: 0.2112 - accuracy: 0.9060 - val_loss: 0.2315 - val_accuracy: 0.9135\n",
      "Epoch 12/100\n",
      "1064/1064 [==============================] - 8s 8ms/sample - loss: 0.1744 - accuracy: 0.9173 - val_loss: 0.3487 - val_accuracy: 0.8496\n",
      "Epoch 13/100\n",
      "1064/1064 [==============================] - 10s 9ms/sample - loss: 0.1248 - accuracy: 0.9605 - val_loss: 0.1663 - val_accuracy: 0.9474\n",
      "Epoch 14/100\n",
      "1064/1064 [==============================] - 11s 10ms/sample - loss: 0.0893 - accuracy: 0.9699 - val_loss: 0.1259 - val_accuracy: 0.9624\n",
      "Epoch 15/100\n",
      "1064/1064 [==============================] - 10s 10ms/sample - loss: 0.0669 - accuracy: 0.9756 - val_loss: 0.2001 - val_accuracy: 0.9248\n",
      "Epoch 16/100\n",
      "1064/1064 [==============================] - 8s 8ms/sample - loss: 0.0678 - accuracy: 0.9756 - val_loss: 0.1292 - val_accuracy: 0.9511\n",
      "Epoch 17/100\n",
      "1064/1064 [==============================] - 8s 8ms/sample - loss: 0.0727 - accuracy: 0.9756 - val_loss: 0.1482 - val_accuracy: 0.9361\n",
      "Epoch 18/100\n",
      "1064/1064 [==============================] - 8s 8ms/sample - loss: 0.0741 - accuracy: 0.9737 - val_loss: 0.2654 - val_accuracy: 0.9211\n",
      "Epoch 19/100\n",
      "1064/1064 [==============================] - 9s 8ms/sample - loss: 0.1220 - accuracy: 0.9558 - val_loss: 0.2087 - val_accuracy: 0.9248\n",
      "Epoch 20/100\n",
      "1064/1064 [==============================] - 8s 8ms/sample - loss: 0.0706 - accuracy: 0.9727 - val_loss: 0.3662 - val_accuracy: 0.8947\n",
      "Epoch 21/100\n",
      "1064/1064 [==============================] - 10s 9ms/sample - loss: 0.0755 - accuracy: 0.9709 - val_loss: 0.2989 - val_accuracy: 0.9098\n",
      "Epoch 22/100\n",
      "1064/1064 [==============================] - 9s 8ms/sample - loss: 0.0490 - accuracy: 0.9821 - val_loss: 0.1019 - val_accuracy: 0.9624\n",
      "Epoch 23/100\n",
      "1064/1064 [==============================] - 8s 8ms/sample - loss: 0.0478 - accuracy: 0.9868 - val_loss: 0.1683 - val_accuracy: 0.9511\n",
      "Epoch 24/100\n",
      "1064/1064 [==============================] - 9s 8ms/sample - loss: 0.1273 - accuracy: 0.9530 - val_loss: 0.1400 - val_accuracy: 0.9662\n",
      "Epoch 25/100\n",
      "1064/1064 [==============================] - 9s 9ms/sample - loss: 0.0712 - accuracy: 0.9746 - val_loss: 0.1197 - val_accuracy: 0.9586\n",
      "Epoch 26/100\n",
      "1064/1064 [==============================] - 9s 8ms/sample - loss: 0.0362 - accuracy: 0.9859 - val_loss: 0.0916 - val_accuracy: 0.9774\n",
      "Epoch 27/100\n",
      "1064/1064 [==============================] - 9s 9ms/sample - loss: 0.0726 - accuracy: 0.9727 - val_loss: 0.0954 - val_accuracy: 0.9699\n",
      "Epoch 28/100\n",
      "1064/1064 [==============================] - 9s 9ms/sample - loss: 0.0536 - accuracy: 0.9784 - val_loss: 0.2440 - val_accuracy: 0.9211\n",
      "Epoch 29/100\n",
      "1064/1064 [==============================] - 9s 8ms/sample - loss: 0.0476 - accuracy: 0.9831 - val_loss: 0.0987 - val_accuracy: 0.9662\n",
      "Epoch 30/100\n",
      "1064/1064 [==============================] - 9s 8ms/sample - loss: 0.0250 - accuracy: 0.9915 - val_loss: 0.0633 - val_accuracy: 0.9662\n",
      "Epoch 31/100\n",
      "1064/1064 [==============================] - 8s 8ms/sample - loss: 0.0534 - accuracy: 0.9840 - val_loss: 0.0546 - val_accuracy: 0.9812\n",
      "Epoch 32/100\n",
      "1064/1064 [==============================] - 8s 8ms/sample - loss: 0.0358 - accuracy: 0.9887 - val_loss: 0.2323 - val_accuracy: 0.9436\n",
      "Epoch 33/100\n",
      "1064/1064 [==============================] - 9s 8ms/sample - loss: 0.1291 - accuracy: 0.9568 - val_loss: 0.3605 - val_accuracy: 0.9098\n",
      "Epoch 34/100\n",
      "1064/1064 [==============================] - 8s 8ms/sample - loss: 0.1255 - accuracy: 0.9521 - val_loss: 0.2509 - val_accuracy: 0.9286\n",
      "Epoch 35/100\n",
      "1064/1064 [==============================] - 9s 8ms/sample - loss: 0.0839 - accuracy: 0.9709 - val_loss: 0.1227 - val_accuracy: 0.9549\n",
      "Epoch 36/100\n",
      "1064/1064 [==============================] - 9s 8ms/sample - loss: 0.0591 - accuracy: 0.9765 - val_loss: 0.1109 - val_accuracy: 0.9511\n",
      "Epoch 37/100\n",
      "1064/1064 [==============================] - 10s 9ms/sample - loss: 0.0778 - accuracy: 0.9718 - val_loss: 0.1492 - val_accuracy: 0.9586\n",
      "Epoch 38/100\n",
      "1064/1064 [==============================] - 10s 9ms/sample - loss: 0.0983 - accuracy: 0.9633 - val_loss: 0.1835 - val_accuracy: 0.9398\n",
      "Epoch 39/100\n",
      "1064/1064 [==============================] - 9s 9ms/sample - loss: 0.0593 - accuracy: 0.9784 - val_loss: 0.1894 - val_accuracy: 0.9511\n",
      "Epoch 40/100\n",
      "1064/1064 [==============================] - 9s 8ms/sample - loss: 0.0245 - accuracy: 0.9915 - val_loss: 0.1075 - val_accuracy: 0.9774\n",
      "Epoch 41/100\n",
      "1064/1064 [==============================] - 9s 8ms/sample - loss: 0.0176 - accuracy: 0.9972 - val_loss: 0.2372 - val_accuracy: 0.9511\n"
     ]
    }
   ],
   "source": [
    "history = model.fit(X_train,y_train,validation_data=[X_valid,y_valid],\n",
    "                    epochs=100,batch_size=50,\n",
    "                   callbacks=[early_stopping])"
   ]
  },
  {
   "cell_type": "code",
   "execution_count": 161,
   "metadata": {},
   "outputs": [
    {
     "name": "stdout",
     "output_type": "stream",
     "text": [
      "\r",
      "333/1 [======================================================================================================================================================================================================================================================================================================================================================================================================================================================================================================================================================================================================================================================================================================================================================================================================================================================================================================================================================================================================================================================================================================================================================================================================================================================================================================================================================================================================================================================================================================================================================================================================================================================================================================================================================================================================================================================================================================================================================================================================================================================================================================================================================================================================================================================================================================================================================================================================================================================================================================================================================================================================================================================================================================================================================================================================================================================================================================================================================================================================================================================================================================================================================================================================================================================================================================================================================================================================================================================================================================================================================================================================================================================================================================================================================================================================================================================================================================================================================================================================================================================================================================================================================================================================================================================================================================================================================================================================================================================================================================================================================================================================================================================================================================================================================================================================================================================================================================================================================================================================================================================================================================================================================================================================================================================================================================================================================================================================================================================================================================================================================================================================================================================================================================================================================================================================================================================================================================================================================================================================================================================================================================================================================================================================================================================================================================================================================================================================================================================================================================================================================================================================================================================================================================================================================================================================================================================================================================================================================================================================================================================================================================================================================================================================================================================================================================================================================================================================================================================================================================================================================================================================================================================================================================================================================================================================================================================================================================================================================================================================================================================================================================================================================================================================================================================================================================================================================================================================================================================================================================================================================================================================================================================================================================================================================================================================================================================================================================================================================================================================================================================================================================================================================================================================================================================================================================================================================================================================================================================================================================================================================================================================================================================================================================================================================================================================================================================================================================================================================================================================================================================================================================================================================================================================================================================================================================================================================================================================] - 1s 3ms/sample - loss: 0.0471 - accuracy: 0.9640\n"
     ]
    },
    {
     "data": {
      "text/plain": [
       "[0.08014088669126188, 0.963964]"
      ]
     },
     "execution_count": 161,
     "metadata": {},
     "output_type": "execute_result"
    }
   ],
   "source": [
    "model.evaluate(X_test,y_test)"
   ]
  },
  {
   "cell_type": "code",
   "execution_count": 164,
   "metadata": {},
   "outputs": [],
   "source": [
    "y_pred = model.predict(X_full)\n",
    "oh_ec = OneHotEncoder()\n",
    "label = oh_ec.fit_transform(y_full[:,np.newaxis]).toarray()\n",
    "precision, recall, threshold = precision_recall_curve(label[:,0],y_pred[:,0])"
   ]
  },
  {
   "cell_type": "code",
   "execution_count": 165,
   "metadata": {},
   "outputs": [
    {
     "data": {
      "text/plain": [
       "array([[466,   4],\n",
       "       [  1, 859]], dtype=int64)"
      ]
     },
     "execution_count": 165,
     "metadata": {},
     "output_type": "execute_result"
    },
    {
     "data": {
      "image/png": "[encoded data removed]",
      "text/plain": [
       "<Figure size 432x288 with 1 Axes>"
      ]
     },
     "metadata": {
      "needs_background": "light"
     },
     "output_type": "display_data"
    }
   ],
   "source": [
    "plt.plot(recall,precision)\n",
    "confusion_matrix(y_full,np.where(y_pred<0.5,1,0)[:,0])"
   ]
  },
  {
   "cell_type": "code",
   "execution_count": 166,
   "metadata": {},
   "outputs": [
    {
     "data": {
      "text/plain": [
       "[<matplotlib.lines.Line2D at 0x185e91cdf08>]"
      ]
     },
     "execution_count": 166,
     "metadata": {},
     "output_type": "execute_result"
    },
    {
     "data": {
      "image/png": "[encoded data removed]",
      "text/plain": [
       "<Figure size 432x288 with 1 Axes>"
      ]
     },
     "metadata": {
      "needs_background": "light"
     },
     "output_type": "display_data"
    }
   ],
   "source": [
    "plt.plot(threshold,precision[:-1])\n",
    "plt.plot(threshold,recall[:-1])"
   ]
  },
  {
   "cell_type": "code",
   "execution_count": 163,
   "metadata": {},
   "outputs": [
    {
     "name": "stdout",
     "output_type": "stream",
     "text": [
      "\r",
      "632/1 [================================================================================================================================================================================================================================================================================================================================================================================================================================================================================================================================================================================================================================================================================================================================================================================================================================================================================================================================================================================================================================================================================================================================================================================================================================================================================================================================================================================================================================================================================================================================================================================================================================================================================================================================================================================================================================================================================================================================================================================================================================================================================================================================================================================================================================================================================================================================================================================================================================================================================================================================================================================================================================================================================================================================================================================================================================================================================================================================================================================================================================================================================================================================================================================================================================================================================================================================================================================================================================================================================================================================================================================================================================================================================================================================================================================================================================================================================================================================================================================================================================================================================================================================================================================================================================================================================================================================================================================================================================================================================================================================================================================================================================================================================================================================================================================================================================================================================================================================================================================================================================================================================================================================================================================================================================================================================================================================================================================================================================================================================================================================================================================================================================================================================================================================================================================================================================================================================================================================================================================================================================================================================================================================================================================================================================================================================================================================================================================================================================================================================================================================================================================================================================================================================================================================================================================================================================================================================================================================================================================================================================================================================================================================================================================================================================================================================================================================================================================================================================================================================================================================================================================================================================================================================================================================================================================================================================================================================================================================================================================================================================================================================================================================================================================================================================================================================================================================================================================================================================================================================================================================================================================================================================================================================================================================================================================================================================================================================================================================================================================================================================================================================================================================================================================================================================================================================================================================================================================================================================================================================================================================================================================================================================================================================================================================================================================================================================================================================================================================================================================================================================================================================================================================================================================================================================================================================================================================================================================================================================================================================================================================================================================================================================================================================================================================================================================================================================================================================================================================================================================================================================================================================================================================================================================================================================================================================================================================================================================================================================================================================================================================================================================================================================================================================================================================================================================================================================================================================================================================================================================================================================================================================================================================================================================================================================================================================================================================================================================================================================================================================================================================================================================================================================================================================================================================================================================================================================================================================================================================================================================================================================================================================================================================================================================================================================================================================================================================================================================================================================================================================================================================================================================================================================================================================================================================================================================================================================================================================================================================================================================================================================================================================================================================================================================================================================================================================================================================================================================================================================================================================================================================================================================================================================================================================================================================================================================================================================================================================================================================================================================================================================================================================================================================================================================================================================================================================================================================================================================================================================================================================================================================================================================================================================================================================================================================================================================================================================================================================================================================================================================================================================================================================================================================================================================================================================================================================================================================================================================================================================================================================================================================================================================================================================================================================================================================================================================================================================================================================================================================================================================================================================================================================================================================================================================================================================================================================================================================================================================================================================================================================================================================================================================================================================================================================================================================================================================================================================================================================================================================================================================================================================================================================================================================================================================================================================================================================================================================================================================================================================================================================================================================================================================================================================================================================================================================================================================================================================================================================================================================================================================================================================================================================================================================================================================================================================================================================================================================================================================================================================================================================================================================================================================================================================================================================================================================================] - 2s 3ms/sample - loss: 0.9209 - accuracy: 0.5316\n"
     ]
    },
    {
     "data": {
      "text/plain": [
       "[1.47764858565753, 0.5316456]"
      ]
     },
     "execution_count": 163,
     "metadata": {},
     "output_type": "execute_result"
    }
   ],
   "source": [
    "#model = load_model('./model/Mexh_W256_S32_WS32.h5')\n",
    "ind = ((y2==1) | (y2==2) | (y2==3))\n",
    "y_02=y2\n",
    "y_02[ind]=1\n",
    "model.evaluate(cwtmatr2,y_02)"
   ]
  },
  {
   "cell_type": "code",
   "execution_count": 169,
   "metadata": {},
   "outputs": [
    {
     "data": {
      "text/plain": [
       "336"
      ]
     },
     "execution_count": 169,
     "metadata": {},
     "output_type": "execute_result"
    }
   ],
   "source": [
    "(model.predict(cwtmatr2).argmax(axis=1)==y_02).sum()"
   ]
  },
  {
   "cell_type": "code",
   "execution_count": 71,
   "metadata": {},
   "outputs": [
    {
     "data": {
      "text/plain": [
       "(1262,)"
      ]
     },
     "execution_count": 71,
     "metadata": {},
     "output_type": "execute_result"
    }
   ],
   "source": [
    "y_02.shape"
   ]
  },
  {
   "cell_type": "code",
   "execution_count": 53,
   "metadata": {},
   "outputs": [
    {
     "data": {
      "text/plain": [
       "array([[ 651,    7],\n",
       "       [   9, 1167]], dtype=int64)"
      ]
     },
     "execution_count": 53,
     "metadata": {},
     "output_type": "execute_result"
    },
    {
     "data": {
      "image/png": "[encoded data removed]",
      "text/plain": [
       "<Figure size 432x288 with 1 Axes>"
      ]
     },
     "metadata": {
      "needs_background": "light"
     },
     "output_type": "display_data"
    }
   ],
   "source": [
    "y_pred = model.predict(cwtmatr[ind])\n",
    "oh_ec = OneHotEncoder()\n",
    "label = oh_ec.fit_transform(y_02[:,np.newaxis]).toarray()\n",
    "precision, recall, threshold = precision_recall_curve(label[:,0],y_pred[:,0])\n",
    "plt.plot(recall,precision)\n",
    "confusion_matrix(y_02,np.where(y_pred<0.5,1,0)[:,0])"
   ]
  },
  {
   "cell_type": "code",
   "execution_count": 54,
   "metadata": {},
   "outputs": [
    {
     "data": {
      "text/plain": [
       "[<matplotlib.lines.Line2D at 0x2ca50c94848>]"
      ]
     },
     "execution_count": 54,
     "metadata": {},
     "output_type": "execute_result"
    },
    {
     "data": {
      "image/png": "[encoded data removed]",
      "text/plain": [
       "<Figure size 432x288 with 1 Axes>"
      ]
     },
     "metadata": {
      "needs_background": "light"
     },
     "output_type": "display_data"
    }
   ],
   "source": [
    "plt.plot(threshold,precision[:-1])\n",
    "plt.plot(threshold,recall[:-1])"
   ]
  },
  {
   "cell_type": "code",
   "execution_count": 232,
   "metadata": {},
   "outputs": [
    {
     "name": "stdout",
     "output_type": "stream",
     "text": [
      "Model: \"model_8\"\n",
      "_________________________________________________________________\n",
      "Layer (type)                 Output Shape              Param #   \n",
      "=================================================================\n",
      "input_9 (InputLayer)         [(None, 32, 256, 8)]      0         \n",
      "_________________________________________________________________\n",
      "batch_normalization_1 (Batch (None, 32, 256, 8)        32        \n",
      "_________________________________________________________________\n",
      "conv2d_16 (Conv2D)           (None, 16, 128, 128)      25728     \n",
      "_________________________________________________________________\n",
      "max_pooling2d_16 (MaxPooling (None, 8, 64, 128)        0         \n",
      "_________________________________________________________________\n",
      "conv2d_17 (Conv2D)           (None, 4, 32, 64)         204864    \n",
      "_________________________________________________________________\n",
      "max_pooling2d_17 (MaxPooling (None, 2, 16, 64)         0         \n",
      "_________________________________________________________________\n",
      "flatten_8 (Flatten)          (None, 2048)              0         \n",
      "_________________________________________________________________\n",
      "dropout_16 (Dropout)         (None, 2048)              0         \n",
      "_________________________________________________________________\n",
      "dense_16 (Dense)             (None, 128)               262272    \n",
      "_________________________________________________________________\n",
      "dropout_17 (Dropout)         (None, 128)               0         \n",
      "_________________________________________________________________\n",
      "dense_17 (Dense)             (None, 2)                 258       \n",
      "=================================================================\n",
      "Total params: 493,154\n",
      "Trainable params: 493,138\n",
      "Non-trainable params: 16\n",
      "_________________________________________________________________\n"
     ]
    }
   ],
   "source": [
    "model.summary()"
   ]
  },
  {
   "cell_type": "code",
   "execution_count": 22,
   "metadata": {
    "scrolled": false
   },
   "outputs": [
    {
     "data": {
      "text/plain": [
       "(0, 1)"
      ]
     },
     "execution_count": 22,
     "metadata": {},
     "output_type": "execute_result"
    },
    {
     "data": {
      "image/png": "[encoded data removed]",
      "text/plain": [
       "<Figure size 432x288 with 1 Axes>"
      ]
     },
     "metadata": {
      "needs_background": "light"
     },
     "output_type": "display_data"
    }
   ],
   "source": [
    "pd.DataFrame(history.history).plot()\n",
    "plt.grid(True)\n",
    "plt.gca().set_ylim(0,1)"
   ]
  },
  {
   "cell_type": "code",
   "execution_count": 39,
   "metadata": {},
   "outputs": [],
   "source": [
    "model.save('./model/Mexh_W%d_S%d_WS%d.h5'%(width,stride,widths_scale))"
   ]
  },
  {
   "cell_type": "code",
   "execution_count": null,
   "metadata": {},
   "outputs": [],
   "source": []
  }
 ],
 "metadata": {
  "kernelspec": {
   "display_name": "Python 3",
   "language": "python",
   "name": "python3"
  },
  "language_info": {
   "codemirror_mode": {
    "name": "ipython",
    "version": 3
   },
   "file_extension": ".py",
   "mimetype": "text/x-python",
   "name": "python",
   "nbconvert_exporter": "python",
   "pygments_lexer": "ipython3",
   "version": "3.7.6"
  }
 },
 "nbformat": 4,
 "nbformat_minor": 2
}
