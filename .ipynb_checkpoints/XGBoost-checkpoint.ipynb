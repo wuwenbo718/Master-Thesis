{
 "cells": [
  {
   "cell_type": "code",
   "execution_count": 1,
   "metadata": {},
   "outputs": [],
   "source": [
    "import numpy as np\n",
    "import pandas as pd\n",
    "from sklearn.preprocessing import StandardScaler, MinMaxScaler\n",
    "from sklearn.decomposition import PCA\n",
    "import data_processing as dp\n",
    "from scipy import signal\n",
    "from scipy.stats import skew\n",
    "import seaborn as sns\n",
    "import matplotlib.pyplot as plt\n",
    "import pywt\n",
    "import os\n",
    "import time\n",
    "import h5py"
   ]
  },
  {
   "cell_type": "code",
   "execution_count": 2,
   "metadata": {},
   "outputs": [
    {
     "name": "stdout",
     "output_type": "stream",
     "text": [
      ".\\data\\G04_FoG_trial_1_emg.csv\n",
      ".\\data\\G04_FoG_trial_2_emg.csv\n",
      ".\\data\\G06_FoG_trial_1_emg.csv\n",
      ".\\data\\G06_FoG_trial_2_emg.csv\n",
      ".\\data\\G06_FoG_trial_3_emg.csv\n",
      ".\\data\\G07_Freezing_Trial1_trial_1_emg.csv\n",
      ".\\data\\G08_FoG_1_trial_1_emg.csv\n",
      ".\\data\\G08_FoG_2_trial_1_emg.csv\n",
      ".\\data\\G11_FoG_trial_1_emg.csv\n",
      ".\\data\\G11_FoG_trial_2_emg.csv\n",
      ".\\data\\P379_M050_2_OFF_A_FoG_trial_1_emg.csv\n",
      ".\\data\\P379_M050_2_OFF_A_FoG_trial_2_emg.csv\n",
      ".\\data\\P379_M050_2_OFF_A_FoG_trial_3_emg.csv\n",
      ".\\data\\P379_M050_2_OFF_B_FoG_trial_1_emg.csv\n",
      ".\\data\\P379_M050_2_OFF_B_FoG_trial_2_emg.csv\n",
      ".\\data\\P379_M050_2_OFF_B_FoG_trial_3_emg.csv\n",
      ".\\data\\P551_M050_2_A_FoG_trial_1_emg.csv\n",
      ".\\data\\P551_M050_2_B_FoG_trial_1_emg.csv\n",
      ".\\data\\P551_M050_2_B_FoG_trial_2_emg.csv\n",
      ".\\data\\P812_M050_2_B_FoG_trial_1_emg.csv\n",
      ".\\data\\P812_M050_2_B_FoG_trial_2_emg.csv\n",
      ".\\data\\其他\\labels.txt\n",
      ".\\data\\其他\\P812_M050_2_B_FoG_trial1_annotation.csv\n",
      ".\\data\\其他\\P812_M050_2_B_FoG_trials.mat\n",
      ".\\data\\其他\\P812_M050_2_B_FoG_trial_1_out_left_foot.csv\n",
      ".\\data\\其他\\P812_M050_2_B_FoG_trial_1_out_lower_left_foot.csv\n",
      ".\\data\\其他\\P812_M050_2_B_FoG_trial_1_out_lower_right_foot.csv\n",
      ".\\data\\其他\\P812_M050_2_B_FoG_trial_1_out_right_foot.csv\n",
      ".\\data\\其他\\P812_M050_2_B_FoG_trial_2_out_left_foot.csv\n",
      ".\\data\\其他\\P812_M050_2_B_FoG_trial_2_out_lower_left_foot.csv\n",
      ".\\data\\其他\\P812_M050_2_B_FoG_trial_2_out_lower_right_foot.csv\n",
      ".\\data\\其他\\P812_M050_2_B_FoG_trial_2_out_right_foot.csv\n",
      ".\\data\\其他\\P812_M50_2_B_FoG_trial2_annotation.csv\n",
      ".\\data\\正常\\G02_Walking_trial_1_emg.csv\n",
      ".\\data\\正常\\G03_Walking_trial_1_emg.csv\n",
      ".\\data\\正常\\G03_Walking_trial_2_emg.csv\n",
      ".\\data\\正常\\G05_Walking_struct_fixed_trial_1_emg.csv\n",
      ".\\data\\正常\\G05_Walking_struct_fixed_trial_2_emg.csv\n",
      ".\\data\\正常\\G05_Walking_struct_fixed_trial_3_emg.csv\n",
      ".\\data\\正常\\G09_FoG_trial_1_emg.csv\n",
      ".\\data\\正常\\G09_FoG_trial_2_emg.csv\n",
      ".\\data\\正常\\G09_FoG_trial_3_emg.csv\n",
      ".\\data\\正常\\G09_Walking_trial_2_emg.csv\n",
      ".\\data\\正常\\G09_Walking_trial_4_emg.csv\n",
      ".\\data\\正常\\G09_Walking_trial_6_emg.csv\n",
      ".\\data\\正常\\G11_Walking_trial_2_emg.csv\n",
      ".\\data\\正常\\G11_Walking_trial_4_emg.csv\n"
     ]
    }
   ],
   "source": [
    "for dirname, _, filenames in os.walk('.\\data'):\n",
    "    for filename in filenames:\n",
    "        print(os.path.join(dirname,filename))"
   ]
  },
  {
   "cell_type": "code",
   "execution_count": 429,
   "metadata": {},
   "outputs": [],
   "source": [
    "emg_data = pd.read_csv('.\\data\\P812_M050_2_B_FoG_trial_1_emg.csv')\n",
    "#emg_data2 = pd.read_csv('.\\data\\正常\\G03_Walking_trial_2_emg.csv')\n",
    "path2 = '.\\data\\正常\\G09_Walking_trial_6_emg.csv'\n",
    "#emg_data3 = pd.read_csv(path)"
   ]
  },
  {
   "cell_type": "code",
   "execution_count": 718,
   "metadata": {},
   "outputs": [],
   "source": [
    "path = './processed data/data_set_after_window_withoutSC.hdf5'\n",
    "with h5py.File(path,'r') as f:\n",
    "    x = f['cwt_data'][...]\n",
    "    y = f['label2'][...]"
   ]
  },
  {
   "cell_type": "code",
   "execution_count": 44,
   "metadata": {},
   "outputs": [],
   "source": [
    "#x,y = generate_window_slide_data(emg_data)\n",
    "x2,y2 = generate_window_slide_data(emg_data2)"
   ]
  },
  {
   "cell_type": "code",
   "execution_count": 690,
   "metadata": {},
   "outputs": [
    {
     "data": {
      "text/plain": [
       "<module 'data_processing' from 'E:\\\\Document\\\\jupyter\\\\Master Thesis\\\\data_processing.py'>"
      ]
     },
     "execution_count": 690,
     "metadata": {},
     "output_type": "execute_result"
    }
   ],
   "source": [
    "import imp\n",
    "imp.reload(dp)"
   ]
  },
  {
   "cell_type": "code",
   "execution_count": 775,
   "metadata": {},
   "outputs": [],
   "source": [
    "width = 256\n",
    "threshold_WAMP = 30\n",
    "threshold_ZC = 1\n",
    "threshold_SSC = 1\n",
    "bins=9\n",
    "bound = 70\n",
    "HIST_range = (-bound,bound)"
   ]
  },
  {
   "cell_type": "code",
   "execution_count": 776,
   "metadata": {},
   "outputs": [
    {
     "name": "stdout",
     "output_type": "stream",
     "text": [
      "threshold_WAMP:30.0, threshold_ZC:1.0, threshold_SSC:1.0,bins:9,ranges:(-70,70)\n",
      "IEMG,MAV,SSI,VAR,RMS,WL,ZC,SSC,WAMP,skew,Acti,AR,HIST\n"
     ]
    },
    {
     "data": {
      "text/plain": [
       "1"
      ]
     },
     "execution_count": 776,
     "metadata": {},
     "output_type": "execute_result"
    }
   ],
   "source": [
    "feature = dp.generate_feature(x,threshold_WAMP=threshold_WAMP,\n",
    "                              threshold_ZC=threshold_ZC,\n",
    "                              threshold_SSC=threshold_SSC,\n",
    "                              bins=bins,ranges=HIST_range)\n",
    "#feature2 = dp.generate_feature(x2)\n",
    "player.Beep(1000,200)"
   ]
  },
  {
   "cell_type": "code",
   "execution_count": 768,
   "metadata": {},
   "outputs": [],
   "source": [
    "sc = StandardScaler(with_mean=True)\n",
    "feature_sc = sc.fit_transform(feature)"
   ]
  },
  {
   "cell_type": "code",
   "execution_count": 17,
   "metadata": {},
   "outputs": [
    {
     "data": {
      "text/plain": [
       "array([-0.41013142, -0.48313451, -0.49410576, ..., -0.65115786,\n",
       "       -0.75697845, -0.13526466])"
      ]
     },
     "execution_count": 17,
     "metadata": {},
     "output_type": "execute_result"
    }
   ],
   "source": [
    "feature.min(axis=1)"
   ]
  },
  {
   "cell_type": "code",
   "execution_count": 777,
   "metadata": {},
   "outputs": [
    {
     "name": "stdout",
     "output_type": "stream",
     "text": [
      "threshold_WAMP:30.0, threshold_ZC:1.0, threshold_SSC:1.0,bins:9,ranges:(-70,70)\n",
      "IEMG,MAV,SSI,VAR,RMS,WL,ZC,SSC,WAMP,skew,Acti,AR,HIST\n"
     ]
    }
   ],
   "source": [
    "feature2,y2 = dp.pipeline_feature(path2,width=256,scaler=False,\n",
    "                                  threshold_WAMP=threshold_WAMP,\n",
    "                                  threshold_ZC=threshold_ZC,\n",
    "                                  threshold_SSC=threshold_SSC,\n",
    "                                  bins=bins,ranges=HIST_range)\n",
    "feature2_sc = sc.transform(feature2)"
   ]
  },
  {
   "cell_type": "code",
   "execution_count": 43,
   "metadata": {},
   "outputs": [],
   "source": [
    "pca = PCA(n_components=60,copy=True,whiten=True)\n",
    "feature_pca = pca.fit_transform(feature)\n",
    "#feature2_pca = pca.transform(feature2)"
   ]
  },
  {
   "cell_type": "code",
   "execution_count": 32,
   "metadata": {},
   "outputs": [
    {
     "data": {
      "image/png": "[encoded data removed]",
      "text/plain": [
       "<Figure size 432x288 with 1 Axes>"
      ]
     },
     "metadata": {
      "needs_background": "light"
     },
     "output_type": "display_data"
    }
   ],
   "source": [
    "ind = ((y==4)|(y==1)|(y==2)|(y==3)|(y==6))\n",
    "y_01 = y.copy()\n",
    "y_01[ind] = 1\n",
    "ind0 = y_01==0\n",
    "ind1 = y_01==1\n",
    "#plt.scatter(feature[ind0][:,42],feature[ind0][:,50])\n",
    "#plt.scatter(feature[ind1][:,42],feature[ind1][:,50])\n",
    "from mpl_toolkits.mplot3d import Axes3D\n",
    "fig = plt.figure()\n",
    "ax = Axes3D(fig, rect=[0, 0, 1, 1], elev=30, azim=20)\n",
    "plt.scatter(feature[ind0][:,42], feature[ind0][:,93], feature[ind0][:,50],marker='o')\n",
    "plt.scatter(feature[ind1][:,42], feature[ind1][:,93], feature[ind1][:,50],alpha=0.2,marker='o')\n",
    "ax.view_init(elev=10,azim=0)"
   ]
  },
  {
   "cell_type": "code",
   "execution_count": 469,
   "metadata": {},
   "outputs": [
    {
     "data": {
      "text/plain": [
       "array([[3.1680887, 3.5473368, 2.833147 , ..., 3.5971007, 3.1422873,\n",
       "        2.681295 ],\n",
       "       [2.4164464, 3.5161357, 3.0189595, ..., 3.6359956, 3.178391 ,\n",
       "        2.6736798],\n",
       "       [2.4330943, 3.3934205, 3.1654563, ..., 4.4193835, 3.1375792,\n",
       "        2.588877 ],\n",
       "       ...,\n",
       "       [4.342047 , 4.8141947, 3.2393596, ..., 4.987775 , 3.1128116,\n",
       "        3.1066031],\n",
       "       [4.7452106, 4.4620094, 3.304755 , ..., 4.9901853, 2.977572 ,\n",
       "        3.0100384],\n",
       "       [6.000379 , 4.358333 , 3.277154 , ..., 4.4818225, 2.9674785,\n",
       "        3.0071075]], dtype=float32)"
      ]
     },
     "execution_count": 469,
     "metadata": {},
     "output_type": "execute_result"
    }
   ],
   "source": [
    "x.max(axis=1)"
   ]
  },
  {
   "cell_type": "code",
   "execution_count": 762,
   "metadata": {},
   "outputs": [
    {
     "data": {
      "image/png": "[encoded data removed]",
      "text/plain": [
       "<Figure size 432x288 with 1 Axes>"
      ]
     },
     "metadata": {
      "needs_background": "light"
     },
     "output_type": "display_data"
    }
   ],
   "source": [
    "test=dp.compute_SSC(x,2)\n",
    "#plt.figure(figsize=(32,24))\n",
    "plt.plot(test)\n",
    "plt.grid(True)"
   ]
  },
  {
   "cell_type": "code",
   "execution_count": 65,
   "metadata": {},
   "outputs": [],
   "source": [
    "import xgboost as xgb\n",
    "from xgboost import plot_importance\n",
    "from sklearn.model_selection import train_test_split\n",
    "from sklearn import metrics\n",
    "from sklearn.preprocessing import OneHotEncoder"
   ]
  },
  {
   "cell_type": "code",
   "execution_count": 778,
   "metadata": {},
   "outputs": [],
   "source": [
    "#ind = ((y==1)|(y==2)|(y==3)|(y==6))\n",
    "ind = ((y==4)|(y==1)|(y==2)|(y==3)|(y==6))\n",
    "ind_f = [0,1,6,42,46,57,62]\n",
    "#y_01 = y[ind].copy()\n",
    "#y_01[y_01==1]=0\n",
    "#y_01[y_01==2]=1\n",
    "#y_01[y_01==3]=2\n",
    "#y_01[y_01==6]=3\n",
    "y_01 = y.copy()\n",
    "y_01[ind] = 1\n",
    "oh_ec = OneHotEncoder()\n",
    "y_oh = oh_ec.fit_transform(y_01[:,np.newaxis]).toarray()\n",
    "x_full,x_test,y_full,y_test = train_test_split(feature,y_01,test_size=0.2,random_state=123)\n",
    "x_train,x_valid,y_train,y_valid = train_test_split(x_full,y_full,test_size=0.2,random_state=555)\n",
    "d_train = xgb.DMatrix(x_train,label=y_train)\n",
    "d_valid = xgb.DMatrix(x_valid,label=y_valid)"
   ]
  },
  {
   "cell_type": "code",
   "execution_count": 21,
   "metadata": {},
   "outputs": [
    {
     "name": "stdout",
     "output_type": "stream",
     "text": [
      "[0]\ttrain-error:0.18021\teval-error:0.19251\n",
      "Multiple eval metrics have been passed: 'eval-error' will be used for early stopping.\n",
      "\n",
      "Will train until eval-error hasn't improved in 30 rounds.\n",
      "[1]\ttrain-error:0.14321\teval-error:0.15503\n",
      "[2]\ttrain-error:0.13292\teval-error:0.14563\n",
      "[3]\ttrain-error:0.13186\teval-error:0.14239\n",
      "[4]\ttrain-error:0.12069\teval-error:0.12858\n",
      "[5]\ttrain-error:0.11238\teval-error:0.12065\n",
      "[6]\ttrain-error:0.10618\teval-error:0.11477\n",
      "[7]\ttrain-error:0.10162\teval-error:0.11389\n",
      "[8]\ttrain-error:0.09879\teval-error:0.11109\n",
      "[9]\ttrain-error:0.09369\teval-error:0.10963\n",
      "[10]\ttrain-error:0.09148\teval-error:0.10727\n",
      "[11]\ttrain-error:0.08983\teval-error:0.10478\n",
      "[12]\ttrain-error:0.08803\teval-error:0.10213\n",
      "[13]\ttrain-error:0.08670\teval-error:0.10066\n",
      "[14]\ttrain-error:0.08457\teval-error:0.09772\n",
      "[15]\ttrain-error:0.08358\teval-error:0.09728\n",
      "[16]\ttrain-error:0.08145\teval-error:0.09478\n",
      "[17]\ttrain-error:0.07899\teval-error:0.09376\n",
      "[18]\ttrain-error:0.07719\teval-error:0.09361\n",
      "[19]\ttrain-error:0.07605\teval-error:0.09287\n",
      "[20]\ttrain-error:0.07502\teval-error:0.09126\n",
      "[21]\ttrain-error:0.07289\teval-error:0.09082\n",
      "[22]\ttrain-error:0.07197\teval-error:0.09067\n",
      "[23]\ttrain-error:0.07003\teval-error:0.08890\n",
      "[24]\ttrain-error:0.06929\teval-error:0.08935\n",
      "[25]\ttrain-error:0.06712\teval-error:0.08817\n",
      "[26]\ttrain-error:0.06547\teval-error:0.08758\n",
      "[27]\ttrain-error:0.06348\teval-error:0.08685\n",
      "[28]\ttrain-error:0.06187\teval-error:0.08538\n",
      "[29]\ttrain-error:0.06091\teval-error:0.08420\n",
      "[30]\ttrain-error:0.05908\teval-error:0.08317\n",
      "[31]\ttrain-error:0.05834\teval-error:0.08288\n",
      "[32]\ttrain-error:0.05691\teval-error:0.08376\n",
      "[33]\ttrain-error:0.05610\teval-error:0.08200\n",
      "[34]\ttrain-error:0.05459\teval-error:0.07979\n",
      "[35]\ttrain-error:0.05364\teval-error:0.07906\n",
      "[36]\ttrain-error:0.05162\teval-error:0.07862\n",
      "[37]\ttrain-error:0.04993\teval-error:0.07759\n",
      "[38]\ttrain-error:0.04916\teval-error:0.07774\n",
      "[39]\ttrain-error:0.04754\teval-error:0.07700\n",
      "[40]\ttrain-error:0.04640\teval-error:0.07583\n",
      "[41]\ttrain-error:0.04523\teval-error:0.07568\n",
      "[42]\ttrain-error:0.04445\teval-error:0.07480\n",
      "[43]\ttrain-error:0.04317\teval-error:0.07392\n",
      "[44]\ttrain-error:0.04236\teval-error:0.07259\n",
      "[45]\ttrain-error:0.04155\teval-error:0.07406\n",
      "[46]\ttrain-error:0.04107\teval-error:0.07157\n",
      "[47]\ttrain-error:0.04045\teval-error:0.07068\n",
      "[48]\ttrain-error:0.03975\teval-error:0.07098\n",
      "[49]\ttrain-error:0.03931\teval-error:0.07112\n",
      "[50]\ttrain-error:0.03817\teval-error:0.07068\n",
      "[51]\ttrain-error:0.03667\teval-error:0.06980\n",
      "[52]\ttrain-error:0.03571\teval-error:0.06995\n",
      "[53]\ttrain-error:0.03509\teval-error:0.06863\n",
      "[54]\ttrain-error:0.03424\teval-error:0.06804\n",
      "[55]\ttrain-error:0.03380\teval-error:0.06774\n",
      "[56]\ttrain-error:0.03277\teval-error:0.06848\n",
      "[57]\ttrain-error:0.03178\teval-error:0.06818\n",
      "[58]\ttrain-error:0.03127\teval-error:0.06701\n",
      "[59]\ttrain-error:0.03086\teval-error:0.06583\n",
      "[60]\ttrain-error:0.03053\teval-error:0.06569\n",
      "[61]\ttrain-error:0.02976\teval-error:0.06436\n",
      "[62]\ttrain-error:0.02895\teval-error:0.06290\n",
      "[63]\ttrain-error:0.02814\teval-error:0.06231\n",
      "[64]\ttrain-error:0.02722\teval-error:0.06172\n",
      "[65]\ttrain-error:0.02671\teval-error:0.06245\n",
      "[66]\ttrain-error:0.02623\teval-error:0.06260\n",
      "[67]\ttrain-error:0.02598\teval-error:0.06275\n",
      "[68]\ttrain-error:0.02539\teval-error:0.06245\n",
      "[69]\ttrain-error:0.02473\teval-error:0.06143\n",
      "[70]\ttrain-error:0.02384\teval-error:0.06216\n",
      "[71]\ttrain-error:0.02381\teval-error:0.06128\n",
      "[72]\ttrain-error:0.02267\teval-error:0.05981\n",
      "[73]\ttrain-error:0.02226\teval-error:0.05966\n",
      "[74]\ttrain-error:0.02219\teval-error:0.05951\n",
      "[75]\ttrain-error:0.02142\teval-error:0.05834\n",
      "[76]\ttrain-error:0.02098\teval-error:0.05805\n",
      "[77]\ttrain-error:0.02072\teval-error:0.05672\n",
      "[78]\ttrain-error:0.02032\teval-error:0.05658\n",
      "[79]\ttrain-error:0.01980\teval-error:0.05628\n",
      "[80]\ttrain-error:0.01885\teval-error:0.05599\n",
      "[81]\ttrain-error:0.01837\teval-error:0.05599\n",
      "[82]\ttrain-error:0.01837\teval-error:0.05584\n",
      "[83]\ttrain-error:0.01800\teval-error:0.05540\n",
      "[84]\ttrain-error:0.01771\teval-error:0.05555\n",
      "[85]\ttrain-error:0.01716\teval-error:0.05496\n",
      "[86]\ttrain-error:0.01675\teval-error:0.05511\n",
      "[87]\ttrain-error:0.01664\teval-error:0.05525\n",
      "[88]\ttrain-error:0.01624\teval-error:0.05481\n",
      "[89]\ttrain-error:0.01598\teval-error:0.05408\n",
      "[90]\ttrain-error:0.01525\teval-error:0.05393\n",
      "[91]\ttrain-error:0.01477\teval-error:0.05408\n",
      "[92]\ttrain-error:0.01477\teval-error:0.05334\n",
      "[93]\ttrain-error:0.01414\teval-error:0.05349\n",
      "[94]\ttrain-error:0.01337\teval-error:0.05305\n",
      "[95]\ttrain-error:0.01341\teval-error:0.05334\n",
      "[96]\ttrain-error:0.01319\teval-error:0.05276\n",
      "[97]\ttrain-error:0.01282\teval-error:0.05276\n",
      "[98]\ttrain-error:0.01246\teval-error:0.05217\n",
      "[99]\ttrain-error:0.01161\teval-error:0.05202\n",
      "[100]\ttrain-error:0.01143\teval-error:0.05173\n",
      "[101]\ttrain-error:0.01110\teval-error:0.05114\n",
      "[102]\ttrain-error:0.01102\teval-error:0.05055\n",
      "[103]\ttrain-error:0.01062\teval-error:0.05040\n",
      "[104]\ttrain-error:0.01003\teval-error:0.04982\n",
      "[105]\ttrain-error:0.00992\teval-error:0.05011\n",
      "[106]\ttrain-error:0.00944\teval-error:0.05055\n",
      "[107]\ttrain-error:0.00915\teval-error:0.04996\n",
      "[108]\ttrain-error:0.00900\teval-error:0.04996\n",
      "[109]\ttrain-error:0.00878\teval-error:0.04835\n",
      "[110]\ttrain-error:0.00838\teval-error:0.04791\n",
      "[111]\ttrain-error:0.00808\teval-error:0.04761\n",
      "[112]\ttrain-error:0.00779\teval-error:0.04747\n",
      "[113]\ttrain-error:0.00775\teval-error:0.04732\n",
      "[114]\ttrain-error:0.00749\teval-error:0.04747\n",
      "[115]\ttrain-error:0.00702\teval-error:0.04732\n",
      "[116]\ttrain-error:0.00702\teval-error:0.04717\n",
      "[117]\ttrain-error:0.00665\teval-error:0.04732\n",
      "[118]\ttrain-error:0.00654\teval-error:0.04673\n",
      "[119]\ttrain-error:0.00628\teval-error:0.04629\n",
      "[120]\ttrain-error:0.00628\teval-error:0.04614\n",
      "[121]\ttrain-error:0.00628\teval-error:0.04570\n",
      "[122]\ttrain-error:0.00581\teval-error:0.04600\n",
      "[123]\ttrain-error:0.00566\teval-error:0.04482\n",
      "[124]\ttrain-error:0.00551\teval-error:0.04364\n",
      "[125]\ttrain-error:0.00518\teval-error:0.04453\n",
      "[126]\ttrain-error:0.00481\teval-error:0.04394\n",
      "[127]\ttrain-error:0.00478\teval-error:0.04394\n",
      "[128]\ttrain-error:0.00441\teval-error:0.04438\n",
      "[129]\ttrain-error:0.00445\teval-error:0.04453\n",
      "[130]\ttrain-error:0.00411\teval-error:0.04438\n",
      "[131]\ttrain-error:0.00386\teval-error:0.04497\n",
      "[132]\ttrain-error:0.00375\teval-error:0.04379\n",
      "[133]\ttrain-error:0.00356\teval-error:0.04408\n",
      "[134]\ttrain-error:0.00364\teval-error:0.04335\n",
      "[135]\ttrain-error:0.00356\teval-error:0.04335\n",
      "[136]\ttrain-error:0.00353\teval-error:0.04306\n",
      "[137]\ttrain-error:0.00356\teval-error:0.04364\n",
      "[138]\ttrain-error:0.00331\teval-error:0.04320\n",
      "[139]\ttrain-error:0.00316\teval-error:0.04320\n",
      "[140]\ttrain-error:0.00320\teval-error:0.04291\n",
      "[141]\ttrain-error:0.00290\teval-error:0.04203\n",
      "[142]\ttrain-error:0.00279\teval-error:0.04232\n",
      "[143]\ttrain-error:0.00261\teval-error:0.04262\n",
      "[144]\ttrain-error:0.00257\teval-error:0.04276\n",
      "[145]\ttrain-error:0.00253\teval-error:0.04262\n",
      "[146]\ttrain-error:0.00253\teval-error:0.04247\n",
      "[147]\ttrain-error:0.00224\teval-error:0.04144\n",
      "[148]\ttrain-error:0.00217\teval-error:0.04188\n",
      "[149]\ttrain-error:0.00195\teval-error:0.04188\n",
      "[150]\ttrain-error:0.00187\teval-error:0.04203\n",
      "[151]\ttrain-error:0.00191\teval-error:0.04173\n",
      "[152]\ttrain-error:0.00158\teval-error:0.04100\n",
      "[153]\ttrain-error:0.00169\teval-error:0.04041\n",
      "[154]\ttrain-error:0.00162\teval-error:0.04070\n",
      "[155]\ttrain-error:0.00147\teval-error:0.04027\n",
      "[156]\ttrain-error:0.00118\teval-error:0.04115\n",
      "[157]\ttrain-error:0.00106\teval-error:0.04115\n",
      "[158]\ttrain-error:0.00110\teval-error:0.04012\n",
      "[159]\ttrain-error:0.00103\teval-error:0.03938\n",
      "[160]\ttrain-error:0.00099\teval-error:0.03953\n",
      "[161]\ttrain-error:0.00096\teval-error:0.03982\n",
      "[162]\ttrain-error:0.00088\teval-error:0.03968\n",
      "[163]\ttrain-error:0.00081\teval-error:0.03953\n",
      "[164]\ttrain-error:0.00070\teval-error:0.03924\n",
      "[165]\ttrain-error:0.00073\teval-error:0.03997\n",
      "[166]\ttrain-error:0.00063\teval-error:0.04012\n",
      "[167]\ttrain-error:0.00055\teval-error:0.03938\n",
      "[168]\ttrain-error:0.00055\teval-error:0.03938\n",
      "[169]\ttrain-error:0.00051\teval-error:0.03953\n",
      "[170]\ttrain-error:0.00044\teval-error:0.03791\n",
      "[171]\ttrain-error:0.00048\teval-error:0.03762\n",
      "[172]\ttrain-error:0.00044\teval-error:0.03732\n",
      "[173]\ttrain-error:0.00040\teval-error:0.03806\n",
      "[174]\ttrain-error:0.00040\teval-error:0.03747\n",
      "[175]\ttrain-error:0.00037\teval-error:0.03718\n",
      "[176]\ttrain-error:0.00029\teval-error:0.03718\n",
      "[177]\ttrain-error:0.00037\teval-error:0.03732\n",
      "[178]\ttrain-error:0.00037\teval-error:0.03644\n",
      "[179]\ttrain-error:0.00037\teval-error:0.03732\n",
      "[180]\ttrain-error:0.00033\teval-error:0.03732\n",
      "[181]\ttrain-error:0.00037\teval-error:0.03718\n"
     ]
    },
    {
     "name": "stdout",
     "output_type": "stream",
     "text": [
      "[182]\ttrain-error:0.00037\teval-error:0.03644\n",
      "[183]\ttrain-error:0.00037\teval-error:0.03615\n",
      "[184]\ttrain-error:0.00040\teval-error:0.03615\n",
      "[185]\ttrain-error:0.00037\teval-error:0.03600\n",
      "[186]\ttrain-error:0.00029\teval-error:0.03630\n",
      "[187]\ttrain-error:0.00018\teval-error:0.03630\n",
      "[188]\ttrain-error:0.00018\teval-error:0.03615\n",
      "[189]\ttrain-error:0.00015\teval-error:0.03556\n",
      "[190]\ttrain-error:0.00015\teval-error:0.03600\n",
      "[191]\ttrain-error:0.00015\teval-error:0.03542\n",
      "[192]\ttrain-error:0.00015\teval-error:0.03512\n",
      "[193]\ttrain-error:0.00015\teval-error:0.03630\n",
      "[194]\ttrain-error:0.00015\teval-error:0.03644\n",
      "[195]\ttrain-error:0.00011\teval-error:0.03512\n",
      "[196]\ttrain-error:0.00015\teval-error:0.03439\n",
      "[197]\ttrain-error:0.00011\teval-error:0.03527\n",
      "[198]\ttrain-error:0.00011\teval-error:0.03571\n",
      "[199]\ttrain-error:0.00007\teval-error:0.03527\n",
      "[200]\ttrain-error:0.00007\teval-error:0.03468\n",
      "[201]\ttrain-error:0.00007\teval-error:0.03483\n",
      "[202]\ttrain-error:0.00007\teval-error:0.03468\n",
      "[203]\ttrain-error:0.00007\teval-error:0.03497\n",
      "[204]\ttrain-error:0.00007\teval-error:0.03439\n",
      "[205]\ttrain-error:0.00007\teval-error:0.03409\n",
      "[206]\ttrain-error:0.00007\teval-error:0.03453\n",
      "[207]\ttrain-error:0.00007\teval-error:0.03453\n",
      "[208]\ttrain-error:0.00004\teval-error:0.03468\n",
      "[209]\ttrain-error:0.00004\teval-error:0.03512\n",
      "[210]\ttrain-error:0.00004\teval-error:0.03409\n",
      "[211]\ttrain-error:0.00004\teval-error:0.03439\n",
      "[212]\ttrain-error:0.00004\teval-error:0.03380\n",
      "[213]\ttrain-error:0.00004\teval-error:0.03380\n",
      "[214]\ttrain-error:0.00004\teval-error:0.03336\n",
      "[215]\ttrain-error:0.00004\teval-error:0.03380\n",
      "[216]\ttrain-error:0.00004\teval-error:0.03380\n",
      "[217]\ttrain-error:0.00004\teval-error:0.03380\n",
      "[218]\ttrain-error:0.00000\teval-error:0.03351\n",
      "[219]\ttrain-error:0.00000\teval-error:0.03306\n",
      "[220]\ttrain-error:0.00000\teval-error:0.03277\n",
      "[221]\ttrain-error:0.00000\teval-error:0.03351\n",
      "[222]\ttrain-error:0.00000\teval-error:0.03292\n",
      "[223]\ttrain-error:0.00000\teval-error:0.03262\n",
      "[224]\ttrain-error:0.00000\teval-error:0.03233\n",
      "[225]\ttrain-error:0.00000\teval-error:0.03204\n",
      "[226]\ttrain-error:0.00000\teval-error:0.03189\n",
      "[227]\ttrain-error:0.00000\teval-error:0.03189\n",
      "[228]\ttrain-error:0.00000\teval-error:0.03189\n",
      "[229]\ttrain-error:0.00000\teval-error:0.03233\n",
      "[230]\ttrain-error:0.00000\teval-error:0.03248\n",
      "[231]\ttrain-error:0.00000\teval-error:0.03174\n",
      "[232]\ttrain-error:0.00000\teval-error:0.03115\n",
      "[233]\ttrain-error:0.00000\teval-error:0.03130\n",
      "[234]\ttrain-error:0.00000\teval-error:0.03145\n",
      "[235]\ttrain-error:0.00000\teval-error:0.03159\n",
      "[236]\ttrain-error:0.00000\teval-error:0.03189\n",
      "[237]\ttrain-error:0.00000\teval-error:0.03145\n",
      "[238]\ttrain-error:0.00000\teval-error:0.03159\n",
      "[239]\ttrain-error:0.00000\teval-error:0.03248\n",
      "[240]\ttrain-error:0.00000\teval-error:0.03218\n",
      "[241]\ttrain-error:0.00000\teval-error:0.03189\n",
      "[242]\ttrain-error:0.00000\teval-error:0.03174\n",
      "[243]\ttrain-error:0.00000\teval-error:0.03130\n",
      "[244]\ttrain-error:0.00000\teval-error:0.03086\n",
      "[245]\ttrain-error:0.00000\teval-error:0.03115\n",
      "[246]\ttrain-error:0.00000\teval-error:0.03159\n",
      "[247]\ttrain-error:0.00000\teval-error:0.03189\n",
      "[248]\ttrain-error:0.00000\teval-error:0.03145\n",
      "[249]\ttrain-error:0.00000\teval-error:0.03159\n",
      "[250]\ttrain-error:0.00000\teval-error:0.03204\n",
      "[251]\ttrain-error:0.00000\teval-error:0.03159\n",
      "[252]\ttrain-error:0.00000\teval-error:0.03159\n",
      "[253]\ttrain-error:0.00000\teval-error:0.03218\n",
      "[254]\ttrain-error:0.00000\teval-error:0.03130\n",
      "[255]\ttrain-error:0.00000\teval-error:0.03101\n",
      "[256]\ttrain-error:0.00000\teval-error:0.03071\n",
      "[257]\ttrain-error:0.00000\teval-error:0.03145\n",
      "[258]\ttrain-error:0.00000\teval-error:0.03086\n",
      "[259]\ttrain-error:0.00000\teval-error:0.03086\n",
      "[260]\ttrain-error:0.00000\teval-error:0.03057\n",
      "[261]\ttrain-error:0.00000\teval-error:0.03086\n",
      "[262]\ttrain-error:0.00000\teval-error:0.03101\n",
      "[263]\ttrain-error:0.00000\teval-error:0.03027\n",
      "[264]\ttrain-error:0.00000\teval-error:0.03086\n",
      "[265]\ttrain-error:0.00000\teval-error:0.02998\n",
      "[266]\ttrain-error:0.00000\teval-error:0.03027\n",
      "[267]\ttrain-error:0.00000\teval-error:0.03042\n",
      "[268]\ttrain-error:0.00000\teval-error:0.03071\n",
      "[269]\ttrain-error:0.00000\teval-error:0.03027\n",
      "[270]\ttrain-error:0.00000\teval-error:0.02998\n",
      "[271]\ttrain-error:0.00000\teval-error:0.03027\n",
      "[272]\ttrain-error:0.00000\teval-error:0.02983\n",
      "[273]\ttrain-error:0.00000\teval-error:0.02968\n",
      "[274]\ttrain-error:0.00000\teval-error:0.02968\n",
      "[275]\ttrain-error:0.00000\teval-error:0.02954\n",
      "[276]\ttrain-error:0.00000\teval-error:0.02968\n",
      "[277]\ttrain-error:0.00000\teval-error:0.02968\n",
      "[278]\ttrain-error:0.00000\teval-error:0.02939\n",
      "[279]\ttrain-error:0.00000\teval-error:0.02910\n",
      "[280]\ttrain-error:0.00000\teval-error:0.02954\n",
      "[281]\ttrain-error:0.00000\teval-error:0.02924\n",
      "[282]\ttrain-error:0.00000\teval-error:0.02910\n",
      "[283]\ttrain-error:0.00000\teval-error:0.02880\n",
      "[284]\ttrain-error:0.00000\teval-error:0.02895\n",
      "[285]\ttrain-error:0.00000\teval-error:0.02851\n",
      "[286]\ttrain-error:0.00000\teval-error:0.02865\n",
      "[287]\ttrain-error:0.00000\teval-error:0.02910\n",
      "[288]\ttrain-error:0.00000\teval-error:0.02910\n",
      "[289]\ttrain-error:0.00000\teval-error:0.02851\n",
      "[290]\ttrain-error:0.00000\teval-error:0.02865\n",
      "[291]\ttrain-error:0.00000\teval-error:0.02880\n",
      "[292]\ttrain-error:0.00000\teval-error:0.02895\n",
      "[293]\ttrain-error:0.00000\teval-error:0.02851\n",
      "[294]\ttrain-error:0.00000\teval-error:0.02851\n",
      "[295]\ttrain-error:0.00000\teval-error:0.02851\n",
      "[296]\ttrain-error:0.00000\teval-error:0.02865\n",
      "[297]\ttrain-error:0.00000\teval-error:0.02910\n",
      "[298]\ttrain-error:0.00000\teval-error:0.02895\n",
      "[299]\ttrain-error:0.00000\teval-error:0.02851\n",
      "[300]\ttrain-error:0.00000\teval-error:0.02807\n",
      "[301]\ttrain-error:0.00000\teval-error:0.02822\n",
      "[302]\ttrain-error:0.00000\teval-error:0.02807\n",
      "[303]\ttrain-error:0.00000\teval-error:0.02836\n",
      "[304]\ttrain-error:0.00000\teval-error:0.02836\n",
      "[305]\ttrain-error:0.00000\teval-error:0.02777\n",
      "[306]\ttrain-error:0.00000\teval-error:0.02822\n",
      "[307]\ttrain-error:0.00000\teval-error:0.02807\n",
      "[308]\ttrain-error:0.00000\teval-error:0.02836\n",
      "[309]\ttrain-error:0.00000\teval-error:0.02836\n",
      "[310]\ttrain-error:0.00000\teval-error:0.02822\n",
      "[311]\ttrain-error:0.00000\teval-error:0.02748\n",
      "[312]\ttrain-error:0.00000\teval-error:0.02792\n",
      "[313]\ttrain-error:0.00000\teval-error:0.02719\n",
      "[314]\ttrain-error:0.00000\teval-error:0.02719\n",
      "[315]\ttrain-error:0.00000\teval-error:0.02748\n",
      "[316]\ttrain-error:0.00000\teval-error:0.02748\n",
      "[317]\ttrain-error:0.00000\teval-error:0.02748\n",
      "[318]\ttrain-error:0.00000\teval-error:0.02733\n",
      "[319]\ttrain-error:0.00000\teval-error:0.02719\n",
      "[320]\ttrain-error:0.00000\teval-error:0.02719\n",
      "[321]\ttrain-error:0.00000\teval-error:0.02733\n",
      "[322]\ttrain-error:0.00000\teval-error:0.02719\n",
      "[323]\ttrain-error:0.00000\teval-error:0.02733\n",
      "[324]\ttrain-error:0.00000\teval-error:0.02733\n",
      "[325]\ttrain-error:0.00000\teval-error:0.02719\n",
      "[326]\ttrain-error:0.00000\teval-error:0.02689\n",
      "[327]\ttrain-error:0.00000\teval-error:0.02704\n",
      "[328]\ttrain-error:0.00000\teval-error:0.02689\n",
      "[329]\ttrain-error:0.00000\teval-error:0.02704\n",
      "[330]\ttrain-error:0.00000\teval-error:0.02733\n",
      "[331]\ttrain-error:0.00000\teval-error:0.02645\n",
      "[332]\ttrain-error:0.00000\teval-error:0.02660\n",
      "[333]\ttrain-error:0.00000\teval-error:0.02704\n",
      "[334]\ttrain-error:0.00000\teval-error:0.02704\n",
      "[335]\ttrain-error:0.00000\teval-error:0.02733\n",
      "[336]\ttrain-error:0.00000\teval-error:0.02733\n",
      "[337]\ttrain-error:0.00000\teval-error:0.02733\n",
      "[338]\ttrain-error:0.00000\teval-error:0.02763\n",
      "[339]\ttrain-error:0.00000\teval-error:0.02748\n",
      "[340]\ttrain-error:0.00000\teval-error:0.02748\n",
      "[341]\ttrain-error:0.00000\teval-error:0.02733\n",
      "[342]\ttrain-error:0.00000\teval-error:0.02719\n",
      "[343]\ttrain-error:0.00000\teval-error:0.02719\n",
      "[344]\ttrain-error:0.00000\teval-error:0.02763\n",
      "[345]\ttrain-error:0.00000\teval-error:0.02792\n",
      "[346]\ttrain-error:0.00000\teval-error:0.02748\n",
      "[347]\ttrain-error:0.00000\teval-error:0.02719\n",
      "[348]\ttrain-error:0.00000\teval-error:0.02719\n",
      "[349]\ttrain-error:0.00000\teval-error:0.02719\n",
      "[350]\ttrain-error:0.00000\teval-error:0.02719\n",
      "[351]\ttrain-error:0.00000\teval-error:0.02719\n",
      "[352]\ttrain-error:0.00000\teval-error:0.02704\n",
      "[353]\ttrain-error:0.00000\teval-error:0.02689\n",
      "[354]\ttrain-error:0.00000\teval-error:0.02719\n",
      "[355]\ttrain-error:0.00000\teval-error:0.02689\n",
      "[356]\ttrain-error:0.00000\teval-error:0.02704\n",
      "[357]\ttrain-error:0.00000\teval-error:0.02704\n",
      "[358]\ttrain-error:0.00000\teval-error:0.02719\n",
      "[359]\ttrain-error:0.00000\teval-error:0.02733\n",
      "[360]\ttrain-error:0.00000\teval-error:0.02689\n",
      "[361]\ttrain-error:0.00000\teval-error:0.02704\n",
      "Stopping. Best iteration:\n",
      "[331]\ttrain-error:0.00000\teval-error:0.02645\n",
      "\n"
     ]
    },
    {
     "data": {
      "text/plain": [
       "1"
      ]
     },
     "execution_count": 21,
     "metadata": {},
     "output_type": "execute_result"
    }
   ],
   "source": [
    "param = {'max_depth': 5, 'eta': 0.3, 'gamma':0}\n",
    "#param['nthread'] = 4\n",
    "param['seed'] = 100\n",
    "param['objective'] = 'binary:logistic'\n",
    "#param['objectibe'] = 'multi:softmax'\n",
    "#param['num_class'] = 4\n",
    "param['lambda'] = 2\n",
    "param['subsample'] = 0.8\n",
    "evallist = [(d_train, 'train'), (d_valid, 'eval')]\n",
    "\n",
    "model = xgb.train(param, d_train, 1000, evallist,early_stopping_rounds=30)\n",
    "player.Beep(1000,200)"
   ]
  },
  {
   "cell_type": "code",
   "execution_count": 779,
   "metadata": {},
   "outputs": [
    {
     "name": "stdout",
     "output_type": "stream",
     "text": [
      "[23:03:26] WARNING: C:\\Users\\Administrator\\workspace\\xgboost-win64_release_1.1.0\\src\\learner.cc:480: \n",
      "Parameters: { eval_metrics, silent, sub_sabsample } might not be used.\n",
      "\n",
      "  This may not be accurate due to some parameters are only used in language bindings but\n",
      "  passed down to XGBoost core.  Or some parameters are not used but slip through this\n",
      "  verification. Please open an issue if you find above cases.\n",
      "\n",
      "\n",
      "[0]\tvalidation_0-error:0.19278\tvalidation_1-error:0.19116\n",
      "Multiple eval metrics have been passed: 'validation_1-error' will be used for early stopping.\n",
      "\n",
      "Will train until validation_1-error hasn't improved in 30 rounds.\n",
      "[1]\tvalidation_0-error:0.18274\tvalidation_1-error:0.18386\n",
      "[2]\tvalidation_0-error:0.17478\tvalidation_1-error:0.17895\n",
      "[3]\tvalidation_0-error:0.15011\tvalidation_1-error:0.15060\n",
      "[4]\tvalidation_0-error:0.14660\tvalidation_1-error:0.14653\n",
      "[5]\tvalidation_0-error:0.14306\tvalidation_1-error:0.14386\n",
      "[6]\tvalidation_0-error:0.14032\tvalidation_1-error:0.14246\n",
      "[7]\tvalidation_0-error:0.13443\tvalidation_1-error:0.13502\n",
      "[8]\tvalidation_0-error:0.13043\tvalidation_1-error:0.13319\n",
      "[9]\tvalidation_0-error:0.12520\tvalidation_1-error:0.12940\n",
      "[10]\tvalidation_0-error:0.12316\tvalidation_1-error:0.12674\n",
      "[11]\tvalidation_0-error:0.11864\tvalidation_1-error:0.12323\n",
      "[12]\tvalidation_0-error:0.11625\tvalidation_1-error:0.12253\n",
      "[13]\tvalidation_0-error:0.11478\tvalidation_1-error:0.12098\n",
      "[14]\tvalidation_0-error:0.11207\tvalidation_1-error:0.11846\n",
      "[15]\tvalidation_0-error:0.11085\tvalidation_1-error:0.11747\n",
      "[16]\tvalidation_0-error:0.10976\tvalidation_1-error:0.11593\n",
      "[17]\tvalidation_0-error:0.10871\tvalidation_1-error:0.11565\n",
      "[18]\tvalidation_0-error:0.10530\tvalidation_1-error:0.11425\n",
      "[19]\tvalidation_0-error:0.10369\tvalidation_1-error:0.11284\n",
      "[20]\tvalidation_0-error:0.10165\tvalidation_1-error:0.11158\n",
      "[21]\tvalidation_0-error:0.09951\tvalidation_1-error:0.10877\n",
      "[22]\tvalidation_0-error:0.09842\tvalidation_1-error:0.10625\n",
      "[23]\tvalidation_0-error:0.09751\tvalidation_1-error:0.10597\n",
      "[24]\tvalidation_0-error:0.09513\tvalidation_1-error:0.10498\n",
      "[25]\tvalidation_0-error:0.09334\tvalidation_1-error:0.10344\n",
      "[26]\tvalidation_0-error:0.09299\tvalidation_1-error:0.10218\n",
      "[27]\tvalidation_0-error:0.09239\tvalidation_1-error:0.10147\n",
      "[28]\tvalidation_0-error:0.09095\tvalidation_1-error:0.10049\n",
      "[29]\tvalidation_0-error:0.08997\tvalidation_1-error:0.10063\n",
      "[30]\tvalidation_0-error:0.08888\tvalidation_1-error:0.09825\n",
      "[31]\tvalidation_0-error:0.08685\tvalidation_1-error:0.09782\n",
      "[32]\tvalidation_0-error:0.08548\tvalidation_1-error:0.09698\n",
      "[33]\tvalidation_0-error:0.08478\tvalidation_1-error:0.09432\n",
      "[34]\tvalidation_0-error:0.08365\tvalidation_1-error:0.09474\n",
      "[35]\tvalidation_0-error:0.08260\tvalidation_1-error:0.09291\n",
      "[36]\tvalidation_0-error:0.08120\tvalidation_1-error:0.09375\n",
      "[37]\tvalidation_0-error:0.07993\tvalidation_1-error:0.09277\n",
      "[38]\tvalidation_0-error:0.07941\tvalidation_1-error:0.09179\n",
      "[39]\tvalidation_0-error:0.07874\tvalidation_1-error:0.09081\n",
      "[40]\tvalidation_0-error:0.07741\tvalidation_1-error:0.09081\n",
      "[41]\tvalidation_0-error:0.07600\tvalidation_1-error:0.08912\n",
      "[42]\tvalidation_0-error:0.07562\tvalidation_1-error:0.08940\n",
      "[43]\tvalidation_0-error:0.07495\tvalidation_1-error:0.09053\n",
      "[44]\tvalidation_0-error:0.07376\tvalidation_1-error:0.08842\n",
      "[45]\tvalidation_0-error:0.07302\tvalidation_1-error:0.08842\n",
      "[46]\tvalidation_0-error:0.07302\tvalidation_1-error:0.08772\n",
      "[47]\tvalidation_0-error:0.07165\tvalidation_1-error:0.08702\n",
      "[48]\tvalidation_0-error:0.07063\tvalidation_1-error:0.08604\n",
      "[49]\tvalidation_0-error:0.07007\tvalidation_1-error:0.08505\n",
      "[50]\tvalidation_0-error:0.07011\tvalidation_1-error:0.08505\n",
      "[51]\tvalidation_0-error:0.06955\tvalidation_1-error:0.08533\n",
      "[52]\tvalidation_0-error:0.06860\tvalidation_1-error:0.08477\n",
      "[53]\tvalidation_0-error:0.06811\tvalidation_1-error:0.08463\n",
      "[54]\tvalidation_0-error:0.06779\tvalidation_1-error:0.08421\n",
      "[55]\tvalidation_0-error:0.06720\tvalidation_1-error:0.08407\n",
      "[56]\tvalidation_0-error:0.06600\tvalidation_1-error:0.08351\n",
      "[57]\tvalidation_0-error:0.06530\tvalidation_1-error:0.08393\n",
      "[58]\tvalidation_0-error:0.06509\tvalidation_1-error:0.08421\n",
      "[59]\tvalidation_0-error:0.06467\tvalidation_1-error:0.08281\n",
      "[60]\tvalidation_0-error:0.06337\tvalidation_1-error:0.08196\n",
      "[61]\tvalidation_0-error:0.06302\tvalidation_1-error:0.08098\n",
      "[62]\tvalidation_0-error:0.06263\tvalidation_1-error:0.08098\n",
      "[63]\tvalidation_0-error:0.06207\tvalidation_1-error:0.08028\n",
      "[64]\tvalidation_0-error:0.06109\tvalidation_1-error:0.08042\n",
      "[65]\tvalidation_0-error:0.06018\tvalidation_1-error:0.07916\n",
      "[66]\tvalidation_0-error:0.05944\tvalidation_1-error:0.07972\n",
      "[67]\tvalidation_0-error:0.05926\tvalidation_1-error:0.07986\n",
      "[68]\tvalidation_0-error:0.05807\tvalidation_1-error:0.07803\n",
      "[69]\tvalidation_0-error:0.05723\tvalidation_1-error:0.07747\n",
      "[70]\tvalidation_0-error:0.05702\tvalidation_1-error:0.07719\n",
      "[71]\tvalidation_0-error:0.05684\tvalidation_1-error:0.07705\n",
      "[72]\tvalidation_0-error:0.05684\tvalidation_1-error:0.07705\n",
      "[73]\tvalidation_0-error:0.05618\tvalidation_1-error:0.07691\n",
      "[74]\tvalidation_0-error:0.05579\tvalidation_1-error:0.07705\n",
      "[75]\tvalidation_0-error:0.05551\tvalidation_1-error:0.07691\n",
      "[76]\tvalidation_0-error:0.05505\tvalidation_1-error:0.07677\n",
      "[77]\tvalidation_0-error:0.05477\tvalidation_1-error:0.07649\n",
      "[78]\tvalidation_0-error:0.05428\tvalidation_1-error:0.07621\n",
      "[79]\tvalidation_0-error:0.05369\tvalidation_1-error:0.07481\n",
      "[80]\tvalidation_0-error:0.05284\tvalidation_1-error:0.07481\n",
      "[81]\tvalidation_0-error:0.05200\tvalidation_1-error:0.07383\n",
      "[82]\tvalidation_0-error:0.05207\tvalidation_1-error:0.07284\n",
      "[83]\tvalidation_0-error:0.05105\tvalidation_1-error:0.07326\n",
      "[84]\tvalidation_0-error:0.05032\tvalidation_1-error:0.07242\n",
      "[85]\tvalidation_0-error:0.04923\tvalidation_1-error:0.07172\n",
      "[86]\tvalidation_0-error:0.04877\tvalidation_1-error:0.07158\n",
      "[87]\tvalidation_0-error:0.04828\tvalidation_1-error:0.07158\n",
      "[88]\tvalidation_0-error:0.04832\tvalidation_1-error:0.07172\n",
      "[89]\tvalidation_0-error:0.04793\tvalidation_1-error:0.07172\n",
      "[90]\tvalidation_0-error:0.04723\tvalidation_1-error:0.07158\n",
      "[91]\tvalidation_0-error:0.04642\tvalidation_1-error:0.07158\n",
      "[92]\tvalidation_0-error:0.04590\tvalidation_1-error:0.07130\n",
      "[93]\tvalidation_0-error:0.04593\tvalidation_1-error:0.07060\n",
      "[94]\tvalidation_0-error:0.04541\tvalidation_1-error:0.07088\n",
      "[95]\tvalidation_0-error:0.04526\tvalidation_1-error:0.07046\n",
      "[96]\tvalidation_0-error:0.04505\tvalidation_1-error:0.07046\n",
      "[97]\tvalidation_0-error:0.04428\tvalidation_1-error:0.07018\n",
      "[98]\tvalidation_0-error:0.04323\tvalidation_1-error:0.06947\n",
      "[99]\tvalidation_0-error:0.04291\tvalidation_1-error:0.06905\n",
      "[100]\tvalidation_0-error:0.04256\tvalidation_1-error:0.06877\n",
      "[101]\tvalidation_0-error:0.04221\tvalidation_1-error:0.06807\n",
      "[102]\tvalidation_0-error:0.04151\tvalidation_1-error:0.06835\n",
      "[103]\tvalidation_0-error:0.04119\tvalidation_1-error:0.06793\n",
      "[104]\tvalidation_0-error:0.04077\tvalidation_1-error:0.06793\n",
      "[105]\tvalidation_0-error:0.04084\tvalidation_1-error:0.06610\n",
      "[106]\tvalidation_0-error:0.04014\tvalidation_1-error:0.06667\n",
      "[107]\tvalidation_0-error:0.03983\tvalidation_1-error:0.06625\n",
      "[108]\tvalidation_0-error:0.03898\tvalidation_1-error:0.06582\n",
      "[109]\tvalidation_0-error:0.03849\tvalidation_1-error:0.06596\n",
      "[110]\tvalidation_0-error:0.03814\tvalidation_1-error:0.06582\n",
      "[111]\tvalidation_0-error:0.03786\tvalidation_1-error:0.06582\n",
      "[112]\tvalidation_0-error:0.03765\tvalidation_1-error:0.06526\n",
      "[113]\tvalidation_0-error:0.03684\tvalidation_1-error:0.06498\n",
      "[114]\tvalidation_0-error:0.03614\tvalidation_1-error:0.06526\n",
      "[115]\tvalidation_0-error:0.03583\tvalidation_1-error:0.06568\n",
      "[116]\tvalidation_0-error:0.03547\tvalidation_1-error:0.06414\n",
      "[117]\tvalidation_0-error:0.03530\tvalidation_1-error:0.06358\n",
      "[118]\tvalidation_0-error:0.03488\tvalidation_1-error:0.06330\n",
      "[119]\tvalidation_0-error:0.03460\tvalidation_1-error:0.06386\n",
      "[120]\tvalidation_0-error:0.03372\tvalidation_1-error:0.06288\n",
      "[121]\tvalidation_0-error:0.03340\tvalidation_1-error:0.06316\n",
      "[122]\tvalidation_0-error:0.03309\tvalidation_1-error:0.06218\n",
      "[123]\tvalidation_0-error:0.03295\tvalidation_1-error:0.06218\n",
      "[124]\tvalidation_0-error:0.03295\tvalidation_1-error:0.06316\n",
      "[125]\tvalidation_0-error:0.03284\tvalidation_1-error:0.06288\n",
      "[126]\tvalidation_0-error:0.03281\tvalidation_1-error:0.06232\n",
      "[127]\tvalidation_0-error:0.03242\tvalidation_1-error:0.06260\n",
      "[128]\tvalidation_0-error:0.03179\tvalidation_1-error:0.06316\n"
     ]
    },
    {
     "name": "stdout",
     "output_type": "stream",
     "text": [
      "[129]\tvalidation_0-error:0.03165\tvalidation_1-error:0.06133\n",
      "[130]\tvalidation_0-error:0.03123\tvalidation_1-error:0.06119\n",
      "[131]\tvalidation_0-error:0.03077\tvalidation_1-error:0.06105\n",
      "[132]\tvalidation_0-error:0.03074\tvalidation_1-error:0.06021\n",
      "[133]\tvalidation_0-error:0.03032\tvalidation_1-error:0.05979\n",
      "[134]\tvalidation_0-error:0.02990\tvalidation_1-error:0.06077\n",
      "[135]\tvalidation_0-error:0.02972\tvalidation_1-error:0.06077\n",
      "[136]\tvalidation_0-error:0.02926\tvalidation_1-error:0.06133\n",
      "[137]\tvalidation_0-error:0.02895\tvalidation_1-error:0.06147\n",
      "[138]\tvalidation_0-error:0.02853\tvalidation_1-error:0.06161\n",
      "[139]\tvalidation_0-error:0.02846\tvalidation_1-error:0.06091\n",
      "[140]\tvalidation_0-error:0.02842\tvalidation_1-error:0.05979\n",
      "[141]\tvalidation_0-error:0.02811\tvalidation_1-error:0.06021\n",
      "[142]\tvalidation_0-error:0.02818\tvalidation_1-error:0.06021\n",
      "[143]\tvalidation_0-error:0.02779\tvalidation_1-error:0.05979\n",
      "[144]\tvalidation_0-error:0.02723\tvalidation_1-error:0.05937\n",
      "[145]\tvalidation_0-error:0.02709\tvalidation_1-error:0.05937\n",
      "[146]\tvalidation_0-error:0.02670\tvalidation_1-error:0.05881\n",
      "[147]\tvalidation_0-error:0.02632\tvalidation_1-error:0.05937\n",
      "[148]\tvalidation_0-error:0.02555\tvalidation_1-error:0.05881\n",
      "[149]\tvalidation_0-error:0.02530\tvalidation_1-error:0.05810\n",
      "[150]\tvalidation_0-error:0.02512\tvalidation_1-error:0.05797\n",
      "[151]\tvalidation_0-error:0.02488\tvalidation_1-error:0.05853\n",
      "[152]\tvalidation_0-error:0.02439\tvalidation_1-error:0.05783\n",
      "[153]\tvalidation_0-error:0.02428\tvalidation_1-error:0.05783\n",
      "[154]\tvalidation_0-error:0.02404\tvalidation_1-error:0.05726\n",
      "[155]\tvalidation_0-error:0.02382\tvalidation_1-error:0.05726\n",
      "[156]\tvalidation_0-error:0.02358\tvalidation_1-error:0.05768\n",
      "[157]\tvalidation_0-error:0.02316\tvalidation_1-error:0.05740\n",
      "[158]\tvalidation_0-error:0.02274\tvalidation_1-error:0.05656\n",
      "[159]\tvalidation_0-error:0.02253\tvalidation_1-error:0.05614\n",
      "[160]\tvalidation_0-error:0.02211\tvalidation_1-error:0.05600\n",
      "[161]\tvalidation_0-error:0.02183\tvalidation_1-error:0.05614\n",
      "[162]\tvalidation_0-error:0.02151\tvalidation_1-error:0.05600\n",
      "[163]\tvalidation_0-error:0.02137\tvalidation_1-error:0.05642\n",
      "[164]\tvalidation_0-error:0.02123\tvalidation_1-error:0.05544\n",
      "[165]\tvalidation_0-error:0.02095\tvalidation_1-error:0.05544\n",
      "[166]\tvalidation_0-error:0.02077\tvalidation_1-error:0.05502\n",
      "[167]\tvalidation_0-error:0.02028\tvalidation_1-error:0.05446\n",
      "[168]\tvalidation_0-error:0.02000\tvalidation_1-error:0.05516\n",
      "[169]\tvalidation_0-error:0.01972\tvalidation_1-error:0.05488\n",
      "[170]\tvalidation_0-error:0.01979\tvalidation_1-error:0.05502\n",
      "[171]\tvalidation_0-error:0.01972\tvalidation_1-error:0.05516\n",
      "[172]\tvalidation_0-error:0.01954\tvalidation_1-error:0.05403\n",
      "[173]\tvalidation_0-error:0.01919\tvalidation_1-error:0.05460\n",
      "[174]\tvalidation_0-error:0.01919\tvalidation_1-error:0.05432\n",
      "[175]\tvalidation_0-error:0.01905\tvalidation_1-error:0.05403\n",
      "[176]\tvalidation_0-error:0.01891\tvalidation_1-error:0.05333\n",
      "[177]\tvalidation_0-error:0.01874\tvalidation_1-error:0.05319\n",
      "[178]\tvalidation_0-error:0.01846\tvalidation_1-error:0.05389\n",
      "[179]\tvalidation_0-error:0.01818\tvalidation_1-error:0.05361\n",
      "[180]\tvalidation_0-error:0.01825\tvalidation_1-error:0.05291\n",
      "[181]\tvalidation_0-error:0.01818\tvalidation_1-error:0.05291\n",
      "[182]\tvalidation_0-error:0.01768\tvalidation_1-error:0.05249\n",
      "[183]\tvalidation_0-error:0.01754\tvalidation_1-error:0.05305\n",
      "[184]\tvalidation_0-error:0.01719\tvalidation_1-error:0.05291\n",
      "[185]\tvalidation_0-error:0.01740\tvalidation_1-error:0.05249\n",
      "[186]\tvalidation_0-error:0.01695\tvalidation_1-error:0.05221\n",
      "[187]\tvalidation_0-error:0.01670\tvalidation_1-error:0.05249\n",
      "[188]\tvalidation_0-error:0.01670\tvalidation_1-error:0.05235\n",
      "[189]\tvalidation_0-error:0.01674\tvalidation_1-error:0.05263\n",
      "[190]\tvalidation_0-error:0.01628\tvalidation_1-error:0.05235\n",
      "[191]\tvalidation_0-error:0.01618\tvalidation_1-error:0.05207\n",
      "[192]\tvalidation_0-error:0.01635\tvalidation_1-error:0.05165\n",
      "[193]\tvalidation_0-error:0.01562\tvalidation_1-error:0.05277\n",
      "[194]\tvalidation_0-error:0.01589\tvalidation_1-error:0.05207\n",
      "[195]\tvalidation_0-error:0.01565\tvalidation_1-error:0.05221\n",
      "[196]\tvalidation_0-error:0.01533\tvalidation_1-error:0.05109\n",
      "[197]\tvalidation_0-error:0.01523\tvalidation_1-error:0.05081\n",
      "[198]\tvalidation_0-error:0.01505\tvalidation_1-error:0.05039\n",
      "[199]\tvalidation_0-error:0.01488\tvalidation_1-error:0.05081\n",
      "[200]\tvalidation_0-error:0.01460\tvalidation_1-error:0.05109\n",
      "[201]\tvalidation_0-error:0.01442\tvalidation_1-error:0.05025\n",
      "[202]\tvalidation_0-error:0.01418\tvalidation_1-error:0.05053\n",
      "[203]\tvalidation_0-error:0.01421\tvalidation_1-error:0.05025\n",
      "[204]\tvalidation_0-error:0.01368\tvalidation_1-error:0.04968\n",
      "[205]\tvalidation_0-error:0.01372\tvalidation_1-error:0.04912\n",
      "[206]\tvalidation_0-error:0.01337\tvalidation_1-error:0.04856\n",
      "[207]\tvalidation_0-error:0.01319\tvalidation_1-error:0.04870\n",
      "[208]\tvalidation_0-error:0.01309\tvalidation_1-error:0.04814\n",
      "[209]\tvalidation_0-error:0.01298\tvalidation_1-error:0.04828\n",
      "[210]\tvalidation_0-error:0.01277\tvalidation_1-error:0.04688\n",
      "[211]\tvalidation_0-error:0.01246\tvalidation_1-error:0.04660\n",
      "[212]\tvalidation_0-error:0.01253\tvalidation_1-error:0.04674\n",
      "[213]\tvalidation_0-error:0.01218\tvalidation_1-error:0.04632\n",
      "[214]\tvalidation_0-error:0.01189\tvalidation_1-error:0.04632\n",
      "[215]\tvalidation_0-error:0.01196\tvalidation_1-error:0.04618\n",
      "[216]\tvalidation_0-error:0.01175\tvalidation_1-error:0.04660\n",
      "[217]\tvalidation_0-error:0.01168\tvalidation_1-error:0.04702\n",
      "[218]\tvalidation_0-error:0.01144\tvalidation_1-error:0.04660\n",
      "[219]\tvalidation_0-error:0.01130\tvalidation_1-error:0.04702\n",
      "[220]\tvalidation_0-error:0.01102\tvalidation_1-error:0.04702\n",
      "[221]\tvalidation_0-error:0.01109\tvalidation_1-error:0.04674\n",
      "[222]\tvalidation_0-error:0.01088\tvalidation_1-error:0.04660\n",
      "[223]\tvalidation_0-error:0.01074\tvalidation_1-error:0.04603\n",
      "[224]\tvalidation_0-error:0.01074\tvalidation_1-error:0.04632\n",
      "[225]\tvalidation_0-error:0.01060\tvalidation_1-error:0.04618\n",
      "[226]\tvalidation_0-error:0.01021\tvalidation_1-error:0.04575\n",
      "[227]\tvalidation_0-error:0.01035\tvalidation_1-error:0.04547\n",
      "[228]\tvalidation_0-error:0.01028\tvalidation_1-error:0.04547\n",
      "[229]\tvalidation_0-error:0.01025\tvalidation_1-error:0.04575\n",
      "[230]\tvalidation_0-error:0.00993\tvalidation_1-error:0.04533\n",
      "[231]\tvalidation_0-error:0.00961\tvalidation_1-error:0.04505\n",
      "[232]\tvalidation_0-error:0.00958\tvalidation_1-error:0.04519\n",
      "[233]\tvalidation_0-error:0.00954\tvalidation_1-error:0.04519\n",
      "[234]\tvalidation_0-error:0.00947\tvalidation_1-error:0.04463\n",
      "[235]\tvalidation_0-error:0.00930\tvalidation_1-error:0.04449\n",
      "[236]\tvalidation_0-error:0.00923\tvalidation_1-error:0.04449\n",
      "[237]\tvalidation_0-error:0.00923\tvalidation_1-error:0.04421\n",
      "[238]\tvalidation_0-error:0.00895\tvalidation_1-error:0.04407\n",
      "[239]\tvalidation_0-error:0.00877\tvalidation_1-error:0.04435\n",
      "[240]\tvalidation_0-error:0.00870\tvalidation_1-error:0.04407\n",
      "[241]\tvalidation_0-error:0.00853\tvalidation_1-error:0.04393\n",
      "[242]\tvalidation_0-error:0.00839\tvalidation_1-error:0.04407\n",
      "[243]\tvalidation_0-error:0.00828\tvalidation_1-error:0.04407\n",
      "[244]\tvalidation_0-error:0.00818\tvalidation_1-error:0.04407\n",
      "[245]\tvalidation_0-error:0.00839\tvalidation_1-error:0.04365\n",
      "[246]\tvalidation_0-error:0.00814\tvalidation_1-error:0.04463\n",
      "[247]\tvalidation_0-error:0.00814\tvalidation_1-error:0.04393\n",
      "[248]\tvalidation_0-error:0.00783\tvalidation_1-error:0.04407\n",
      "[249]\tvalidation_0-error:0.00754\tvalidation_1-error:0.04393\n",
      "[250]\tvalidation_0-error:0.00754\tvalidation_1-error:0.04379\n",
      "[251]\tvalidation_0-error:0.00740\tvalidation_1-error:0.04379\n",
      "[252]\tvalidation_0-error:0.00726\tvalidation_1-error:0.04281\n",
      "[253]\tvalidation_0-error:0.00730\tvalidation_1-error:0.04239\n",
      "[254]\tvalidation_0-error:0.00723\tvalidation_1-error:0.04281\n",
      "[255]\tvalidation_0-error:0.00723\tvalidation_1-error:0.04267\n",
      "[256]\tvalidation_0-error:0.00698\tvalidation_1-error:0.04239\n",
      "[257]\tvalidation_0-error:0.00691\tvalidation_1-error:0.04225\n",
      "[258]\tvalidation_0-error:0.00691\tvalidation_1-error:0.04295\n",
      "[259]\tvalidation_0-error:0.00684\tvalidation_1-error:0.04253\n",
      "[260]\tvalidation_0-error:0.00653\tvalidation_1-error:0.04267\n",
      "[261]\tvalidation_0-error:0.00649\tvalidation_1-error:0.04267\n",
      "[262]\tvalidation_0-error:0.00632\tvalidation_1-error:0.04239\n",
      "[263]\tvalidation_0-error:0.00639\tvalidation_1-error:0.04281\n",
      "[264]\tvalidation_0-error:0.00635\tvalidation_1-error:0.04281\n",
      "[265]\tvalidation_0-error:0.00621\tvalidation_1-error:0.04225\n"
     ]
    },
    {
     "name": "stdout",
     "output_type": "stream",
     "text": [
      "[266]\tvalidation_0-error:0.00618\tvalidation_1-error:0.04183\n",
      "[267]\tvalidation_0-error:0.00590\tvalidation_1-error:0.04154\n",
      "[268]\tvalidation_0-error:0.00586\tvalidation_1-error:0.04098\n",
      "[269]\tvalidation_0-error:0.00575\tvalidation_1-error:0.04126\n",
      "[270]\tvalidation_0-error:0.00558\tvalidation_1-error:0.04084\n",
      "[271]\tvalidation_0-error:0.00554\tvalidation_1-error:0.04098\n",
      "[272]\tvalidation_0-error:0.00537\tvalidation_1-error:0.04183\n",
      "[273]\tvalidation_0-error:0.00530\tvalidation_1-error:0.04183\n",
      "[274]\tvalidation_0-error:0.00526\tvalidation_1-error:0.04140\n",
      "[275]\tvalidation_0-error:0.00502\tvalidation_1-error:0.04154\n",
      "[276]\tvalidation_0-error:0.00488\tvalidation_1-error:0.04140\n",
      "[277]\tvalidation_0-error:0.00495\tvalidation_1-error:0.04140\n",
      "[278]\tvalidation_0-error:0.00484\tvalidation_1-error:0.04056\n",
      "[279]\tvalidation_0-error:0.00488\tvalidation_1-error:0.04098\n",
      "[280]\tvalidation_0-error:0.00463\tvalidation_1-error:0.04098\n",
      "[281]\tvalidation_0-error:0.00477\tvalidation_1-error:0.04098\n",
      "[282]\tvalidation_0-error:0.00481\tvalidation_1-error:0.04098\n",
      "[283]\tvalidation_0-error:0.00460\tvalidation_1-error:0.04098\n",
      "[284]\tvalidation_0-error:0.00446\tvalidation_1-error:0.04084\n",
      "[285]\tvalidation_0-error:0.00418\tvalidation_1-error:0.04014\n",
      "[286]\tvalidation_0-error:0.00432\tvalidation_1-error:0.04070\n",
      "[287]\tvalidation_0-error:0.00428\tvalidation_1-error:0.04014\n",
      "[288]\tvalidation_0-error:0.00428\tvalidation_1-error:0.04000\n",
      "[289]\tvalidation_0-error:0.00414\tvalidation_1-error:0.04084\n",
      "[290]\tvalidation_0-error:0.00404\tvalidation_1-error:0.04070\n",
      "[291]\tvalidation_0-error:0.00411\tvalidation_1-error:0.04084\n",
      "[292]\tvalidation_0-error:0.00404\tvalidation_1-error:0.04070\n",
      "[293]\tvalidation_0-error:0.00400\tvalidation_1-error:0.04056\n",
      "[294]\tvalidation_0-error:0.00393\tvalidation_1-error:0.04056\n",
      "[295]\tvalidation_0-error:0.00386\tvalidation_1-error:0.04042\n",
      "[296]\tvalidation_0-error:0.00368\tvalidation_1-error:0.03944\n",
      "[297]\tvalidation_0-error:0.00379\tvalidation_1-error:0.03972\n",
      "[298]\tvalidation_0-error:0.00365\tvalidation_1-error:0.03944\n",
      "[299]\tvalidation_0-error:0.00358\tvalidation_1-error:0.03972\n",
      "[300]\tvalidation_0-error:0.00340\tvalidation_1-error:0.03930\n",
      "[301]\tvalidation_0-error:0.00323\tvalidation_1-error:0.03916\n",
      "[302]\tvalidation_0-error:0.00323\tvalidation_1-error:0.03944\n",
      "[303]\tvalidation_0-error:0.00319\tvalidation_1-error:0.03944\n",
      "[304]\tvalidation_0-error:0.00316\tvalidation_1-error:0.03944\n",
      "[305]\tvalidation_0-error:0.00319\tvalidation_1-error:0.03902\n",
      "[306]\tvalidation_0-error:0.00330\tvalidation_1-error:0.03930\n",
      "[307]\tvalidation_0-error:0.00323\tvalidation_1-error:0.03888\n",
      "[308]\tvalidation_0-error:0.00326\tvalidation_1-error:0.03874\n",
      "[309]\tvalidation_0-error:0.00323\tvalidation_1-error:0.03874\n",
      "[310]\tvalidation_0-error:0.00319\tvalidation_1-error:0.03888\n",
      "[311]\tvalidation_0-error:0.00312\tvalidation_1-error:0.03860\n",
      "[312]\tvalidation_0-error:0.00319\tvalidation_1-error:0.03846\n",
      "[313]\tvalidation_0-error:0.00312\tvalidation_1-error:0.03832\n",
      "[314]\tvalidation_0-error:0.00312\tvalidation_1-error:0.03846\n",
      "[315]\tvalidation_0-error:0.00305\tvalidation_1-error:0.03803\n",
      "[316]\tvalidation_0-error:0.00305\tvalidation_1-error:0.03846\n",
      "[317]\tvalidation_0-error:0.00302\tvalidation_1-error:0.03902\n",
      "[318]\tvalidation_0-error:0.00295\tvalidation_1-error:0.03874\n",
      "[319]\tvalidation_0-error:0.00295\tvalidation_1-error:0.03888\n",
      "[320]\tvalidation_0-error:0.00277\tvalidation_1-error:0.03874\n",
      "[321]\tvalidation_0-error:0.00263\tvalidation_1-error:0.03930\n",
      "[322]\tvalidation_0-error:0.00267\tvalidation_1-error:0.03916\n",
      "[323]\tvalidation_0-error:0.00270\tvalidation_1-error:0.03846\n",
      "[324]\tvalidation_0-error:0.00267\tvalidation_1-error:0.03818\n",
      "[325]\tvalidation_0-error:0.00242\tvalidation_1-error:0.03832\n",
      "[326]\tvalidation_0-error:0.00246\tvalidation_1-error:0.03916\n",
      "[327]\tvalidation_0-error:0.00239\tvalidation_1-error:0.03789\n",
      "[328]\tvalidation_0-error:0.00246\tvalidation_1-error:0.03818\n",
      "[329]\tvalidation_0-error:0.00249\tvalidation_1-error:0.03761\n",
      "[330]\tvalidation_0-error:0.00242\tvalidation_1-error:0.03761\n",
      "[331]\tvalidation_0-error:0.00249\tvalidation_1-error:0.03719\n",
      "[332]\tvalidation_0-error:0.00242\tvalidation_1-error:0.03803\n",
      "[333]\tvalidation_0-error:0.00235\tvalidation_1-error:0.03733\n",
      "[334]\tvalidation_0-error:0.00221\tvalidation_1-error:0.03705\n",
      "[335]\tvalidation_0-error:0.00218\tvalidation_1-error:0.03747\n",
      "[336]\tvalidation_0-error:0.00221\tvalidation_1-error:0.03719\n",
      "[337]\tvalidation_0-error:0.00211\tvalidation_1-error:0.03747\n",
      "[338]\tvalidation_0-error:0.00214\tvalidation_1-error:0.03803\n",
      "[339]\tvalidation_0-error:0.00207\tvalidation_1-error:0.03803\n",
      "[340]\tvalidation_0-error:0.00207\tvalidation_1-error:0.03775\n",
      "[341]\tvalidation_0-error:0.00203\tvalidation_1-error:0.03733\n",
      "[342]\tvalidation_0-error:0.00193\tvalidation_1-error:0.03719\n",
      "[343]\tvalidation_0-error:0.00193\tvalidation_1-error:0.03677\n",
      "[344]\tvalidation_0-error:0.00189\tvalidation_1-error:0.03691\n",
      "[345]\tvalidation_0-error:0.00186\tvalidation_1-error:0.03635\n",
      "[346]\tvalidation_0-error:0.00179\tvalidation_1-error:0.03649\n",
      "[347]\tvalidation_0-error:0.00172\tvalidation_1-error:0.03635\n",
      "[348]\tvalidation_0-error:0.00168\tvalidation_1-error:0.03635\n",
      "[349]\tvalidation_0-error:0.00161\tvalidation_1-error:0.03649\n",
      "[350]\tvalidation_0-error:0.00147\tvalidation_1-error:0.03649\n",
      "[351]\tvalidation_0-error:0.00151\tvalidation_1-error:0.03677\n",
      "[352]\tvalidation_0-error:0.00147\tvalidation_1-error:0.03593\n",
      "[353]\tvalidation_0-error:0.00147\tvalidation_1-error:0.03593\n",
      "[354]\tvalidation_0-error:0.00130\tvalidation_1-error:0.03593\n",
      "[355]\tvalidation_0-error:0.00130\tvalidation_1-error:0.03537\n",
      "[356]\tvalidation_0-error:0.00123\tvalidation_1-error:0.03509\n",
      "[357]\tvalidation_0-error:0.00119\tvalidation_1-error:0.03481\n",
      "[358]\tvalidation_0-error:0.00119\tvalidation_1-error:0.03481\n",
      "[359]\tvalidation_0-error:0.00119\tvalidation_1-error:0.03509\n",
      "[360]\tvalidation_0-error:0.00126\tvalidation_1-error:0.03439\n",
      "[361]\tvalidation_0-error:0.00126\tvalidation_1-error:0.03425\n",
      "[362]\tvalidation_0-error:0.00119\tvalidation_1-error:0.03383\n",
      "[363]\tvalidation_0-error:0.00119\tvalidation_1-error:0.03439\n",
      "[364]\tvalidation_0-error:0.00109\tvalidation_1-error:0.03481\n",
      "[365]\tvalidation_0-error:0.00105\tvalidation_1-error:0.03495\n",
      "[366]\tvalidation_0-error:0.00105\tvalidation_1-error:0.03495\n",
      "[367]\tvalidation_0-error:0.00102\tvalidation_1-error:0.03467\n",
      "[368]\tvalidation_0-error:0.00109\tvalidation_1-error:0.03467\n",
      "[369]\tvalidation_0-error:0.00098\tvalidation_1-error:0.03481\n",
      "[370]\tvalidation_0-error:0.00095\tvalidation_1-error:0.03467\n",
      "[371]\tvalidation_0-error:0.00091\tvalidation_1-error:0.03439\n",
      "[372]\tvalidation_0-error:0.00091\tvalidation_1-error:0.03481\n",
      "[373]\tvalidation_0-error:0.00095\tvalidation_1-error:0.03453\n",
      "[374]\tvalidation_0-error:0.00098\tvalidation_1-error:0.03481\n",
      "[375]\tvalidation_0-error:0.00095\tvalidation_1-error:0.03453\n",
      "[376]\tvalidation_0-error:0.00095\tvalidation_1-error:0.03425\n",
      "[377]\tvalidation_0-error:0.00088\tvalidation_1-error:0.03411\n",
      "[378]\tvalidation_0-error:0.00088\tvalidation_1-error:0.03425\n",
      "[379]\tvalidation_0-error:0.00081\tvalidation_1-error:0.03411\n",
      "[380]\tvalidation_0-error:0.00084\tvalidation_1-error:0.03425\n",
      "[381]\tvalidation_0-error:0.00081\tvalidation_1-error:0.03383\n",
      "[382]\tvalidation_0-error:0.00084\tvalidation_1-error:0.03383\n",
      "[383]\tvalidation_0-error:0.00081\tvalidation_1-error:0.03397\n",
      "[384]\tvalidation_0-error:0.00081\tvalidation_1-error:0.03425\n",
      "[385]\tvalidation_0-error:0.00081\tvalidation_1-error:0.03397\n",
      "[386]\tvalidation_0-error:0.00081\tvalidation_1-error:0.03368\n",
      "[387]\tvalidation_0-error:0.00081\tvalidation_1-error:0.03383\n",
      "[388]\tvalidation_0-error:0.00084\tvalidation_1-error:0.03354\n",
      "[389]\tvalidation_0-error:0.00081\tvalidation_1-error:0.03340\n",
      "[390]\tvalidation_0-error:0.00077\tvalidation_1-error:0.03397\n",
      "[391]\tvalidation_0-error:0.00077\tvalidation_1-error:0.03340\n",
      "[392]\tvalidation_0-error:0.00077\tvalidation_1-error:0.03326\n",
      "[393]\tvalidation_0-error:0.00077\tvalidation_1-error:0.03312\n",
      "[394]\tvalidation_0-error:0.00077\tvalidation_1-error:0.03354\n",
      "[395]\tvalidation_0-error:0.00077\tvalidation_1-error:0.03354\n",
      "[396]\tvalidation_0-error:0.00077\tvalidation_1-error:0.03354\n",
      "[397]\tvalidation_0-error:0.00074\tvalidation_1-error:0.03312\n",
      "[398]\tvalidation_0-error:0.00077\tvalidation_1-error:0.03354\n",
      "[399]\tvalidation_0-error:0.00077\tvalidation_1-error:0.03312\n",
      "[400]\tvalidation_0-error:0.00074\tvalidation_1-error:0.03368\n",
      "[401]\tvalidation_0-error:0.00070\tvalidation_1-error:0.03312\n",
      "[402]\tvalidation_0-error:0.00067\tvalidation_1-error:0.03340\n"
     ]
    },
    {
     "name": "stdout",
     "output_type": "stream",
     "text": [
      "[403]\tvalidation_0-error:0.00070\tvalidation_1-error:0.03312\n",
      "[404]\tvalidation_0-error:0.00070\tvalidation_1-error:0.03340\n",
      "[405]\tvalidation_0-error:0.00070\tvalidation_1-error:0.03354\n",
      "[406]\tvalidation_0-error:0.00067\tvalidation_1-error:0.03326\n",
      "[407]\tvalidation_0-error:0.00067\tvalidation_1-error:0.03284\n",
      "[408]\tvalidation_0-error:0.00063\tvalidation_1-error:0.03284\n",
      "[409]\tvalidation_0-error:0.00067\tvalidation_1-error:0.03270\n",
      "[410]\tvalidation_0-error:0.00056\tvalidation_1-error:0.03228\n",
      "[411]\tvalidation_0-error:0.00060\tvalidation_1-error:0.03228\n",
      "[412]\tvalidation_0-error:0.00063\tvalidation_1-error:0.03242\n",
      "[413]\tvalidation_0-error:0.00053\tvalidation_1-error:0.03256\n",
      "[414]\tvalidation_0-error:0.00053\tvalidation_1-error:0.03228\n",
      "[415]\tvalidation_0-error:0.00056\tvalidation_1-error:0.03242\n",
      "[416]\tvalidation_0-error:0.00053\tvalidation_1-error:0.03158\n",
      "[417]\tvalidation_0-error:0.00056\tvalidation_1-error:0.03186\n",
      "[418]\tvalidation_0-error:0.00056\tvalidation_1-error:0.03186\n",
      "[419]\tvalidation_0-error:0.00046\tvalidation_1-error:0.03144\n",
      "[420]\tvalidation_0-error:0.00046\tvalidation_1-error:0.03172\n",
      "[421]\tvalidation_0-error:0.00049\tvalidation_1-error:0.03172\n",
      "[422]\tvalidation_0-error:0.00049\tvalidation_1-error:0.03186\n",
      "[423]\tvalidation_0-error:0.00049\tvalidation_1-error:0.03186\n",
      "[424]\tvalidation_0-error:0.00049\tvalidation_1-error:0.03158\n",
      "[425]\tvalidation_0-error:0.00046\tvalidation_1-error:0.03144\n",
      "[426]\tvalidation_0-error:0.00053\tvalidation_1-error:0.03172\n",
      "[427]\tvalidation_0-error:0.00049\tvalidation_1-error:0.03130\n",
      "[428]\tvalidation_0-error:0.00042\tvalidation_1-error:0.03186\n",
      "[429]\tvalidation_0-error:0.00042\tvalidation_1-error:0.03158\n",
      "[430]\tvalidation_0-error:0.00042\tvalidation_1-error:0.03130\n",
      "[431]\tvalidation_0-error:0.00042\tvalidation_1-error:0.03130\n",
      "[432]\tvalidation_0-error:0.00042\tvalidation_1-error:0.03102\n",
      "[433]\tvalidation_0-error:0.00042\tvalidation_1-error:0.03116\n",
      "[434]\tvalidation_0-error:0.00042\tvalidation_1-error:0.03116\n",
      "[435]\tvalidation_0-error:0.00039\tvalidation_1-error:0.03144\n",
      "[436]\tvalidation_0-error:0.00039\tvalidation_1-error:0.03158\n",
      "[437]\tvalidation_0-error:0.00039\tvalidation_1-error:0.03088\n",
      "[438]\tvalidation_0-error:0.00039\tvalidation_1-error:0.03102\n",
      "[439]\tvalidation_0-error:0.00035\tvalidation_1-error:0.03088\n",
      "[440]\tvalidation_0-error:0.00035\tvalidation_1-error:0.03088\n",
      "[441]\tvalidation_0-error:0.00035\tvalidation_1-error:0.03074\n",
      "[442]\tvalidation_0-error:0.00035\tvalidation_1-error:0.03088\n",
      "[443]\tvalidation_0-error:0.00035\tvalidation_1-error:0.03130\n",
      "[444]\tvalidation_0-error:0.00032\tvalidation_1-error:0.03088\n",
      "[445]\tvalidation_0-error:0.00035\tvalidation_1-error:0.03116\n",
      "[446]\tvalidation_0-error:0.00035\tvalidation_1-error:0.03130\n",
      "[447]\tvalidation_0-error:0.00032\tvalidation_1-error:0.03116\n",
      "[448]\tvalidation_0-error:0.00032\tvalidation_1-error:0.03074\n",
      "[449]\tvalidation_0-error:0.00028\tvalidation_1-error:0.03102\n",
      "[450]\tvalidation_0-error:0.00028\tvalidation_1-error:0.03088\n",
      "[451]\tvalidation_0-error:0.00028\tvalidation_1-error:0.03088\n",
      "[452]\tvalidation_0-error:0.00032\tvalidation_1-error:0.03102\n",
      "[453]\tvalidation_0-error:0.00035\tvalidation_1-error:0.03130\n",
      "[454]\tvalidation_0-error:0.00028\tvalidation_1-error:0.03088\n",
      "[455]\tvalidation_0-error:0.00032\tvalidation_1-error:0.03116\n",
      "[456]\tvalidation_0-error:0.00025\tvalidation_1-error:0.03102\n",
      "[457]\tvalidation_0-error:0.00025\tvalidation_1-error:0.03116\n",
      "[458]\tvalidation_0-error:0.00025\tvalidation_1-error:0.03074\n",
      "[459]\tvalidation_0-error:0.00025\tvalidation_1-error:0.03088\n",
      "[460]\tvalidation_0-error:0.00021\tvalidation_1-error:0.03102\n",
      "[461]\tvalidation_0-error:0.00021\tvalidation_1-error:0.03158\n",
      "[462]\tvalidation_0-error:0.00017\tvalidation_1-error:0.03088\n",
      "[463]\tvalidation_0-error:0.00017\tvalidation_1-error:0.03102\n",
      "[464]\tvalidation_0-error:0.00017\tvalidation_1-error:0.03088\n",
      "[465]\tvalidation_0-error:0.00017\tvalidation_1-error:0.03074\n",
      "[466]\tvalidation_0-error:0.00017\tvalidation_1-error:0.03130\n",
      "[467]\tvalidation_0-error:0.00017\tvalidation_1-error:0.03074\n",
      "[468]\tvalidation_0-error:0.00017\tvalidation_1-error:0.03102\n",
      "[469]\tvalidation_0-error:0.00021\tvalidation_1-error:0.03088\n",
      "[470]\tvalidation_0-error:0.00021\tvalidation_1-error:0.03116\n",
      "[471]\tvalidation_0-error:0.00021\tvalidation_1-error:0.03088\n",
      "Stopping. Best iteration:\n",
      "[441]\tvalidation_0-error:0.00035\tvalidation_1-error:0.03074\n",
      "\n"
     ]
    },
    {
     "data": {
      "text/plain": [
       "1"
      ]
     },
     "execution_count": 779,
     "metadata": {},
     "output_type": "execute_result"
    }
   ],
   "source": [
    "model = xgb.XGBClassifier(max_depth=4, \n",
    "                          learning_rate=0.3, \n",
    "                          n_estimators=1000, \n",
    "                          silent=True, \n",
    "                          eval_metrics='error',\n",
    "                          objective='binary:logistic', \n",
    "                          #objective='multi:softmax',\n",
    "                          #num_calss=5,\n",
    "                          seed=100,\n",
    "#                          nthread=4,\n",
    "                          sub_sabsample=0.8,\n",
    "                          reg_lambda = 15,\n",
    "                         )\n",
    "eval_set=[(x_train,y_train),(x_valid,y_valid)]\n",
    "model.fit(x_train, y_train,eval_metric=['error'],\n",
    "          eval_set=eval_set,early_stopping_rounds=30)\n",
    "player.Beep(1000,200)"
   ]
  },
  {
   "cell_type": "code",
   "execution_count": 344,
   "metadata": {},
   "outputs": [
    {
     "data": {
      "text/plain": [
       "(8891,)"
      ]
     },
     "execution_count": 344,
     "metadata": {},
     "output_type": "execute_result"
    }
   ],
   "source": [
    "y_test.shape"
   ]
  },
  {
   "cell_type": "code",
   "execution_count": 780,
   "metadata": {},
   "outputs": [
    {
     "name": "stdout",
     "output_type": "stream",
     "text": [
      "test:0.966652\n",
      "valid:0.969263\n"
     ]
    }
   ],
   "source": [
    "y_pred=model.predict(x_test)\n",
    "test = metrics.accuracy_score(y_test,y_pred>0.5)\n",
    "y_pred=model.predict(x_valid)\n",
    "valid = metrics.accuracy_score(y_valid,y_pred>0.5)\n",
    "print('test:%f'%test)\n",
    "print('valid:%f'%valid)"
   ]
  },
  {
   "cell_type": "code",
   "execution_count": 781,
   "metadata": {},
   "outputs": [
    {
     "data": {
      "text/plain": [
       "0.9811888638073739"
      ]
     },
     "execution_count": 781,
     "metadata": {},
     "output_type": "execute_result"
    }
   ],
   "source": [
    "y_pred=model.predict(feature[41872:])\n",
    "metrics.accuracy_score(y_01[41872:],y_pred>0.5)"
   ]
  },
  {
   "cell_type": "code",
   "execution_count": 70,
   "metadata": {},
   "outputs": [
    {
     "data": {
      "text/plain": [
       "array([[1270,   61,    0,   30],\n",
       "       [  36, 1987,    0,   15],\n",
       "       [   4,   19,  110,    0],\n",
       "       [  25,   12,    0, 1046]], dtype=int64)"
      ]
     },
     "execution_count": 70,
     "metadata": {},
     "output_type": "execute_result"
    }
   ],
   "source": [
    "metrics.confusion_matrix(y_valid,y_pred)\n",
    "#metrics.precision_recall_curve(y_valid,y_pred)\n",
    "#(y_valid==0).sum()"
   ]
  },
  {
   "cell_type": "code",
   "execution_count": 191,
   "metadata": {},
   "outputs": [],
   "source": [
    "ind = ((y_test==1)|(y_test==2)|(y_test==3)|(y_test==4)|(y_test==6))\n",
    "#ind = ((y2==1)|(y2==2)|(y2==3)|(y2==4)|(y2==6))\n",
    "y_01 = y_test\n",
    "y_01[ind] = 1\n",
    "#d_test = xgb.DMatrix(feature2,label=y_01)"
   ]
  },
  {
   "cell_type": "code",
   "execution_count": 782,
   "metadata": {},
   "outputs": [
    {
     "data": {
      "text/plain": [
       "0.8558421851289834"
      ]
     },
     "execution_count": 782,
     "metadata": {},
     "output_type": "execute_result"
    }
   ],
   "source": [
    "y_pred=model.predict(feature2)\n",
    "metrics.accuracy_score(y2,y_pred>0.5)"
   ]
  },
  {
   "cell_type": "code",
   "execution_count": 339,
   "metadata": {},
   "outputs": [
    {
     "data": {
      "text/plain": [
       "{0}"
      ]
     },
     "execution_count": 339,
     "metadata": {},
     "output_type": "execute_result"
    }
   ],
   "source": [
    "set(y2)"
   ]
  },
  {
   "cell_type": "code",
   "execution_count": 515,
   "metadata": {
    "scrolled": false
   },
   "outputs": [
    {
     "data": {
      "image/png": "[encoded data removed]",
      "text/plain": [
       "<Figure size 2304x1728 with 1 Axes>"
      ]
     },
     "metadata": {
      "needs_background": "light"
     },
     "output_type": "display_data"
    }
   ],
   "source": [
    "plt.rcParams[\"figure.figsize\"] = (32,24)\n",
    "plot_importance(model)\n",
    "plt.show()"
   ]
  },
  {
   "cell_type": "code",
   "execution_count": 593,
   "metadata": {},
   "outputs": [
    {
     "data": {
      "text/plain": [
       "1"
      ]
     },
     "execution_count": 593,
     "metadata": {},
     "output_type": "execute_result"
    }
   ],
   "source": [
    "y_02[200]"
   ]
  },
  {
   "cell_type": "code",
   "execution_count": 648,
   "metadata": {},
   "outputs": [
    {
     "data": {
      "text/plain": [
       "(array([  5.,  16., 202.,  32.,   1.]),\n",
       " array([-5., -3., -1.,  1.,  3.,  5.], dtype=float32),\n",
       " <a list of 5 Patch objects>)"
      ]
     },
     "execution_count": 648,
     "metadata": {},
     "output_type": "execute_result"
    },
    {
     "data": {
      "image/png": "[encoded data removed]",
      "text/plain": [
       "<Figure size 432x288 with 1 Axes>"
      ]
     },
     "metadata": {
      "needs_background": "light"
     },
     "output_type": "display_data"
    }
   ],
   "source": [
    "plt.hist(x[1000,:,1],bins=bins,range=HIST_range)"
   ]
  },
  {
   "cell_type": "code",
   "execution_count": 15,
   "metadata": {},
   "outputs": [
    {
     "data": {
      "text/plain": [
       "1"
      ]
     },
     "execution_count": 15,
     "metadata": {},
     "output_type": "execute_result"
    }
   ],
   "source": [
    "import ctypes\n",
    "player = ctypes.windll.kernel32\n",
    "player.Beep(1000,200)"
   ]
  },
  {
   "cell_type": "code",
   "execution_count": 7,
   "metadata": {},
   "outputs": [
    {
     "data": {
      "text/plain": [
       "array([1820.74390164, 1794.98282657, 1366.77049128, ..., 3368.58514734,\n",
       "       3150.73227432, 2575.55319812])"
      ]
     },
     "execution_count": 7,
     "metadata": {},
     "output_type": "execute_result"
    }
   ],
   "source": [
    "feature.mean(axis=1)"
   ]
  },
  {
   "cell_type": "code",
   "execution_count": 444,
   "metadata": {},
   "outputs": [
    {
     "data": {
      "text/plain": [
       "array([ 2.65791323e+00,  7.95181939e-01,  1.11527608e-03, -1.24040032e-02,\n",
       "        4.48318099e+00,  2.85782881e+00,  0.00000000e+00,  0.00000000e+00,\n",
       "        0.00000000e+00,  3.11327650e-01,  3.67817467e+00,  1.56499076e-01,\n",
       "        0.00000000e+00,  0.00000000e+00,  0.00000000e+00,  0.00000000e+00,\n",
       "        1.92075511e-01,  7.49300705e-01,  3.11740075e-01,  3.60821098e+00,\n",
       "        7.12848340e-01,  5.84933044e-01,  0.00000000e+00,  0.00000000e+00,\n",
       "        0.00000000e+00,  0.00000000e+00,  0.00000000e+00,  9.94618165e-01,\n",
       "        2.74932611e+00,  4.39620376e+00,  3.41983363e-01,  0.00000000e+00,\n",
       "        0.00000000e+00,  0.00000000e+00,  0.00000000e+00,  0.00000000e+00,\n",
       "        1.07560407e-01,  4.30592149e+00,  7.49695691e-01,  0.00000000e+00,\n",
       "        0.00000000e+00,  0.00000000e+00,  0.00000000e+00,  1.62577031e-01,\n",
       "        3.43855072e-01,  1.73382473e-01,  3.45234429e+00,  6.02006660e-02,\n",
       "        1.21320276e-01,  0.00000000e+00,  0.00000000e+00,  2.73882403e-01,\n",
       "        0.00000000e+00,  0.00000000e+00,  2.04804646e-01,  3.98251906e+00,\n",
       "        1.80777608e-01,  0.00000000e+00,  0.00000000e+00,  0.00000000e+00])"
      ]
     },
     "execution_count": 444,
     "metadata": {},
     "output_type": "execute_result"
    }
   ],
   "source": [
    "feature_sc[200,90:150]"
   ]
  },
  {
   "cell_type": "code",
   "execution_count": 82,
   "metadata": {},
   "outputs": [
    {
     "data": {
      "text/plain": [
       "'./processed data/data_set_after_window_withoutSC.hdf5'"
      ]
     },
     "execution_count": 82,
     "metadata": {},
     "output_type": "execute_result"
    }
   ],
   "source": [
    "path"
   ]
  },
  {
   "cell_type": "code",
   "execution_count": null,
   "metadata": {},
   "outputs": [],
   "source": []
  }
 ],
 "metadata": {
  "kernelspec": {
   "display_name": "Python 3",
   "language": "python",
   "name": "python3"
  },
  "language_info": {
   "codemirror_mode": {
    "name": "ipython",
    "version": 3
   },
   "file_extension": ".py",
   "mimetype": "text/x-python",
   "name": "python",
   "nbconvert_exporter": "python",
   "pygments_lexer": "ipython3",
   "version": "3.7.6"
  }
 },
 "nbformat": 4,
 "nbformat_minor": 4
}
