{
 "cells": [
  {
   "cell_type": "code",
   "execution_count": 113,
   "metadata": {},
   "outputs": [],
   "source": [
    "import numpy as np\n",
    "import pandas as pd\n",
    "from scipy import signal\n",
    "import seaborn as sns\n",
    "import matplotlib.pyplot as plt\n",
    "import pywt\n",
    "import os\n",
    "import time"
   ]
  },
  {
   "cell_type": "code",
   "execution_count": 3,
   "metadata": {},
   "outputs": [
    {
     "name": "stdout",
     "output_type": "stream",
     "text": [
      ".\\data\\labels.txt\n",
      ".\\data\\P812_M050_2_B_FoG_trial1_annotation.csv\n",
      ".\\data\\P812_M050_2_B_FoG_trials.mat\n",
      ".\\data\\P812_M050_2_B_FoG_trial_1_emg.csv\n",
      ".\\data\\P812_M050_2_B_FoG_trial_1_out_left_foot.csv\n",
      ".\\data\\P812_M050_2_B_FoG_trial_1_out_lower_left_foot.csv\n",
      ".\\data\\P812_M050_2_B_FoG_trial_1_out_lower_right_foot.csv\n",
      ".\\data\\P812_M050_2_B_FoG_trial_1_out_right_foot.csv\n",
      ".\\data\\P812_M050_2_B_FoG_trial_2_emg.csv\n",
      ".\\data\\P812_M050_2_B_FoG_trial_2_out_left_foot.csv\n",
      ".\\data\\P812_M050_2_B_FoG_trial_2_out_lower_left_foot.csv\n",
      ".\\data\\P812_M050_2_B_FoG_trial_2_out_lower_right_foot.csv\n",
      ".\\data\\P812_M050_2_B_FoG_trial_2_out_right_foot.csv\n",
      ".\\data\\P812_M50_2_B_FoG_trial2_annotation.csv\n"
     ]
    }
   ],
   "source": [
    "for dirname, _, filenames in os.walk('.\\data'):\n",
    "    for filename in filenames:\n",
    "        print(os.path.join(dirname,filename))"
   ]
  },
  {
   "cell_type": "code",
   "execution_count": 4,
   "metadata": {},
   "outputs": [],
   "source": [
    "emg_data = pd.read_csv('.\\data\\P812_M050_2_B_FoG_trial_1_emg.csv')\n",
    "t1olf = pd.read_csv('.\\data\\P812_M050_2_B_FoG_trial_1_out_left_foot.csv')\n",
    "emg_data2 = pd.read_csv('.\\data\\P812_M050_2_B_FoG_trial_2_emg.csv')"
   ]
  },
  {
   "cell_type": "code",
   "execution_count": 5,
   "metadata": {
    "scrolled": true
   },
   "outputs": [
    {
     "data": {
      "text/plain": [
       "Time        0\n",
       "Label1      0\n",
       "Label2      0\n",
       "LEFT_TA     0\n",
       "LEFT_TS     0\n",
       "LEFT_BF     0\n",
       "LEFT_RF     0\n",
       "RIGHT_TA    0\n",
       "RIGHT_TS    0\n",
       "RIGHT_BF    0\n",
       "RIGHT_RF    0\n",
       "dtype: int64"
      ]
     },
     "execution_count": 5,
     "metadata": {},
     "output_type": "execute_result"
    }
   ],
   "source": [
    "emg_data = emg_data.fillna({'LEFT_BF':emg_data.LEFT_BF.mean(),\n",
    "                           'LEFT_RF':emg_data.LEFT_RF.mean(),\n",
    "                           'RIGHT_TA':emg_data.RIGHT_TA.mean(),\n",
    "                           'RIGHT_TS':emg_data.RIGHT_TS.mean(),\n",
    "                           'RIGHT_BF':emg_data.RIGHT_BF.mean(),\n",
    "                           'RIGHT_RF':emg_data.RIGHT_RF.mean()})\n",
    "emg_data.isna().sum()"
   ]
  },
  {
   "cell_type": "code",
   "execution_count": 115,
   "metadata": {},
   "outputs": [],
   "source": [
    "def generate_window_slide_data(data,width = 260, stride = 30):\n",
    "    l = len(data)\n",
    "    end = (l-width)//stride+1\n",
    "    X = []\n",
    "    Y = []\n",
    "    for i in range(end):\n",
    "        if len(set(data.Label2[i*stride:i*stride+width])) == 1:\n",
    "                Y += [data.Label2[i*stride]]\n",
    "                X += [np.array(data.iloc[i*stride:i*stride+width,3:])]\n",
    "            #print(set(data.Label2[i*stride:i*stride+width]))\n",
    "        else:\n",
    "            #print(set(data.Label2[i*stride:i*stride+width]))\n",
    "            continue\n",
    "    return np.array(X,dtype=np.float32),np.array(Y,dtype=np.uint8)\n",
    "\n",
    "#def generate_CWT_feature(data,widths=260,wavelet = signal.ricker):\n",
    "#    n,t,c = data.shape\n",
    "#    cwtmatr = np.zeros((n,widths,t,c))\n",
    "#    for i in range(n):\n",
    "#        for j in range(c):\n",
    "#            cwtmatr[i,:,:,j] = signal.cwt(data[i,:,j],wavelet,np.arange(1,widths+1))\n",
    "#    return cwtmatr\n",
    "\n",
    "\n",
    "def generate_CWT_feature(data,widths=260,wavelet = 'mexh'):\n",
    "    n,t,c = data.shape\n",
    "    cwtmatr = np.zeros((n,widths,t,c))\n",
    "    for i in range(n):\n",
    "        for j in range(c):\n",
    "            cwtmatr[i,:,:,j],_ = pywt.cwt(data[i,:,j],np.arange(1,widths+1),wavelet)\n",
    "    return cwtmatr"
   ]
  },
  {
   "cell_type": "code",
   "execution_count": 178,
   "metadata": {},
   "outputs": [],
   "source": [
    "width = 256\n",
    "stride = 32\n",
    "widths_scale = 32\n",
    "x,y = generate_window_slide_data(emg_data,width,stride)"
   ]
  },
  {
   "cell_type": "code",
   "execution_count": 179,
   "metadata": {},
   "outputs": [],
   "source": [
    "x = (x-x.min())/(x.max()-x.min())"
   ]
  },
  {
   "cell_type": "code",
   "execution_count": 53,
   "metadata": {
    "scrolled": true
   },
   "outputs": [
    {
     "data": {
      "text/plain": [
       "10774.61668333365"
      ]
     },
     "execution_count": 53,
     "metadata": {},
     "output_type": "execute_result"
    }
   ],
   "source": [
    "(np.isnan(cwtmatr)).sum()\n",
    "cwtmatr.max()"
   ]
  },
  {
   "cell_type": "code",
   "execution_count": 119,
   "metadata": {},
   "outputs": [
    {
     "data": {
      "text/plain": [
       "['cgau1',\n",
       " 'cgau2',\n",
       " 'cgau3',\n",
       " 'cgau4',\n",
       " 'cgau5',\n",
       " 'cgau6',\n",
       " 'cgau7',\n",
       " 'cgau8',\n",
       " 'cmor',\n",
       " 'fbsp',\n",
       " 'gaus1',\n",
       " 'gaus2',\n",
       " 'gaus3',\n",
       " 'gaus4',\n",
       " 'gaus5',\n",
       " 'gaus6',\n",
       " 'gaus7',\n",
       " 'gaus8',\n",
       " 'mexh',\n",
       " 'morl',\n",
       " 'shan']"
      ]
     },
     "execution_count": 119,
     "metadata": {},
     "output_type": "execute_result"
    }
   ],
   "source": [
    "pywt.wavelist(kind='continuous')"
   ]
  },
  {
   "cell_type": "code",
   "execution_count": 180,
   "metadata": {},
   "outputs": [
    {
     "name": "stdout",
     "output_type": "stream",
     "text": [
      "duration: 51.549625\n"
     ]
    }
   ],
   "source": [
    "start = time.time()\n",
    "cwtmatr = generate_CWT_feature(x,widths_scale,'mexh')\n",
    "end = time.time()\n",
    "duration = end-start\n",
    "print('duration: %f'%(duration))"
   ]
  },
  {
   "cell_type": "code",
   "execution_count": 12,
   "metadata": {},
   "outputs": [],
   "source": [
    "import h5py\n",
    "\n",
    "file = './processed data/P812_trial_1_W%d_S%d_WS%d_CWT.hdf5'%(width,stride,widths_scale)\n",
    "with h5py.File(file,'w') as f:\n",
    "    f.create_dataset('cwt_data',data=cwtmatr, maxshape=(None,260,260,8),\n",
    "                     chunks = True,dtype = np.float32)\n",
    "    f.create_dataset('label2',data=y, dtype = np.int8)"
   ]
  },
  {
   "cell_type": "code",
   "execution_count": 71,
   "metadata": {},
   "outputs": [
    {
     "data": {
      "text/plain": [
       "[<matplotlib.lines.Line2D at 0x1b625fb9ec8>]"
      ]
     },
     "execution_count": 71,
     "metadata": {},
     "output_type": "execute_result"
    },
    {
     "data": {
      "image/png": "[encoded data removed]",
      "text/plain": [
       "<Figure size 432x288 with 1 Axes>"
      ]
     },
     "metadata": {
      "needs_background": "light"
     },
     "output_type": "display_data"
    }
   ],
   "source": [
    "plt.plot(x[1,:,1])"
   ]
  },
  {
   "cell_type": "code",
   "execution_count": 193,
   "metadata": {},
   "outputs": [
    {
     "data": {
      "image/png": "[encoded data removed]",
      "text/plain": [
       "<Figure size 432x288 with 2 Axes>"
      ]
     },
     "metadata": {
      "needs_background": "light"
     },
     "output_type": "display_data"
    },
    {
     "name": "stdout",
     "output_type": "stream",
     "text": [
      "2\n"
     ]
    }
   ],
   "source": [
    "temp = 600\n",
    "channel = 0\n",
    "plt.imshow(cwtmatr[temp,:,:,channel], cmap='PRGn', aspect='auto',\n",
    "           vmax=abs(cwtmatr[temp,:,:,channel]).max(), \n",
    "           vmin=-abs(cwtmatr[temp,:,:,channel]).max())\n",
    "plt.colorbar()\n",
    "plt.show()\n",
    "print(y[temp])"
   ]
  },
  {
   "cell_type": "code",
   "execution_count": 156,
   "metadata": {
    "scrolled": true
   },
   "outputs": [],
   "source": [
    "#label = y[ind]\n",
    "#label[label==2]=1\n"
   ]
  },
  {
   "cell_type": "code",
   "execution_count": 31,
   "metadata": {},
   "outputs": [],
   "source": [
    "from tensorflow import keras\n",
    "from tensorflow.keras import layers\n",
    "from tensorflow.keras.models import save_model\n",
    "from tensorflow.keras import callbacks, Model\n",
    "from tensorflow.keras.losses import BinaryCrossentropy,CategoricalCrossentropy\n",
    "from tensorflow.keras.utils import plot_model\n",
    "from tensorflow.keras.initializers import TruncatedNormal\n",
    "from tensorflow.keras.layers import ELU\n",
    "from sklearn.preprocessing import OneHotEncoder\n",
    "import tensorflow as tf\n",
    "from tensorflow.keras import backend as K"
   ]
  },
  {
   "cell_type": "code",
   "execution_count": 194,
   "metadata": {},
   "outputs": [],
   "source": [
    "cwtmatr = tf.random.shuffle(cwtmatr,seed=60)\n",
    "y = tf.random.shuffle(y,seed=60)"
   ]
  },
  {
   "cell_type": "code",
   "execution_count": 204,
   "metadata": {},
   "outputs": [],
   "source": [
    "input_ = layers.Input(shape=cwtmatr.shape[1:])\n",
    "#max_pool = layers.MaxPooling2D(2)(input_)\n",
    "conv1 = layers.Conv2D(64,5,strides=(2,2),kernel_initializer=TruncatedNormal(),activation='relu',padding='same')(input_)\n",
    "max_pool1 = layers.MaxPooling2D(2)(conv1)\n",
    "conv2 = layers.Conv2D(128,5,strides=(2,2),kernel_initializer=TruncatedNormal(),activation='relu',padding='same')(max_pool1)\n",
    "max_pool2 = layers.MaxPooling2D(2)(conv2)\n",
    "flatten = layers.Flatten()(max_pool2)\n",
    "#layer1 = Dense(256,activation = 'relu')(flatten)\n",
    "dropout1 = layers.Dropout(0.2)(flatten)\n",
    "layer2 = layers.Dense(128,activation = 'relu')(dropout1)\n",
    "dropout2 = layers.Dropout(0.2)(layer2)\n",
    "output = layers.Dense(2,activation = 'softmax')(dropout2)\n",
    "model = keras.Model(inputs=[input_],outputs=[output])"
   ]
  },
  {
   "cell_type": "code",
   "execution_count": 205,
   "metadata": {},
   "outputs": [],
   "source": [
    "ind = ((y==0) | (y==2))\n",
    "bce = CategoricalCrossentropy()\n",
    "model.compile(loss =bce ,optimizer='adam',metrics=['accuracy'])\n",
    "oh_ec = OneHotEncoder()\n",
    "label = oh_ec.fit_transform(K.eval(y)[ind,tf.newaxis]).toarray()"
   ]
  },
  {
   "cell_type": "code",
   "execution_count": 206,
   "metadata": {},
   "outputs": [],
   "source": [
    "early_stopping = callbacks.EarlyStopping(patience = 20,monitor = 'val_accuracy', restore_best_weights=True)"
   ]
  },
  {
   "cell_type": "code",
   "execution_count": 207,
   "metadata": {
    "scrolled": true
   },
   "outputs": [
    {
     "name": "stdout",
     "output_type": "stream",
     "text": [
      "Train on 1467 samples, validate on 367 samples\n",
      "Epoch 1/100\n",
      "1467/1467 [==============================] - 11s 8ms/sample - loss: 0.6161 - accuracy: 0.7096 - val_loss: 0.5004 - val_accuracy: 0.8338\n",
      "Epoch 2/100\n",
      "1467/1467 [==============================] - 9s 6ms/sample - loss: 0.5088 - accuracy: 0.7853 - val_loss: 0.4246 - val_accuracy: 0.8283\n",
      "Epoch 3/100\n",
      "1467/1467 [==============================] - 10s 7ms/sample - loss: 0.4696 - accuracy: 0.8023 - val_loss: 0.4371 - val_accuracy: 0.8338\n",
      "Epoch 4/100\n",
      "1467/1467 [==============================] - 9s 6ms/sample - loss: 0.4509 - accuracy: 0.8098 - val_loss: 0.4083 - val_accuracy: 0.8283\n",
      "Epoch 5/100\n",
      "1467/1467 [==============================] - 9s 6ms/sample - loss: 0.4180 - accuracy: 0.8132 - val_loss: 0.3962 - val_accuracy: 0.8093\n",
      "Epoch 6/100\n",
      "1467/1467 [==============================] - 9s 6ms/sample - loss: 0.3879 - accuracy: 0.8173 - val_loss: 0.3464 - val_accuracy: 0.8447\n",
      "Epoch 7/100\n",
      "1467/1467 [==============================] - 9s 6ms/sample - loss: 0.3303 - accuracy: 0.8412 - val_loss: 0.3342 - val_accuracy: 0.8447\n",
      "Epoch 8/100\n",
      "1467/1467 [==============================] - 10s 7ms/sample - loss: 0.3002 - accuracy: 0.8630 - val_loss: 0.3065 - val_accuracy: 0.8556\n",
      "Epoch 9/100\n",
      "1467/1467 [==============================] - 9s 6ms/sample - loss: 0.2540 - accuracy: 0.8903 - val_loss: 0.2748 - val_accuracy: 0.8801\n",
      "Epoch 10/100\n",
      "1467/1467 [==============================] - 9s 6ms/sample - loss: 0.2524 - accuracy: 0.8930 - val_loss: 0.2452 - val_accuracy: 0.8883\n",
      "Epoch 11/100\n",
      "1467/1467 [==============================] - 9s 6ms/sample - loss: 0.1966 - accuracy: 0.9202 - val_loss: 0.2735 - val_accuracy: 0.8828\n",
      "Epoch 12/100\n",
      "1467/1467 [==============================] - 10s 7ms/sample - loss: 0.1444 - accuracy: 0.9475 - val_loss: 0.1897 - val_accuracy: 0.9237\n",
      "Epoch 13/100\n",
      "1467/1467 [==============================] - 9s 6ms/sample - loss: 0.1547 - accuracy: 0.9332 - val_loss: 0.1958 - val_accuracy: 0.9264\n",
      "Epoch 14/100\n",
      "1467/1467 [==============================] - 9s 6ms/sample - loss: 0.1025 - accuracy: 0.9632 - val_loss: 0.1696 - val_accuracy: 0.9346\n",
      "Epoch 15/100\n",
      "1467/1467 [==============================] - 10s 7ms/sample - loss: 0.0762 - accuracy: 0.9727 - val_loss: 0.1425 - val_accuracy: 0.9482\n",
      "Epoch 16/100\n",
      "1467/1467 [==============================] - 9s 6ms/sample - loss: 0.0586 - accuracy: 0.9836 - val_loss: 0.1452 - val_accuracy: 0.9482\n",
      "Epoch 17/100\n",
      "1467/1467 [==============================] - 10s 7ms/sample - loss: 0.0421 - accuracy: 0.9864 - val_loss: 0.1415 - val_accuracy: 0.9455\n",
      "Epoch 18/100\n",
      "1467/1467 [==============================] - 9s 6ms/sample - loss: 0.0451 - accuracy: 0.9830 - val_loss: 0.1111 - val_accuracy: 0.9619\n",
      "Epoch 19/100\n",
      "1467/1467 [==============================] - 9s 6ms/sample - loss: 0.0490 - accuracy: 0.9877 - val_loss: 0.1859 - val_accuracy: 0.9401\n",
      "Epoch 20/100\n",
      "1467/1467 [==============================] - 10s 7ms/sample - loss: 0.0392 - accuracy: 0.9877 - val_loss: 0.1559 - val_accuracy: 0.9401\n",
      "Epoch 21/100\n",
      "1467/1467 [==============================] - 13s 9ms/sample - loss: 0.0185 - accuracy: 0.9980 - val_loss: 0.1361 - val_accuracy: 0.9537\n",
      "Epoch 22/100\n",
      "1467/1467 [==============================] - 14s 9ms/sample - loss: 0.0105 - accuracy: 0.9986 - val_loss: 0.1392 - val_accuracy: 0.9591\n",
      "Epoch 23/100\n",
      "1467/1467 [==============================] - 9s 6ms/sample - loss: 0.0189 - accuracy: 0.9939 - val_loss: 0.2405 - val_accuracy: 0.9401\n",
      "Epoch 24/100\n",
      "1467/1467 [==============================] - 9s 6ms/sample - loss: 0.0105 - accuracy: 0.9986 - val_loss: 0.1500 - val_accuracy: 0.9564\n",
      "Epoch 25/100\n",
      "1467/1467 [==============================] - 9s 6ms/sample - loss: 0.0119 - accuracy: 0.9973 - val_loss: 0.1502 - val_accuracy: 0.9646\n",
      "Epoch 26/100\n",
      "1467/1467 [==============================] - 10s 7ms/sample - loss: 0.0073 - accuracy: 0.9986 - val_loss: 0.1357 - val_accuracy: 0.9673\n",
      "Epoch 27/100\n",
      "1467/1467 [==============================] - 10s 7ms/sample - loss: 0.0051 - accuracy: 1.0000 - val_loss: 0.1802 - val_accuracy: 0.9619\n",
      "Epoch 28/100\n",
      "1467/1467 [==============================] - 9s 6ms/sample - loss: 0.0035 - accuracy: 0.9993 - val_loss: 0.1532 - val_accuracy: 0.9646\n",
      "Epoch 29/100\n",
      "1467/1467 [==============================] - 10s 7ms/sample - loss: 0.0026 - accuracy: 1.0000 - val_loss: 0.1479 - val_accuracy: 0.9619\n",
      "Epoch 30/100\n",
      "1467/1467 [==============================] - 10s 7ms/sample - loss: 0.0015 - accuracy: 1.0000 - val_loss: 0.1438 - val_accuracy: 0.9673\n",
      "Epoch 31/100\n",
      "1467/1467 [==============================] - 9s 6ms/sample - loss: 0.0016 - accuracy: 1.0000 - val_loss: 0.1467 - val_accuracy: 0.9728\n",
      "Epoch 32/100\n",
      "1467/1467 [==============================] - 9s 6ms/sample - loss: 0.0013 - accuracy: 1.0000 - val_loss: 0.1546 - val_accuracy: 0.9728\n",
      "Epoch 33/100\n",
      "1467/1467 [==============================] - 10s 7ms/sample - loss: 0.0022 - accuracy: 1.0000 - val_loss: 0.1188 - val_accuracy: 0.9673\n",
      "Epoch 34/100\n",
      "1467/1467 [==============================] - 10s 7ms/sample - loss: 0.0016 - accuracy: 1.0000 - val_loss: 0.1097 - val_accuracy: 0.9755\n",
      "Epoch 35/100\n",
      "1467/1467 [==============================] - 9s 6ms/sample - loss: 0.0015 - accuracy: 1.0000 - val_loss: 0.1059 - val_accuracy: 0.9728\n",
      "Epoch 36/100\n",
      "1467/1467 [==============================] - 10s 7ms/sample - loss: 0.0021 - accuracy: 1.0000 - val_loss: 0.1013 - val_accuracy: 0.9755\n",
      "Epoch 37/100\n",
      "1467/1467 [==============================] - 10s 7ms/sample - loss: 0.0138 - accuracy: 0.9945 - val_loss: 0.3427 - val_accuracy: 0.9074\n",
      "Epoch 38/100\n",
      "1467/1467 [==============================] - 10s 7ms/sample - loss: 0.1219 - accuracy: 0.9625 - val_loss: 0.1436 - val_accuracy: 0.9728\n",
      "Epoch 39/100\n",
      "1467/1467 [==============================] - 11s 7ms/sample - loss: 0.0214 - accuracy: 0.9918 - val_loss: 0.1668 - val_accuracy: 0.9591\n",
      "Epoch 40/100\n",
      "1467/1467 [==============================] - 10s 7ms/sample - loss: 0.0096 - accuracy: 0.9973 - val_loss: 0.1120 - val_accuracy: 0.9728\n",
      "Epoch 41/100\n",
      "1467/1467 [==============================] - 9s 6ms/sample - loss: 0.0056 - accuracy: 0.9986 - val_loss: 0.0969 - val_accuracy: 0.9755\n",
      "Epoch 42/100\n",
      "1467/1467 [==============================] - 10s 7ms/sample - loss: 0.0040 - accuracy: 1.0000 - val_loss: 0.1526 - val_accuracy: 0.9700\n",
      "Epoch 43/100\n",
      "1467/1467 [==============================] - 10s 7ms/sample - loss: 0.0039 - accuracy: 0.9993 - val_loss: 0.1078 - val_accuracy: 0.9809\n",
      "Epoch 44/100\n",
      "1467/1467 [==============================] - 9s 6ms/sample - loss: 0.0233 - accuracy: 0.9939 - val_loss: 0.1639 - val_accuracy: 0.9673\n",
      "Epoch 45/100\n",
      "1467/1467 [==============================] - 9s 6ms/sample - loss: 0.0133 - accuracy: 0.9959 - val_loss: 0.1125 - val_accuracy: 0.9510\n",
      "Epoch 46/100\n",
      "1467/1467 [==============================] - 9s 6ms/sample - loss: 0.0064 - accuracy: 0.9986 - val_loss: 0.1302 - val_accuracy: 0.9700\n",
      "Epoch 47/100\n",
      "1467/1467 [==============================] - 9s 6ms/sample - loss: 0.0032 - accuracy: 0.9993 - val_loss: 0.0859 - val_accuracy: 0.9728\n",
      "Epoch 48/100\n",
      "1467/1467 [==============================] - 9s 6ms/sample - loss: 0.0018 - accuracy: 1.0000 - val_loss: 0.0737 - val_accuracy: 0.9755\n",
      "Epoch 49/100\n",
      "1467/1467 [==============================] - 10s 7ms/sample - loss: 0.0078 - accuracy: 0.9973 - val_loss: 0.1328 - val_accuracy: 0.9755\n",
      "Epoch 50/100\n",
      "1467/1467 [==============================] - 9s 6ms/sample - loss: 0.0054 - accuracy: 0.9980 - val_loss: 0.1478 - val_accuracy: 0.9700\n",
      "Epoch 51/100\n",
      "1467/1467 [==============================] - 9s 6ms/sample - loss: 0.0160 - accuracy: 0.9939 - val_loss: 0.1086 - val_accuracy: 0.9755\n",
      "Epoch 52/100\n",
      "1467/1467 [==============================] - 9s 6ms/sample - loss: 0.0032 - accuracy: 1.0000 - val_loss: 0.1497 - val_accuracy: 0.9782\n",
      "Epoch 53/100\n",
      "1467/1467 [==============================] - 9s 6ms/sample - loss: 0.0021 - accuracy: 0.9993 - val_loss: 0.1487 - val_accuracy: 0.9782\n",
      "Epoch 54/100\n",
      "1467/1467 [==============================] - 11s 8ms/sample - loss: 0.0011 - accuracy: 1.0000 - val_loss: 0.1367 - val_accuracy: 0.9809\n",
      "Epoch 55/100\n",
      "1467/1467 [==============================] - 13s 9ms/sample - loss: 0.0011 - accuracy: 1.0000 - val_loss: 0.1527 - val_accuracy: 0.9809\n"
     ]
    },
    {
     "name": "stdout",
     "output_type": "stream",
     "text": [
      "Epoch 56/100\n",
      "1467/1467 [==============================] - 11s 7ms/sample - loss: 0.0129 - accuracy: 0.9959 - val_loss: 0.1580 - val_accuracy: 0.9700\n",
      "Epoch 57/100\n",
      "1467/1467 [==============================] - 10s 7ms/sample - loss: 0.0042 - accuracy: 0.9993 - val_loss: 0.1677 - val_accuracy: 0.9591\n",
      "Epoch 58/100\n",
      "1467/1467 [==============================] - 9s 6ms/sample - loss: 0.0017 - accuracy: 1.0000 - val_loss: 0.1070 - val_accuracy: 0.9755\n",
      "Epoch 59/100\n",
      "1467/1467 [==============================] - 10s 7ms/sample - loss: 0.0047 - accuracy: 0.9980 - val_loss: 0.2911 - val_accuracy: 0.9346\n",
      "Epoch 60/100\n",
      "1467/1467 [==============================] - 8s 5ms/sample - loss: 0.0117 - accuracy: 0.9945 - val_loss: 0.0999 - val_accuracy: 0.9837\n",
      "Epoch 61/100\n",
      "1467/1467 [==============================] - 8s 5ms/sample - loss: 0.0025 - accuracy: 1.0000 - val_loss: 0.1017 - val_accuracy: 0.9782\n",
      "Epoch 62/100\n",
      "1467/1467 [==============================] - 8s 5ms/sample - loss: 0.0127 - accuracy: 0.9959 - val_loss: 0.1646 - val_accuracy: 0.9591\n",
      "Epoch 63/100\n",
      "1467/1467 [==============================] - 8s 5ms/sample - loss: 0.0266 - accuracy: 0.9932 - val_loss: 0.1825 - val_accuracy: 0.9646\n",
      "Epoch 64/100\n",
      "1467/1467 [==============================] - 10s 7ms/sample - loss: 0.0442 - accuracy: 0.9850 - val_loss: 0.0999 - val_accuracy: 0.9646\n",
      "Epoch 65/100\n",
      "1467/1467 [==============================] - 9s 6ms/sample - loss: 0.0092 - accuracy: 0.9973 - val_loss: 0.1015 - val_accuracy: 0.9728\n",
      "Epoch 66/100\n",
      "1467/1467 [==============================] - 9s 6ms/sample - loss: 0.0039 - accuracy: 0.9993 - val_loss: 0.0886 - val_accuracy: 0.9755\n",
      "Epoch 67/100\n",
      "1467/1467 [==============================] - 9s 6ms/sample - loss: 0.0069 - accuracy: 0.9973 - val_loss: 0.1021 - val_accuracy: 0.9755\n",
      "Epoch 68/100\n",
      "1467/1467 [==============================] - 9s 6ms/sample - loss: 0.0294 - accuracy: 0.9911 - val_loss: 0.1760 - val_accuracy: 0.9564\n",
      "Epoch 69/100\n",
      "1467/1467 [==============================] - 10s 7ms/sample - loss: 0.0104 - accuracy: 0.9952 - val_loss: 0.1352 - val_accuracy: 0.9619\n",
      "Epoch 70/100\n",
      "1467/1467 [==============================] - 9s 6ms/sample - loss: 0.0088 - accuracy: 0.9980 - val_loss: 0.1653 - val_accuracy: 0.9564\n",
      "Epoch 71/100\n",
      "1467/1467 [==============================] - 9s 6ms/sample - loss: 0.0040 - accuracy: 0.9993 - val_loss: 0.1266 - val_accuracy: 0.9673\n",
      "Epoch 72/100\n",
      "1467/1467 [==============================] - 9s 6ms/sample - loss: 0.0012 - accuracy: 1.0000 - val_loss: 0.1219 - val_accuracy: 0.9700\n",
      "Epoch 73/100\n",
      "1467/1467 [==============================] - 9s 6ms/sample - loss: 9.6161e-04 - accuracy: 1.0000 - val_loss: 0.1111 - val_accuracy: 0.9809\n",
      "Epoch 74/100\n",
      "1467/1467 [==============================] - 9s 6ms/sample - loss: 0.0016 - accuracy: 0.9993 - val_loss: 0.1257 - val_accuracy: 0.9646\n",
      "Epoch 75/100\n",
      "1467/1467 [==============================] - 9s 6ms/sample - loss: 6.3293e-04 - accuracy: 1.0000 - val_loss: 0.1132 - val_accuracy: 0.9782\n",
      "Epoch 76/100\n",
      "1467/1467 [==============================] - 9s 6ms/sample - loss: 0.0013 - accuracy: 1.0000 - val_loss: 0.0999 - val_accuracy: 0.9782\n",
      "Epoch 77/100\n",
      "1467/1467 [==============================] - 9s 6ms/sample - loss: 4.7815e-04 - accuracy: 1.0000 - val_loss: 0.1064 - val_accuracy: 0.9700\n",
      "Epoch 78/100\n",
      "1467/1467 [==============================] - 9s 6ms/sample - loss: 5.9013e-04 - accuracy: 1.0000 - val_loss: 0.1022 - val_accuracy: 0.9755\n",
      "Epoch 79/100\n",
      "1467/1467 [==============================] - 9s 6ms/sample - loss: 3.7941e-04 - accuracy: 1.0000 - val_loss: 0.1023 - val_accuracy: 0.9728\n",
      "Epoch 80/100\n",
      "1467/1467 [==============================] - 9s 6ms/sample - loss: 0.0022 - accuracy: 0.9993 - val_loss: 0.1143 - val_accuracy: 0.9782\n"
     ]
    }
   ],
   "source": [
    "history = model.fit(cwtmatr[ind],label,validation_split=0.2,\n",
    "                    epochs=100,batch_size=50,\n",
    "                   callbacks=[early_stopping])"
   ]
  },
  {
   "cell_type": "code",
   "execution_count": 50,
   "metadata": {},
   "outputs": [
    {
     "data": {
      "text/plain": [
       "array([[9.741865e-01, 2.581344e-02],\n",
       "       [9.422290e-06, 9.999906e-01],\n",
       "       [8.860579e-03, 9.911395e-01]], dtype=float32)"
      ]
     },
     "execution_count": 50,
     "metadata": {},
     "output_type": "execute_result"
    }
   ],
   "source": [
    "y_pred = model.predict(cwtmatr[:3])\n",
    "y_pred"
   ]
  },
  {
   "cell_type": "code",
   "execution_count": 34,
   "metadata": {},
   "outputs": [
    {
     "name": "stdout",
     "output_type": "stream",
     "text": [
      "Model: \"model_1\"\n",
      "_________________________________________________________________\n",
      "Layer (type)                 Output Shape              Param #   \n",
      "=================================================================\n",
      "input_3 (InputLayer)         [(None, 64, 256, 8)]      0         \n",
      "_________________________________________________________________\n",
      "max_pooling2d_6 (MaxPooling2 (None, 32, 128, 8)        0         \n",
      "_________________________________________________________________\n",
      "conv2d_4 (Conv2D)            (None, 16, 64, 64)        12864     \n",
      "_________________________________________________________________\n",
      "max_pooling2d_7 (MaxPooling2 (None, 8, 32, 64)         0         \n",
      "_________________________________________________________________\n",
      "conv2d_5 (Conv2D)            (None, 4, 16, 128)        204928    \n",
      "_________________________________________________________________\n",
      "max_pooling2d_8 (MaxPooling2 (None, 2, 8, 128)         0         \n",
      "_________________________________________________________________\n",
      "flatten_2 (Flatten)          (None, 2048)              0         \n",
      "_________________________________________________________________\n",
      "dropout (Dropout)            (None, 2048)              0         \n",
      "_________________________________________________________________\n",
      "dense_2 (Dense)              (None, 128)               262272    \n",
      "_________________________________________________________________\n",
      "dropout_1 (Dropout)          (None, 128)               0         \n",
      "_________________________________________________________________\n",
      "dense_3 (Dense)              (None, 2)                 258       \n",
      "=================================================================\n",
      "Total params: 480,322\n",
      "Trainable params: 480,322\n",
      "Non-trainable params: 0\n",
      "_________________________________________________________________\n"
     ]
    }
   ],
   "source": [
    "model.summary()"
   ]
  },
  {
   "cell_type": "code",
   "execution_count": 208,
   "metadata": {
    "scrolled": true
   },
   "outputs": [
    {
     "data": {
      "text/plain": [
       "(0, 1)"
      ]
     },
     "execution_count": 208,
     "metadata": {},
     "output_type": "execute_result"
    },
    {
     "data": {
      "image/png": "[encoded data removed]",
      "text/plain": [
       "<Figure size 432x288 with 1 Axes>"
      ]
     },
     "metadata": {
      "needs_background": "light"
     },
     "output_type": "display_data"
    }
   ],
   "source": [
    "pd.DataFrame(history.history).plot()\n",
    "plt.grid(True)\n",
    "plt.gca().set_ylim(0,1)"
   ]
  },
  {
   "cell_type": "code",
   "execution_count": 203,
   "metadata": {},
   "outputs": [],
   "source": [
    "model.save('Mexh_W%d_S%d_WS%d.h5'%(width,stride,widths_scale))"
   ]
  },
  {
   "cell_type": "code",
   "execution_count": null,
   "metadata": {},
   "outputs": [],
   "source": []
  }
 ],
 "metadata": {
  "kernelspec": {
   "display_name": "Python 3",
   "language": "python",
   "name": "python3"
  },
  "language_info": {
   "codemirror_mode": {
    "name": "ipython",
    "version": 3
   },
   "file_extension": ".py",
   "mimetype": "text/x-python",
   "name": "python",
   "nbconvert_exporter": "python",
   "pygments_lexer": "ipython3",
   "version": "3.7.6"
  }
 },
 "nbformat": 4,
 "nbformat_minor": 2
}
