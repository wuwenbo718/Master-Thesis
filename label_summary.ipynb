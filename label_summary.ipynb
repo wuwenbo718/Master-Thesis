{
 "cells": [
  {
   "cell_type": "code",
   "execution_count": 1,
   "metadata": {},
   "outputs": [],
   "source": [
    "import numpy as np\n",
    "import pandas as pd\n",
    "import os\n",
    "import data_processing as dp\n",
    "from sklearn.preprocessing import StandardScaler\n",
    "import time\n",
    "import h5py\n",
    "import pywt\n",
    "from scipy.fft import fft\n",
    "from scipy import signal\n",
    "from scipy.integrate import cumtrapz\n",
    "from itertools import permutations,combinations\n",
    "import matplotlib.pyplot as plt"
   ]
  },
  {
   "cell_type": "code",
   "execution_count": null,
   "metadata": {},
   "outputs": [],
   "source": [
    "# Summarize labels in each file and save them to csv file\n",
    "\n",
    "df = pd.DataFrame(index=[0,1,2,3,4,5,6])\n",
    "for dirname,_,filenames in os.walk('E:\\Document\\教材\\Master thesis\\data'):\n",
    "    for filename in filenames:\n",
    "        dir_depth = len(dirname.split(os.path.sep))\n",
    "        if dir_depth == 5:\n",
    "            if filename.endswith('.csv'):\n",
    "                file = os.path.join(dirname,filename)\n",
    "                emg_data = pd.read_csv(file)\n",
    "                try:\n",
    "                    emg_data.Label2\n",
    "                except AttributeError:\n",
    "                    continue\n",
    "                else:\n",
    "                    info = emg_data.Label2.value_counts()\n",
    "                    df[filename] = info\n",
    "                print(info)\n",
    "            #print(os.path.join(dirname,filename))\n",
    "df.to_csv('whole_data_info.csv',index=True)\n",
    "#df.to_csv('whole_data_info.txt',sep='\\t',index=True)"
   ]
  },
  {
   "cell_type": "code",
   "execution_count": 117,
   "metadata": {},
   "outputs": [],
   "source": [
    "# read file name of data with various Labels\n",
    "df = pd.read_csv('./useful_data_label.csv',index_col=0) \n",
    "# read file name of data with only label 0\n",
    "df2 = pd.read_csv('./unuseful_data_label.csv',index_col=0)\n",
    "# read some of the data with only label 0\n",
    "df3 = pd.read_csv('./data/file_name.txt',header=None)"
   ]
  },
  {
   "cell_type": "code",
   "execution_count": 3,
   "metadata": {},
   "outputs": [],
   "source": [
    "width = 256\n",
    "stride = 64\n",
    "threshold_WAMP = 30\n",
    "threshold_ZC = 0\n",
    "threshold_SSC = 1\n",
    "bins=9\n",
    "bound = 70\n",
    "HIST_range = (-bound,bound)"
   ]
  },
  {
   "cell_type": "code",
   "execution_count": 157,
   "metadata": {},
   "outputs": [
    {
     "data": {
      "text/plain": [
       "<module 'data_processing' from 'E:\\\\Document\\\\jupyter\\\\Master Thesis\\\\data_processing.py'>"
      ]
     },
     "execution_count": 157,
     "metadata": {},
     "output_type": "execute_result"
    }
   ],
   "source": [
    "import imp\n",
    "imp.reload(dp)"
   ]
  },
  {
   "cell_type": "code",
   "execution_count": 11,
   "metadata": {},
   "outputs": [
    {
     "name": "stdout",
     "output_type": "stream",
     "text": [
      "G04_FoG_trial_1_emg.csv\n",
      "G04_FoG_trial_2_emg.csv\n",
      "G06_FoG_trial_1_emg.csv\n",
      "G06_FoG_trial_2_emg.csv\n",
      "G06_FoG_trial_3_emg.csv\n",
      "G07_Freezing_Trial1_trial_1_emg.csv\n",
      "G08_FoG_1_trial_1_emg.csv\n",
      "G08_FoG_2_trial_1_emg.csv\n",
      "G11_FoG_trial_1_emg.csv\n",
      "G11_FoG_trial_2_emg.csv\n",
      "P379_M050_2_OFF_A_FoG_trial_1_emg.csv\n",
      "P379_M050_2_OFF_A_FoG_trial_2_emg.csv\n",
      "P379_M050_2_OFF_A_FoG_trial_3_emg.csv\n",
      "P379_M050_2_OFF_B_FoG_trial_1_emg.csv\n",
      "P379_M050_2_OFF_B_FoG_trial_2_emg.csv\n",
      "P379_M050_2_OFF_B_FoG_trial_3_emg.csv\n",
      "P551_M050_2_A_FoG_trial_1_emg.csv\n",
      "P551_M050_2_B_FoG_trial_1_emg.csv\n",
      "P551_M050_2_B_FoG_trial_2_emg.csv\n",
      "P812_M050_2_B_FoG_trial_1_emg.csv\n",
      "P812_M050_2_B_FoG_trial_2_emg.csv\n",
      "正常/G02_Walking_trial_1_emg.csv\n",
      "正常/G03_Walking_trial_1_emg.csv\n",
      "正常/G03_Walking_trial_2_emg.csv\n",
      "正常/G05_Walking_struct_fixed_trial_1_emg.csv\n",
      "正常/G05_Walking_struct_fixed_trial_3_emg.csv\n",
      "正常/G09_FoG_trial_1_emg.csv\n",
      "正常/G09_FoG_trial_3_emg.csv\n",
      "正常/G11_Walking_trial_2_emg.csv\n",
      "正常/P231_M050_A_Walking_trial_2_emg.csv\n",
      "正常/P231_M050_A_Walking_trial_4_emg.csv\n",
      "正常/P351_M050_2_A_FoG_trial_1_emg.csv\n",
      "正常/P351_M050_2_A_Walking_trial_2_emg.csv\n",
      "正常/P351_Msham_B_Walking_trial_6_emg.csv\n",
      "正常/P379_M050_A_Walking_trial_2_emg.csv\n",
      "正常/P379_Msham_B_Walking_trial_6_emg.csv\n",
      "正常/P533_M050_A_Walking_trial_2_emg.csv\n",
      "正常/P533_M050_B_Walking_trial_3_emg.csv\n",
      "正常/P623_M050_2_A_Walking_trial_2_emg.csv\n",
      "正常/P623_M100_A_Walking_trial_4_emg.csv\n",
      "正常/P645_M050_A_Walking_trial_2_emg.csv\n",
      "正常/P645_M050_B_Walking_trial_2_emg.csv\n",
      "正常/P812_M050_2_A_FoG_trial_1_emg.csv\n",
      "正常/P876_M100_B_Walking_trial_4_emg.csv\n",
      "正常/P876_M100_B_FoG_trial_1_emg.csv\n",
      "正常/P940_M050_2_A_FoG_trial_3_emg.csv\n",
      "正常/P940_M100_A_FoG_trial_2_emg.csv\n",
      "save...\n",
      "64\n",
      "save finished.\n"
     ]
    }
   ],
   "source": [
    "#generate features\n",
    "files = np.concatenate([np.array(df.columns),np.array('正常/'+df3.loc[:,0])])\n",
    "widths = [256]\n",
    "\n",
    "for width in widths:\n",
    "    features = []\n",
    "    labels = []\n",
    "    stride = width//4\n",
    "    for file in files:\n",
    "        if file == ']]P379_M050_2_OFF_A_FoG_trial_1_emg.csv':\n",
    "            continue\n",
    "        print(file)\n",
    "        feature,label = dp.pipeline_feature('./data/'+file,width = width, \n",
    "                                           stride=stride,\n",
    "                                           scaler=False,\n",
    "                                           threshold_WAMP = threshold_WAMP,\n",
    "                                           threshold_SSC = threshold_SSC,\n",
    "                                           bins=bins,\n",
    "                                           ranges=HIST_range,\n",
    "                                           show_para=False,\n",
    "                                           filt=None)\n",
    "        features += feature.tolist()\n",
    "        labels += label.tolist()\n",
    "    print('save...')\n",
    "    print(stride)\n",
    "    save_file = './processed data/nfeatures_W%d_S%d_WAMP30.hdf5'%(width,stride)\n",
    "    with h5py.File(save_file,'w') as f:\n",
    "        f.create_dataset('features',data=np.array(features),\n",
    "                         chunks = True,dtype = np.float32)\n",
    "        f.create_dataset('labels',data=np.array(labels), dtype = np.int8)\n",
    "    print('save finished.')"
   ]
  },
  {
   "cell_type": "code",
   "execution_count": 12,
   "metadata": {},
   "outputs": [
    {
     "name": "stdout",
     "output_type": "stream",
     "text": [
      "skip\n",
      "skip\n",
      "skip\n",
      "skip\n",
      "G05_Walking_struct_fixed_trial_2_emg.csv\n",
      "skip\n",
      "skip\n",
      "G09_FoG_trial_2_emg.csv\n",
      "skip\n",
      "G09_Walking_trial_2_emg.csv\n",
      "G09_Walking_trial_4_emg.csv\n",
      "G09_Walking_trial_6_emg.csv\n",
      "skip\n",
      "G11_Walking_trial_4_emg.csv\n",
      "skip\n",
      "skip\n",
      "P231_M050_A_Walking_trial_6_emg.csv\n",
      "P231_M050_B_Walking_trial_2_emg.csv\n",
      "P231_M050_B_Walking_trial_4_emg.csv\n",
      "P231_M050_B_Walking_trial_6_emg.csv\n",
      "P231_M100_2_A_FoG_trial_3_emg.csv\n",
      "P231_M100_2_A_Walking_trial_4_emg.csv\n",
      "P231_M100_2_A_Walking_trial_6_emg.csv\n",
      "P231_M100_ON_A_Walking_trial_2_emg.csv\n",
      "P231_M100_ON_A_Walking_trial_4_emg.csv\n",
      "P231_M100_ON_A_Walking_trial_6_emg.csv\n",
      "P231_Msham_A_Walking_trial_2_emg.csv\n",
      "P231_Msham_A_Walking_trial_6_emg.csv\n",
      "P231_Msham_B_Walking_trial_2_emg.csv\n",
      "skip\n",
      "P351_M050_2_A_FoG_trial_2_emg.csv\n",
      "P351_M050_2_A_FoG_trial_3_emg.csv\n",
      "skip\n",
      "P351_M050_2_A_Walking_trial_4_emg.csv\n",
      "P351_M050_2_A_Walking_trial_6_emg.csv\n",
      "P351_M050_2_B_FoG_trial_1_emg.csv\n",
      "P351_M050_2_B_FoG_trial_2_emg.csv\n",
      "P351_M050_2_B_FoG_trial_3_emg.csv\n",
      "P351_M050_2_B_Walking_trial_2_emg.csv\n",
      "P351_M050_2_B_Walking_trial_4_emg.csv\n",
      "P351_M050_2_B_Walking_trial_6_emg.csv\n",
      "P351_M050_A_FoG_trial_1_emg.csv\n",
      "P351_M050_A_FoG_trial_2_emg.csv\n",
      "P351_M050_A_FoG_trial_3_emg.csv\n",
      "P351_M050_A_Walking_trial_2_emg.csv\n",
      "P351_M050_A_Walking_trial_4_emg.csv\n",
      "P351_M050_B_FoG_trial_1_emg.csv\n",
      "P351_M050_B_FoG_trial_2_emg.csv\n",
      "P351_M050_B_FoG_trial_3_emg.csv\n",
      "P351_M050_B_Walking_trial_2_emg.csv\n",
      "P351_M050_B_Walking_trial_4_emg.csv\n",
      "P351_M050_B_Walking_trial_6_emg.csv\n",
      "P351_Msham_A_FoG_trial_1_emg.csv\n",
      "P351_Msham_A_FoG_trial_2_emg.csv\n",
      "P351_Msham_A_FoG_trial_3_emg.csv\n",
      "P351_Msham_A_Walking_trial_2_emg.csv\n",
      "P351_Msham_A_Walking_trial_4_emg.csv\n",
      "P351_Msham_A_Walking_trial_6_emg.csv\n",
      "P351_Msham_B_FoG_trial_1_emg.csv\n",
      "P351_Msham_B_FoG_trial_2_emg.csv\n",
      "P351_Msham_B_FoG_trial_3_emg.csv\n",
      "P351_Msham_B_Walking_trial_2_emg.csv\n",
      "P351_Msham_B_Walking_trial_4_emg.csv\n",
      "skip\n",
      "skip\n",
      "P379_M050_A_Walking_trial_3_emg.csv\n",
      "P379_M050_B_Walking_trial_2_emg.csv\n",
      "skip\n",
      "P533_M050_A_Walking_trial_1_emg.csv\n",
      "skip\n",
      "P533_M050_B_Walking_trial_2_emg.csv\n",
      "skip\n",
      "P533_M100_A_Walking_trial_2_emg.csv\n",
      "P533_M100_B_Walking_trial_4_emg.csv\n",
      "P551_M50_B_Walking_trial_6_emg.csv\n",
      "skip\n",
      "P623_M050_2_A_Walking_trial_4_emg.csv\n",
      "P623_M050_2_A_Walking_trial_6_emg.csv\n",
      "P623_M050_2_B_Walking_trial_2_emg.csv\n",
      "P623_M050_2_B_Walking_trial_6_emg.csv\n",
      "P623_M050_A_Walking_trial_4_emg.csv\n",
      "skip\n",
      "P623_M100_B_Walking_trial_4_emg.csv\n",
      "P623_Msham_A_Walking_trial_4_emg.csv\n",
      "P623_Msham_A_Walking_trial_6_emg.csv\n",
      "P623_Msham_B_Walking_trial_2_emg.csv\n",
      "P623_Msham_B_Walking_trial_4_emg.csv\n",
      "skip\n",
      "P645_M050_A_Walking_trial_3_emg.csv\n",
      "skip\n",
      "P645_M050_B_Walking_trial_3_emg.csv\n",
      "skip\n",
      "P812_M050_2_A_FoG_trial_3_emg.csv\n",
      "P812_M050_2_A_Walking_trial_2_emg.csv\n",
      "P812_M050_2_A_Walking_trial_3_emg.csv\n",
      "P812_M050_2_B_Walking_1_trial_4_emg.csv\n",
      "P812_M050_A_FoG_trial_1_emg.csv\n",
      "P812_M050_A_FoG_trial_2_emg.csv\n",
      "P812_M050_A_FoG_trial_3_emg.csv\n",
      "P812_M050_A_Walking_trial_1_emg.csv\n",
      "P812_M050_A_Walking_trial_2_emg.csv\n",
      "P812_M050_B_FoG_trial_1_emg.csv\n",
      "P812_M050_B_FoG_trial_2_emg.csv\n",
      "P812_M050_B_FoG_trial_3_emg.csv\n",
      "P812_M050_B_Walking_trial_1_emg.csv\n",
      "P812_M050_B_Walking_trial_2_emg.csv\n",
      "P812_M100_A_FoG_trial_1_emg.csv\n",
      "P812_M100_A_Walking_trial_3_emg.csv\n",
      "P812_M100_B_FoG_trial_1_emg.csv\n",
      "P812_M100_B_FoG_trial_3_emg.csv\n",
      "P812_M100_B_Walking2_trial_1_emg.csv\n",
      "P812_M100_B_Walking2_trial_2_emg.csv\n",
      "skip\n",
      "P876_M100_B_FoG_trial_2_emg.csv\n",
      "P876_M100_B_FoG_trial_3_emg.csv\n",
      "skip\n",
      "P876_M100_B_Walking_trial_6_emg.csv\n",
      "skip\n",
      "P940_M050_2_A_FoG_trial_4_emg.csv\n",
      "P940_M050_2_A_Walking_trial_2_emg.csv\n",
      "P940_M050_2_B_FoG_trial_1_emg.csv\n",
      "P940_M050_2_B_Walking_trial_2_emg.csv\n",
      "P940_M050_2_B_Walking_trial_4_emg.csv\n",
      "P940_M050_2_B_Walking_trial_6_emg.csv\n",
      "P940_M050_A_FoG_trial_2_emg.csv\n",
      "P940_M050_A_FoG_trial_3_emg.csv\n",
      "P940_M050_A_Walking_trial_2_emg.csv\n",
      "P940_M050_A_Walking_trial_4_emg.csv\n",
      "P940_M050_A_Walking_trial_6_emg.csv\n",
      "P940_M050_B_FoG_trial_1_emg.csv\n",
      "P940_M050_B_FoG_trial_2_emg.csv\n",
      "P940_M050_B_FoG_trial_3_emg.csv\n",
      "P940_M050_B_Walking_trial_2_emg.csv\n",
      "P940_M050_B_Walking_trial_4_emg.csv\n",
      "P940_M050_B_Walking_trial_6_emg.csv\n",
      "P940_M100_A_FoG_trial_1_emg.csv\n",
      "skip\n",
      "P940_M100_A_FoG_trial_3_emg.csv\n",
      "P940_M100_A_Walking_trial_2_emg.csv\n",
      "P940_M100_A_Walking_trial_4_emg.csv\n",
      "P940_M100_A_Walking_trial_6_emg.csv\n",
      "P940_M100_B_FoG_trial_2_emg.csv\n",
      "P940_M100_B_FoG_trial_3_emg.csv\n",
      "P940_M100_B_Walking_2_trial_2_emg.csv\n",
      "P940_M100_B_Walking_2_trial_6_emg.csv\n",
      "P940_MSham_A_FoG_trial_1_emg.csv\n",
      "P940_MSham_A_FoG_trial_3_emg.csv\n",
      "P940_MSham_A_Walking_trial_2_emg.csv\n",
      "P940_MSham_A_Walking_trial_4_emg.csv\n",
      "P940_MSham_A_Walking_trial_6_emg.csv\n",
      "P940_MSham_B_Walking_trial_2_emg.csv\n",
      "P940_MSham_B_Walking_trial_4_emg.csv\n",
      "P940_MSham_B_Walking_trial_6_emg.csv\n",
      "save...\n",
      "64\n",
      "save finished.\n",
      "26\n"
     ]
    }
   ],
   "source": [
    "#generate features of the rest data\n",
    "ind = df2.iloc[1].isna()\n",
    "files = df2.columns[ind]\n",
    "widths = [256]\n",
    "i = 0\n",
    "cols = [ 'LEFT_TA','LEFT_TS','LEFT_BF', 'LEFT_RF',\n",
    "        'RIGHT_TA','RIGHT_TS','RIGHT_BF', 'RIGHT_RF']\n",
    "cols = {'Left':cols[:4],'Right':cols[4:]}\n",
    "data = False\n",
    "if data:\n",
    "    for width in widths:\n",
    "        X = []\n",
    "        Y = []\n",
    "        stride = width//4\n",
    "        for file in files:\n",
    "            if file in np.array(df3):\n",
    "                i += 1\n",
    "                print('skip')\n",
    "                continue\n",
    "            print(file)\n",
    "            emg_data = pd.read_csv('./data/正常/'+file)\n",
    "            emg_data = emg_data.fillna({'LEFT_TA':emg_data.LEFT_TA.mean(),\n",
    "                                        'LEFT_TS':emg_data.LEFT_TS.mean(),\n",
    "                                        'LEFT_BF':emg_data.LEFT_BF.mean(),\n",
    "                                        'LEFT_RF':emg_data.LEFT_RF.mean(),\n",
    "                                        'RIGHT_TA':emg_data.RIGHT_TA.mean(),\n",
    "                                        'RIGHT_TS':emg_data.RIGHT_TS.mean(),\n",
    "                                        'RIGHT_BF':emg_data.RIGHT_BF.mean(),\n",
    "                                        'RIGHT_RF':emg_data.RIGHT_RF.mean()})\n",
    "            #emg_data = emg_data[emg_data.Label1 == emg_data.Label2].reset_index(drop=True)\n",
    "            x,y = dp.generate_window_slide_data(emg_data,width=width,stride=stride,scaler=False)\n",
    "            X += x.tolist()\n",
    "            Y += y.tolist()\n",
    "        print('save...')\n",
    "        print(stride)\n",
    "        file = './processed data/data_set_after_window_S64_rest.hdf5'\n",
    "        with h5py.File(file,'w') as f:\n",
    "            f.create_dataset('cwt_data',data=np.array(X),\n",
    "                             chunks = True,dtype = np.float32)\n",
    "            f.create_dataset('label2',data=np.array(Y), dtype = np.int8)\n",
    "        print('save finished.')\n",
    "        print(i)\n",
    "else:\n",
    "    for width in widths:\n",
    "        features = []\n",
    "        labels = []\n",
    "        stride = width//4\n",
    "        for file in files:\n",
    "            if file in np.array(df3):\n",
    "                i += 1\n",
    "                print('skip')\n",
    "                continue\n",
    "            print(file)\n",
    "            feature,label = dp.pipeline_feature('./data/正常/'+file,\n",
    "                                               #columns = cols['Right'],\n",
    "                                               width = width, \n",
    "                                               stride=stride,\n",
    "                                               threshold_WAMP = threshold_WAMP,\n",
    "                                               threshold_SSC = threshold_SSC,\n",
    "                                               bins=bins,\n",
    "                                               ranges=HIST_range,\n",
    "                                               show_para=False)\n",
    "            features += feature.tolist()\n",
    "            labels += label.tolist()\n",
    "        print('save...')\n",
    "        print(stride)\n",
    "        save_file = './processed data/nfeatures_rest_W%d_S%d.hdf5'%(width,stride)\n",
    "        with h5py.File(save_file,'w') as f:\n",
    "            f.create_dataset('features',data=np.array(features),\n",
    "                             chunks = True,dtype = np.float32)\n",
    "            f.create_dataset('labels',data=np.array(labels), dtype = np.int8)\n",
    "        print('save finished.')\n",
    "        print(i)"
   ]
  },
  {
   "cell_type": "code",
   "execution_count": 77,
   "metadata": {},
   "outputs": [
    {
     "data": {
      "text/plain": [
       "(53005, 84)"
      ]
     },
     "execution_count": 77,
     "metadata": {},
     "output_type": "execute_result"
    }
   ],
   "source": [
    "np.array(features).shape"
   ]
  },
  {
   "cell_type": "code",
   "execution_count": 264,
   "metadata": {},
   "outputs": [
    {
     "name": "stdout",
     "output_type": "stream",
     "text": [
      "save...\n",
      "64\n",
      "save finished.\n",
      "save...\n",
      "64\n",
      "save finished.\n"
     ]
    }
   ],
   "source": [
    "#generate features from Left or Right\n",
    "files = np.concatenate([np.array(df.columns),np.array('正常/'+df3.loc[:,0])])\n",
    "widths = [256]\n",
    "#drop_cols = [ 'RIGHT_TA','RIGHT_TS','RIGHT_BF', 'RIGHT_RF']\n",
    "cols = [ 'LEFT_TA','LEFT_TS','LEFT_BF', 'LEFT_RF',\n",
    "        'RIGHT_TA','RIGHT_TS','RIGHT_BF', 'RIGHT_RF']\n",
    "cols = {'Left':cols[:4],'Right':cols[4:]}\n",
    "for col in cols:\n",
    "    features = []\n",
    "    labels = []\n",
    "    stride = width//4\n",
    "    for file in files:\n",
    "        feature,label = dp.pipeline_selected_feature('./data/'+file,\n",
    "                                                     columns=cols[col],\n",
    "                                            width = width, \n",
    "                                           stride=stride,\n",
    "                                           threshold_WAMP = threshold_WAMP,\n",
    "                                           threshold_SSC = threshold_SSC,\n",
    "                                           bins=bins,\n",
    "                                           ranges=HIST_range,\n",
    "                                           show_para=False)\n",
    "        features += feature.tolist()\n",
    "        labels += label.tolist()\n",
    "    print('save...')\n",
    "    print(stride)\n",
    "    #save_file = './processed data/'+col+'_features_W%d_S%d.hdf5'%(width,stride)\n",
    "    save_file = './processed data/'+col+'_nfeatures_W%d_S%d.hdf5'%(width,stride)\n",
    "    with h5py.File(save_file,'w') as f:\n",
    "        f.create_dataset('features',data=np.array(features),\n",
    "                         chunks = True,dtype = np.float32)\n",
    "        f.create_dataset('labels',data=np.array(labels), dtype = np.int8)\n",
    "    print('save finished.')"
   ]
  },
  {
   "cell_type": "code",
   "execution_count": 90,
   "metadata": {},
   "outputs": [
    {
     "name": "stdout",
     "output_type": "stream",
     "text": [
      "save...\n",
      "64\n",
      "save finished.\n",
      "save...\n",
      "64\n",
      "save finished.\n",
      "save...\n",
      "64\n",
      "save finished.\n",
      "save...\n",
      "64\n",
      "save finished.\n",
      "save...\n",
      "64\n",
      "save finished.\n",
      "save...\n",
      "64\n",
      "save finished.\n",
      "save...\n",
      "64\n",
      "save finished.\n",
      "save...\n",
      "64\n",
      "save finished.\n"
     ]
    }
   ],
   "source": [
    "#generate selected features\n",
    "files = np.concatenate([np.array(df.columns),np.array('正常/'+df3.loc[:,0])])\n",
    "widths = [256]\n",
    "cols = ['LTA','LTS','LBF','LRF','RTA','RTS','RBF','RRF']\n",
    "#drop_cols = [ 'RIGHT_TA','RIGHT_TS','RIGHT_BF', 'RIGHT_RF']\n",
    "cols = [ 'LEFT_TA','LEFT_TS','LEFT_BF', 'LEFT_RF',\n",
    "        'RIGHT_TA','RIGHT_TS','RIGHT_BF', 'RIGHT_RF']\n",
    "cols = \n",
    "for p in combinations(cols,2):\n",
    "#for col in cols:\n",
    "    features = []\n",
    "    labels = []\n",
    "    width = 256\n",
    "    stride = width//4\n",
    "    #col = [p[0],p[1]]\n",
    "    for file in files:\n",
    "        feature,label = dp.pipeline_selected_feature('./data/'+file,\n",
    "                                                     #columns=col,\n",
    "                                                     drop_cols = [col],\n",
    "                                            width = width, \n",
    "                                           stride=stride,\n",
    "                                           threshold_WAMP = threshold_WAMP,\n",
    "                                           threshold_SSC = threshold_SSC,\n",
    "                                           bins=bins,\n",
    "                                           ranges=HIST_range,\n",
    "                                           show_para=False)\n",
    "        features += feature.tolist()\n",
    "        labels += label.tolist()\n",
    "    print('save...')\n",
    "    print(stride)\n",
    "    #save_file = './processed data/'+p[0]+p[1]+'_features_W%d_S%d.hdf5'%(width,stride)\n",
    "    save_file = './processed data/drop_'+col+'_features_W%d_S%d.hdf5'%(width,stride)\n",
    "    with h5py.File(save_file,'w') as f:\n",
    "        f.create_dataset('features',data=np.array(features),\n",
    "                         chunks = True,dtype = np.float32)\n",
    "        f.create_dataset('labels',data=np.array(labels), dtype = np.int8)\n",
    "    print('save finished.')"
   ]
  },
  {
   "cell_type": "code",
   "execution_count": 6,
   "metadata": {},
   "outputs": [
    {
     "data": {
      "text/plain": [
       "(34360, 42)"
      ]
     },
     "execution_count": 6,
     "metadata": {},
     "output_type": "execute_result"
    }
   ],
   "source": [
    "np.array(features).shape"
   ]
  },
  {
   "cell_type": "code",
   "execution_count": 34,
   "metadata": {},
   "outputs": [
    {
     "name": "stdout",
     "output_type": "stream",
     "text": [
      "['LTA', 'LTS', 'LBF', 'LRF']\n",
      "['RTA', 'RTS', 'RBF', 'RRF']\n"
     ]
    }
   ],
   "source": [
    "cols = ['LTA','LTS','LBF','LRF','RTA','RTS','RBF','RRF']\n",
    "cols = {'Left':cols[:4],'Right':cols[4:]}\n",
    "for col in cols:\n",
    "    print(cols[col])"
   ]
  },
  {
   "cell_type": "code",
   "execution_count": 5,
   "metadata": {},
   "outputs": [
    {
     "data": {
      "text/plain": [
       "0    14576.34375\n",
       "1     9322.81250\n",
       "2    15632.78125\n",
       "3     1228.59375\n",
       "4       65.81250\n",
       "5       -8.00000\n",
       "6     7140.87500\n",
       "dtype: float64"
      ]
     },
     "execution_count": 5,
     "metadata": {},
     "output_type": "execute_result"
    }
   ],
   "source": [
    "(num-256)/32"
   ]
  },
  {
   "cell_type": "code",
   "execution_count": 4,
   "metadata": {},
   "outputs": [],
   "source": [
    "width = 256\n",
    "stride = 64\n",
    "threshold_WAMP = 30\n",
    "threshold_ZC = 0\n",
    "threshold_SSC = 1\n",
    "bins=9\n",
    "bound = 70\n",
    "HIST_range = (-bound,bound)"
   ]
  },
  {
   "cell_type": "code",
   "execution_count": 13,
   "metadata": {},
   "outputs": [
    {
     "name": "stdout",
     "output_type": "stream",
     "text": [
      "i:1 (1072, 256, 8)\n",
      "i:2 (1088, 256, 8)\n",
      "i:3 (530, 256, 8)\n",
      "i:4 (474, 256, 8)\n",
      "i:5 (470, 256, 8)\n",
      "i:6 (2334, 256, 8)\n",
      "i:7 (3253, 256, 8)\n",
      "i:8 (5280, 256, 8)\n",
      "i:9 (425, 256, 8)\n",
      "i:10 (310, 256, 8)\n",
      "i:11 (363, 256, 8)\n",
      "i:12 (362, 256, 8)\n",
      "i:13 (316, 256, 8)\n",
      "i:14 (409, 256, 8)\n",
      "i:15 (379, 256, 8)\n",
      "i:16 (374, 256, 8)\n",
      "i:17 (390, 256, 8)\n",
      "i:18 (1309, 256, 8)\n",
      "i:19 (1023, 256, 8)\n",
      "i:20 (1097, 256, 8)\n",
      "i:21 (1016, 256, 8)\n",
      "i:22 (253, 256, 8)\n",
      "i:23 (352, 256, 8)\n",
      "i:24 (294, 256, 8)\n",
      "i:25 (520, 256, 8)\n",
      "i:26 (350, 256, 8)\n",
      "i:27 (668, 256, 8)\n",
      "i:28 (448, 256, 8)\n",
      "i:29 (479, 256, 8)\n",
      "i:30 (422, 256, 8)\n",
      "i:31 (364, 256, 8)\n",
      "i:32 (384, 256, 8)\n",
      "i:33 (407, 256, 8)\n",
      "i:34 (417, 256, 8)\n",
      "i:35 (345, 256, 8)\n",
      "i:36 (381, 256, 8)\n",
      "i:37 (599, 256, 8)\n",
      "i:38 (665, 256, 8)\n",
      "i:39 (514, 256, 8)\n",
      "i:40 (402, 256, 8)\n",
      "i:41 (511, 256, 8)\n",
      "i:42 (968, 256, 8)\n",
      "i:43 (564, 256, 8)\n",
      "i:44 (409, 256, 8)\n",
      "i:45 (650, 256, 8)\n",
      "i:46 (354, 256, 8)\n",
      "i:47 (366, 256, 8)\n",
      "Duration: 66.065219\n"
     ]
    }
   ],
   "source": [
    "# read the data and labels\n",
    "files = np.concatenate([np.array(df.columns),np.array('正常/'+df3.loc[:,0])])\n",
    "X = []\n",
    "Y = []\n",
    "#sc = StandardScaler(with_mean=False)\n",
    "i = 0\n",
    "start = time.time()\n",
    "for file in files:\n",
    "    emg_data = pd.read_csv('./data/'+file)\n",
    "    emg_data = emg_data.fillna({'LEFT_TA':emg_data.LEFT_TA.mean(),\n",
    "                                'LEFT_TS':emg_data.LEFT_TS.mean(),\n",
    "                                'LEFT_BF':emg_data.LEFT_BF.mean(),\n",
    "                                'LEFT_RF':emg_data.LEFT_RF.mean(),\n",
    "                                'RIGHT_TA':emg_data.RIGHT_TA.mean(),\n",
    "                                'RIGHT_TS':emg_data.RIGHT_TS.mean(),\n",
    "                                'RIGHT_BF':emg_data.RIGHT_BF.mean(),\n",
    "                                'RIGHT_RF':emg_data.RIGHT_RF.mean()})\n",
    "    #emg_data = emg_data[emg_data.Label1 == emg_data.Label2].reset_index(drop=True)\n",
    "    x,y = dp.generate_window_slide_data(emg_data,width=width,stride=stride,scaler=True)\n",
    "    X += x.tolist()\n",
    "    Y += y.tolist()\n",
    "    i += 1\n",
    "    print('i:%d'%i,x.shape)\n",
    "end = time.time()\n",
    "duration = end-start\n",
    "print('Duration: %f'%(duration))"
   ]
  },
  {
   "cell_type": "code",
   "execution_count": 52,
   "metadata": {},
   "outputs": [
    {
     "name": "stdout",
     "output_type": "stream",
     "text": [
      "i:1 (506, 256, 8)\n",
      "i:2 (703, 256, 8)\n",
      "i:3 (588, 256, 8)\n",
      "i:4 (1040, 256, 8)\n",
      "i:5 (699, 256, 8)\n",
      "i:6 (1335, 256, 8)\n",
      "i:7 (895, 256, 8)\n",
      "i:8 (958, 256, 8)\n",
      "i:9 (844, 256, 8)\n",
      "i:10 (727, 256, 8)\n",
      "i:11 (768, 256, 8)\n",
      "i:12 (814, 256, 8)\n",
      "i:13 (833, 256, 8)\n",
      "i:14 (690, 256, 8)\n",
      "i:15 (761, 256, 8)\n",
      "i:16 (1198, 256, 8)\n",
      "i:17 (1330, 256, 8)\n",
      "i:18 (1028, 256, 8)\n",
      "i:19 (803, 256, 8)\n",
      "i:20 (1021, 256, 8)\n",
      "i:21 (1935, 256, 8)\n",
      "i:22 (1128, 256, 8)\n",
      "i:23 (818, 256, 8)\n",
      "i:24 (1299, 256, 8)\n",
      "i:25 (707, 256, 8)\n",
      "i:26 (732, 256, 8)\n",
      "Duration: 26.938807\n"
     ]
    }
   ],
   "source": [
    "# read the data and labels of df2 or df3\n",
    "\n",
    "ind = df2.iloc[1].isna()\n",
    "features = []\n",
    "#sc = StandardScaler(with_mean=False)\n",
    "#width = 256\n",
    "#stride = 32\n",
    "start = time.time()\n",
    "i = 0\n",
    "for file in np.array(df3.loc[:,0]):\n",
    "    #if file in np.array(df3.loc[:,0]):\n",
    "    #    continue\n",
    "    emg_data = pd.read_csv('./data/正常/'+file)\n",
    "    emg_data = emg_data.fillna({'LEFT_TA':emg_data.LEFT_TA.mean(),\n",
    "                                'LEFT_TS':emg_data.LEFT_TS.mean(),\n",
    "                                'LEFT_BF':emg_data.LEFT_BF.mean(),\n",
    "                                'LEFT_RF':emg_data.LEFT_RF.mean(),\n",
    "                                'RIGHT_TA':emg_data.RIGHT_TA.mean(),\n",
    "                                'RIGHT_TS':emg_data.RIGHT_TS.mean(),\n",
    "                                'RIGHT_BF':emg_data.RIGHT_BF.mean(),\n",
    "                                'RIGHT_RF':emg_data.RIGHT_RF.mean()})\n",
    "    #emg_data = emg_data[emg_data.Label1 == emg_data.Label2].reset_index(drop=True)\n",
    "    x,y = dp.generate_window_slide_data(emg_data,width=width,stride=stride,scaler=False)\n",
    "    #feature = dp.generate_feature(x,threshold_WAMP=threshold_WAMP,\n",
    "    #                          threshold_ZC=threshold_ZC,\n",
    "    #                          threshold_SSC=threshold_SSC,\n",
    "    #                          bins=bins,ranges=HIST_range)\n",
    "    #features += feature.tolist()\n",
    "    X += x.tolist()\n",
    "    Y += y.tolist()\n",
    "    i += 1\n",
    "    print('i:%d'%i,x.shape)\n",
    "    \n",
    "end = time.time()\n",
    "duration = end-start\n",
    "print('Duration: %f'%(duration))"
   ]
  },
  {
   "cell_type": "code",
   "execution_count": null,
   "metadata": {},
   "outputs": [
    {
     "name": "stdout",
     "output_type": "stream",
     "text": [
      "G04_FoG_trial_1_emg.csv\n",
      "G04_FoG_trial_2_emg.csv\n",
      "G06_FoG_trial_1_emg.csv\n",
      "G06_FoG_trial_2_emg.csv\n",
      "G06_FoG_trial_3_emg.csv\n",
      "G07_Freezing_Trial1_trial_1_emg.csv\n",
      "G08_FoG_1_trial_1_emg.csv\n"
     ]
    }
   ],
   "source": [
    "#generate cwt features\n",
    "files = np.concatenate([np.array(df.columns),np.array('正常/'+df3.loc[:,0])])\n",
    "widths = [256]\n",
    "\n",
    "for width in widths:\n",
    "    features = []\n",
    "    labels = []\n",
    "    stride = width//4\n",
    "    for file in files:\n",
    "        if file == 'P551_M050_2_B_FoG_trial_2_emg.csv':\n",
    "            continue\n",
    "        print(file)\n",
    "        feature,label = dp.pipeline_cwt('./data/'+file,width = width, \n",
    "                                           stride=stride,\n",
    "                                           scaler=False,\n",
    "                                           width_c=32)\n",
    "        features += feature.tolist()\n",
    "        labels += label.tolist()\n",
    "    print('save...')\n",
    "    print(stride)\n",
    "    save_file = './processed data/cwt_W%d_S%d_Wc32_mexh_no_P551_M050_2_B_FoG_trial_2.hdf5'%(width,stride)\n",
    "    with h5py.File(save_file,'w') as f:\n",
    "        f.create_dataset('features',data=np.array(features),\n",
    "                         chunks = True,dtype = np.float32)\n",
    "        f.create_dataset('labels',data=np.array(labels), dtype = np.int8)\n",
    "    print('save finished.')"
   ]
  },
  {
   "cell_type": "code",
   "execution_count": 158,
   "metadata": {},
   "outputs": [
    {
     "name": "stdout",
     "output_type": "stream",
     "text": [
      "drop: G04_FoG_trial_1_emg.csv\n",
      "drop: G04_FoG_trial_2_emg.csv\n",
      "drop: 正常/P623_M050_2_A_Walking_trial_2_emg.csv\n",
      "drop: 正常/P623_M050_2_A_Walking_trial_4_emg.csv\n",
      "drop: 正常/P623_M050_2_A_Walking_trial_6_emg.csv\n",
      "drop: 正常/P623_M050_A_Walking_trial_4_emg.csv\n",
      "drop: 正常/P623_Msham_A_Walking_trial_6_emg.csv\n",
      "save...\n",
      "64\n",
      "save finished.\n"
     ]
    }
   ],
   "source": [
    "# save all feature as dataframe\n",
    "ind = df2.iloc[1].isna()\n",
    "files = np.concatenate([np.array(df.columns),np.array('正常/'+df2.columns[ind])])\n",
    "widths = [256]\n",
    "N = len(files)\n",
    "i = 0\n",
    "for width in widths:\n",
    "    features = []\n",
    "    labels = []\n",
    "    stride = width//4\n",
    "    i += 1\n",
    "    Data = pd.DataFrame()\n",
    "    for file in files:\n",
    "        #print(file)\n",
    "        drop, data = dp.pipeline_feature_pd('./data/'+file,width = width, \n",
    "                                           stride=stride,\n",
    "                                           scaler=False,\n",
    "                                           threshold_WAMP = threshold_WAMP,\n",
    "                                           threshold_SSC = threshold_SSC,\n",
    "                                           bins=bins,\n",
    "                                           ranges=HIST_range,\n",
    "                                           filt=None)\n",
    "        if drop:\n",
    "            print('%d/%d drop: '(%i,N)+file)\n",
    "            continue\n",
    "        print('%d/%d: '(%i,N)file)\n",
    "        Data = pd.concat([Data,data])\n",
    "    print('save...')\n",
    "    print(stride)\n",
    "    #save_file = './processed data/nfeatures_W%d_S%d_WAMP30.hdf5'%(width,stride)\n",
    "    #with h5py.File(save_file,'w') as f:\n",
    "    #    f.create_dataset('features',data=np.array(features),\n",
    "    #                     chunks = True,dtype = np.float32)\n",
    "    #    f.create_dataset('labels',data=np.array(labels), dtype = np.int8)\n",
    "    print('save finished.')"
   ]
  },
  {
   "cell_type": "code",
   "execution_count": 163,
   "metadata": {},
   "outputs": [],
   "source": [
    "Data.to_csv('./processed data/dataframe_W256_S64.csv',index=False)"
   ]
  },
  {
   "cell_type": "code",
   "execution_count": 14,
   "metadata": {},
   "outputs": [],
   "source": [
    "file = './processed data/data_set_after_window_S64_allPa.hdf5'\n",
    "with h5py.File(file,'w') as f:\n",
    "    f.create_dataset('cwt_data',data=np.array(X),\n",
    "                     chunks = True,dtype = np.float32)\n",
    "    f.create_dataset('label2',data=np.array(Y), dtype = np.int8)"
   ]
  },
  {
   "cell_type": "code",
   "execution_count": 38,
   "metadata": {},
   "outputs": [],
   "source": [
    "file = './processed data/feature_restdata.hdf5'\n",
    "with h5py.File(file,'w') as f:\n",
    "    f.create_dataset('features',data=np.array(features),\n",
    "                     chunks = True,dtype = np.float32)\n",
    "    f.create_dataset('labels',data=np.array(Y), dtype = np.int8)"
   ]
  },
  {
   "cell_type": "code",
   "execution_count": 31,
   "metadata": {},
   "outputs": [
    {
     "data": {
      "text/plain": [
       "0    26775\n",
       "2    22889\n",
       "1     2842\n",
       "3      761\n",
       "Name: Label1, dtype: int64"
      ]
     },
     "execution_count": 31,
     "metadata": {},
     "output_type": "execute_result"
    }
   ],
   "source": [
    "emg_data[emg_data.Label1 == emg_data.Label2].Label1.value_counts()"
   ]
  },
  {
   "cell_type": "code",
   "execution_count": 69,
   "metadata": {},
   "outputs": [
    {
     "name": "stdout",
     "output_type": "stream",
     "text": [
      "yes\n"
     ]
    },
    {
     "data": {
      "text/plain": [
       "0                  G02_Walking_trial_1_emg.csv\n",
       "1                  G03_Walking_trial_1_emg.csv\n",
       "2                  G03_Walking_trial_2_emg.csv\n",
       "3     G05_Walking_struct_fixed_trial_1_emg.csv\n",
       "4     G05_Walking_struct_fixed_trial_3_emg.csv\n",
       "5                      G09_FoG_trial_1_emg.csv\n",
       "6                      G09_FoG_trial_3_emg.csv\n",
       "7                  G11_Walking_trial_2_emg.csv\n",
       "8          P231_M050_A_Walking_trial_2_emg.csv\n",
       "9          P231_M050_A_Walking_trial_4_emg.csv\n",
       "10           P351_M050_2_A_FoG_trial_1_emg.csv\n",
       "11       P351_M050_2_A_Walking_trial_2_emg.csv\n",
       "12        P351_Msham_B_Walking_trial_6_emg.csv\n",
       "13         P379_M050_A_Walking_trial_2_emg.csv\n",
       "14        P379_Msham_B_Walking_trial_6_emg.csv\n",
       "15         P533_M050_A_Walking_trial_2_emg.csv\n",
       "16         P533_M050_B_Walking_trial_3_emg.csv\n",
       "17       P623_M050_2_A_Walking_trial_2_emg.csv\n",
       "18         P623_M100_A_Walking_trial_4_emg.csv\n",
       "19         P645_M050_A_Walking_trial_2_emg.csv\n",
       "20         P645_M050_B_Walking_trial_2_emg.csv\n",
       "21           P812_M050_2_A_FoG_trial_1_emg.csv\n",
       "22         P876_M100_B_Walking_trial_4_emg.csv\n",
       "23             P876_M100_B_FoG_trial_1_emg.csv\n",
       "24           P940_M050_2_A_FoG_trial_3_emg.csv\n",
       "25             P940_M100_A_FoG_trial_2_emg.csv\n",
       "Name: 0, dtype: object"
      ]
     },
     "execution_count": 69,
     "metadata": {},
     "output_type": "execute_result"
    }
   ],
   "source": [
    "if file in np.array(df3):\n",
    "    print('yes')\n",
    "file\n",
    "df3.iloc[:,0]"
   ]
  },
  {
   "cell_type": "code",
   "execution_count": 17,
   "metadata": {},
   "outputs": [],
   "source": [
    "path = './processed data/data_set_after_window_label12.hdf5'\n",
    "with h5py.File(path,'r') as f:\n",
    "    x = f['cwt_data'][...]\n",
    "    y = f['label2'][...]"
   ]
  },
  {
   "cell_type": "code",
   "execution_count": 18,
   "metadata": {},
   "outputs": [
    {
     "data": {
      "text/plain": [
       "2    11903\n",
       "0    11711\n",
       "6     5887\n",
       "1     5405\n",
       "3       92\n",
       "dtype: int64"
      ]
     },
     "execution_count": 18,
     "metadata": {},
     "output_type": "execute_result"
    }
   ],
   "source": [
    "pd.Series(y).value_counts()"
   ]
  },
  {
   "cell_type": "code",
   "execution_count": 155,
   "metadata": {},
   "outputs": [],
   "source": [
    "emg_data = pd.read_csv('.\\data\\G06_FoG_trial_1_emg.csv')\n",
    "#emg_data = emg_data.fillna({'LEFT_TA':emg_data.LEFT_TA.mean(),\n",
    "#                            'LEFT_TS':emg_data.LEFT_TS.mean(),\n",
    "#                            'LEFT_BF':emg_data.LEFT_BF.mean(),\n",
    "#                            'LEFT_RF':emg_data.LEFT_RF.mean(),\n",
    "#                            'RIGHT_TA':emg_data.RIGHT_TA.mean(),\n",
    "#                            'RIGHT_TS':emg_data.RIGHT_TS.mean(),\n",
    "#                            'RIGHT_BF':emg_data.RIGHT_BF.mean(),\n",
    "#                            'RIGHT_RF':emg_data.RIGHT_RF.mean()})\n",
    "#x,y = dp.generate_window_slide_data(emg_data,width=width,stride=stride,scaler=False)\n",
    "#x_filter = dp.lowpass_filter(x)"
   ]
  },
  {
   "cell_type": "code",
   "execution_count": 154,
   "metadata": {},
   "outputs": [],
   "source": [
    "temp=dp.pipeline_feature_pd('.\\data\\G06_FoG_trial_1_emg.csv',\n",
    "                             width = width, \n",
    "                             stride=stride,\n",
    "                             threshold_WAMP = threshold_WAMP,\n",
    "                             threshold_SSC = threshold_SSC,\n",
    "                             bins=bins,\n",
    "                             ranges=HIST_range)"
   ]
  },
  {
   "cell_type": "code",
   "execution_count": 156,
   "metadata": {},
   "outputs": [
    {
     "data": {
      "text/plain": [
       "Time        0\n",
       "Label1      0\n",
       "Label2      0\n",
       "LEFT_TA     6\n",
       "LEFT_TS     6\n",
       "LEFT_BF     6\n",
       "LEFT_RF     0\n",
       "RIGHT_TA    0\n",
       "RIGHT_TS    9\n",
       "RIGHT_BF    0\n",
       "RIGHT_RF    0\n",
       "dtype: int64"
      ]
     },
     "execution_count": 156,
     "metadata": {},
     "output_type": "execute_result"
    }
   ],
   "source": [
    "length = len(emg_data)\n",
    "na = emg_data.isna().sum()\n",
    "#any(na>length/2)\n",
    "na"
   ]
  },
  {
   "cell_type": "code",
   "execution_count": 165,
   "metadata": {},
   "outputs": [],
   "source": [
    "N=256\n",
    "T=1/1000\n",
    "data = x[1086,:,1]\n",
    "yf = fft(data)\n",
    "yff = 2.0/N * np.abs(yf[0:N//2])\n",
    "xf = np.linspace(0.0, 1.0/(2.0*T), N//2)\n",
    "total = (cumtrapz(yff,xf))\n",
    "w=np.where(total>=(total[-1]/2))[0][0]"
   ]
  },
  {
   "cell_type": "code",
   "execution_count": 173,
   "metadata": {},
   "outputs": [
    {
     "data": {
      "image/png": "[encoded data removed]",
      "text/plain": [
       "<Figure size 432x288 with 2 Axes>"
      ]
     },
     "metadata": {
      "needs_background": "light"
     },
     "output_type": "display_data"
    }
   ],
   "source": [
    "plt.figure()\n",
    "plt.subplot(2,1,1)\n",
    "plt.plot(xf, yff)\n",
    "plt.plot([xf[w],xf[w]],[0,yff.max()],linestyle=':')\n",
    "plt.grid(True)\n",
    "plt.subplot(2,1,2)\n",
    "plt.plot(data)\n",
    "plt.grid(True)"
   ]
  },
  {
   "cell_type": "code",
   "execution_count": 121,
   "metadata": {},
   "outputs": [
    {
     "data": {
      "text/plain": [
       "'P812_M050_2_B_FoG_trial_2_emg.csv'"
      ]
     },
     "execution_count": 121,
     "metadata": {},
     "output_type": "execute_result"
    }
   ],
   "source": [
    "'./data/P812_M050_2_B_FoG_trial_2_emg.csv'.split('/')[-1]"
   ]
  },
  {
   "cell_type": "code",
   "execution_count": 166,
   "metadata": {},
   "outputs": [],
   "source": [
    "freqs, power=signal.periodogram(data, 1e3)\n",
    "total = (cumtrapz(power,freqs))\n",
    "w=np.where(total>=(total[-1]/2))[0][0]"
   ]
  },
  {
   "cell_type": "code",
   "execution_count": 172,
   "metadata": {},
   "outputs": [
    {
     "data": {
      "text/plain": [
       "[<matplotlib.lines.Line2D at 0x1f3c2f734c8>]"
      ]
     },
     "execution_count": 172,
     "metadata": {},
     "output_type": "execute_result"
    },
    {
     "data": {
      "image/png": "[encoded data removed]",
      "text/plain": [
       "<Figure size 432x288 with 1 Axes>"
      ]
     },
     "metadata": {
      "needs_background": "light"
     },
     "output_type": "display_data"
    }
   ],
   "source": [
    "plt.plot(freqs, power)"
   ]
  },
  {
   "cell_type": "code",
   "execution_count": null,
   "metadata": {},
   "outputs": [],
   "source": []
  }
 ],
 "metadata": {
  "kernelspec": {
   "display_name": "Python 3",
   "language": "python",
   "name": "python3"
  },
  "language_info": {
   "codemirror_mode": {
    "name": "ipython",
    "version": 3
   },
   "file_extension": ".py",
   "mimetype": "text/x-python",
   "name": "python",
   "nbconvert_exporter": "python",
   "pygments_lexer": "ipython3",
   "version": "3.7.6"
  }
 },
 "nbformat": 4,
 "nbformat_minor": 4
}
