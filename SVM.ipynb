{
 "cells": [
  {
   "cell_type": "code",
   "execution_count": 1,
   "metadata": {},
   "outputs": [],
   "source": [
    "import numpy as np\n",
    "import pandas as pd\n",
    "import data_processing as dp\n",
    "import seaborn as sns\n",
    "from sklearn.preprocessing import StandardScaler\n",
    "import matplotlib.pyplot as plt\n",
    "import os\n",
    "import time\n",
    "import h5py"
   ]
  },
  {
   "cell_type": "code",
   "execution_count": 2,
   "metadata": {
    "scrolled": true
   },
   "outputs": [
    {
     "name": "stdout",
     "output_type": "stream",
     "text": [
      ".\\data\\G04_FoG_trial_1_emg.csv\n",
      ".\\data\\G04_FoG_trial_2_emg.csv\n",
      ".\\data\\G06_FoG_trial_1_emg.csv\n",
      ".\\data\\G06_FoG_trial_2_emg.csv\n",
      ".\\data\\G06_FoG_trial_3_emg.csv\n",
      ".\\data\\G07_Freezing_Trial1_trial_1_emg.csv\n",
      ".\\data\\G08_FoG_1_trial_1_emg.csv\n",
      ".\\data\\G08_FoG_2_trial_1_emg.csv\n",
      ".\\data\\G11_FoG_trial_1_emg.csv\n",
      ".\\data\\G11_FoG_trial_2_emg.csv\n",
      ".\\data\\P379_M050_2_OFF_A_FoG_trial_1_emg.csv\n",
      ".\\data\\P379_M050_2_OFF_A_FoG_trial_2_emg.csv\n",
      ".\\data\\P379_M050_2_OFF_A_FoG_trial_3_emg.csv\n",
      ".\\data\\P379_M050_2_OFF_B_FoG_trial_1_emg.csv\n",
      ".\\data\\P379_M050_2_OFF_B_FoG_trial_2_emg.csv\n",
      ".\\data\\P379_M050_2_OFF_B_FoG_trial_3_emg.csv\n",
      ".\\data\\P551_M050_2_A_FoG_trial_1_emg.csv\n",
      ".\\data\\P551_M050_2_B_FoG_trial_1_emg.csv\n",
      ".\\data\\P551_M050_2_B_FoG_trial_2_emg.csv\n",
      ".\\data\\P812_M050_2_B_FoG_trial_1_emg.csv\n",
      ".\\data\\P812_M050_2_B_FoG_trial_2_emg.csv\n",
      ".\\data\\其他\\labels.txt\n",
      ".\\data\\其他\\P812_M050_2_B_FoG_trial1_annotation.csv\n",
      ".\\data\\其他\\P812_M050_2_B_FoG_trials.mat\n",
      ".\\data\\其他\\P812_M050_2_B_FoG_trial_1_out_left_foot.csv\n",
      ".\\data\\其他\\P812_M050_2_B_FoG_trial_1_out_lower_left_foot.csv\n",
      ".\\data\\其他\\P812_M050_2_B_FoG_trial_1_out_lower_right_foot.csv\n",
      ".\\data\\其他\\P812_M050_2_B_FoG_trial_1_out_right_foot.csv\n",
      ".\\data\\其他\\P812_M050_2_B_FoG_trial_2_out_left_foot.csv\n",
      ".\\data\\其他\\P812_M050_2_B_FoG_trial_2_out_lower_left_foot.csv\n",
      ".\\data\\其他\\P812_M050_2_B_FoG_trial_2_out_lower_right_foot.csv\n",
      ".\\data\\其他\\P812_M050_2_B_FoG_trial_2_out_right_foot.csv\n",
      ".\\data\\其他\\P812_M50_2_B_FoG_trial2_annotation.csv\n",
      ".\\data\\正常\\G02_Walking_trial_1_emg.csv\n",
      ".\\data\\正常\\G03_Walking_trial_1_emg.csv\n",
      ".\\data\\正常\\G03_Walking_trial_2_emg.csv\n",
      ".\\data\\正常\\G05_Walking_struct_fixed_trial_1_emg.csv\n",
      ".\\data\\正常\\G05_Walking_struct_fixed_trial_2_emg.csv\n",
      ".\\data\\正常\\G05_Walking_struct_fixed_trial_3_emg.csv\n",
      ".\\data\\正常\\G09_FoG_trial_1_emg.csv\n",
      ".\\data\\正常\\G09_FoG_trial_2_emg.csv\n",
      ".\\data\\正常\\G09_FoG_trial_3_emg.csv\n",
      ".\\data\\正常\\G09_Walking_trial_2_emg.csv\n",
      ".\\data\\正常\\G09_Walking_trial_4_emg.csv\n",
      ".\\data\\正常\\G09_Walking_trial_6_emg.csv\n",
      ".\\data\\正常\\G11_Walking_trial_2_emg.csv\n",
      ".\\data\\正常\\G11_Walking_trial_4_emg.csv\n"
     ]
    }
   ],
   "source": [
    "for dirname, _, filenames in os.walk('.\\data'):\n",
    "    for filename in filenames:\n",
    "        print(os.path.join(dirname,filename))"
   ]
  },
  {
   "cell_type": "code",
   "execution_count": 3,
   "metadata": {},
   "outputs": [],
   "source": [
    "emg_data = pd.read_csv('.\\data\\P812_M050_2_B_FoG_trial_1_emg.csv')\n",
    "emg_data2 = pd.read_csv('.\\data\\P812_M050_2_B_FoG_trial_2_emg.csv')"
   ]
  },
  {
   "cell_type": "code",
   "execution_count": 4,
   "metadata": {},
   "outputs": [
    {
     "data": {
      "text/plain": [
       "Time        0\n",
       "Label1      0\n",
       "Label2      0\n",
       "LEFT_TA     0\n",
       "LEFT_TS     0\n",
       "LEFT_BF     0\n",
       "LEFT_RF     0\n",
       "RIGHT_TA    0\n",
       "RIGHT_TS    0\n",
       "RIGHT_BF    0\n",
       "RIGHT_RF    0\n",
       "dtype: int64"
      ]
     },
     "execution_count": 4,
     "metadata": {},
     "output_type": "execute_result"
    }
   ],
   "source": [
    "emg_data = emg_data.fillna({'LEFT_BF':emg_data.LEFT_BF.mean(),\n",
    "                           'LEFT_RF':emg_data.LEFT_RF.mean(),\n",
    "                           'RIGHT_TA':emg_data.RIGHT_TA.mean(),\n",
    "                           'RIGHT_TS':emg_data.RIGHT_TS.mean(),\n",
    "                           'RIGHT_BF':emg_data.RIGHT_BF.mean(),\n",
    "                           'RIGHT_RF':emg_data.RIGHT_RF.mean()})\n",
    "emg_data.isna().sum()"
   ]
  },
  {
   "cell_type": "code",
   "execution_count": 3,
   "metadata": {},
   "outputs": [],
   "source": [
    "Data = pd.read_csv('./processed data/featurePcwtf_W256_S64_WS32_DWTLmax_dropna_samelabel.csv')\n",
    "\n",
    "# read file name of data with various Labels\n",
    "df = pd.read_csv('./useful_data_label.csv',index_col=0) \n",
    "drop = 'P551_M050_2_B_FoG_trial_2_emg.csv'\n",
    "ind_drop = df.columns!=drop\n",
    "\n",
    "# read file name of data with only label 0\n",
    "df2 = pd.read_csv('./unuseful_data_label.csv',index_col=0)\n",
    "# read some of the data with only label 0\n",
    "df3 = pd.read_csv('./data/file_name.txt',header=None)\n"
   ]
  },
  {
   "cell_type": "code",
   "execution_count": 4,
   "metadata": {},
   "outputs": [],
   "source": [
    "files = np.concatenate([np.array(df.columns),np.array(df3.loc[:,0])])\n",
    "ind = Data.File.isin(files)\n",
    "Data_sel = Data[ind]\n",
    "Data_rest = Data[~ind]"
   ]
  },
  {
   "cell_type": "code",
   "execution_count": 5,
   "metadata": {},
   "outputs": [],
   "source": [
    "feature_col = ['_IEMG','_MAV','_SSI','_VAR','_RMS',\n",
    "               '_WL','_ZC','_SSC','_WAMP','_skew',\n",
    "               '_Acti','_AR','_HIST','_MDF','_MNF','_mDWT']\n",
    "\n",
    "feature_all = Data_sel.iloc[:,1:-1]\n",
    "#ind_temp1 = feature_all.columns.str.contains('_IEMG')\n",
    "#ind_temp2 = feature_all.columns.str.contains('_skew')\n",
    "#ind_temp3 = feature_all.columns.str.contains('_mDWT')\n",
    "#ind_temp = ind_temp2|ind_temp3\n",
    "ind_temp = feature_all.columns.str.contains('_mDWT')\n",
    "feature = feature_all.loc[:,~ind_temp]\n",
    "#feature = Data_sel.iloc[:,1:-1]\n",
    "y = Data_sel.iloc[:,0]\n",
    "feature2_all = Data_rest.iloc[:,1:-1]\n",
    "feature2 = feature2_all.loc[:,~ind_temp]\n",
    "#feature2 = Data_rest.iloc[:,1:-1]\n",
    "y2 = Data_rest.iloc[:,0]"
   ]
  },
  {
   "cell_type": "code",
   "execution_count": 7,
   "metadata": {},
   "outputs": [],
   "source": [
    "x,y = generate_window_slide_data(emg_data)\n",
    "x2,y2 = generate_window_slide_data(emg_data2)"
   ]
  },
  {
   "cell_type": "code",
   "execution_count": 71,
   "metadata": {},
   "outputs": [],
   "source": [
    "path = './processed data/data_set_after_window_withoutSC.hdf5'\n",
    "with h5py.File(path,'r') as f:\n",
    "    x = f['cwt_data'][...]\n",
    "    y = f['label2'][...]"
   ]
  },
  {
   "cell_type": "code",
   "execution_count": 5,
   "metadata": {},
   "outputs": [
    {
     "name": "stdout",
     "output_type": "stream",
     "text": [
      "threshold_WAMP:2.0, threshold_ZC:0.0, threshold_SSC:0.0,bins:9,ranges:(-70,70)\n",
      "IEMG,MAV,SSI,VAR,RMS,WL,ZC,SSC,WAMP,skew,Acti,AR\n"
     ]
    }
   ],
   "source": [
    "feature = dp.generate_feature(x,2,0,bins=9,ranges=(-70,70))\n",
    "#feature2 = dp.generate_feature(x2)"
   ]
  },
  {
   "cell_type": "code",
   "execution_count": 30,
   "metadata": {},
   "outputs": [],
   "source": [
    "sc = StandardScaler(with_mean=False)\n",
    "feature_sc = sc.fit_transform(feature)"
   ]
  },
  {
   "cell_type": "code",
   "execution_count": 6,
   "metadata": {},
   "outputs": [],
   "source": [
    "from sklearn.svm import SVC\n",
    "from sklearn.model_selection import train_test_split\n",
    "from sklearn.preprocessing import OneHotEncoder\n",
    "from sklearn import metrics"
   ]
  },
  {
   "cell_type": "code",
   "execution_count": 7,
   "metadata": {},
   "outputs": [],
   "source": [
    "def train_model(model,feature,y,binary=True,file=None):\n",
    "    if binary:\n",
    "        ind = ((y==0)|(y==4)|(y==1)|(y==2)|(y==3)|(y==6))\n",
    "        ind1 = ((y==4)|(y==1)|(y==2)|(y==3)|(y==6))\n",
    "        y_01 = y.copy()\n",
    "        y_01[ind1] = 1\n",
    "        metric = 'error'\n",
    "    else:\n",
    "        ind = ((y==1)|(y==2)|(y==6))\n",
    "        y_01 = y[ind].copy()\n",
    "        metric = 'merror'\n",
    "    x_full,x_test,y_full,y_test = train_test_split(feature.loc[ind,:],y_01,\n",
    "                                                   test_size=0.2,\n",
    "                                                   random_state=123,\n",
    "                                                   shuffle=False)\n",
    "    x_train,x_valid,y_train,y_valid = train_test_split(x_full,y_full,\n",
    "                                                       test_size=0.2,\n",
    "                                                       random_state=555,\n",
    "                                                       shuffle=True)\n",
    "    \n",
    "    model.fit(x_train, y_train)\n",
    "    y_pred_t=model.predict(x_test)\n",
    "    test = metrics.accuracy_score(y_test,y_pred_t)\n",
    "    y_pred_v=model.predict(x_valid)\n",
    "    valid = metrics.accuracy_score(y_valid,y_pred_v)\n",
    "    y_pred_ta=model.predict(x_train)\n",
    "    train = metrics.accuracy_score(y_train,y_pred_ta)\n",
    "    if binary == False:\n",
    "        print('train: \\n',metrics.confusion_matrix(y_train,y_pred_ta))\n",
    "        print('valid: \\n',metrics.confusion_matrix(y_valid,y_pred_v))\n",
    "        print('test: \\n',metrics.confusion_matrix(y_test,y_pred_t))\n",
    "    print('test:%f'%test)\n",
    "    print('valid:%f'%valid)\n",
    "    print('train:%f'%train)\n",
    "    if file != None:\n",
    "        model.save_model(file)\n",
    "    return train,valid,test\n",
    "\n",
    "def test_model(model,feature,y):\n",
    "    ind = ((y==4)|(y==1)|(y==2)|(y==3)|(y==6))\n",
    "    y_01 = y.copy()\n",
    "    y_01[ind] = 1\n",
    "    y_pred=model.predict(feature)\n",
    "    test = metrics.accuracy_score(y_01,y_pred>0.5)\n",
    "    print('acc:%f'%test)\n",
    "    return test\n",
    "\n",
    "def test_load_model(path,feature,y):\n",
    "    ind = ((y==4)|(y==1)|(y==2)|(y==3)|(y==6))\n",
    "    y_01 = y.copy()\n",
    "    y_01[ind] = 1\n",
    "    booster = xgb.Booster()\n",
    "    booster.load_model(path)\n",
    "    model = xgb.XGBClassifier()\n",
    "    model._Booster = booster\n",
    "    y_pred=model.predict(feature)\n",
    "    test = metrics.accuracy_score(y_01,y_pred)\n",
    "    print('acc:%f'%test)\n",
    "    return test"
   ]
  },
  {
   "cell_type": "code",
   "execution_count": 10,
   "metadata": {},
   "outputs": [],
   "source": [
    "ind = ((y==0)|(y==2))\n",
    "y_02 = y[ind]\n",
    "y_02[y_02==2] = 1\n",
    "oh_ec = OneHotEncoder()\n",
    "y_oh = oh_ec.fit_transform(y[:,np.newaxis]).toarray()\n",
    "x_train,x_valid,y_train,y_valid = train_test_split(feature[ind],y_02,test_size=0.2)"
   ]
  },
  {
   "cell_type": "code",
   "execution_count": 74,
   "metadata": {},
   "outputs": [],
   "source": [
    "ind = ((y==1)|(y==2)|(y==3)|(y==6))\n",
    "#ind = ((y==4)|(y==1)|(y==2)|(y==3)|(y==6))\n",
    "ind_f = [0,1,6,42,46,57,62]\n",
    "y_01 = y[ind]\n",
    "y_01[y_01==1]=0\n",
    "y_01[y_01==2]=1\n",
    "y_01[y_01==3]=2\n",
    "y_01[y_01==6]=3\n",
    "#y_01 = y\n",
    "#y_01[ind] = 1\n",
    "oh_ec = OneHotEncoder()\n",
    "y_oh = oh_ec.fit_transform(y_01[:,np.newaxis]).toarray()\n",
    "x_full,x_test,y_full,y_test = train_test_split(feature_sc[ind][:-2000],y_01[:-2000],test_size=0.2,random_state=123)\n",
    "x_train,x_valid,y_train,y_valid = train_test_split(x_full,y_full,test_size=0.2,random_state=555)"
   ]
  },
  {
   "cell_type": "code",
   "execution_count": 10,
   "metadata": {},
   "outputs": [],
   "source": [
    "model = SVC(kernel=\"rbf\",C=300)\n",
    "#model.fit(x_train,y_train)"
   ]
  },
  {
   "cell_type": "code",
   "execution_count": 11,
   "metadata": {},
   "outputs": [
    {
     "name": "stdout",
     "output_type": "stream",
     "text": [
      "test:0.672977\n",
      "valid:0.779115\n",
      "train:0.777857\n",
      "acc:0.744774\n",
      "0.7447739426349052\n"
     ]
    }
   ],
   "source": [
    "sc = StandardScaler(with_mean=True)\n",
    "feature_sc = sc.fit_transform(feature)\n",
    "feature2_sc = sc.transform(feature2)\n",
    "acc={}\n",
    "train,valid,test = train_model(model,feature,np.array(y),True)\n",
    "acc_rest=test_model(model,feature2,y2)\n",
    "acc['SVM'] = [train,valid,test,acc_rest]\n",
    "print(acc_rest)"
   ]
  },
  {
   "cell_type": "code",
   "execution_count": 126,
   "metadata": {},
   "outputs": [
    {
     "data": {
      "text/plain": [
       "array([[   0,  353,    0],\n",
       "       [   0, 1440,    0],\n",
       "       [   0,  207,    0]], dtype=int64)"
      ]
     },
     "execution_count": 126,
     "metadata": {},
     "output_type": "execute_result"
    }
   ],
   "source": [
    "metrics.confusion_matrix(y_01[28844:],y_pred)"
   ]
  },
  {
   "cell_type": "code",
   "execution_count": 86,
   "metadata": {},
   "outputs": [
    {
     "data": {
      "text/plain": [
       "array([10.36727542, 10.87437042, 10.70533875, ..., 11.55049708,\n",
       "       11.4378093 , 11.26877764])"
      ]
     },
     "execution_count": 86,
     "metadata": {},
     "output_type": "execute_result"
    }
   ],
   "source": [
    "feature_sc.max(axis=1)"
   ]
  },
  {
   "cell_type": "code",
   "execution_count": 99,
   "metadata": {},
   "outputs": [
    {
     "data": {
      "text/plain": [
       "1    8334\n",
       "0    5207\n",
       "3    4359\n",
       "2     560\n",
       "dtype: int64"
      ]
     },
     "execution_count": 99,
     "metadata": {},
     "output_type": "execute_result"
    }
   ],
   "source": [
    "pd.Series(y_train).value_counts()"
   ]
  },
  {
   "cell_type": "code",
   "execution_count": null,
   "metadata": {},
   "outputs": [],
   "source": []
  }
 ],
 "metadata": {
  "kernelspec": {
   "display_name": "Python 3",
   "language": "python",
   "name": "python3"
  },
  "language_info": {
   "codemirror_mode": {
    "name": "ipython",
    "version": 3
   },
   "file_extension": ".py",
   "mimetype": "text/x-python",
   "name": "python",
   "nbconvert_exporter": "python",
   "pygments_lexer": "ipython3",
   "version": "3.7.6"
  }
 },
 "nbformat": 4,
 "nbformat_minor": 4
}
