{
 "cells": [
  {
   "cell_type": "code",
   "execution_count": 6,
   "metadata": {},
   "outputs": [],
   "source": [
    "import numpy as np\n",
    "import pandas as pd\n",
    "from sklearn.preprocessing import StandardScaler, MinMaxScaler\n",
    "from scipy import signal\n",
    "import seaborn as sns\n",
    "import matplotlib.pyplot as plt\n",
    "import pywt\n",
    "import os\n",
    "import time"
   ]
  },
  {
   "cell_type": "code",
   "execution_count": 2,
   "metadata": {},
   "outputs": [
    {
     "name": "stdout",
     "output_type": "stream",
     "text": [
      ".\\data\\labels.txt\n",
      ".\\data\\P812_M050_2_B_FoG_trial1_annotation.csv\n",
      ".\\data\\P812_M050_2_B_FoG_trials.mat\n",
      ".\\data\\P812_M050_2_B_FoG_trial_1_emg.csv\n",
      ".\\data\\P812_M050_2_B_FoG_trial_1_out_left_foot.csv\n",
      ".\\data\\P812_M050_2_B_FoG_trial_1_out_lower_left_foot.csv\n",
      ".\\data\\P812_M050_2_B_FoG_trial_1_out_lower_right_foot.csv\n",
      ".\\data\\P812_M050_2_B_FoG_trial_1_out_right_foot.csv\n",
      ".\\data\\P812_M050_2_B_FoG_trial_2_emg.csv\n",
      ".\\data\\P812_M050_2_B_FoG_trial_2_out_left_foot.csv\n",
      ".\\data\\P812_M050_2_B_FoG_trial_2_out_lower_left_foot.csv\n",
      ".\\data\\P812_M050_2_B_FoG_trial_2_out_lower_right_foot.csv\n",
      ".\\data\\P812_M050_2_B_FoG_trial_2_out_right_foot.csv\n",
      ".\\data\\P812_M50_2_B_FoG_trial2_annotation.csv\n"
     ]
    }
   ],
   "source": [
    "for dirname, _, filenames in os.walk('.\\data'):\n",
    "    for filename in filenames:\n",
    "        print(os.path.join(dirname,filename))"
   ]
  },
  {
   "cell_type": "code",
   "execution_count": 3,
   "metadata": {},
   "outputs": [],
   "source": [
    "emg_data = pd.read_csv('.\\data\\P812_M050_2_B_FoG_trial_1_emg.csv')\n",
    "t1olf = pd.read_csv('.\\data\\P812_M050_2_B_FoG_trial_1_out_left_foot.csv')\n",
    "emg_data2 = pd.read_csv('.\\data\\P812_M050_2_B_FoG_trial_2_emg.csv')"
   ]
  },
  {
   "cell_type": "code",
   "execution_count": 4,
   "metadata": {
    "scrolled": true
   },
   "outputs": [
    {
     "data": {
      "text/plain": [
       "Time        0\n",
       "Label1      0\n",
       "Label2      0\n",
       "LEFT_TA     0\n",
       "LEFT_TS     0\n",
       "LEFT_BF     0\n",
       "LEFT_RF     0\n",
       "RIGHT_TA    0\n",
       "RIGHT_TS    0\n",
       "RIGHT_BF    0\n",
       "RIGHT_RF    0\n",
       "dtype: int64"
      ]
     },
     "execution_count": 4,
     "metadata": {},
     "output_type": "execute_result"
    }
   ],
   "source": [
    "emg_data = emg_data.fillna({'LEFT_BF':emg_data.LEFT_BF.mean(),\n",
    "                           'LEFT_RF':emg_data.LEFT_RF.mean(),\n",
    "                           'RIGHT_TA':emg_data.RIGHT_TA.mean(),\n",
    "                           'RIGHT_TS':emg_data.RIGHT_TS.mean(),\n",
    "                           'RIGHT_BF':emg_data.RIGHT_BF.mean(),\n",
    "                           'RIGHT_RF':emg_data.RIGHT_RF.mean()})\n",
    "emg_data.isna().sum()"
   ]
  },
  {
   "cell_type": "code",
   "execution_count": 27,
   "metadata": {},
   "outputs": [],
   "source": [
    "def scale_data(data,scaler):\n",
    "    X = data.iloc[:,3:]\n",
    "    sc = scaler()\n",
    "    X = sc.fit_transform(X)\n",
    "    data.iloc[:,3:] = X\n",
    "    return data\n",
    "\n",
    "def generate_window_slide_data(data,width = 260,stride = 30):\n",
    "    l = len(data)\n",
    "    end = (l-width)//stride+1\n",
    "    X = []\n",
    "    Y = []\n",
    "    for i in range(end):\n",
    "        if len(set(data.Label2[i*stride:i*stride+width])) == 1:\n",
    "                Y += [data.Label2[i*stride]]\n",
    "                X += [np.array(data.iloc[i*stride:i*stride+width,3:])]\n",
    "            #print(set(data.Label2[i*stride:i*stride+width]))\n",
    "        else:\n",
    "            #print(set(data.Label2[i*stride:i*stride+width]))\n",
    "            continue\n",
    "    return np.array(X,dtype=np.float32),np.array(Y,dtype=np.uint8)\n",
    "\n",
    "#def generate_CWT_feature(data,widths=260,wavelet = signal.ricker):\n",
    "#    n,t,c = data.shape\n",
    "#    cwtmatr = np.zeros((n,widths,t,c))\n",
    "#    for i in range(n):\n",
    "#        for j in range(c):\n",
    "#            cwtmatr[i,:,:,j] = signal.cwt(data[i,:,j],wavelet,np.arange(1,widths+1))\n",
    "#    return cwtmatr\n",
    "\n",
    "\n",
    "def generate_CWT_feature(data,widths=260,wavelet = 'mexh'):\n",
    "    n,t,c = data.shape\n",
    "    cwtmatr = np.zeros((n,widths,t,c))\n",
    "    for i in range(n):\n",
    "        for j in range(c):\n",
    "            cwtmatr[i,:,:,j],_ = pywt.cwt(data[i,:,j],np.arange(1,widths+1),wavelet)\n",
    "    return cwtmatr"
   ]
  },
  {
   "cell_type": "code",
   "execution_count": 36,
   "metadata": {},
   "outputs": [],
   "source": [
    "emg_data_sc = scale_data(emg_data,StandardScaler)\n",
    "#sc = StandardScaler()\n",
    "#sc.fit_transform(emg_data.iloc[:,3:])\n",
    "#emg_data_sc.iloc[:,8].plot()"
   ]
  },
  {
   "cell_type": "code",
   "execution_count": 38,
   "metadata": {},
   "outputs": [],
   "source": [
    "width = 256\n",
    "stride = 32\n",
    "widths_scale = 32\n",
    "x,y = generate_window_slide_data(emg_data_sc,width,stride)"
   ]
  },
  {
   "cell_type": "code",
   "execution_count": 39,
   "metadata": {
    "scrolled": true
   },
   "outputs": [
    {
     "name": "stdout",
     "output_type": "stream",
     "text": [
      "duration: 47.611546\n"
     ]
    }
   ],
   "source": [
    "start = time.time()\n",
    "cwtmatr = generate_CWT_feature(x,widths_scale,'mexh')\n",
    "end = time.time()\n",
    "duration = end-start\n",
    "print('duration: %f'%(duration))"
   ]
  },
  {
   "cell_type": "code",
   "execution_count": 119,
   "metadata": {},
   "outputs": [
    {
     "data": {
      "text/plain": [
       "['cgau1',\n",
       " 'cgau2',\n",
       " 'cgau3',\n",
       " 'cgau4',\n",
       " 'cgau5',\n",
       " 'cgau6',\n",
       " 'cgau7',\n",
       " 'cgau8',\n",
       " 'cmor',\n",
       " 'fbsp',\n",
       " 'gaus1',\n",
       " 'gaus2',\n",
       " 'gaus3',\n",
       " 'gaus4',\n",
       " 'gaus5',\n",
       " 'gaus6',\n",
       " 'gaus7',\n",
       " 'gaus8',\n",
       " 'mexh',\n",
       " 'morl',\n",
       " 'shan']"
      ]
     },
     "execution_count": 119,
     "metadata": {},
     "output_type": "execute_result"
    }
   ],
   "source": [
    "(np.isnan(cwtmatr)).sum()\n",
    "cwtmatr.max()"
   ]
  },
  {
   "cell_type": "code",
   "execution_count": 180,
   "metadata": {},
   "outputs": [
    {
     "name": "stdout",
     "output_type": "stream",
     "text": [
      "duration: 51.549625\n"
     ]
    }
   ],
   "source": [
    "pywt.wavelist(kind='continuous')"
   ]
  },
  {
   "cell_type": "code",
   "execution_count": 12,
   "metadata": {},
   "outputs": [],
   "source": [
    "import h5py\n",
    "\n",
    "file = './processed data/P812_trial_1_W%d_S%d_WS%d_CWT.hdf5'%(width,stride,widths_scale)\n",
    "with h5py.File(file,'w') as f:\n",
    "    f.create_dataset('cwt_data',data=cwtmatr, maxshape=(None,260,260,8),\n",
    "                     chunks = True,dtype = np.float32)\n",
    "    f.create_dataset('label2',data=y, dtype = np.int8)"
   ]
  },
  {
   "cell_type": "code",
   "execution_count": 40,
   "metadata": {},
   "outputs": [
    {
     "data": {
      "text/plain": [
       "[<matplotlib.lines.Line2D at 0x1e125ee1688>]"
      ]
     },
     "execution_count": 40,
     "metadata": {},
     "output_type": "execute_result"
    },
    {
     "data": {
      "image/png": "[encoded data removed]",
      "text/plain": [
       "<Figure size 432x288 with 1 Axes>"
      ]
     },
     "metadata": {
      "needs_background": "light"
     },
     "output_type": "display_data"
    }
   ],
   "source": [
    "plt.plot(x[1,:,1])"
   ]
  },
  {
   "cell_type": "code",
   "execution_count": 42,
   "metadata": {},
   "outputs": [
    {
     "data": {
      "image/png": "[encoded data removed]",
      "text/plain": [
       "<Figure size 432x288 with 2 Axes>"
      ]
     },
     "metadata": {
      "needs_background": "light"
     },
     "output_type": "display_data"
    },
    {
     "name": "stdout",
     "output_type": "stream",
     "text": [
      "3\n"
     ]
    }
   ],
   "source": [
    "temp = 200\n",
    "channel = 0\n",
    "plt.imshow(cwtmatr[temp,:,:,channel], cmap='PRGn', aspect='auto',\n",
    "           vmax=abs(cwtmatr[temp,:,:,channel]).max(), \n",
    "           vmin=-abs(cwtmatr[temp,:,:,channel]).max())\n",
    "plt.colorbar()\n",
    "plt.show()\n",
    "print(y[temp])"
   ]
  },
  {
   "cell_type": "code",
   "execution_count": 156,
   "metadata": {
    "scrolled": true
   },
   "outputs": [],
   "source": [
    "#label = y[ind]\n",
    "#label[label==2]=1\n"
   ]
  },
  {
   "cell_type": "code",
   "execution_count": 44,
   "metadata": {},
   "outputs": [],
   "source": [
    "from tensorflow import keras\n",
    "from tensorflow.keras import layers\n",
    "from tensorflow.keras.models import save_model\n",
    "from tensorflow.keras import callbacks, Model\n",
    "from tensorflow.keras.losses import BinaryCrossentropy,CategoricalCrossentropy\n",
    "from tensorflow.keras.utils import plot_model\n",
    "from tensorflow.keras.initializers import TruncatedNormal\n",
    "from sklearn.preprocessing import OneHotEncoder\n",
    "from sklearn.model_selection import train_test_split\n",
    "import tensorflow as tf\n",
    "from tensorflow.keras import backend as K"
   ]
  },
  {
   "cell_type": "code",
   "execution_count": 66,
   "metadata": {},
   "outputs": [],
   "source": [
    "ind = ((y==0) | (y==1))\n",
    "y_02 = y[ind]\n",
    "y_02[y_02==2]=1\n",
    "X_train,X_test,y_train,y_test = train_test_split(cwtmatr[ind],y_02,test_size = 0.2,random_state=60)"
   ]
  },
  {
   "cell_type": "code",
   "execution_count": 67,
   "metadata": {},
   "outputs": [],
   "source": [
    "input_ = layers.Input(shape=cwtmatr.shape[1:])\n",
    "#max_pool = layers.MaxPooling2D(2)(input_)\n",
    "conv1 = layers.Conv2D(64,5,strides=(2,2),kernel_initializer=TruncatedNormal(),activation='relu',padding='same')(input_)\n",
    "max_pool1 = layers.MaxPooling2D(2)(conv1)\n",
    "conv2 = layers.Conv2D(128,5,strides=(2,2),kernel_initializer=TruncatedNormal(),activation='relu',padding='same')(max_pool1)\n",
    "max_pool2 = layers.MaxPooling2D(2)(conv2)\n",
    "flatten = layers.Flatten()(max_pool2)\n",
    "#layer1 = Dense(256,activation = 'relu')(flatten)\n",
    "dropout1 = layers.Dropout(0.2)(flatten)\n",
    "layer2 = layers.Dense(128,activation = 'relu')(dropout1)\n",
    "dropout2 = layers.Dropout(0.2)(layer2)\n",
    "output = layers.Dense(2,activation = 'softmax')(dropout2)\n",
    "model = keras.Model(inputs=[input_],outputs=[output])"
   ]
  },
  {
   "cell_type": "code",
   "execution_count": 68,
   "metadata": {},
   "outputs": [],
   "source": [
    "#ind = ((y==0) | (y==2))\n",
    "#bce = CategoricalCrossentropy()\n",
    "model.compile(loss = 'sparse_categorical_crossentropy' ,optimizer='adam',metrics=['accuracy'])\n",
    "#oh_ec = OneHotEncoder()\n",
    "#label = oh_ec.fit_transform(K.eval(y)[ind,tf.newaxis]).toarray()"
   ]
  },
  {
   "cell_type": "code",
   "execution_count": 69,
   "metadata": {},
   "outputs": [],
   "source": [
    "early_stopping = callbacks.EarlyStopping(patience = 20,monitor = 'val_accuracy', restore_best_weights=True)"
   ]
  },
  {
   "cell_type": "code",
   "execution_count": 70,
   "metadata": {
    "scrolled": true
   },
   "outputs": [
    {
     "name": "stdout",
     "output_type": "stream",
     "text": [
      "Train on 672 samples, validate on 169 samples\n",
      "Epoch 1/100\n",
      "672/672 [==============================] - 4s 7ms/sample - loss: 1.6862 - accuracy: 0.6801 - val_loss: 0.5455 - val_accuracy: 0.8225\n",
      "Epoch 2/100\n",
      "672/672 [==============================] - 4s 6ms/sample - loss: 0.5266 - accuracy: 0.7946 - val_loss: 0.4053 - val_accuracy: 0.8402\n",
      "Epoch 3/100\n",
      "672/672 [==============================] - 4s 6ms/sample - loss: 0.3971 - accuracy: 0.8393 - val_loss: 0.3373 - val_accuracy: 0.8402\n",
      "Epoch 4/100\n",
      "672/672 [==============================] - 4s 6ms/sample - loss: 0.2892 - accuracy: 0.8765 - val_loss: 0.2980 - val_accuracy: 0.8521\n",
      "Epoch 5/100\n",
      "672/672 [==============================] - 4s 7ms/sample - loss: 0.1950 - accuracy: 0.9107 - val_loss: 0.2266 - val_accuracy: 0.8817\n",
      "Epoch 6/100\n",
      "672/672 [==============================] - 4s 6ms/sample - loss: 0.1218 - accuracy: 0.9583 - val_loss: 0.2380 - val_accuracy: 0.8994\n",
      "Epoch 7/100\n",
      "672/672 [==============================] - 4s 6ms/sample - loss: 0.0706 - accuracy: 0.9762 - val_loss: 0.1919 - val_accuracy: 0.9112\n",
      "Epoch 8/100\n",
      "672/672 [==============================] - 4s 6ms/sample - loss: 0.0612 - accuracy: 0.9792 - val_loss: 0.1659 - val_accuracy: 0.9349\n",
      "Epoch 9/100\n",
      "672/672 [==============================] - 5s 7ms/sample - loss: 0.0943 - accuracy: 0.9673 - val_loss: 0.2118 - val_accuracy: 0.9112\n",
      "Epoch 10/100\n",
      "672/672 [==============================] - 4s 7ms/sample - loss: 0.0849 - accuracy: 0.9628 - val_loss: 0.2093 - val_accuracy: 0.9053\n",
      "Epoch 11/100\n",
      "672/672 [==============================] - 4s 6ms/sample - loss: 0.0472 - accuracy: 0.9911 - val_loss: 0.1610 - val_accuracy: 0.9349\n",
      "Epoch 12/100\n",
      "672/672 [==============================] - 4s 6ms/sample - loss: 0.0189 - accuracy: 0.9985 - val_loss: 0.1532 - val_accuracy: 0.9467\n",
      "Epoch 13/100\n",
      "672/672 [==============================] - 4s 6ms/sample - loss: 0.0386 - accuracy: 0.9881 - val_loss: 0.0898 - val_accuracy: 0.9763\n",
      "Epoch 14/100\n",
      "672/672 [==============================] - 4s 6ms/sample - loss: 0.0147 - accuracy: 0.9985 - val_loss: 0.1558 - val_accuracy: 0.9586\n",
      "Epoch 15/100\n",
      "672/672 [==============================] - 5s 7ms/sample - loss: 0.0112 - accuracy: 1.0000 - val_loss: 0.2551 - val_accuracy: 0.9349\n",
      "Epoch 16/100\n",
      "672/672 [==============================] - 4s 7ms/sample - loss: 0.0145 - accuracy: 0.9940 - val_loss: 0.1725 - val_accuracy: 0.9467\n",
      "Epoch 17/100\n",
      "672/672 [==============================] - 4s 6ms/sample - loss: 0.0063 - accuracy: 1.0000 - val_loss: 0.1990 - val_accuracy: 0.9231\n",
      "Epoch 18/100\n",
      "672/672 [==============================] - 4s 6ms/sample - loss: 0.0061 - accuracy: 0.9985 - val_loss: 0.1843 - val_accuracy: 0.9467\n",
      "Epoch 19/100\n",
      "672/672 [==============================] - 4s 7ms/sample - loss: 0.0022 - accuracy: 1.0000 - val_loss: 0.1104 - val_accuracy: 0.9645\n",
      "Epoch 20/100\n",
      "672/672 [==============================] - 4s 7ms/sample - loss: 0.0052 - accuracy: 0.9985 - val_loss: 0.1082 - val_accuracy: 0.9822\n",
      "Epoch 21/100\n",
      "672/672 [==============================] - 4s 6ms/sample - loss: 0.0096 - accuracy: 0.9970 - val_loss: 0.0963 - val_accuracy: 0.9704\n",
      "Epoch 22/100\n",
      "672/672 [==============================] - 4s 6ms/sample - loss: 0.0074 - accuracy: 1.0000 - val_loss: 0.3023 - val_accuracy: 0.9231\n",
      "Epoch 23/100\n",
      "672/672 [==============================] - 5s 7ms/sample - loss: 0.0088 - accuracy: 0.9955 - val_loss: 0.0910 - val_accuracy: 0.9527\n",
      "Epoch 24/100\n",
      "672/672 [==============================] - 4s 6ms/sample - loss: 0.0241 - accuracy: 0.9911 - val_loss: 0.1760 - val_accuracy: 0.9586\n",
      "Epoch 25/100\n",
      "672/672 [==============================] - 4s 6ms/sample - loss: 0.0553 - accuracy: 0.9807 - val_loss: 0.3268 - val_accuracy: 0.9408\n",
      "Epoch 26/100\n",
      "672/672 [==============================] - 4s 6ms/sample - loss: 0.0681 - accuracy: 0.9747 - val_loss: 0.1483 - val_accuracy: 0.9408\n",
      "Epoch 27/100\n",
      "672/672 [==============================] - 4s 6ms/sample - loss: 0.0408 - accuracy: 0.9911 - val_loss: 0.1726 - val_accuracy: 0.9290\n",
      "Epoch 28/100\n",
      "672/672 [==============================] - 4s 6ms/sample - loss: 0.0223 - accuracy: 0.9896 - val_loss: 0.0587 - val_accuracy: 0.9822\n",
      "Epoch 29/100\n",
      "672/672 [==============================] - 4s 6ms/sample - loss: 0.0085 - accuracy: 0.9970 - val_loss: 0.0710 - val_accuracy: 0.9704\n",
      "Epoch 30/100\n",
      "672/672 [==============================] - 4s 6ms/sample - loss: 0.0156 - accuracy: 0.9926 - val_loss: 0.0908 - val_accuracy: 0.9645\n",
      "Epoch 31/100\n",
      "672/672 [==============================] - 4s 6ms/sample - loss: 0.0029 - accuracy: 1.0000 - val_loss: 0.0933 - val_accuracy: 0.9704\n",
      "Epoch 32/100\n",
      "672/672 [==============================] - 4s 6ms/sample - loss: 0.0020 - accuracy: 1.0000 - val_loss: 0.2222 - val_accuracy: 0.9645\n",
      "Epoch 33/100\n",
      "672/672 [==============================] - 4s 6ms/sample - loss: 0.0030 - accuracy: 1.0000 - val_loss: 0.2092 - val_accuracy: 0.9586\n",
      "Epoch 34/100\n",
      "672/672 [==============================] - 4s 6ms/sample - loss: 0.0021 - accuracy: 0.9985 - val_loss: 0.0918 - val_accuracy: 0.9704\n",
      "Epoch 35/100\n",
      "672/672 [==============================] - 4s 6ms/sample - loss: 0.0013 - accuracy: 1.0000 - val_loss: 0.0746 - val_accuracy: 0.9704\n",
      "Epoch 36/100\n",
      "672/672 [==============================] - 5s 7ms/sample - loss: 8.8586e-04 - accuracy: 1.0000 - val_loss: 0.1107 - val_accuracy: 0.9586\n",
      "Epoch 37/100\n",
      "672/672 [==============================] - 4s 7ms/sample - loss: 4.9713e-04 - accuracy: 1.0000 - val_loss: 0.1015 - val_accuracy: 0.9645\n",
      "Epoch 38/100\n",
      "672/672 [==============================] - 4s 7ms/sample - loss: 0.0037 - accuracy: 0.9985 - val_loss: 0.0522 - val_accuracy: 0.9763\n",
      "Epoch 39/100\n",
      "672/672 [==============================] - 4s 7ms/sample - loss: 0.0021 - accuracy: 1.0000 - val_loss: 0.0445 - val_accuracy: 0.9822\n",
      "Epoch 40/100\n",
      "672/672 [==============================] - 5s 8ms/sample - loss: 4.9713e-04 - accuracy: 1.0000 - val_loss: 0.0581 - val_accuracy: 0.9763\n"
     ]
    }
   ],
   "source": [
    "history = model.fit(X_train,y_train,validation_data=[X_test,y_test],\n",
    "                    epochs=100,batch_size=50,\n",
    "                   callbacks=[early_stopping])"
   ]
  },
  {
   "cell_type": "code",
   "execution_count": 50,
   "metadata": {},
   "outputs": [
    {
     "data": {
      "text/plain": [
       "array([[9.741865e-01, 2.581344e-02],\n",
       "       [9.422290e-06, 9.999906e-01],\n",
       "       [8.860579e-03, 9.911395e-01]], dtype=float32)"
      ]
     },
     "execution_count": 50,
     "metadata": {},
     "output_type": "execute_result"
    }
   ],
   "source": [
    "y_pred = model.predict(cwtmatr[:3])\n",
    "y_pred"
   ]
  },
  {
   "cell_type": "code",
   "execution_count": 34,
   "metadata": {},
   "outputs": [
    {
     "name": "stdout",
     "output_type": "stream",
     "text": [
      "Model: \"model_1\"\n",
      "_________________________________________________________________\n",
      "Layer (type)                 Output Shape              Param #   \n",
      "=================================================================\n",
      "input_3 (InputLayer)         [(None, 64, 256, 8)]      0         \n",
      "_________________________________________________________________\n",
      "max_pooling2d_6 (MaxPooling2 (None, 32, 128, 8)        0         \n",
      "_________________________________________________________________\n",
      "conv2d_4 (Conv2D)            (None, 16, 64, 64)        12864     \n",
      "_________________________________________________________________\n",
      "max_pooling2d_7 (MaxPooling2 (None, 8, 32, 64)         0         \n",
      "_________________________________________________________________\n",
      "conv2d_5 (Conv2D)            (None, 4, 16, 128)        204928    \n",
      "_________________________________________________________________\n",
      "max_pooling2d_8 (MaxPooling2 (None, 2, 8, 128)         0         \n",
      "_________________________________________________________________\n",
      "flatten_2 (Flatten)          (None, 2048)              0         \n",
      "_________________________________________________________________\n",
      "dropout (Dropout)            (None, 2048)              0         \n",
      "_________________________________________________________________\n",
      "dense_2 (Dense)              (None, 128)               262272    \n",
      "_________________________________________________________________\n",
      "dropout_1 (Dropout)          (None, 128)               0         \n",
      "_________________________________________________________________\n",
      "dense_3 (Dense)              (None, 2)                 258       \n",
      "=================================================================\n",
      "Total params: 480,322\n",
      "Trainable params: 480,322\n",
      "Non-trainable params: 0\n",
      "_________________________________________________________________\n"
     ]
    }
   ],
   "source": [
    "model.summary()"
   ]
  },
  {
   "cell_type": "code",
   "execution_count": 71,
   "metadata": {
    "scrolled": true
   },
   "outputs": [
    {
     "data": {
      "text/plain": [
       "(0, 1)"
      ]
     },
     "execution_count": 71,
     "metadata": {},
     "output_type": "execute_result"
    },
    {
     "data": {
      "image/png": "[encoded data removed]",
      "text/plain": [
       "<Figure size 432x288 with 1 Axes>"
      ]
     },
     "metadata": {
      "needs_background": "light"
     },
     "output_type": "display_data"
    }
   ],
   "source": [
    "pd.DataFrame(history.history).plot()\n",
    "plt.grid(True)\n",
    "plt.gca().set_ylim(0,1)"
   ]
  },
  {
   "cell_type": "code",
   "execution_count": 203,
   "metadata": {},
   "outputs": [],
   "source": [
    "model.save('Mexh_W%d_S%d_WS%d.h5'%(width,stride,widths_scale))"
   ]
  }
 ],
 "metadata": {
  "kernelspec": {
   "display_name": "Python 3",
   "language": "python",
   "name": "python3"
  },
  "language_info": {
   "codemirror_mode": {
    "name": "ipython",
    "version": 3
   },
   "file_extension": ".py",
   "mimetype": "text/x-python",
   "name": "python",
   "nbconvert_exporter": "python",
   "pygments_lexer": "ipython3",
   "version": "3.7.6"
  }
 },
 "nbformat": 4,
 "nbformat_minor": 2
}
